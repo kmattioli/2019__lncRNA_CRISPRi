{
 "cells": [
  {
   "cell_type": "code",
   "execution_count": 1,
   "metadata": {},
   "outputs": [],
   "source": [
    "import pandas as pd\n",
    "import numpy as np"
   ]
  },
  {
   "cell_type": "code",
   "execution_count": 2,
   "metadata": {},
   "outputs": [],
   "source": [
    "def get_csf_class(row):\n",
    "    if row.biotype == \"protein_coding\":\n",
    "        return \"protein_coding\"\n",
    "    elif row.gene_id == \"DIGIT\":\n",
    "        return \"lncRNA_good_csf\"\n",
    "    elif not pd.isnull(row.csf_class):\n",
    "        return row.csf_class\n",
    "    else:\n",
    "        return \"unclear\""
   ]
  },
  {
   "cell_type": "code",
   "execution_count": 3,
   "metadata": {},
   "outputs": [],
   "source": [
    "def get_transcript_biotype(row):\n",
    "    if row.biotype == \"protein_coding\":\n",
    "        return \"protein_coding\"\n",
    "    elif row.gene_id == \"DIGIT\":\n",
    "        return \"tss_overlapping__lncRNA\"\n",
    "    elif not pd.isnull(row.biotype_lncRNA):\n",
    "        return row.biotype_lncRNA\n",
    "    else:\n",
    "        return \"biotype not considered\""
   ]
  },
  {
   "cell_type": "code",
   "execution_count": 4,
   "metadata": {},
   "outputs": [],
   "source": [
    "def get_gene_biotype(row):\n",
    "    if row.biotype == \"protein_coding\":\n",
    "        return \"protein_coding\"\n",
    "    elif row.gene_id == \"DIGIT\":\n",
    "        return \"tss_overlapping__lncRNA\"\n",
    "    elif not pd.isnull(row.gene_biotype):\n",
    "        return row.gene_biotype\n",
    "    else:\n",
    "        return \"biotype not considered\""
   ]
  },
  {
   "cell_type": "code",
   "execution_count": 5,
   "metadata": {},
   "outputs": [],
   "source": [
    "def get_expr_thresh(row):\n",
    "    thresh = 0.1\n",
    "    if row.hESC_mean > thresh or row.endo_mean > thresh or row.meso_mean > thresh:\n",
    "        return \"expressed\"\n",
    "    else:\n",
    "        return \"not expressed\""
   ]
  },
  {
   "cell_type": "code",
   "execution_count": 6,
   "metadata": {},
   "outputs": [],
   "source": [
    "def clean_biotype(row, col):\n",
    "    if \",\" in row[col]:\n",
    "        biotypes = row[col].split(\",\")\n",
    "        biotypes = [x.split(\"__\")[0] for x in biotypes]\n",
    "        biotypes = set(biotypes)\n",
    "        biotypes = list(biotypes)\n",
    "        biotypes.sort()\n",
    "        biotypes_str = \", \".join(biotypes)\n",
    "        return biotypes_str\n",
    "    else:\n",
    "        return row[col]"
   ]
  },
  {
   "cell_type": "code",
   "execution_count": 7,
   "metadata": {},
   "outputs": [],
   "source": [
    "def cleaner_biotype(row, col):\n",
    "    if \"divergent\" in row[col] or \"tss_overlapping\" in row[col]:\n",
    "        return \"promoter_overlap\"\n",
    "    elif \"antisense\" in row[col] or \"sense_overlapping\" in row[col]:\n",
    "        return \"transcript_overlap\"\n",
    "    elif \"gene_\" in row[col]:\n",
    "        return \"gene_nearby\"\n",
    "    else:\n",
    "        return row[col]"
   ]
  },
  {
   "cell_type": "code",
   "execution_count": 8,
   "metadata": {},
   "outputs": [],
   "source": [
    "def coding_type(row):\n",
    "    if row.csf == \"protein_coding\":\n",
    "        return \"coding\"\n",
    "    else:\n",
    "        return \"non-coding\""
   ]
  },
  {
   "cell_type": "code",
   "execution_count": 9,
   "metadata": {},
   "outputs": [],
   "source": [
    "def hESC_thresh(row):\n",
    "    thresh = 0.1\n",
    "    if row.hESC_mean > thresh:\n",
    "        return \"expressed\"\n",
    "    else:\n",
    "        return \"not expressed\"\n",
    "\n",
    "def endo_thresh(row):\n",
    "    thresh = 0.1\n",
    "    if row.endo_mean > thresh:\n",
    "        return \"expressed\"\n",
    "    else:\n",
    "        return \"not expressed\"\n",
    "\n",
    "def meso_thresh(row):\n",
    "    thresh = 0.1\n",
    "    if row.meso_mean > thresh:\n",
    "        return \"expressed\"\n",
    "    else:\n",
    "        return \"not expressed\""
   ]
  },
  {
   "cell_type": "code",
   "execution_count": 10,
   "metadata": {},
   "outputs": [],
   "source": [
    "def get_expr_profile(row):\n",
    "    if row.hESC_mean > 0.1 and row.endo_mean > 0.1 and row.meso_mean > 0.1:\n",
    "        return \"hESC, endo, and meso\"\n",
    "    if row.hESC_mean > 0.1 and row.endo_mean > 0.1:\n",
    "        return \"hESC and endo\"\n",
    "    if row.endo_mean > 0.1 and row.meso_mean > 0.1:\n",
    "        return \"endo and meso\"\n",
    "    if row.hESC_mean > 0.1 and row.meso_mean > 0.1:\n",
    "        return \"hESC and meso\"\n",
    "    if row.hESC_mean > 0.1:\n",
    "        return \"hESC only\"\n",
    "    if row.endo_mean > 0.1:\n",
    "        return \"endo only\"\n",
    "    if row.meso_mean > 0.1:\n",
    "        return \"meso only\"\n",
    "    else:\n",
    "        return \"not expressed\""
   ]
  },
  {
   "cell_type": "code",
   "execution_count": null,
   "metadata": {},
   "outputs": [],
   "source": []
  }
 ],
 "metadata": {
  "kernelspec": {
   "display_name": "Python [conda env:py3]",
   "language": "python",
   "name": "conda-env-py3-py"
  },
  "language_info": {
   "codemirror_mode": {
    "name": "ipython",
    "version": 3
   },
   "file_extension": ".py",
   "mimetype": "text/x-python",
   "name": "python",
   "nbconvert_exporter": "python",
   "pygments_lexer": "ipython3",
   "version": "3.6.3"
  }
 },
 "nbformat": 4,
 "nbformat_minor": 2
}
