{
 "cells": [
  {
   "cell_type": "code",
   "execution_count": null,
   "metadata": {},
   "outputs": [],
   "source": [
    "import pandas as pd\n",
    "from ast import literal_eval"
   ]
  },
  {
   "cell_type": "code",
   "execution_count": null,
   "metadata": {},
   "outputs": [],
   "source": [
    "def fix_id_dupes(row, column):\n",
    "    x = row[column]\n",
    "    if \",\" in x:\n",
    "        x = literal_eval(x)\n",
    "        x = list(set(x))\n",
    "    return str(x)"
   ]
  },
  {
   "cell_type": "code",
   "execution_count": null,
   "metadata": {},
   "outputs": [],
   "source": [
    "def get_scramble_id(row):\n",
    "    if row.ctrl_status != \"scramble\":\n",
    "        return \"none\"\n",
    "    else:\n",
    "        scramble_id = row.sgRNA_id.split(\"__\")[0]\n",
    "        return scramble_id"
   ]
  },
  {
   "cell_type": "code",
   "execution_count": null,
   "metadata": {},
   "outputs": [],
   "source": [
    "def get_group_id(row):\n",
    "    if row.ctrl_status == \"scramble\":\n",
    "        return row.scramble_id\n",
    "    else:\n",
    "        return row.tss_id_hg38"
   ]
  },
  {
   "cell_type": "code",
   "execution_count": null,
   "metadata": {},
   "outputs": [],
   "source": [
    "def fix_ctrl_status(row):\n",
    "    if row.endo_ctrl_val:\n",
    "        return \"control\"\n",
    "    else:\n",
    "        if row.ctrl_status == \"scramble\":\n",
    "            return \"scramble\"\n",
    "        else:\n",
    "            return \"experimental\""
   ]
  },
  {
   "cell_type": "code",
   "execution_count": null,
   "metadata": {},
   "outputs": [],
   "source": [
    "def fix_ctrl_status_w_DE_mRNAs(row):\n",
    "    if row.endo_ctrl_val:\n",
    "        return \"control\"\n",
    "    else:\n",
    "        if row.ctrl_status == \"scramble\":\n",
    "            return \"scramble\"\n",
    "        elif row.ctrl_status == \"control\":\n",
    "            return \"mRNA\"\n",
    "        else:\n",
    "            return \"experimental\""
   ]
  },
  {
   "cell_type": "code",
   "execution_count": null,
   "metadata": {},
   "outputs": [],
   "source": [
    "def tidy_split(df, column, sep='|', keep=False):\n",
    "    \"\"\"\n",
    "    Split the values of a column and expand so the new DataFrame has one split\n",
    "    value per row. Filters rows where the column is missing.\n",
    "    Params\n",
    "    ------\n",
    "    df : pandas.DataFrame\n",
    "        dataframe with the column to split and expand\n",
    "    column : str\n",
    "        the column to split and expand\n",
    "    sep : str\n",
    "        the string used to split the column's values\n",
    "    keep : bool\n",
    "        whether to retain the presplit value as it's own row\n",
    "    Returns\n",
    "    -------\n",
    "    pandas.DataFrame\n",
    "        Returns a dataframe with the same columns as `df`.\n",
    "    \"\"\"\n",
    "    indexes = list()\n",
    "    new_values = list()\n",
    "    df = df.dropna(subset=[column])\n",
    "    for i, presplit in enumerate(df[column].astype(str)):\n",
    "        values = presplit.split(sep)\n",
    "        if keep and len(values) > 1:\n",
    "            indexes.append(i)\n",
    "            new_values.append(presplit)\n",
    "        for value in values:\n",
    "            indexes.append(i)\n",
    "            new_values.append(value)\n",
    "    new_df = df.iloc[indexes, :].copy()\n",
    "    new_df[column] = new_values\n",
    "    return new_df"
   ]
  },
  {
   "cell_type": "code",
   "execution_count": null,
   "metadata": {},
   "outputs": [],
   "source": [
    "def clean_split_col(row, col):\n",
    "    old = row[col].strip()\n",
    "    if old.startswith(\"[\"):\n",
    "        new = old.strip()[2:-1]\n",
    "    elif old[-1] == \"]\":\n",
    "        new = old.strip()[1:-2]\n",
    "    elif old[0] == \"'\":\n",
    "        new = old.strip()[1:-1]\n",
    "    else:\n",
    "        new = old\n",
    "    return new"
   ]
  },
  {
   "cell_type": "code",
   "execution_count": null,
   "metadata": {},
   "outputs": [],
   "source": [
    "def clean_split_col_updated(row, col):\n",
    "    old = row[col].strip()\n",
    "    if old.startswith(\"[\"):\n",
    "        new = old.strip()[1:-1]\n",
    "    elif old[-1] == \"]\":\n",
    "        new = old.strip()[1:-1]\n",
    "    elif old[0] == \"'\":\n",
    "        new = old.strip()[1:-1]\n",
    "    else:\n",
    "        new = old\n",
    "    return new"
   ]
  },
  {
   "cell_type": "code",
   "execution_count": null,
   "metadata": {},
   "outputs": [],
   "source": [
    "def is_hit(row):\n",
    "    if pd.isnull(row.padj):\n",
    "        return \"no hit\"\n",
    "    elif row.padj < 0.1:\n",
    "        return \"stringent hit\"\n",
    "    else:\n",
    "        return \"lenient hit\""
   ]
  },
  {
   "cell_type": "code",
   "execution_count": null,
   "metadata": {},
   "outputs": [],
   "source": [
    "def is_crisphie_hit(row):\n",
    "    if pd.isnull(row.FDR):\n",
    "        return \"not considered\"\n",
    "    elif row.FDR < 0.1:\n",
    "        return \"hit\"\n",
    "    else:\n",
    "        return \"no hit\""
   ]
  }
 ],
 "metadata": {
  "kernelspec": {
   "display_name": "Python [conda env:.conda-py36]",
   "language": "python",
   "name": "conda-env-.conda-py36-py"
  },
  "language_info": {
   "codemirror_mode": {
    "name": "ipython",
    "version": 3
   },
   "file_extension": ".py",
   "mimetype": "text/x-python",
   "name": "python",
   "nbconvert_exporter": "python",
   "pygments_lexer": "ipython3",
   "version": "3.6.10"
  }
 },
 "nbformat": 4,
 "nbformat_minor": 2
}
