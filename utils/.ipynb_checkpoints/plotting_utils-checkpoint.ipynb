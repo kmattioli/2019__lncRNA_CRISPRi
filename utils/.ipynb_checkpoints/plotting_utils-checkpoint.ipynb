{
 "cells": [
  {
   "cell_type": "code",
   "execution_count": 1,
   "metadata": {},
   "outputs": [],
   "source": [
    "import matplotlib as mpl\n",
    "import matplotlib.pyplot as plt\n",
    "import seaborn as sns"
   ]
  },
  {
   "cell_type": "code",
   "execution_count": 2,
   "metadata": {},
   "outputs": [],
   "source": [
    "PAPER_PRESET = {\"style\": \"ticks\", \"font\": \"Helvetica\", \"context\": \"paper\", \n",
    "                \"rc\": {\"font.size\":7,\"axes.titlesize\":7,\n",
    "                       \"axes.labelsize\":7, 'axes.linewidth':0.5,\n",
    "                       \"legend.fontsize\":6, \"xtick.labelsize\":6,\n",
    "                       \"ytick.labelsize\":6, \"xtick.major.size\": 3.0,\n",
    "                       \"ytick.major.size\": 3.0, \"axes.edgecolor\": \"black\",\n",
    "                       \"xtick.major.pad\": 3.0, \"ytick.major.pad\": 3.0}}\n",
    "PAPER_FONTSIZE = 7"
   ]
  },
  {
   "cell_type": "code",
   "execution_count": null,
   "metadata": {},
   "outputs": [],
   "source": [
    "def mimic_r_boxplot(ax):\n",
    "    for i, patch in enumerate(ax.artists):\n",
    "        r, g, b, a = patch.get_facecolor()\n",
    "        col = (r, g, b, 1)\n",
    "        patch.set_facecolor((r, g, b, .5))\n",
    "        patch.set_edgecolor((r, g, b, 1))\n",
    "\n",
    "        # Each box has 6 associated Line2D objects (to make the whiskers, fliers, etc.)\n",
    "        # Loop over them here, and use the same colour as above\n",
    "        line_order = [\"lower\", \"upper\", \"whisker_1\", \"whisker_2\", \"med\", \"fliers\"]\n",
    "        for j in range(i*6,i*6+6):\n",
    "            elem = line_order[j%6]\n",
    "            line = ax.lines[j]\n",
    "            if \"whisker\" in elem:\n",
    "                line.set_visible(False)\n",
    "            line.set_color(col)\n",
    "            line.set_mfc(col)\n",
    "            line.set_mec(col)\n",
    "            if \"fliers\" in elem:\n",
    "                line.set_alpha(0.5)"
   ]
  },
  {
   "cell_type": "code",
   "execution_count": null,
   "metadata": {},
   "outputs": [],
   "source": [
    "def annotate_pval(ax, x1, x2, y, h, text_y, val, fontsize):\n",
    "    from decimal import Decimal\n",
    "    ax.plot([x1, x1, x2, x2], [y, y+h, y+h, y], lw=1, c=\"black\", linewidth=0.5)\n",
    "    if val < 0.0001:\n",
    "        #text = \"{:.2e}\".format(Decimal(val))\n",
    "        text = \"**\"\n",
    "    elif val < 0.05:\n",
    "        #text = \"%.4f\" % val\n",
    "        text = \"*\"\n",
    "    else:\n",
    "        #text = \"%.4f\" % val\n",
    "        text = \"n.s.\"\n",
    "    ax.text((x1+x2)*.5, text_y, text, ha='center', va='bottom', color=\"black\", size=fontsize)"
   ]
  }
 ],
 "metadata": {
  "kernelspec": {
   "display_name": "Python [conda env:py3]",
   "language": "python",
   "name": "conda-env-py3-py"
  },
  "language_info": {
   "codemirror_mode": {
    "name": "ipython",
    "version": 3
   },
   "file_extension": ".py",
   "mimetype": "text/x-python",
   "name": "python",
   "nbconvert_exporter": "python",
   "pygments_lexer": "ipython3",
   "version": "3.6.3"
  }
 },
 "nbformat": 4,
 "nbformat_minor": 2
}
