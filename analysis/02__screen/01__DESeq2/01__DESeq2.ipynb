{
 "cells": [
  {
   "cell_type": "markdown",
   "metadata": {},
   "source": [
    "# 01__DESeq2\n",
    "\n",
    "in this notebook, i run the raw counts for the differentiated/undifferentiated populations through DESeq2 to get a l2fc for each sgRNA in the library\n",
    "\n",
    "figures in this notebook:\n",
    "- Fig S5E: PCA plots of samples before and after batch-correction"
   ]
  },
  {
   "cell_type": "code",
   "execution_count": 1,
   "metadata": {},
   "outputs": [],
   "source": [
    "# if (!requireNamespace(\"BiocManager\", quietly = TRUE))\n",
    "#     install.packages(\"BiocManager\")"
   ]
  },
  {
   "cell_type": "code",
   "execution_count": 2,
   "metadata": {},
   "outputs": [],
   "source": [
    "# BiocManager::install(\"DESeq2\")"
   ]
  },
  {
   "cell_type": "code",
   "execution_count": 3,
   "metadata": {},
   "outputs": [],
   "source": [
    "# install.packages(\"gridExtra\")"
   ]
  },
  {
   "cell_type": "code",
   "execution_count": 4,
   "metadata": {},
   "outputs": [],
   "source": [
    "suppressMessages(library(\"DESeq2\"))"
   ]
  },
  {
   "cell_type": "code",
   "execution_count": 5,
   "metadata": {},
   "outputs": [
    {
     "name": "stderr",
     "output_type": "stream",
     "text": [
      "\n",
      "Attaching package: ‘gridExtra’\n",
      "\n",
      "\n",
      "The following object is masked from ‘package:Biobase’:\n",
      "\n",
      "    combine\n",
      "\n",
      "\n",
      "The following object is masked from ‘package:BiocGenerics’:\n",
      "\n",
      "    combine\n",
      "\n",
      "\n",
      "\n",
      "********************************************************\n",
      "\n",
      "Note: As of version 1.0.0, cowplot does not change the\n",
      "\n",
      "  default ggplot2 theme anymore. To recover the previous\n",
      "\n",
      "  behavior, execute:\n",
      "  theme_set(theme_cowplot())\n",
      "\n",
      "********************************************************\n",
      "\n",
      "\n"
     ]
    }
   ],
   "source": [
    "library(\"ggplot2\")\n",
    "library(\"gridExtra\")\n",
    "library(\"gtable\")\n",
    "library(\"cowplot\")"
   ]
  },
  {
   "cell_type": "markdown",
   "metadata": {},
   "source": [
    "## 1. import data"
   ]
  },
  {
   "cell_type": "code",
   "execution_count": 6,
   "metadata": {},
   "outputs": [
    {
     "data": {
      "text/html": [
       "<table>\n",
       "<caption>A matrix: 6 × 6 of type int</caption>\n",
       "<thead>\n",
       "\t<tr><th></th><th scope=col>DZ_Rep1</th><th scope=col>DZ_Rep2</th><th scope=col>Pos_Rep1</th><th scope=col>Pos_Rep2</th><th scope=col>Neg_Rep1</th><th scope=col>Neg_Rep2</th></tr>\n",
       "</thead>\n",
       "<tbody>\n",
       "\t<tr><th scope=row>TTATCTGCATACTTATACAG</th><td> 728</td><td> 637</td><td> 921</td><td> 420</td><td>   0</td><td> 524</td></tr>\n",
       "\t<tr><th scope=row>TATGCTTTATCCACTCCGAC</th><td>1016</td><td>1206</td><td>1754</td><td> 733</td><td> 660</td><td> 347</td></tr>\n",
       "\t<tr><th scope=row>TGAAAGCATAGGATATGGCA</th><td>1859</td><td>2038</td><td>2540</td><td>1065</td><td>1730</td><td>1004</td></tr>\n",
       "\t<tr><th scope=row>AATGGTAAGTTGCTGCTCAG</th><td> 961</td><td> 925</td><td>2061</td><td> 758</td><td>1471</td><td>1253</td></tr>\n",
       "\t<tr><th scope=row>TAAGCATGCGTGGTATCAAG</th><td>2257</td><td>1383</td><td>2558</td><td> 921</td><td>1250</td><td>   0</td></tr>\n",
       "\t<tr><th scope=row>GCTGGGAGGCGCTGGACGGC</th><td>1075</td><td>1102</td><td>1466</td><td> 847</td><td> 916</td><td> 664</td></tr>\n",
       "</tbody>\n",
       "</table>\n"
      ],
      "text/latex": [
       "A matrix: 6 × 6 of type int\n",
       "\\begin{tabular}{r|llllll}\n",
       "  & DZ\\_Rep1 & DZ\\_Rep2 & Pos\\_Rep1 & Pos\\_Rep2 & Neg\\_Rep1 & Neg\\_Rep2\\\\\n",
       "\\hline\n",
       "\tTTATCTGCATACTTATACAG &  728 &  637 &  921 &  420 &    0 &  524\\\\\n",
       "\tTATGCTTTATCCACTCCGAC & 1016 & 1206 & 1754 &  733 &  660 &  347\\\\\n",
       "\tTGAAAGCATAGGATATGGCA & 1859 & 2038 & 2540 & 1065 & 1730 & 1004\\\\\n",
       "\tAATGGTAAGTTGCTGCTCAG &  961 &  925 & 2061 &  758 & 1471 & 1253\\\\\n",
       "\tTAAGCATGCGTGGTATCAAG & 2257 & 1383 & 2558 &  921 & 1250 &    0\\\\\n",
       "\tGCTGGGAGGCGCTGGACGGC & 1075 & 1102 & 1466 &  847 &  916 &  664\\\\\n",
       "\\end{tabular}\n"
      ],
      "text/markdown": [
       "\n",
       "A matrix: 6 × 6 of type int\n",
       "\n",
       "| <!--/--> | DZ_Rep1 | DZ_Rep2 | Pos_Rep1 | Pos_Rep2 | Neg_Rep1 | Neg_Rep2 |\n",
       "|---|---|---|---|---|---|---|\n",
       "| TTATCTGCATACTTATACAG |  728 |  637 |  921 |  420 |    0 |  524 |\n",
       "| TATGCTTTATCCACTCCGAC | 1016 | 1206 | 1754 |  733 |  660 |  347 |\n",
       "| TGAAAGCATAGGATATGGCA | 1859 | 2038 | 2540 | 1065 | 1730 | 1004 |\n",
       "| AATGGTAAGTTGCTGCTCAG |  961 |  925 | 2061 |  758 | 1471 | 1253 |\n",
       "| TAAGCATGCGTGGTATCAAG | 2257 | 1383 | 2558 |  921 | 1250 |    0 |\n",
       "| GCTGGGAGGCGCTGGACGGC | 1075 | 1102 | 1466 |  847 |  916 |  664 |\n",
       "\n"
      ],
      "text/plain": [
       "                     DZ_Rep1 DZ_Rep2 Pos_Rep1 Pos_Rep2 Neg_Rep1 Neg_Rep2\n",
       "TTATCTGCATACTTATACAG  728     637     921      420        0      524    \n",
       "TATGCTTTATCCACTCCGAC 1016    1206    1754      733      660      347    \n",
       "TGAAAGCATAGGATATGGCA 1859    2038    2540     1065     1730     1004    \n",
       "AATGGTAAGTTGCTGCTCAG  961     925    2061      758     1471     1253    \n",
       "TAAGCATGCGTGGTATCAAG 2257    1383    2558      921     1250        0    \n",
       "GCTGGGAGGCGCTGGACGGC 1075    1102    1466      847      916      664    "
      ]
     },
     "metadata": {},
     "output_type": "display_data"
    }
   ],
   "source": [
    "cts <- read.csv(\"../../../data/02__screen/00__counts/Biol_Reps.sgRNA_counts.txt\", sep=\"\\t\", row.names=\"sgRNA\")\n",
    "cts <- as.matrix(cts)\n",
    "head(cts)"
   ]
  },
  {
   "cell_type": "code",
   "execution_count": 7,
   "metadata": {},
   "outputs": [
    {
     "data": {
      "text/html": [
       "<table>\n",
       "<caption>A data.frame: 6 × 3</caption>\n",
       "<thead>\n",
       "\t<tr><th></th><th scope=col>condition</th><th scope=col>rep</th><th scope=col>time</th></tr>\n",
       "\t<tr><th></th><th scope=col>&lt;fct&gt;</th><th scope=col>&lt;fct&gt;</th><th scope=col>&lt;fct&gt;</th></tr>\n",
       "</thead>\n",
       "<tbody>\n",
       "\t<tr><th scope=row>DZ_Rep1</th><td>DZ </td><td>Rep1</td><td>initial</td></tr>\n",
       "\t<tr><th scope=row>DZ_Rep2</th><td>DZ </td><td>Rep2</td><td>initial</td></tr>\n",
       "\t<tr><th scope=row>Pos_Rep1</th><td>Pos</td><td>Rep1</td><td>late   </td></tr>\n",
       "\t<tr><th scope=row>Pos_Rep2</th><td>Pos</td><td>Rep2</td><td>late   </td></tr>\n",
       "\t<tr><th scope=row>Neg_Rep1</th><td>Neg</td><td>Rep1</td><td>late   </td></tr>\n",
       "\t<tr><th scope=row>Neg_Rep2</th><td>Neg</td><td>Rep2</td><td>late   </td></tr>\n",
       "</tbody>\n",
       "</table>\n"
      ],
      "text/latex": [
       "A data.frame: 6 × 3\n",
       "\\begin{tabular}{r|lll}\n",
       "  & condition & rep & time\\\\\n",
       "  & <fct> & <fct> & <fct>\\\\\n",
       "\\hline\n",
       "\tDZ\\_Rep1 & DZ  & Rep1 & initial\\\\\n",
       "\tDZ\\_Rep2 & DZ  & Rep2 & initial\\\\\n",
       "\tPos\\_Rep1 & Pos & Rep1 & late   \\\\\n",
       "\tPos\\_Rep2 & Pos & Rep2 & late   \\\\\n",
       "\tNeg\\_Rep1 & Neg & Rep1 & late   \\\\\n",
       "\tNeg\\_Rep2 & Neg & Rep2 & late   \\\\\n",
       "\\end{tabular}\n"
      ],
      "text/markdown": [
       "\n",
       "A data.frame: 6 × 3\n",
       "\n",
       "| <!--/--> | condition &lt;fct&gt; | rep &lt;fct&gt; | time &lt;fct&gt; |\n",
       "|---|---|---|---|\n",
       "| DZ_Rep1 | DZ  | Rep1 | initial |\n",
       "| DZ_Rep2 | DZ  | Rep2 | initial |\n",
       "| Pos_Rep1 | Pos | Rep1 | late    |\n",
       "| Pos_Rep2 | Pos | Rep2 | late    |\n",
       "| Neg_Rep1 | Neg | Rep1 | late    |\n",
       "| Neg_Rep2 | Neg | Rep2 | late    |\n",
       "\n"
      ],
      "text/plain": [
       "         condition rep  time   \n",
       "DZ_Rep1  DZ        Rep1 initial\n",
       "DZ_Rep2  DZ        Rep2 initial\n",
       "Pos_Rep1 Pos       Rep1 late   \n",
       "Pos_Rep2 Pos       Rep2 late   \n",
       "Neg_Rep1 Neg       Rep1 late   \n",
       "Neg_Rep2 Neg       Rep2 late   "
      ]
     },
     "metadata": {},
     "output_type": "display_data"
    }
   ],
   "source": [
    "cols <- read.csv(\"../../../data/02__screen/01__normalized_counts/col_info.txt\", sep=\"\\t\", row.names=\"column\")\n",
    "cols$condition <- as.factor(cols$condition)\n",
    "cols$rep <- as.factor(cols$rep)\n",
    "cols$time <- as.factor(cols$time)\n",
    "head(cols)"
   ]
  },
  {
   "cell_type": "code",
   "execution_count": 8,
   "metadata": {},
   "outputs": [
    {
     "data": {
      "text/html": [
       "<table>\n",
       "<caption>A matrix: 6 × 4 of type int</caption>\n",
       "<thead>\n",
       "\t<tr><th></th><th scope=col>Neg_Rep1</th><th scope=col>Neg_Rep2</th><th scope=col>Pos_Rep1</th><th scope=col>Pos_Rep2</th></tr>\n",
       "</thead>\n",
       "<tbody>\n",
       "\t<tr><th scope=row>TTATCTGCATACTTATACAG</th><td>   0</td><td> 524</td><td> 921</td><td> 420</td></tr>\n",
       "\t<tr><th scope=row>TATGCTTTATCCACTCCGAC</th><td> 660</td><td> 347</td><td>1754</td><td> 733</td></tr>\n",
       "\t<tr><th scope=row>TGAAAGCATAGGATATGGCA</th><td>1730</td><td>1004</td><td>2540</td><td>1065</td></tr>\n",
       "\t<tr><th scope=row>AATGGTAAGTTGCTGCTCAG</th><td>1471</td><td>1253</td><td>2061</td><td> 758</td></tr>\n",
       "\t<tr><th scope=row>TAAGCATGCGTGGTATCAAG</th><td>1250</td><td>   0</td><td>2558</td><td> 921</td></tr>\n",
       "\t<tr><th scope=row>GCTGGGAGGCGCTGGACGGC</th><td> 916</td><td> 664</td><td>1466</td><td> 847</td></tr>\n",
       "</tbody>\n",
       "</table>\n"
      ],
      "text/latex": [
       "A matrix: 6 × 4 of type int\n",
       "\\begin{tabular}{r|llll}\n",
       "  & Neg\\_Rep1 & Neg\\_Rep2 & Pos\\_Rep1 & Pos\\_Rep2\\\\\n",
       "\\hline\n",
       "\tTTATCTGCATACTTATACAG &    0 &  524 &  921 &  420\\\\\n",
       "\tTATGCTTTATCCACTCCGAC &  660 &  347 & 1754 &  733\\\\\n",
       "\tTGAAAGCATAGGATATGGCA & 1730 & 1004 & 2540 & 1065\\\\\n",
       "\tAATGGTAAGTTGCTGCTCAG & 1471 & 1253 & 2061 &  758\\\\\n",
       "\tTAAGCATGCGTGGTATCAAG & 1250 &    0 & 2558 &  921\\\\\n",
       "\tGCTGGGAGGCGCTGGACGGC &  916 &  664 & 1466 &  847\\\\\n",
       "\\end{tabular}\n"
      ],
      "text/markdown": [
       "\n",
       "A matrix: 6 × 4 of type int\n",
       "\n",
       "| <!--/--> | Neg_Rep1 | Neg_Rep2 | Pos_Rep1 | Pos_Rep2 |\n",
       "|---|---|---|---|---|\n",
       "| TTATCTGCATACTTATACAG |    0 |  524 |  921 |  420 |\n",
       "| TATGCTTTATCCACTCCGAC |  660 |  347 | 1754 |  733 |\n",
       "| TGAAAGCATAGGATATGGCA | 1730 | 1004 | 2540 | 1065 |\n",
       "| AATGGTAAGTTGCTGCTCAG | 1471 | 1253 | 2061 |  758 |\n",
       "| TAAGCATGCGTGGTATCAAG | 1250 |    0 | 2558 |  921 |\n",
       "| GCTGGGAGGCGCTGGACGGC |  916 |  664 | 1466 |  847 |\n",
       "\n"
      ],
      "text/plain": [
       "                     Neg_Rep1 Neg_Rep2 Pos_Rep1 Pos_Rep2\n",
       "TTATCTGCATACTTATACAG    0      524      921      420    \n",
       "TATGCTTTATCCACTCCGAC  660      347     1754      733    \n",
       "TGAAAGCATAGGATATGGCA 1730     1004     2540     1065    \n",
       "AATGGTAAGTTGCTGCTCAG 1471     1253     2061      758    \n",
       "TAAGCATGCGTGGTATCAAG 1250        0     2558      921    \n",
       "GCTGGGAGGCGCTGGACGGC  916      664     1466      847    "
      ]
     },
     "metadata": {},
     "output_type": "display_data"
    }
   ],
   "source": [
    "fc_cts <- cts[, c(5,6,3,4)]\n",
    "head(fc_cts)"
   ]
  },
  {
   "cell_type": "code",
   "execution_count": 9,
   "metadata": {},
   "outputs": [
    {
     "data": {
      "text/html": [
       "<table>\n",
       "<caption>A matrix: 6 × 4 of type int</caption>\n",
       "<thead>\n",
       "\t<tr><th></th><th scope=col>DZ_Rep1</th><th scope=col>DZ_Rep2</th><th scope=col>Pos_Rep1</th><th scope=col>Pos_Rep2</th></tr>\n",
       "</thead>\n",
       "<tbody>\n",
       "\t<tr><th scope=row>TTATCTGCATACTTATACAG</th><td> 728</td><td> 637</td><td> 921</td><td> 420</td></tr>\n",
       "\t<tr><th scope=row>TATGCTTTATCCACTCCGAC</th><td>1016</td><td>1206</td><td>1754</td><td> 733</td></tr>\n",
       "\t<tr><th scope=row>TGAAAGCATAGGATATGGCA</th><td>1859</td><td>2038</td><td>2540</td><td>1065</td></tr>\n",
       "\t<tr><th scope=row>AATGGTAAGTTGCTGCTCAG</th><td> 961</td><td> 925</td><td>2061</td><td> 758</td></tr>\n",
       "\t<tr><th scope=row>TAAGCATGCGTGGTATCAAG</th><td>2257</td><td>1383</td><td>2558</td><td> 921</td></tr>\n",
       "\t<tr><th scope=row>GCTGGGAGGCGCTGGACGGC</th><td>1075</td><td>1102</td><td>1466</td><td> 847</td></tr>\n",
       "</tbody>\n",
       "</table>\n"
      ],
      "text/latex": [
       "A matrix: 6 × 4 of type int\n",
       "\\begin{tabular}{r|llll}\n",
       "  & DZ\\_Rep1 & DZ\\_Rep2 & Pos\\_Rep1 & Pos\\_Rep2\\\\\n",
       "\\hline\n",
       "\tTTATCTGCATACTTATACAG &  728 &  637 &  921 &  420\\\\\n",
       "\tTATGCTTTATCCACTCCGAC & 1016 & 1206 & 1754 &  733\\\\\n",
       "\tTGAAAGCATAGGATATGGCA & 1859 & 2038 & 2540 & 1065\\\\\n",
       "\tAATGGTAAGTTGCTGCTCAG &  961 &  925 & 2061 &  758\\\\\n",
       "\tTAAGCATGCGTGGTATCAAG & 2257 & 1383 & 2558 &  921\\\\\n",
       "\tGCTGGGAGGCGCTGGACGGC & 1075 & 1102 & 1466 &  847\\\\\n",
       "\\end{tabular}\n"
      ],
      "text/markdown": [
       "\n",
       "A matrix: 6 × 4 of type int\n",
       "\n",
       "| <!--/--> | DZ_Rep1 | DZ_Rep2 | Pos_Rep1 | Pos_Rep2 |\n",
       "|---|---|---|---|---|\n",
       "| TTATCTGCATACTTATACAG |  728 |  637 |  921 |  420 |\n",
       "| TATGCTTTATCCACTCCGAC | 1016 | 1206 | 1754 |  733 |\n",
       "| TGAAAGCATAGGATATGGCA | 1859 | 2038 | 2540 | 1065 |\n",
       "| AATGGTAAGTTGCTGCTCAG |  961 |  925 | 2061 |  758 |\n",
       "| TAAGCATGCGTGGTATCAAG | 2257 | 1383 | 2558 |  921 |\n",
       "| GCTGGGAGGCGCTGGACGGC | 1075 | 1102 | 1466 |  847 |\n",
       "\n"
      ],
      "text/plain": [
       "                     DZ_Rep1 DZ_Rep2 Pos_Rep1 Pos_Rep2\n",
       "TTATCTGCATACTTATACAG  728     637     921      420    \n",
       "TATGCTTTATCCACTCCGAC 1016    1206    1754      733    \n",
       "TGAAAGCATAGGATATGGCA 1859    2038    2540     1065    \n",
       "AATGGTAAGTTGCTGCTCAG  961     925    2061      758    \n",
       "TAAGCATGCGTGGTATCAAG 2257    1383    2558      921    \n",
       "GCTGGGAGGCGCTGGACGGC 1075    1102    1466      847    "
      ]
     },
     "metadata": {},
     "output_type": "display_data"
    }
   ],
   "source": [
    "fc_dz_cts <- cts[, c(1,2,3,4)]\n",
    "head(fc_dz_cts)"
   ]
  },
  {
   "cell_type": "code",
   "execution_count": 10,
   "metadata": {},
   "outputs": [
    {
     "data": {
      "text/html": [
       "<table>\n",
       "<caption>A data.frame: 4 × 3</caption>\n",
       "<thead>\n",
       "\t<tr><th></th><th scope=col>condition</th><th scope=col>rep</th><th scope=col>time</th></tr>\n",
       "\t<tr><th></th><th scope=col>&lt;fct&gt;</th><th scope=col>&lt;fct&gt;</th><th scope=col>&lt;fct&gt;</th></tr>\n",
       "</thead>\n",
       "<tbody>\n",
       "\t<tr><th scope=row>Neg_Rep1</th><td>Neg</td><td>Rep1</td><td>late</td></tr>\n",
       "\t<tr><th scope=row>Neg_Rep2</th><td>Neg</td><td>Rep2</td><td>late</td></tr>\n",
       "\t<tr><th scope=row>Pos_Rep1</th><td>Pos</td><td>Rep1</td><td>late</td></tr>\n",
       "\t<tr><th scope=row>Pos_Rep2</th><td>Pos</td><td>Rep2</td><td>late</td></tr>\n",
       "</tbody>\n",
       "</table>\n"
      ],
      "text/latex": [
       "A data.frame: 4 × 3\n",
       "\\begin{tabular}{r|lll}\n",
       "  & condition & rep & time\\\\\n",
       "  & <fct> & <fct> & <fct>\\\\\n",
       "\\hline\n",
       "\tNeg\\_Rep1 & Neg & Rep1 & late\\\\\n",
       "\tNeg\\_Rep2 & Neg & Rep2 & late\\\\\n",
       "\tPos\\_Rep1 & Pos & Rep1 & late\\\\\n",
       "\tPos\\_Rep2 & Pos & Rep2 & late\\\\\n",
       "\\end{tabular}\n"
      ],
      "text/markdown": [
       "\n",
       "A data.frame: 4 × 3\n",
       "\n",
       "| <!--/--> | condition &lt;fct&gt; | rep &lt;fct&gt; | time &lt;fct&gt; |\n",
       "|---|---|---|---|\n",
       "| Neg_Rep1 | Neg | Rep1 | late |\n",
       "| Neg_Rep2 | Neg | Rep2 | late |\n",
       "| Pos_Rep1 | Pos | Rep1 | late |\n",
       "| Pos_Rep2 | Pos | Rep2 | late |\n",
       "\n"
      ],
      "text/plain": [
       "         condition rep  time\n",
       "Neg_Rep1 Neg       Rep1 late\n",
       "Neg_Rep2 Neg       Rep2 late\n",
       "Pos_Rep1 Pos       Rep1 late\n",
       "Pos_Rep2 Pos       Rep2 late"
      ]
     },
     "metadata": {},
     "output_type": "display_data"
    }
   ],
   "source": [
    "fc_cols <- cols[3:6, ]\n",
    "fc_cols <- fc_cols[c(3,4,1,2), ]\n",
    "fc_cols"
   ]
  },
  {
   "cell_type": "code",
   "execution_count": 11,
   "metadata": {},
   "outputs": [
    {
     "data": {
      "text/html": [
       "<table>\n",
       "<caption>A data.frame: 4 × 3</caption>\n",
       "<thead>\n",
       "\t<tr><th></th><th scope=col>condition</th><th scope=col>rep</th><th scope=col>time</th></tr>\n",
       "\t<tr><th></th><th scope=col>&lt;fct&gt;</th><th scope=col>&lt;fct&gt;</th><th scope=col>&lt;fct&gt;</th></tr>\n",
       "</thead>\n",
       "<tbody>\n",
       "\t<tr><th scope=row>DZ_Rep1</th><td>DZ </td><td>Rep1</td><td>initial</td></tr>\n",
       "\t<tr><th scope=row>DZ_Rep2</th><td>DZ </td><td>Rep2</td><td>initial</td></tr>\n",
       "\t<tr><th scope=row>Pos_Rep1</th><td>Pos</td><td>Rep1</td><td>late   </td></tr>\n",
       "\t<tr><th scope=row>Pos_Rep2</th><td>Pos</td><td>Rep2</td><td>late   </td></tr>\n",
       "</tbody>\n",
       "</table>\n"
      ],
      "text/latex": [
       "A data.frame: 4 × 3\n",
       "\\begin{tabular}{r|lll}\n",
       "  & condition & rep & time\\\\\n",
       "  & <fct> & <fct> & <fct>\\\\\n",
       "\\hline\n",
       "\tDZ\\_Rep1 & DZ  & Rep1 & initial\\\\\n",
       "\tDZ\\_Rep2 & DZ  & Rep2 & initial\\\\\n",
       "\tPos\\_Rep1 & Pos & Rep1 & late   \\\\\n",
       "\tPos\\_Rep2 & Pos & Rep2 & late   \\\\\n",
       "\\end{tabular}\n"
      ],
      "text/markdown": [
       "\n",
       "A data.frame: 4 × 3\n",
       "\n",
       "| <!--/--> | condition &lt;fct&gt; | rep &lt;fct&gt; | time &lt;fct&gt; |\n",
       "|---|---|---|---|\n",
       "| DZ_Rep1 | DZ  | Rep1 | initial |\n",
       "| DZ_Rep2 | DZ  | Rep2 | initial |\n",
       "| Pos_Rep1 | Pos | Rep1 | late    |\n",
       "| Pos_Rep2 | Pos | Rep2 | late    |\n",
       "\n"
      ],
      "text/plain": [
       "         condition rep  time   \n",
       "DZ_Rep1  DZ        Rep1 initial\n",
       "DZ_Rep2  DZ        Rep2 initial\n",
       "Pos_Rep1 Pos       Rep1 late   \n",
       "Pos_Rep2 Pos       Rep2 late   "
      ]
     },
     "metadata": {},
     "output_type": "display_data"
    }
   ],
   "source": [
    "fc_dz_cols <- cols[0:4, ]\n",
    "fc_dz_cols"
   ]
  },
  {
   "cell_type": "markdown",
   "metadata": {},
   "source": [
    "## 2. DESeq2"
   ]
  },
  {
   "cell_type": "code",
   "execution_count": 12,
   "metadata": {},
   "outputs": [],
   "source": [
    "dds <- DESeqDataSetFromMatrix(countData = cts,\n",
    "                              colData = cols,\n",
    "                              design = ~ condition + rep)"
   ]
  },
  {
   "cell_type": "code",
   "execution_count": 13,
   "metadata": {},
   "outputs": [],
   "source": [
    "dds <- estimateSizeFactors(dds)"
   ]
  },
  {
   "cell_type": "code",
   "execution_count": 14,
   "metadata": {},
   "outputs": [
    {
     "data": {
      "text/html": [
       "<table>\n",
       "<caption>A matrix: 6 × 6 of type dbl</caption>\n",
       "<thead>\n",
       "\t<tr><th></th><th scope=col>DZ_Rep1</th><th scope=col>DZ_Rep2</th><th scope=col>Pos_Rep1</th><th scope=col>Pos_Rep2</th><th scope=col>Neg_Rep1</th><th scope=col>Neg_Rep2</th></tr>\n",
       "</thead>\n",
       "<tbody>\n",
       "\t<tr><th scope=row>TTATCTGCATACTTATACAG</th><td> 704.2718</td><td> 586.4672</td><td> 563.0922</td><td> 561.5087</td><td>   0.0000</td><td> 541.6455</td></tr>\n",
       "\t<tr><th scope=row>TATGCTTTATCCACTCCGAC</th><td> 982.8848</td><td>1110.3288</td><td>1072.3819</td><td> 979.9664</td><td> 653.5782</td><td> 358.6851</td></tr>\n",
       "\t<tr><th scope=row>TGAAAGCATAGGATATGGCA</th><td>1798.4084</td><td>1876.3267</td><td>1552.9362</td><td>1423.8257</td><td>1713.1671</td><td>1037.8093</td></tr>\n",
       "\t<tr><th scope=row>AATGGTAAGTTGCTGCTCAG</th><td> 929.6775</td><td> 851.6203</td><td>1260.0794</td><td>1013.3896</td><td>1456.6872</td><td>1295.1943</td></tr>\n",
       "\t<tr><th scope=row>TAAGCATGCGTGGTATCAAG</th><td>2183.4361</td><td>1273.2875</td><td>1563.9413</td><td>1231.3085</td><td>1237.8375</td><td>   0.0000</td></tr>\n",
       "\t<tr><th scope=row>GCTGGGAGGCGCTGGACGGC</th><td>1039.9618</td><td>1014.5790</td><td> 896.3010</td><td>1132.3760</td><td> 907.0873</td><td> 686.3599</td></tr>\n",
       "</tbody>\n",
       "</table>\n"
      ],
      "text/latex": [
       "A matrix: 6 × 6 of type dbl\n",
       "\\begin{tabular}{r|llllll}\n",
       "  & DZ\\_Rep1 & DZ\\_Rep2 & Pos\\_Rep1 & Pos\\_Rep2 & Neg\\_Rep1 & Neg\\_Rep2\\\\\n",
       "\\hline\n",
       "\tTTATCTGCATACTTATACAG &  704.2718 &  586.4672 &  563.0922 &  561.5087 &    0.0000 &  541.6455\\\\\n",
       "\tTATGCTTTATCCACTCCGAC &  982.8848 & 1110.3288 & 1072.3819 &  979.9664 &  653.5782 &  358.6851\\\\\n",
       "\tTGAAAGCATAGGATATGGCA & 1798.4084 & 1876.3267 & 1552.9362 & 1423.8257 & 1713.1671 & 1037.8093\\\\\n",
       "\tAATGGTAAGTTGCTGCTCAG &  929.6775 &  851.6203 & 1260.0794 & 1013.3896 & 1456.6872 & 1295.1943\\\\\n",
       "\tTAAGCATGCGTGGTATCAAG & 2183.4361 & 1273.2875 & 1563.9413 & 1231.3085 & 1237.8375 &    0.0000\\\\\n",
       "\tGCTGGGAGGCGCTGGACGGC & 1039.9618 & 1014.5790 &  896.3010 & 1132.3760 &  907.0873 &  686.3599\\\\\n",
       "\\end{tabular}\n"
      ],
      "text/markdown": [
       "\n",
       "A matrix: 6 × 6 of type dbl\n",
       "\n",
       "| <!--/--> | DZ_Rep1 | DZ_Rep2 | Pos_Rep1 | Pos_Rep2 | Neg_Rep1 | Neg_Rep2 |\n",
       "|---|---|---|---|---|---|---|\n",
       "| TTATCTGCATACTTATACAG |  704.2718 |  586.4672 |  563.0922 |  561.5087 |    0.0000 |  541.6455 |\n",
       "| TATGCTTTATCCACTCCGAC |  982.8848 | 1110.3288 | 1072.3819 |  979.9664 |  653.5782 |  358.6851 |\n",
       "| TGAAAGCATAGGATATGGCA | 1798.4084 | 1876.3267 | 1552.9362 | 1423.8257 | 1713.1671 | 1037.8093 |\n",
       "| AATGGTAAGTTGCTGCTCAG |  929.6775 |  851.6203 | 1260.0794 | 1013.3896 | 1456.6872 | 1295.1943 |\n",
       "| TAAGCATGCGTGGTATCAAG | 2183.4361 | 1273.2875 | 1563.9413 | 1231.3085 | 1237.8375 |    0.0000 |\n",
       "| GCTGGGAGGCGCTGGACGGC | 1039.9618 | 1014.5790 |  896.3010 | 1132.3760 |  907.0873 |  686.3599 |\n",
       "\n"
      ],
      "text/plain": [
       "                     DZ_Rep1   DZ_Rep2   Pos_Rep1  Pos_Rep2  Neg_Rep1 \n",
       "TTATCTGCATACTTATACAG  704.2718  586.4672  563.0922  561.5087    0.0000\n",
       "TATGCTTTATCCACTCCGAC  982.8848 1110.3288 1072.3819  979.9664  653.5782\n",
       "TGAAAGCATAGGATATGGCA 1798.4084 1876.3267 1552.9362 1423.8257 1713.1671\n",
       "AATGGTAAGTTGCTGCTCAG  929.6775  851.6203 1260.0794 1013.3896 1456.6872\n",
       "TAAGCATGCGTGGTATCAAG 2183.4361 1273.2875 1563.9413 1231.3085 1237.8375\n",
       "GCTGGGAGGCGCTGGACGGC 1039.9618 1014.5790  896.3010 1132.3760  907.0873\n",
       "                     Neg_Rep2 \n",
       "TTATCTGCATACTTATACAG  541.6455\n",
       "TATGCTTTATCCACTCCGAC  358.6851\n",
       "TGAAAGCATAGGATATGGCA 1037.8093\n",
       "AATGGTAAGTTGCTGCTCAG 1295.1943\n",
       "TAAGCATGCGTGGTATCAAG    0.0000\n",
       "GCTGGGAGGCGCTGGACGGC  686.3599"
      ]
     },
     "metadata": {},
     "output_type": "display_data"
    }
   ],
   "source": [
    "norm_cts <- counts(dds, normalized=TRUE)\n",
    "head(norm_cts)"
   ]
  },
  {
   "cell_type": "code",
   "execution_count": 15,
   "metadata": {},
   "outputs": [
    {
     "name": "stderr",
     "output_type": "stream",
     "text": [
      "-- note: fitType='parametric', but the dispersion trend was not well captured by the\n",
      "   function: y = a/x + b, and a local regression fit was automatically substituted.\n",
      "   specify fitType='local' or 'mean' to avoid this message next time.\n",
      "\n"
     ]
    },
    {
     "data": {
      "text/html": [
       "<table>\n",
       "<caption>A matrix: 6 × 6 of type dbl</caption>\n",
       "<thead>\n",
       "\t<tr><th></th><th scope=col>DZ_Rep1</th><th scope=col>DZ_Rep2</th><th scope=col>Pos_Rep1</th><th scope=col>Pos_Rep2</th><th scope=col>Neg_Rep1</th><th scope=col>Neg_Rep2</th></tr>\n",
       "</thead>\n",
       "<tbody>\n",
       "\t<tr><th scope=row>TTATCTGCATACTTATACAG</th><td>10.28074</td><td>10.20942</td><td>10.19445</td><td>10.19342</td><td> 8.179329</td><td>10.180377</td></tr>\n",
       "\t<tr><th scope=row>TATGCTTTATCCACTCCGAC</th><td>10.43807</td><td>10.51012</td><td>10.48850</td><td>10.43643</td><td>10.250736</td><td>10.038638</td></tr>\n",
       "\t<tr><th scope=row>TGAAAGCATAGGATATGGCA</th><td>10.91780</td><td>10.96297</td><td>10.77196</td><td>10.69434</td><td>10.867699</td><td>10.468938</td></tr>\n",
       "\t<tr><th scope=row>AATGGTAAGTTGCTGCTCAG</th><td>10.40833</td><td>10.36470</td><td>10.59696</td><td>10.45519</td><td>10.714068</td><td>10.617665</td></tr>\n",
       "\t<tr><th scope=row>TAAGCATGCGTGGTATCAAG</th><td>11.13464</td><td>10.60473</td><td>10.77857</td><td>10.58009</td><td>10.583908</td><td> 8.179329</td></tr>\n",
       "\t<tr><th scope=row>GCTGGGAGGCGCTGGACGGC</th><td>10.47015</td><td>10.45585</td><td>10.38969</td><td>10.52275</td><td>10.395718</td><td>10.270231</td></tr>\n",
       "</tbody>\n",
       "</table>\n"
      ],
      "text/latex": [
       "A matrix: 6 × 6 of type dbl\n",
       "\\begin{tabular}{r|llllll}\n",
       "  & DZ\\_Rep1 & DZ\\_Rep2 & Pos\\_Rep1 & Pos\\_Rep2 & Neg\\_Rep1 & Neg\\_Rep2\\\\\n",
       "\\hline\n",
       "\tTTATCTGCATACTTATACAG & 10.28074 & 10.20942 & 10.19445 & 10.19342 &  8.179329 & 10.180377\\\\\n",
       "\tTATGCTTTATCCACTCCGAC & 10.43807 & 10.51012 & 10.48850 & 10.43643 & 10.250736 & 10.038638\\\\\n",
       "\tTGAAAGCATAGGATATGGCA & 10.91780 & 10.96297 & 10.77196 & 10.69434 & 10.867699 & 10.468938\\\\\n",
       "\tAATGGTAAGTTGCTGCTCAG & 10.40833 & 10.36470 & 10.59696 & 10.45519 & 10.714068 & 10.617665\\\\\n",
       "\tTAAGCATGCGTGGTATCAAG & 11.13464 & 10.60473 & 10.77857 & 10.58009 & 10.583908 &  8.179329\\\\\n",
       "\tGCTGGGAGGCGCTGGACGGC & 10.47015 & 10.45585 & 10.38969 & 10.52275 & 10.395718 & 10.270231\\\\\n",
       "\\end{tabular}\n"
      ],
      "text/markdown": [
       "\n",
       "A matrix: 6 × 6 of type dbl\n",
       "\n",
       "| <!--/--> | DZ_Rep1 | DZ_Rep2 | Pos_Rep1 | Pos_Rep2 | Neg_Rep1 | Neg_Rep2 |\n",
       "|---|---|---|---|---|---|---|\n",
       "| TTATCTGCATACTTATACAG | 10.28074 | 10.20942 | 10.19445 | 10.19342 |  8.179329 | 10.180377 |\n",
       "| TATGCTTTATCCACTCCGAC | 10.43807 | 10.51012 | 10.48850 | 10.43643 | 10.250736 | 10.038638 |\n",
       "| TGAAAGCATAGGATATGGCA | 10.91780 | 10.96297 | 10.77196 | 10.69434 | 10.867699 | 10.468938 |\n",
       "| AATGGTAAGTTGCTGCTCAG | 10.40833 | 10.36470 | 10.59696 | 10.45519 | 10.714068 | 10.617665 |\n",
       "| TAAGCATGCGTGGTATCAAG | 11.13464 | 10.60473 | 10.77857 | 10.58009 | 10.583908 |  8.179329 |\n",
       "| GCTGGGAGGCGCTGGACGGC | 10.47015 | 10.45585 | 10.38969 | 10.52275 | 10.395718 | 10.270231 |\n",
       "\n"
      ],
      "text/plain": [
       "                     DZ_Rep1  DZ_Rep2  Pos_Rep1 Pos_Rep2 Neg_Rep1  Neg_Rep2 \n",
       "TTATCTGCATACTTATACAG 10.28074 10.20942 10.19445 10.19342  8.179329 10.180377\n",
       "TATGCTTTATCCACTCCGAC 10.43807 10.51012 10.48850 10.43643 10.250736 10.038638\n",
       "TGAAAGCATAGGATATGGCA 10.91780 10.96297 10.77196 10.69434 10.867699 10.468938\n",
       "AATGGTAAGTTGCTGCTCAG 10.40833 10.36470 10.59696 10.45519 10.714068 10.617665\n",
       "TAAGCATGCGTGGTATCAAG 11.13464 10.60473 10.77857 10.58009 10.583908  8.179329\n",
       "GCTGGGAGGCGCTGGACGGC 10.47015 10.45585 10.38969 10.52275 10.395718 10.270231"
      ]
     },
     "metadata": {},
     "output_type": "display_data"
    }
   ],
   "source": [
    "vsd <- vst(dds, blind=FALSE)\n",
    "head(assay(vsd))"
   ]
  },
  {
   "cell_type": "code",
   "execution_count": 16,
   "metadata": {},
   "outputs": [],
   "source": [
    "g1 <- plotPCA(vsd, ntop=100, intgroup=c(\"condition\", \"rep\"))"
   ]
  },
  {
   "cell_type": "code",
   "execution_count": 17,
   "metadata": {},
   "outputs": [],
   "source": [
    "mat <- assay(vsd)\n",
    "mat <- limma::removeBatchEffect(mat, vsd$rep)\n",
    "assay(vsd) <- mat"
   ]
  },
  {
   "cell_type": "code",
   "execution_count": 18,
   "metadata": {},
   "outputs": [],
   "source": [
    "g2 <- plotPCA(vsd, ntop=100, intgroup=c(\"condition\", \"rep\"))"
   ]
  },
  {
   "cell_type": "code",
   "execution_count": 19,
   "metadata": {},
   "outputs": [],
   "source": [
    "g1grob <- ggplotGrob(g1)\n",
    "g2grob <- ggplotGrob(g2)"
   ]
  },
  {
   "cell_type": "code",
   "execution_count": 20,
   "metadata": {},
   "outputs": [
    {
     "data": {
      "text/html": [
       "<strong>png:</strong> 2"
      ],
      "text/latex": [
       "\\textbf{png:} 2"
      ],
      "text/markdown": [
       "**png:** 2"
      ],
      "text/plain": [
       "png \n",
       "  2 "
      ]
     },
     "metadata": {},
     "output_type": "display_data"
    }
   ],
   "source": [
    "pdf(\"FigS5E.pdf\", height = 4, width = 6)\n",
    "grid::grid.draw(cbind(g1grob, g2grob, size = \"first\"))\n",
    "dev.off()"
   ]
  },
  {
   "cell_type": "code",
   "execution_count": 21,
   "metadata": {},
   "outputs": [],
   "source": [
    "dds <- estimateSizeFactors(dds)"
   ]
  },
  {
   "cell_type": "code",
   "execution_count": 22,
   "metadata": {},
   "outputs": [
    {
     "name": "stderr",
     "output_type": "stream",
     "text": [
      "factor levels were dropped which had no samples\n",
      "\n"
     ]
    }
   ],
   "source": [
    "dds <- DESeqDataSetFromMatrix(countData = fc_cts,\n",
    "                              colData = fc_cols,\n",
    "                              design = ~ rep + condition)"
   ]
  },
  {
   "cell_type": "code",
   "execution_count": 23,
   "metadata": {},
   "outputs": [
    {
     "name": "stderr",
     "output_type": "stream",
     "text": [
      "estimating size factors\n",
      "\n",
      "estimating dispersions\n",
      "\n",
      "gene-wise dispersion estimates\n",
      "\n",
      "mean-dispersion relationship\n",
      "\n",
      "-- note: fitType='parametric', but the dispersion trend was not well captured by the\n",
      "   function: y = a/x + b, and a local regression fit was automatically substituted.\n",
      "   specify fitType='local' or 'mean' to avoid this message next time.\n",
      "\n",
      "final dispersion estimates\n",
      "\n",
      "fitting model and testing\n",
      "\n"
     ]
    }
   ],
   "source": [
    "dds <- DESeq(dds, betaPrior=TRUE)"
   ]
  },
  {
   "cell_type": "code",
   "execution_count": 24,
   "metadata": {},
   "outputs": [
    {
     "data": {
      "text/plain": [
       "log2 fold change (MAP): condition Pos vs Neg \n",
       "Wald test p-value: condition Pos vs Neg \n",
       "DataFrame with 6 rows and 7 columns\n",
       "                      baseMean log2FoldChange    lfcMLE     lfcSE      stat\n",
       "                     <numeric>      <numeric> <numeric> <numeric> <numeric>\n",
       "TTATCTGCATACTTATACAG   412.256       0.993958  5.664040  1.856036  0.535528\n",
       "TATGCTTTATCCACTCCGAC   758.031       1.017933  1.070549  0.800159  1.272163\n",
       "TGAAAGCATAGGATATGGCA  1418.357       0.142474  0.145629  0.496143  0.287163\n",
       "AATGGTAAGTTGCTGCTCAG  1245.174      -0.287383 -0.292510  0.495230 -0.580303\n",
       "TAAGCATGCGTGGTATCAAG   997.275       1.401174  6.039779  1.736270  0.807002\n",
       "GCTGGGAGGCGCTGGACGGC   896.654       0.328608  0.341134  0.707654  0.464362\n",
       "                        pvalue      padj\n",
       "                     <numeric> <numeric>\n",
       "TTATCTGCATACTTATACAG  0.592285  0.891095\n",
       "TATGCTTTATCCACTCCGAC  0.203315  0.609879\n",
       "TGAAAGCATAGGATATGGCA  0.773988  0.951552\n",
       "AATGGTAAGTTGCTGCTCAG  0.561711  0.878275\n",
       "TAAGCATGCGTGGTATCAAG  0.419665  0.805717\n",
       "GCTGGGAGGCGCTGGACGGC  0.642388  0.910214"
      ]
     },
     "metadata": {},
     "output_type": "display_data"
    }
   ],
   "source": [
    "res <- results(dds, addMLE=TRUE)\n",
    "head(res)"
   ]
  },
  {
   "cell_type": "markdown",
   "metadata": {},
   "source": [
    "## 3. write results"
   ]
  },
  {
   "cell_type": "code",
   "execution_count": 25,
   "metadata": {},
   "outputs": [],
   "source": [
    "write.table(res, file = \"../../../data/02__screen/01__normalized_counts/l2fcs.DESeq2.with_batch.txt\", \n",
    "            sep = \"\\t\", quote = FALSE)"
   ]
  },
  {
   "cell_type": "markdown",
   "metadata": {},
   "source": [
    "## 4. also calculate l2fc from day zero --> late time points"
   ]
  },
  {
   "cell_type": "code",
   "execution_count": 26,
   "metadata": {},
   "outputs": [
    {
     "name": "stderr",
     "output_type": "stream",
     "text": [
      "factor levels were dropped which had no samples\n",
      "\n"
     ]
    }
   ],
   "source": [
    "dds_dz <- DESeqDataSetFromMatrix(countData = fc_dz_cts,\n",
    "                              colData = fc_dz_cols,\n",
    "                              design = ~ rep + condition)"
   ]
  },
  {
   "cell_type": "code",
   "execution_count": 27,
   "metadata": {},
   "outputs": [],
   "source": [
    "dds_dz <- estimateSizeFactors(dds_dz)"
   ]
  },
  {
   "cell_type": "code",
   "execution_count": 28,
   "metadata": {},
   "outputs": [
    {
     "name": "stderr",
     "output_type": "stream",
     "text": [
      "using pre-existing size factors\n",
      "\n",
      "estimating dispersions\n",
      "\n",
      "gene-wise dispersion estimates\n",
      "\n",
      "mean-dispersion relationship\n",
      "\n",
      "-- note: fitType='parametric', but the dispersion trend was not well captured by the\n",
      "   function: y = a/x + b, and a local regression fit was automatically substituted.\n",
      "   specify fitType='local' or 'mean' to avoid this message next time.\n",
      "\n",
      "final dispersion estimates\n",
      "\n",
      "fitting model and testing\n",
      "\n"
     ]
    }
   ],
   "source": [
    "dds_dz <- DESeq(dds_dz, betaPrior=TRUE)"
   ]
  },
  {
   "cell_type": "code",
   "execution_count": 29,
   "metadata": {},
   "outputs": [
    {
     "data": {
      "text/plain": [
       "log2 fold change (MAP): condition Pos vs DZ \n",
       "Wald test p-value: condition Pos vs DZ \n",
       "DataFrame with 6 rows and 7 columns\n",
       "                      baseMean log2FoldChange      lfcMLE     lfcSE       stat\n",
       "                     <numeric>      <numeric>   <numeric> <numeric>  <numeric>\n",
       "TTATCTGCATACTTATACAG   649.939    -0.11821849 -0.16087762  0.214223 -0.5518478\n",
       "TATGCTTTATCCACTCCGAC  1116.347     0.00537320  0.00676402  0.188102  0.0285654\n",
       "TGAAAGCATAGGATATGGCA  1789.186    -0.23757230 -0.27115108  0.159001 -1.4941597\n",
       "AATGGTAAGTTGCTGCTCAG  1093.491     0.30986277  0.37866970  0.187126  1.6559021\n",
       "TAAGCATGCGTGGTATCAAG  1681.481    -0.20311175 -0.23460636  0.170238 -1.1931073\n",
       "GCTGGGAGGCGCTGGACGGC  1099.573     0.00418771  0.00421272  0.190324  0.0220030\n",
       "                        pvalue      padj\n",
       "                     <numeric> <numeric>\n",
       "TTATCTGCATACTTATACAG 0.5810526  0.849839\n",
       "TATGCTTTATCCACTCCGAC 0.9772112  0.994167\n",
       "TGAAAGCATAGGATATGGCA 0.1351339  0.496056\n",
       "AATGGTAAGTTGCTGCTCAG 0.0977417  0.431911\n",
       "TAAGCATGCGTGGTATCAAG 0.2328274  0.617576\n",
       "GCTGGGAGGCGCTGGACGGC 0.9824455  0.995703"
      ]
     },
     "metadata": {},
     "output_type": "display_data"
    }
   ],
   "source": [
    "res_dz <- results(dds_dz, addMLE=TRUE)\n",
    "head(res_dz)"
   ]
  },
  {
   "cell_type": "markdown",
   "metadata": {},
   "source": [
    "## 5. write results day zero --> late"
   ]
  },
  {
   "cell_type": "code",
   "execution_count": 30,
   "metadata": {},
   "outputs": [],
   "source": [
    "write.table(res_dz, file = \"../../../data/02__screen/01__normalized_counts/l2fcs_DZ.DESeq2.with_batch.txt\", \n",
    "            sep = \"\\t\", quote = FALSE)"
   ]
  },
  {
   "cell_type": "code",
   "execution_count": null,
   "metadata": {},
   "outputs": [],
   "source": []
  }
 ],
 "metadata": {
  "kernelspec": {
   "display_name": "R (4.0, upbm)",
   "language": "R",
   "name": "ir"
  },
  "language_info": {
   "codemirror_mode": "r",
   "file_extension": ".r",
   "mimetype": "text/x-r-source",
   "name": "R",
   "pygments_lexer": "r",
   "version": "4.0.2"
  }
 },
 "nbformat": 4,
 "nbformat_minor": 2
}
