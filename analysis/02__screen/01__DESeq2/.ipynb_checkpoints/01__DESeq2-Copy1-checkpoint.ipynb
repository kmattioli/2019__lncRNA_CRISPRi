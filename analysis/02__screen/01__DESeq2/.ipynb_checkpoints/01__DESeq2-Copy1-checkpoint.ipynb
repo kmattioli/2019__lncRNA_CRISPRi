{
 "cells": [
  {
   "cell_type": "markdown",
   "metadata": {},
   "source": [
    "# 01__DESeq2\n",
    "\n",
    "in this notebook, i run the raw counts for the differentiated/undifferentiated populations through DESeq2 to get a l2fc for each sgRNA in the library\n",
    "\n",
    "figures in this notebook:\n",
    "- Fig S5C: PCA plots of samples before and after batch-correction"
   ]
  },
  {
   "cell_type": "code",
   "execution_count": 1,
   "metadata": {},
   "outputs": [],
   "source": [
    "# if (!requireNamespace(\"BiocManager\", quietly = TRUE))\n",
    "#     install.packages(\"BiocManager\")"
   ]
  },
  {
   "cell_type": "code",
   "execution_count": 2,
   "metadata": {},
   "outputs": [],
   "source": [
    "# BiocManager::install(\"DESeq2\")"
   ]
  },
  {
   "cell_type": "code",
   "execution_count": 3,
   "metadata": {},
   "outputs": [],
   "source": [
    "# install.packages(\"gridExtra\")"
   ]
  },
  {
   "cell_type": "code",
   "execution_count": 1,
   "metadata": {},
   "outputs": [],
   "source": [
    "suppressMessages(library(\"DESeq2\"))"
   ]
  },
  {
   "cell_type": "code",
   "execution_count": 2,
   "metadata": {},
   "outputs": [
    {
     "name": "stderr",
     "output_type": "stream",
     "text": [
      "\n",
      "Attaching package: ‘gridExtra’\n",
      "\n",
      "\n",
      "The following object is masked from ‘package:Biobase’:\n",
      "\n",
      "    combine\n",
      "\n",
      "\n",
      "The following object is masked from ‘package:BiocGenerics’:\n",
      "\n",
      "    combine\n",
      "\n",
      "\n",
      "\n",
      "********************************************************\n",
      "\n",
      "Note: As of version 1.0.0, cowplot does not change the\n",
      "\n",
      "  default ggplot2 theme anymore. To recover the previous\n",
      "\n",
      "  behavior, execute:\n",
      "  theme_set(theme_cowplot())\n",
      "\n",
      "********************************************************\n",
      "\n",
      "\n"
     ]
    }
   ],
   "source": [
    "library(\"ggplot2\")\n",
    "library(\"gridExtra\")\n",
    "library(\"gtable\")\n",
    "library(\"cowplot\")"
   ]
  },
  {
   "cell_type": "markdown",
   "metadata": {},
   "source": [
    "## 1. import data"
   ]
  },
  {
   "cell_type": "code",
   "execution_count": 3,
   "metadata": {},
   "outputs": [
    {
     "data": {
      "text/html": [
       "<table>\n",
       "<caption>A matrix: 6 × 6 of type int</caption>\n",
       "<thead>\n",
       "\t<tr><th></th><th scope=col>DZ_Rep1</th><th scope=col>DZ_Rep2</th><th scope=col>Pos_Rep1</th><th scope=col>Pos_Rep2</th><th scope=col>Neg_Rep1</th><th scope=col>Neg_Rep2</th></tr>\n",
       "</thead>\n",
       "<tbody>\n",
       "\t<tr><th scope=row>TTATCTGCATACTTATACAG</th><td> 728</td><td> 637</td><td> 921</td><td> 420</td><td>   0</td><td> 524</td></tr>\n",
       "\t<tr><th scope=row>TATGCTTTATCCACTCCGAC</th><td>1016</td><td>1206</td><td>1754</td><td> 733</td><td> 660</td><td> 347</td></tr>\n",
       "\t<tr><th scope=row>TGAAAGCATAGGATATGGCA</th><td>1859</td><td>2038</td><td>2540</td><td>1065</td><td>1730</td><td>1004</td></tr>\n",
       "\t<tr><th scope=row>AATGGTAAGTTGCTGCTCAG</th><td> 961</td><td> 925</td><td>2061</td><td> 758</td><td>1471</td><td>1253</td></tr>\n",
       "\t<tr><th scope=row>TAAGCATGCGTGGTATCAAG</th><td>2257</td><td>1383</td><td>2558</td><td> 921</td><td>1250</td><td>   0</td></tr>\n",
       "\t<tr><th scope=row>GCTGGGAGGCGCTGGACGGC</th><td>1075</td><td>1102</td><td>1466</td><td> 847</td><td> 916</td><td> 664</td></tr>\n",
       "</tbody>\n",
       "</table>\n"
      ],
      "text/latex": [
       "A matrix: 6 × 6 of type int\n",
       "\\begin{tabular}{r|llllll}\n",
       "  & DZ\\_Rep1 & DZ\\_Rep2 & Pos\\_Rep1 & Pos\\_Rep2 & Neg\\_Rep1 & Neg\\_Rep2\\\\\n",
       "\\hline\n",
       "\tTTATCTGCATACTTATACAG &  728 &  637 &  921 &  420 &    0 &  524\\\\\n",
       "\tTATGCTTTATCCACTCCGAC & 1016 & 1206 & 1754 &  733 &  660 &  347\\\\\n",
       "\tTGAAAGCATAGGATATGGCA & 1859 & 2038 & 2540 & 1065 & 1730 & 1004\\\\\n",
       "\tAATGGTAAGTTGCTGCTCAG &  961 &  925 & 2061 &  758 & 1471 & 1253\\\\\n",
       "\tTAAGCATGCGTGGTATCAAG & 2257 & 1383 & 2558 &  921 & 1250 &    0\\\\\n",
       "\tGCTGGGAGGCGCTGGACGGC & 1075 & 1102 & 1466 &  847 &  916 &  664\\\\\n",
       "\\end{tabular}\n"
      ],
      "text/markdown": [
       "\n",
       "A matrix: 6 × 6 of type int\n",
       "\n",
       "| <!--/--> | DZ_Rep1 | DZ_Rep2 | Pos_Rep1 | Pos_Rep2 | Neg_Rep1 | Neg_Rep2 |\n",
       "|---|---|---|---|---|---|---|\n",
       "| TTATCTGCATACTTATACAG |  728 |  637 |  921 |  420 |    0 |  524 |\n",
       "| TATGCTTTATCCACTCCGAC | 1016 | 1206 | 1754 |  733 |  660 |  347 |\n",
       "| TGAAAGCATAGGATATGGCA | 1859 | 2038 | 2540 | 1065 | 1730 | 1004 |\n",
       "| AATGGTAAGTTGCTGCTCAG |  961 |  925 | 2061 |  758 | 1471 | 1253 |\n",
       "| TAAGCATGCGTGGTATCAAG | 2257 | 1383 | 2558 |  921 | 1250 |    0 |\n",
       "| GCTGGGAGGCGCTGGACGGC | 1075 | 1102 | 1466 |  847 |  916 |  664 |\n",
       "\n"
      ],
      "text/plain": [
       "                     DZ_Rep1 DZ_Rep2 Pos_Rep1 Pos_Rep2 Neg_Rep1 Neg_Rep2\n",
       "TTATCTGCATACTTATACAG  728     637     921      420        0      524    \n",
       "TATGCTTTATCCACTCCGAC 1016    1206    1754      733      660      347    \n",
       "TGAAAGCATAGGATATGGCA 1859    2038    2540     1065     1730     1004    \n",
       "AATGGTAAGTTGCTGCTCAG  961     925    2061      758     1471     1253    \n",
       "TAAGCATGCGTGGTATCAAG 2257    1383    2558      921     1250        0    \n",
       "GCTGGGAGGCGCTGGACGGC 1075    1102    1466      847      916      664    "
      ]
     },
     "metadata": {},
     "output_type": "display_data"
    }
   ],
   "source": [
    "cts <- read.csv(\"../../../data/02__screen/00__counts/Biol_Reps.sgRNA_counts.txt\", sep=\"\\t\", row.names=\"sgRNA\")\n",
    "cts <- as.matrix(cts)\n",
    "head(cts)"
   ]
  },
  {
   "cell_type": "code",
   "execution_count": 4,
   "metadata": {},
   "outputs": [
    {
     "data": {
      "text/html": [
       "<table>\n",
       "<caption>A matrix: 6 × 6 of type int</caption>\n",
       "<thead>\n",
       "\t<tr><th></th><th scope=col>DZ_Rep1</th><th scope=col>DZ_Rep2</th><th scope=col>Pos_Rep1</th><th scope=col>Pos_Rep2</th><th scope=col>Neg_Rep1</th><th scope=col>Neg_Rep2</th></tr>\n",
       "</thead>\n",
       "<tbody>\n",
       "\t<tr><th scope=row>TTATCTGCATACTTATACAG</th><td> 728</td><td> 637</td><td> 921</td><td> 420</td><td>   0</td><td> 524</td></tr>\n",
       "\t<tr><th scope=row>TATGCTTTATCCACTCCGAC</th><td>1016</td><td>1206</td><td>1754</td><td> 733</td><td> 660</td><td> 347</td></tr>\n",
       "\t<tr><th scope=row>TGAAAGCATAGGATATGGCA</th><td>1859</td><td>2038</td><td>2540</td><td>1065</td><td>1730</td><td>1004</td></tr>\n",
       "\t<tr><th scope=row>AATGGTAAGTTGCTGCTCAG</th><td> 961</td><td> 925</td><td>2061</td><td> 758</td><td>1471</td><td>1253</td></tr>\n",
       "\t<tr><th scope=row>TAAGCATGCGTGGTATCAAG</th><td>2257</td><td>1383</td><td>2558</td><td> 921</td><td>1250</td><td>   0</td></tr>\n",
       "\t<tr><th scope=row>GCTGGGAGGCGCTGGACGGC</th><td>1075</td><td>1102</td><td>1466</td><td> 847</td><td> 916</td><td> 664</td></tr>\n",
       "</tbody>\n",
       "</table>\n"
      ],
      "text/latex": [
       "A matrix: 6 × 6 of type int\n",
       "\\begin{tabular}{r|llllll}\n",
       "  & DZ\\_Rep1 & DZ\\_Rep2 & Pos\\_Rep1 & Pos\\_Rep2 & Neg\\_Rep1 & Neg\\_Rep2\\\\\n",
       "\\hline\n",
       "\tTTATCTGCATACTTATACAG &  728 &  637 &  921 &  420 &    0 &  524\\\\\n",
       "\tTATGCTTTATCCACTCCGAC & 1016 & 1206 & 1754 &  733 &  660 &  347\\\\\n",
       "\tTGAAAGCATAGGATATGGCA & 1859 & 2038 & 2540 & 1065 & 1730 & 1004\\\\\n",
       "\tAATGGTAAGTTGCTGCTCAG &  961 &  925 & 2061 &  758 & 1471 & 1253\\\\\n",
       "\tTAAGCATGCGTGGTATCAAG & 2257 & 1383 & 2558 &  921 & 1250 &    0\\\\\n",
       "\tGCTGGGAGGCGCTGGACGGC & 1075 & 1102 & 1466 &  847 &  916 &  664\\\\\n",
       "\\end{tabular}\n"
      ],
      "text/markdown": [
       "\n",
       "A matrix: 6 × 6 of type int\n",
       "\n",
       "| <!--/--> | DZ_Rep1 | DZ_Rep2 | Pos_Rep1 | Pos_Rep2 | Neg_Rep1 | Neg_Rep2 |\n",
       "|---|---|---|---|---|---|---|\n",
       "| TTATCTGCATACTTATACAG |  728 |  637 |  921 |  420 |    0 |  524 |\n",
       "| TATGCTTTATCCACTCCGAC | 1016 | 1206 | 1754 |  733 |  660 |  347 |\n",
       "| TGAAAGCATAGGATATGGCA | 1859 | 2038 | 2540 | 1065 | 1730 | 1004 |\n",
       "| AATGGTAAGTTGCTGCTCAG |  961 |  925 | 2061 |  758 | 1471 | 1253 |\n",
       "| TAAGCATGCGTGGTATCAAG | 2257 | 1383 | 2558 |  921 | 1250 |    0 |\n",
       "| GCTGGGAGGCGCTGGACGGC | 1075 | 1102 | 1466 |  847 |  916 |  664 |\n",
       "\n"
      ],
      "text/plain": [
       "                     DZ_Rep1 DZ_Rep2 Pos_Rep1 Pos_Rep2 Neg_Rep1 Neg_Rep2\n",
       "TTATCTGCATACTTATACAG  728     637     921      420        0      524    \n",
       "TATGCTTTATCCACTCCGAC 1016    1206    1754      733      660      347    \n",
       "TGAAAGCATAGGATATGGCA 1859    2038    2540     1065     1730     1004    \n",
       "AATGGTAAGTTGCTGCTCAG  961     925    2061      758     1471     1253    \n",
       "TAAGCATGCGTGGTATCAAG 2257    1383    2558      921     1250        0    \n",
       "GCTGGGAGGCGCTGGACGGC 1075    1102    1466      847      916      664    "
      ]
     },
     "metadata": {},
     "output_type": "display_data"
    }
   ],
   "source": [
    "cts_dz_filt <- read.csv(\"../../../data/02__screen/00__counts/Biol_Reps.sgRNA_counts.DZ_filt.txt\", \n",
    "                     sep=\"\\t\", row.names=\"sgRNA\")\n",
    "cts_dz_filt <- as.matrix(cts_dz_filt)\n",
    "head(cts_dz_filt)"
   ]
  },
  {
   "cell_type": "code",
   "execution_count": 5,
   "metadata": {},
   "outputs": [
    {
     "data": {
      "text/html": [
       "<table>\n",
       "<caption>A matrix: 6 × 6 of type int</caption>\n",
       "<thead>\n",
       "\t<tr><th></th><th scope=col>DZ_Rep1</th><th scope=col>DZ_Rep2</th><th scope=col>Pos_Rep1</th><th scope=col>Pos_Rep2</th><th scope=col>Neg_Rep1</th><th scope=col>Neg_Rep2</th></tr>\n",
       "</thead>\n",
       "<tbody>\n",
       "\t<tr><th scope=row>GGGAAGTGAGATGACGGTCG</th><td>1760</td><td>2013</td><td>2646</td><td>1187</td><td>1550</td><td>1943</td></tr>\n",
       "\t<tr><th scope=row>GGAAGTGAGATGACGGTCGC</th><td>1901</td><td>1810</td><td>2616</td><td>1350</td><td>3648</td><td>1542</td></tr>\n",
       "\t<tr><th scope=row>GAAGTGAGATGACGGTCGCG</th><td>1104</td><td>1264</td><td>1694</td><td>1098</td><td>3311</td><td> 256</td></tr>\n",
       "\t<tr><th scope=row>CCCTGAAAAACTTGTGCCCT</th><td>2767</td><td>3322</td><td>4436</td><td>2421</td><td>3101</td><td>4028</td></tr>\n",
       "\t<tr><th scope=row>CTGCCGGGGAAGTGAGATGA</th><td>1263</td><td>1458</td><td>1645</td><td> 845</td><td>2710</td><td> 878</td></tr>\n",
       "\t<tr><th scope=row>GCCCTGAAAAACTTGTGCCC</th><td>1171</td><td> 782</td><td>1359</td><td> 528</td><td> 743</td><td> 488</td></tr>\n",
       "</tbody>\n",
       "</table>\n"
      ],
      "text/latex": [
       "A matrix: 6 × 6 of type int\n",
       "\\begin{tabular}{r|llllll}\n",
       "  & DZ\\_Rep1 & DZ\\_Rep2 & Pos\\_Rep1 & Pos\\_Rep2 & Neg\\_Rep1 & Neg\\_Rep2\\\\\n",
       "\\hline\n",
       "\tGGGAAGTGAGATGACGGTCG & 1760 & 2013 & 2646 & 1187 & 1550 & 1943\\\\\n",
       "\tGGAAGTGAGATGACGGTCGC & 1901 & 1810 & 2616 & 1350 & 3648 & 1542\\\\\n",
       "\tGAAGTGAGATGACGGTCGCG & 1104 & 1264 & 1694 & 1098 & 3311 &  256\\\\\n",
       "\tCCCTGAAAAACTTGTGCCCT & 2767 & 3322 & 4436 & 2421 & 3101 & 4028\\\\\n",
       "\tCTGCCGGGGAAGTGAGATGA & 1263 & 1458 & 1645 &  845 & 2710 &  878\\\\\n",
       "\tGCCCTGAAAAACTTGTGCCC & 1171 &  782 & 1359 &  528 &  743 &  488\\\\\n",
       "\\end{tabular}\n"
      ],
      "text/markdown": [
       "\n",
       "A matrix: 6 × 6 of type int\n",
       "\n",
       "| <!--/--> | DZ_Rep1 | DZ_Rep2 | Pos_Rep1 | Pos_Rep2 | Neg_Rep1 | Neg_Rep2 |\n",
       "|---|---|---|---|---|---|---|\n",
       "| GGGAAGTGAGATGACGGTCG | 1760 | 2013 | 2646 | 1187 | 1550 | 1943 |\n",
       "| GGAAGTGAGATGACGGTCGC | 1901 | 1810 | 2616 | 1350 | 3648 | 1542 |\n",
       "| GAAGTGAGATGACGGTCGCG | 1104 | 1264 | 1694 | 1098 | 3311 |  256 |\n",
       "| CCCTGAAAAACTTGTGCCCT | 2767 | 3322 | 4436 | 2421 | 3101 | 4028 |\n",
       "| CTGCCGGGGAAGTGAGATGA | 1263 | 1458 | 1645 |  845 | 2710 |  878 |\n",
       "| GCCCTGAAAAACTTGTGCCC | 1171 |  782 | 1359 |  528 |  743 |  488 |\n",
       "\n"
      ],
      "text/plain": [
       "                     DZ_Rep1 DZ_Rep2 Pos_Rep1 Pos_Rep2 Neg_Rep1 Neg_Rep2\n",
       "GGGAAGTGAGATGACGGTCG 1760    2013    2646     1187     1550     1943    \n",
       "GGAAGTGAGATGACGGTCGC 1901    1810    2616     1350     3648     1542    \n",
       "GAAGTGAGATGACGGTCGCG 1104    1264    1694     1098     3311      256    \n",
       "CCCTGAAAAACTTGTGCCCT 2767    3322    4436     2421     3101     4028    \n",
       "CTGCCGGGGAAGTGAGATGA 1263    1458    1645      845     2710      878    \n",
       "GCCCTGAAAAACTTGTGCCC 1171     782    1359      528      743      488    "
      ]
     },
     "metadata": {},
     "output_type": "display_data"
    }
   ],
   "source": [
    "cts_filt <- read.csv(\"../../../data/02__screen/00__counts/Biol_Reps.sgRNA_counts.filt.txt\", \n",
    "                     sep=\"\\t\", row.names=\"sgRNA\")\n",
    "cts_filt <- as.matrix(cts_filt)\n",
    "head(cts_filt)"
   ]
  },
  {
   "cell_type": "code",
   "execution_count": 6,
   "metadata": {},
   "outputs": [
    {
     "data": {
      "text/html": [
       "<table>\n",
       "<caption>A data.frame: 6 × 3</caption>\n",
       "<thead>\n",
       "\t<tr><th></th><th scope=col>condition</th><th scope=col>rep</th><th scope=col>time</th></tr>\n",
       "\t<tr><th></th><th scope=col>&lt;fct&gt;</th><th scope=col>&lt;fct&gt;</th><th scope=col>&lt;fct&gt;</th></tr>\n",
       "</thead>\n",
       "<tbody>\n",
       "\t<tr><th scope=row>DZ_Rep1</th><td>DZ </td><td>Rep1</td><td>initial</td></tr>\n",
       "\t<tr><th scope=row>DZ_Rep2</th><td>DZ </td><td>Rep2</td><td>initial</td></tr>\n",
       "\t<tr><th scope=row>Pos_Rep1</th><td>Pos</td><td>Rep1</td><td>late   </td></tr>\n",
       "\t<tr><th scope=row>Pos_Rep2</th><td>Pos</td><td>Rep2</td><td>late   </td></tr>\n",
       "\t<tr><th scope=row>Neg_Rep1</th><td>Neg</td><td>Rep1</td><td>late   </td></tr>\n",
       "\t<tr><th scope=row>Neg_Rep2</th><td>Neg</td><td>Rep2</td><td>late   </td></tr>\n",
       "</tbody>\n",
       "</table>\n"
      ],
      "text/latex": [
       "A data.frame: 6 × 3\n",
       "\\begin{tabular}{r|lll}\n",
       "  & condition & rep & time\\\\\n",
       "  & <fct> & <fct> & <fct>\\\\\n",
       "\\hline\n",
       "\tDZ\\_Rep1 & DZ  & Rep1 & initial\\\\\n",
       "\tDZ\\_Rep2 & DZ  & Rep2 & initial\\\\\n",
       "\tPos\\_Rep1 & Pos & Rep1 & late   \\\\\n",
       "\tPos\\_Rep2 & Pos & Rep2 & late   \\\\\n",
       "\tNeg\\_Rep1 & Neg & Rep1 & late   \\\\\n",
       "\tNeg\\_Rep2 & Neg & Rep2 & late   \\\\\n",
       "\\end{tabular}\n"
      ],
      "text/markdown": [
       "\n",
       "A data.frame: 6 × 3\n",
       "\n",
       "| <!--/--> | condition &lt;fct&gt; | rep &lt;fct&gt; | time &lt;fct&gt; |\n",
       "|---|---|---|---|\n",
       "| DZ_Rep1 | DZ  | Rep1 | initial |\n",
       "| DZ_Rep2 | DZ  | Rep2 | initial |\n",
       "| Pos_Rep1 | Pos | Rep1 | late    |\n",
       "| Pos_Rep2 | Pos | Rep2 | late    |\n",
       "| Neg_Rep1 | Neg | Rep1 | late    |\n",
       "| Neg_Rep2 | Neg | Rep2 | late    |\n",
       "\n"
      ],
      "text/plain": [
       "         condition rep  time   \n",
       "DZ_Rep1  DZ        Rep1 initial\n",
       "DZ_Rep2  DZ        Rep2 initial\n",
       "Pos_Rep1 Pos       Rep1 late   \n",
       "Pos_Rep2 Pos       Rep2 late   \n",
       "Neg_Rep1 Neg       Rep1 late   \n",
       "Neg_Rep2 Neg       Rep2 late   "
      ]
     },
     "metadata": {},
     "output_type": "display_data"
    }
   ],
   "source": [
    "cols <- read.csv(\"../../../data/02__screen/01__normalized_counts/col_info.txt\", sep=\"\\t\", row.names=\"column\")\n",
    "cols$condition <- as.factor(cols$condition)\n",
    "cols$rep <- as.factor(cols$rep)\n",
    "cols$time <- as.factor(cols$time)\n",
    "head(cols)"
   ]
  },
  {
   "cell_type": "code",
   "execution_count": 7,
   "metadata": {},
   "outputs": [
    {
     "data": {
      "text/html": [
       "<table>\n",
       "<caption>A matrix: 6 × 4 of type int</caption>\n",
       "<thead>\n",
       "\t<tr><th></th><th scope=col>Neg_Rep1</th><th scope=col>Neg_Rep2</th><th scope=col>Pos_Rep1</th><th scope=col>Pos_Rep2</th></tr>\n",
       "</thead>\n",
       "<tbody>\n",
       "\t<tr><th scope=row>TTATCTGCATACTTATACAG</th><td>   0</td><td> 524</td><td> 921</td><td> 420</td></tr>\n",
       "\t<tr><th scope=row>TATGCTTTATCCACTCCGAC</th><td> 660</td><td> 347</td><td>1754</td><td> 733</td></tr>\n",
       "\t<tr><th scope=row>TGAAAGCATAGGATATGGCA</th><td>1730</td><td>1004</td><td>2540</td><td>1065</td></tr>\n",
       "\t<tr><th scope=row>AATGGTAAGTTGCTGCTCAG</th><td>1471</td><td>1253</td><td>2061</td><td> 758</td></tr>\n",
       "\t<tr><th scope=row>TAAGCATGCGTGGTATCAAG</th><td>1250</td><td>   0</td><td>2558</td><td> 921</td></tr>\n",
       "\t<tr><th scope=row>GCTGGGAGGCGCTGGACGGC</th><td> 916</td><td> 664</td><td>1466</td><td> 847</td></tr>\n",
       "</tbody>\n",
       "</table>\n"
      ],
      "text/latex": [
       "A matrix: 6 × 4 of type int\n",
       "\\begin{tabular}{r|llll}\n",
       "  & Neg\\_Rep1 & Neg\\_Rep2 & Pos\\_Rep1 & Pos\\_Rep2\\\\\n",
       "\\hline\n",
       "\tTTATCTGCATACTTATACAG &    0 &  524 &  921 &  420\\\\\n",
       "\tTATGCTTTATCCACTCCGAC &  660 &  347 & 1754 &  733\\\\\n",
       "\tTGAAAGCATAGGATATGGCA & 1730 & 1004 & 2540 & 1065\\\\\n",
       "\tAATGGTAAGTTGCTGCTCAG & 1471 & 1253 & 2061 &  758\\\\\n",
       "\tTAAGCATGCGTGGTATCAAG & 1250 &    0 & 2558 &  921\\\\\n",
       "\tGCTGGGAGGCGCTGGACGGC &  916 &  664 & 1466 &  847\\\\\n",
       "\\end{tabular}\n"
      ],
      "text/markdown": [
       "\n",
       "A matrix: 6 × 4 of type int\n",
       "\n",
       "| <!--/--> | Neg_Rep1 | Neg_Rep2 | Pos_Rep1 | Pos_Rep2 |\n",
       "|---|---|---|---|---|\n",
       "| TTATCTGCATACTTATACAG |    0 |  524 |  921 |  420 |\n",
       "| TATGCTTTATCCACTCCGAC |  660 |  347 | 1754 |  733 |\n",
       "| TGAAAGCATAGGATATGGCA | 1730 | 1004 | 2540 | 1065 |\n",
       "| AATGGTAAGTTGCTGCTCAG | 1471 | 1253 | 2061 |  758 |\n",
       "| TAAGCATGCGTGGTATCAAG | 1250 |    0 | 2558 |  921 |\n",
       "| GCTGGGAGGCGCTGGACGGC |  916 |  664 | 1466 |  847 |\n",
       "\n"
      ],
      "text/plain": [
       "                     Neg_Rep1 Neg_Rep2 Pos_Rep1 Pos_Rep2\n",
       "TTATCTGCATACTTATACAG    0      524      921      420    \n",
       "TATGCTTTATCCACTCCGAC  660      347     1754      733    \n",
       "TGAAAGCATAGGATATGGCA 1730     1004     2540     1065    \n",
       "AATGGTAAGTTGCTGCTCAG 1471     1253     2061      758    \n",
       "TAAGCATGCGTGGTATCAAG 1250        0     2558      921    \n",
       "GCTGGGAGGCGCTGGACGGC  916      664     1466      847    "
      ]
     },
     "metadata": {},
     "output_type": "display_data"
    }
   ],
   "source": [
    "fc_cts <- cts[, c(5,6,3,4)]\n",
    "head(fc_cts)"
   ]
  },
  {
   "cell_type": "code",
   "execution_count": 8,
   "metadata": {},
   "outputs": [
    {
     "data": {
      "text/html": [
       "<table>\n",
       "<caption>A matrix: 6 × 4 of type int</caption>\n",
       "<thead>\n",
       "\t<tr><th></th><th scope=col>DZ_Rep1</th><th scope=col>DZ_Rep2</th><th scope=col>Pos_Rep1</th><th scope=col>Pos_Rep2</th></tr>\n",
       "</thead>\n",
       "<tbody>\n",
       "\t<tr><th scope=row>TTATCTGCATACTTATACAG</th><td> 728</td><td> 637</td><td> 921</td><td> 420</td></tr>\n",
       "\t<tr><th scope=row>TATGCTTTATCCACTCCGAC</th><td>1016</td><td>1206</td><td>1754</td><td> 733</td></tr>\n",
       "\t<tr><th scope=row>TGAAAGCATAGGATATGGCA</th><td>1859</td><td>2038</td><td>2540</td><td>1065</td></tr>\n",
       "\t<tr><th scope=row>AATGGTAAGTTGCTGCTCAG</th><td> 961</td><td> 925</td><td>2061</td><td> 758</td></tr>\n",
       "\t<tr><th scope=row>TAAGCATGCGTGGTATCAAG</th><td>2257</td><td>1383</td><td>2558</td><td> 921</td></tr>\n",
       "\t<tr><th scope=row>GCTGGGAGGCGCTGGACGGC</th><td>1075</td><td>1102</td><td>1466</td><td> 847</td></tr>\n",
       "</tbody>\n",
       "</table>\n"
      ],
      "text/latex": [
       "A matrix: 6 × 4 of type int\n",
       "\\begin{tabular}{r|llll}\n",
       "  & DZ\\_Rep1 & DZ\\_Rep2 & Pos\\_Rep1 & Pos\\_Rep2\\\\\n",
       "\\hline\n",
       "\tTTATCTGCATACTTATACAG &  728 &  637 &  921 &  420\\\\\n",
       "\tTATGCTTTATCCACTCCGAC & 1016 & 1206 & 1754 &  733\\\\\n",
       "\tTGAAAGCATAGGATATGGCA & 1859 & 2038 & 2540 & 1065\\\\\n",
       "\tAATGGTAAGTTGCTGCTCAG &  961 &  925 & 2061 &  758\\\\\n",
       "\tTAAGCATGCGTGGTATCAAG & 2257 & 1383 & 2558 &  921\\\\\n",
       "\tGCTGGGAGGCGCTGGACGGC & 1075 & 1102 & 1466 &  847\\\\\n",
       "\\end{tabular}\n"
      ],
      "text/markdown": [
       "\n",
       "A matrix: 6 × 4 of type int\n",
       "\n",
       "| <!--/--> | DZ_Rep1 | DZ_Rep2 | Pos_Rep1 | Pos_Rep2 |\n",
       "|---|---|---|---|---|\n",
       "| TTATCTGCATACTTATACAG |  728 |  637 |  921 |  420 |\n",
       "| TATGCTTTATCCACTCCGAC | 1016 | 1206 | 1754 |  733 |\n",
       "| TGAAAGCATAGGATATGGCA | 1859 | 2038 | 2540 | 1065 |\n",
       "| AATGGTAAGTTGCTGCTCAG |  961 |  925 | 2061 |  758 |\n",
       "| TAAGCATGCGTGGTATCAAG | 2257 | 1383 | 2558 |  921 |\n",
       "| GCTGGGAGGCGCTGGACGGC | 1075 | 1102 | 1466 |  847 |\n",
       "\n"
      ],
      "text/plain": [
       "                     DZ_Rep1 DZ_Rep2 Pos_Rep1 Pos_Rep2\n",
       "TTATCTGCATACTTATACAG  728     637     921      420    \n",
       "TATGCTTTATCCACTCCGAC 1016    1206    1754      733    \n",
       "TGAAAGCATAGGATATGGCA 1859    2038    2540     1065    \n",
       "AATGGTAAGTTGCTGCTCAG  961     925    2061      758    \n",
       "TAAGCATGCGTGGTATCAAG 2257    1383    2558      921    \n",
       "GCTGGGAGGCGCTGGACGGC 1075    1102    1466      847    "
      ]
     },
     "metadata": {},
     "output_type": "display_data"
    }
   ],
   "source": [
    "fc_dz_cts <- cts_dz_filt[, c(1,2,3,4)]\n",
    "head(fc_dz_cts)"
   ]
  },
  {
   "cell_type": "code",
   "execution_count": 9,
   "metadata": {},
   "outputs": [
    {
     "data": {
      "text/html": [
       "<table>\n",
       "<caption>A matrix: 6 × 2 of type int</caption>\n",
       "<thead>\n",
       "\t<tr><th></th><th scope=col>Neg_Rep1</th><th scope=col>Pos_Rep1</th></tr>\n",
       "</thead>\n",
       "<tbody>\n",
       "\t<tr><th scope=row>TTATCTGCATACTTATACAG</th><td>   0</td><td> 921</td></tr>\n",
       "\t<tr><th scope=row>TATGCTTTATCCACTCCGAC</th><td> 660</td><td>1754</td></tr>\n",
       "\t<tr><th scope=row>TGAAAGCATAGGATATGGCA</th><td>1730</td><td>2540</td></tr>\n",
       "\t<tr><th scope=row>AATGGTAAGTTGCTGCTCAG</th><td>1471</td><td>2061</td></tr>\n",
       "\t<tr><th scope=row>TAAGCATGCGTGGTATCAAG</th><td>1250</td><td>2558</td></tr>\n",
       "\t<tr><th scope=row>GCTGGGAGGCGCTGGACGGC</th><td> 916</td><td>1466</td></tr>\n",
       "</tbody>\n",
       "</table>\n"
      ],
      "text/latex": [
       "A matrix: 6 × 2 of type int\n",
       "\\begin{tabular}{r|ll}\n",
       "  & Neg\\_Rep1 & Pos\\_Rep1\\\\\n",
       "\\hline\n",
       "\tTTATCTGCATACTTATACAG &    0 &  921\\\\\n",
       "\tTATGCTTTATCCACTCCGAC &  660 & 1754\\\\\n",
       "\tTGAAAGCATAGGATATGGCA & 1730 & 2540\\\\\n",
       "\tAATGGTAAGTTGCTGCTCAG & 1471 & 2061\\\\\n",
       "\tTAAGCATGCGTGGTATCAAG & 1250 & 2558\\\\\n",
       "\tGCTGGGAGGCGCTGGACGGC &  916 & 1466\\\\\n",
       "\\end{tabular}\n"
      ],
      "text/markdown": [
       "\n",
       "A matrix: 6 × 2 of type int\n",
       "\n",
       "| <!--/--> | Neg_Rep1 | Pos_Rep1 |\n",
       "|---|---|---|\n",
       "| TTATCTGCATACTTATACAG |    0 |  921 |\n",
       "| TATGCTTTATCCACTCCGAC |  660 | 1754 |\n",
       "| TGAAAGCATAGGATATGGCA | 1730 | 2540 |\n",
       "| AATGGTAAGTTGCTGCTCAG | 1471 | 2061 |\n",
       "| TAAGCATGCGTGGTATCAAG | 1250 | 2558 |\n",
       "| GCTGGGAGGCGCTGGACGGC |  916 | 1466 |\n",
       "\n"
      ],
      "text/plain": [
       "                     Neg_Rep1 Pos_Rep1\n",
       "TTATCTGCATACTTATACAG    0      921    \n",
       "TATGCTTTATCCACTCCGAC  660     1754    \n",
       "TGAAAGCATAGGATATGGCA 1730     2540    \n",
       "AATGGTAAGTTGCTGCTCAG 1471     2061    \n",
       "TAAGCATGCGTGGTATCAAG 1250     2558    \n",
       "GCTGGGAGGCGCTGGACGGC  916     1466    "
      ]
     },
     "metadata": {},
     "output_type": "display_data"
    }
   ],
   "source": [
    "fc_cts_rep1 <- cts[, c(5,3)]\n",
    "head(fc_cts_rep1)"
   ]
  },
  {
   "cell_type": "code",
   "execution_count": 10,
   "metadata": {},
   "outputs": [
    {
     "data": {
      "text/html": [
       "<table>\n",
       "<caption>A matrix: 6 × 2 of type int</caption>\n",
       "<thead>\n",
       "\t<tr><th></th><th scope=col>Neg_Rep2</th><th scope=col>Pos_Rep2</th></tr>\n",
       "</thead>\n",
       "<tbody>\n",
       "\t<tr><th scope=row>TTATCTGCATACTTATACAG</th><td> 524</td><td> 420</td></tr>\n",
       "\t<tr><th scope=row>TATGCTTTATCCACTCCGAC</th><td> 347</td><td> 733</td></tr>\n",
       "\t<tr><th scope=row>TGAAAGCATAGGATATGGCA</th><td>1004</td><td>1065</td></tr>\n",
       "\t<tr><th scope=row>AATGGTAAGTTGCTGCTCAG</th><td>1253</td><td> 758</td></tr>\n",
       "\t<tr><th scope=row>TAAGCATGCGTGGTATCAAG</th><td>   0</td><td> 921</td></tr>\n",
       "\t<tr><th scope=row>GCTGGGAGGCGCTGGACGGC</th><td> 664</td><td> 847</td></tr>\n",
       "</tbody>\n",
       "</table>\n"
      ],
      "text/latex": [
       "A matrix: 6 × 2 of type int\n",
       "\\begin{tabular}{r|ll}\n",
       "  & Neg\\_Rep2 & Pos\\_Rep2\\\\\n",
       "\\hline\n",
       "\tTTATCTGCATACTTATACAG &  524 &  420\\\\\n",
       "\tTATGCTTTATCCACTCCGAC &  347 &  733\\\\\n",
       "\tTGAAAGCATAGGATATGGCA & 1004 & 1065\\\\\n",
       "\tAATGGTAAGTTGCTGCTCAG & 1253 &  758\\\\\n",
       "\tTAAGCATGCGTGGTATCAAG &    0 &  921\\\\\n",
       "\tGCTGGGAGGCGCTGGACGGC &  664 &  847\\\\\n",
       "\\end{tabular}\n"
      ],
      "text/markdown": [
       "\n",
       "A matrix: 6 × 2 of type int\n",
       "\n",
       "| <!--/--> | Neg_Rep2 | Pos_Rep2 |\n",
       "|---|---|---|\n",
       "| TTATCTGCATACTTATACAG |  524 |  420 |\n",
       "| TATGCTTTATCCACTCCGAC |  347 |  733 |\n",
       "| TGAAAGCATAGGATATGGCA | 1004 | 1065 |\n",
       "| AATGGTAAGTTGCTGCTCAG | 1253 |  758 |\n",
       "| TAAGCATGCGTGGTATCAAG |    0 |  921 |\n",
       "| GCTGGGAGGCGCTGGACGGC |  664 |  847 |\n",
       "\n"
      ],
      "text/plain": [
       "                     Neg_Rep2 Pos_Rep2\n",
       "TTATCTGCATACTTATACAG  524      420    \n",
       "TATGCTTTATCCACTCCGAC  347      733    \n",
       "TGAAAGCATAGGATATGGCA 1004     1065    \n",
       "AATGGTAAGTTGCTGCTCAG 1253      758    \n",
       "TAAGCATGCGTGGTATCAAG    0      921    \n",
       "GCTGGGAGGCGCTGGACGGC  664      847    "
      ]
     },
     "metadata": {},
     "output_type": "display_data"
    }
   ],
   "source": [
    "fc_cts_rep2 <- cts[, c(6,4)]\n",
    "head(fc_cts_rep2)"
   ]
  },
  {
   "cell_type": "code",
   "execution_count": 11,
   "metadata": {},
   "outputs": [
    {
     "data": {
      "text/html": [
       "<table>\n",
       "<caption>A data.frame: 4 × 3</caption>\n",
       "<thead>\n",
       "\t<tr><th></th><th scope=col>condition</th><th scope=col>rep</th><th scope=col>time</th></tr>\n",
       "\t<tr><th></th><th scope=col>&lt;fct&gt;</th><th scope=col>&lt;fct&gt;</th><th scope=col>&lt;fct&gt;</th></tr>\n",
       "</thead>\n",
       "<tbody>\n",
       "\t<tr><th scope=row>Neg_Rep1</th><td>Neg</td><td>Rep1</td><td>late</td></tr>\n",
       "\t<tr><th scope=row>Neg_Rep2</th><td>Neg</td><td>Rep2</td><td>late</td></tr>\n",
       "\t<tr><th scope=row>Pos_Rep1</th><td>Pos</td><td>Rep1</td><td>late</td></tr>\n",
       "\t<tr><th scope=row>Pos_Rep2</th><td>Pos</td><td>Rep2</td><td>late</td></tr>\n",
       "</tbody>\n",
       "</table>\n"
      ],
      "text/latex": [
       "A data.frame: 4 × 3\n",
       "\\begin{tabular}{r|lll}\n",
       "  & condition & rep & time\\\\\n",
       "  & <fct> & <fct> & <fct>\\\\\n",
       "\\hline\n",
       "\tNeg\\_Rep1 & Neg & Rep1 & late\\\\\n",
       "\tNeg\\_Rep2 & Neg & Rep2 & late\\\\\n",
       "\tPos\\_Rep1 & Pos & Rep1 & late\\\\\n",
       "\tPos\\_Rep2 & Pos & Rep2 & late\\\\\n",
       "\\end{tabular}\n"
      ],
      "text/markdown": [
       "\n",
       "A data.frame: 4 × 3\n",
       "\n",
       "| <!--/--> | condition &lt;fct&gt; | rep &lt;fct&gt; | time &lt;fct&gt; |\n",
       "|---|---|---|---|\n",
       "| Neg_Rep1 | Neg | Rep1 | late |\n",
       "| Neg_Rep2 | Neg | Rep2 | late |\n",
       "| Pos_Rep1 | Pos | Rep1 | late |\n",
       "| Pos_Rep2 | Pos | Rep2 | late |\n",
       "\n"
      ],
      "text/plain": [
       "         condition rep  time\n",
       "Neg_Rep1 Neg       Rep1 late\n",
       "Neg_Rep2 Neg       Rep2 late\n",
       "Pos_Rep1 Pos       Rep1 late\n",
       "Pos_Rep2 Pos       Rep2 late"
      ]
     },
     "metadata": {},
     "output_type": "display_data"
    }
   ],
   "source": [
    "fc_cols <- cols[3:6, ]\n",
    "fc_cols <- fc_cols[c(3,4,1,2), ]\n",
    "fc_cols"
   ]
  },
  {
   "cell_type": "code",
   "execution_count": 12,
   "metadata": {},
   "outputs": [
    {
     "data": {
      "text/html": [
       "<table>\n",
       "<caption>A data.frame: 4 × 3</caption>\n",
       "<thead>\n",
       "\t<tr><th></th><th scope=col>condition</th><th scope=col>rep</th><th scope=col>time</th></tr>\n",
       "\t<tr><th></th><th scope=col>&lt;fct&gt;</th><th scope=col>&lt;fct&gt;</th><th scope=col>&lt;fct&gt;</th></tr>\n",
       "</thead>\n",
       "<tbody>\n",
       "\t<tr><th scope=row>DZ_Rep1</th><td>DZ </td><td>Rep1</td><td>initial</td></tr>\n",
       "\t<tr><th scope=row>DZ_Rep2</th><td>DZ </td><td>Rep2</td><td>initial</td></tr>\n",
       "\t<tr><th scope=row>Pos_Rep1</th><td>Pos</td><td>Rep1</td><td>late   </td></tr>\n",
       "\t<tr><th scope=row>Pos_Rep2</th><td>Pos</td><td>Rep2</td><td>late   </td></tr>\n",
       "</tbody>\n",
       "</table>\n"
      ],
      "text/latex": [
       "A data.frame: 4 × 3\n",
       "\\begin{tabular}{r|lll}\n",
       "  & condition & rep & time\\\\\n",
       "  & <fct> & <fct> & <fct>\\\\\n",
       "\\hline\n",
       "\tDZ\\_Rep1 & DZ  & Rep1 & initial\\\\\n",
       "\tDZ\\_Rep2 & DZ  & Rep2 & initial\\\\\n",
       "\tPos\\_Rep1 & Pos & Rep1 & late   \\\\\n",
       "\tPos\\_Rep2 & Pos & Rep2 & late   \\\\\n",
       "\\end{tabular}\n"
      ],
      "text/markdown": [
       "\n",
       "A data.frame: 4 × 3\n",
       "\n",
       "| <!--/--> | condition &lt;fct&gt; | rep &lt;fct&gt; | time &lt;fct&gt; |\n",
       "|---|---|---|---|\n",
       "| DZ_Rep1 | DZ  | Rep1 | initial |\n",
       "| DZ_Rep2 | DZ  | Rep2 | initial |\n",
       "| Pos_Rep1 | Pos | Rep1 | late    |\n",
       "| Pos_Rep2 | Pos | Rep2 | late    |\n",
       "\n"
      ],
      "text/plain": [
       "         condition rep  time   \n",
       "DZ_Rep1  DZ        Rep1 initial\n",
       "DZ_Rep2  DZ        Rep2 initial\n",
       "Pos_Rep1 Pos       Rep1 late   \n",
       "Pos_Rep2 Pos       Rep2 late   "
      ]
     },
     "metadata": {},
     "output_type": "display_data"
    }
   ],
   "source": [
    "fc_dz_cols <- cols[0:4, ]\n",
    "fc_dz_cols"
   ]
  },
  {
   "cell_type": "code",
   "execution_count": 13,
   "metadata": {},
   "outputs": [
    {
     "data": {
      "text/html": [
       "<table>\n",
       "<caption>A data.frame: 2 × 3</caption>\n",
       "<thead>\n",
       "\t<tr><th></th><th scope=col>condition</th><th scope=col>rep</th><th scope=col>time</th></tr>\n",
       "\t<tr><th></th><th scope=col>&lt;fct&gt;</th><th scope=col>&lt;fct&gt;</th><th scope=col>&lt;fct&gt;</th></tr>\n",
       "</thead>\n",
       "<tbody>\n",
       "\t<tr><th scope=row>Neg_Rep1</th><td>Neg</td><td>Rep1</td><td>late</td></tr>\n",
       "\t<tr><th scope=row>Pos_Rep1</th><td>Pos</td><td>Rep1</td><td>late</td></tr>\n",
       "</tbody>\n",
       "</table>\n"
      ],
      "text/latex": [
       "A data.frame: 2 × 3\n",
       "\\begin{tabular}{r|lll}\n",
       "  & condition & rep & time\\\\\n",
       "  & <fct> & <fct> & <fct>\\\\\n",
       "\\hline\n",
       "\tNeg\\_Rep1 & Neg & Rep1 & late\\\\\n",
       "\tPos\\_Rep1 & Pos & Rep1 & late\\\\\n",
       "\\end{tabular}\n"
      ],
      "text/markdown": [
       "\n",
       "A data.frame: 2 × 3\n",
       "\n",
       "| <!--/--> | condition &lt;fct&gt; | rep &lt;fct&gt; | time &lt;fct&gt; |\n",
       "|---|---|---|---|\n",
       "| Neg_Rep1 | Neg | Rep1 | late |\n",
       "| Pos_Rep1 | Pos | Rep1 | late |\n",
       "\n"
      ],
      "text/plain": [
       "         condition rep  time\n",
       "Neg_Rep1 Neg       Rep1 late\n",
       "Pos_Rep1 Pos       Rep1 late"
      ]
     },
     "metadata": {},
     "output_type": "display_data"
    }
   ],
   "source": [
    "fc_cols_rep1 <- fc_cols[c(1,3), ]\n",
    "fc_cols_rep1"
   ]
  },
  {
   "cell_type": "code",
   "execution_count": 14,
   "metadata": {},
   "outputs": [
    {
     "data": {
      "text/html": [
       "<table>\n",
       "<caption>A data.frame: 2 × 3</caption>\n",
       "<thead>\n",
       "\t<tr><th></th><th scope=col>condition</th><th scope=col>rep</th><th scope=col>time</th></tr>\n",
       "\t<tr><th></th><th scope=col>&lt;fct&gt;</th><th scope=col>&lt;fct&gt;</th><th scope=col>&lt;fct&gt;</th></tr>\n",
       "</thead>\n",
       "<tbody>\n",
       "\t<tr><th scope=row>Neg_Rep2</th><td>Neg</td><td>Rep2</td><td>late</td></tr>\n",
       "\t<tr><th scope=row>Pos_Rep2</th><td>Pos</td><td>Rep2</td><td>late</td></tr>\n",
       "</tbody>\n",
       "</table>\n"
      ],
      "text/latex": [
       "A data.frame: 2 × 3\n",
       "\\begin{tabular}{r|lll}\n",
       "  & condition & rep & time\\\\\n",
       "  & <fct> & <fct> & <fct>\\\\\n",
       "\\hline\n",
       "\tNeg\\_Rep2 & Neg & Rep2 & late\\\\\n",
       "\tPos\\_Rep2 & Pos & Rep2 & late\\\\\n",
       "\\end{tabular}\n"
      ],
      "text/markdown": [
       "\n",
       "A data.frame: 2 × 3\n",
       "\n",
       "| <!--/--> | condition &lt;fct&gt; | rep &lt;fct&gt; | time &lt;fct&gt; |\n",
       "|---|---|---|---|\n",
       "| Neg_Rep2 | Neg | Rep2 | late |\n",
       "| Pos_Rep2 | Pos | Rep2 | late |\n",
       "\n"
      ],
      "text/plain": [
       "         condition rep  time\n",
       "Neg_Rep2 Neg       Rep2 late\n",
       "Pos_Rep2 Pos       Rep2 late"
      ]
     },
     "metadata": {},
     "output_type": "display_data"
    }
   ],
   "source": [
    "fc_cols_rep2 <- fc_cols[c(2,4), ]\n",
    "fc_cols_rep2"
   ]
  },
  {
   "cell_type": "markdown",
   "metadata": {},
   "source": [
    "## 2. DESeq2"
   ]
  },
  {
   "cell_type": "code",
   "execution_count": 15,
   "metadata": {},
   "outputs": [],
   "source": [
    "dds <- DESeqDataSetFromMatrix(countData = cts,\n",
    "                              colData = cols,\n",
    "                              design = ~ condition + rep)"
   ]
  },
  {
   "cell_type": "code",
   "execution_count": 16,
   "metadata": {},
   "outputs": [],
   "source": [
    "dds <- estimateSizeFactors(dds)"
   ]
  },
  {
   "cell_type": "code",
   "execution_count": 17,
   "metadata": {},
   "outputs": [
    {
     "data": {
      "text/html": [
       "<table>\n",
       "<caption>A matrix: 6 × 6 of type dbl</caption>\n",
       "<thead>\n",
       "\t<tr><th></th><th scope=col>DZ_Rep1</th><th scope=col>DZ_Rep2</th><th scope=col>Pos_Rep1</th><th scope=col>Pos_Rep2</th><th scope=col>Neg_Rep1</th><th scope=col>Neg_Rep2</th></tr>\n",
       "</thead>\n",
       "<tbody>\n",
       "\t<tr><th scope=row>TTATCTGCATACTTATACAG</th><td> 704.2718</td><td> 586.4672</td><td> 563.0922</td><td> 561.5087</td><td>   0.0000</td><td> 541.6455</td></tr>\n",
       "\t<tr><th scope=row>TATGCTTTATCCACTCCGAC</th><td> 982.8848</td><td>1110.3288</td><td>1072.3819</td><td> 979.9664</td><td> 653.5782</td><td> 358.6851</td></tr>\n",
       "\t<tr><th scope=row>TGAAAGCATAGGATATGGCA</th><td>1798.4084</td><td>1876.3267</td><td>1552.9362</td><td>1423.8257</td><td>1713.1671</td><td>1037.8093</td></tr>\n",
       "\t<tr><th scope=row>AATGGTAAGTTGCTGCTCAG</th><td> 929.6775</td><td> 851.6203</td><td>1260.0794</td><td>1013.3896</td><td>1456.6872</td><td>1295.1943</td></tr>\n",
       "\t<tr><th scope=row>TAAGCATGCGTGGTATCAAG</th><td>2183.4361</td><td>1273.2875</td><td>1563.9413</td><td>1231.3085</td><td>1237.8375</td><td>   0.0000</td></tr>\n",
       "\t<tr><th scope=row>GCTGGGAGGCGCTGGACGGC</th><td>1039.9618</td><td>1014.5790</td><td> 896.3010</td><td>1132.3760</td><td> 907.0873</td><td> 686.3599</td></tr>\n",
       "</tbody>\n",
       "</table>\n"
      ],
      "text/latex": [
       "A matrix: 6 × 6 of type dbl\n",
       "\\begin{tabular}{r|llllll}\n",
       "  & DZ\\_Rep1 & DZ\\_Rep2 & Pos\\_Rep1 & Pos\\_Rep2 & Neg\\_Rep1 & Neg\\_Rep2\\\\\n",
       "\\hline\n",
       "\tTTATCTGCATACTTATACAG &  704.2718 &  586.4672 &  563.0922 &  561.5087 &    0.0000 &  541.6455\\\\\n",
       "\tTATGCTTTATCCACTCCGAC &  982.8848 & 1110.3288 & 1072.3819 &  979.9664 &  653.5782 &  358.6851\\\\\n",
       "\tTGAAAGCATAGGATATGGCA & 1798.4084 & 1876.3267 & 1552.9362 & 1423.8257 & 1713.1671 & 1037.8093\\\\\n",
       "\tAATGGTAAGTTGCTGCTCAG &  929.6775 &  851.6203 & 1260.0794 & 1013.3896 & 1456.6872 & 1295.1943\\\\\n",
       "\tTAAGCATGCGTGGTATCAAG & 2183.4361 & 1273.2875 & 1563.9413 & 1231.3085 & 1237.8375 &    0.0000\\\\\n",
       "\tGCTGGGAGGCGCTGGACGGC & 1039.9618 & 1014.5790 &  896.3010 & 1132.3760 &  907.0873 &  686.3599\\\\\n",
       "\\end{tabular}\n"
      ],
      "text/markdown": [
       "\n",
       "A matrix: 6 × 6 of type dbl\n",
       "\n",
       "| <!--/--> | DZ_Rep1 | DZ_Rep2 | Pos_Rep1 | Pos_Rep2 | Neg_Rep1 | Neg_Rep2 |\n",
       "|---|---|---|---|---|---|---|\n",
       "| TTATCTGCATACTTATACAG |  704.2718 |  586.4672 |  563.0922 |  561.5087 |    0.0000 |  541.6455 |\n",
       "| TATGCTTTATCCACTCCGAC |  982.8848 | 1110.3288 | 1072.3819 |  979.9664 |  653.5782 |  358.6851 |\n",
       "| TGAAAGCATAGGATATGGCA | 1798.4084 | 1876.3267 | 1552.9362 | 1423.8257 | 1713.1671 | 1037.8093 |\n",
       "| AATGGTAAGTTGCTGCTCAG |  929.6775 |  851.6203 | 1260.0794 | 1013.3896 | 1456.6872 | 1295.1943 |\n",
       "| TAAGCATGCGTGGTATCAAG | 2183.4361 | 1273.2875 | 1563.9413 | 1231.3085 | 1237.8375 |    0.0000 |\n",
       "| GCTGGGAGGCGCTGGACGGC | 1039.9618 | 1014.5790 |  896.3010 | 1132.3760 |  907.0873 |  686.3599 |\n",
       "\n"
      ],
      "text/plain": [
       "                     DZ_Rep1   DZ_Rep2   Pos_Rep1  Pos_Rep2  Neg_Rep1 \n",
       "TTATCTGCATACTTATACAG  704.2718  586.4672  563.0922  561.5087    0.0000\n",
       "TATGCTTTATCCACTCCGAC  982.8848 1110.3288 1072.3819  979.9664  653.5782\n",
       "TGAAAGCATAGGATATGGCA 1798.4084 1876.3267 1552.9362 1423.8257 1713.1671\n",
       "AATGGTAAGTTGCTGCTCAG  929.6775  851.6203 1260.0794 1013.3896 1456.6872\n",
       "TAAGCATGCGTGGTATCAAG 2183.4361 1273.2875 1563.9413 1231.3085 1237.8375\n",
       "GCTGGGAGGCGCTGGACGGC 1039.9618 1014.5790  896.3010 1132.3760  907.0873\n",
       "                     Neg_Rep2 \n",
       "TTATCTGCATACTTATACAG  541.6455\n",
       "TATGCTTTATCCACTCCGAC  358.6851\n",
       "TGAAAGCATAGGATATGGCA 1037.8093\n",
       "AATGGTAAGTTGCTGCTCAG 1295.1943\n",
       "TAAGCATGCGTGGTATCAAG    0.0000\n",
       "GCTGGGAGGCGCTGGACGGC  686.3599"
      ]
     },
     "metadata": {},
     "output_type": "display_data"
    }
   ],
   "source": [
    "norm_cts <- counts(dds, normalized=TRUE)\n",
    "head(norm_cts)"
   ]
  },
  {
   "cell_type": "code",
   "execution_count": 18,
   "metadata": {},
   "outputs": [
    {
     "name": "stderr",
     "output_type": "stream",
     "text": [
      "-- note: fitType='parametric', but the dispersion trend was not well captured by the\n",
      "   function: y = a/x + b, and a local regression fit was automatically substituted.\n",
      "   specify fitType='local' or 'mean' to avoid this message next time.\n",
      "\n"
     ]
    },
    {
     "data": {
      "text/html": [
       "<table>\n",
       "<caption>A matrix: 6 × 6 of type dbl</caption>\n",
       "<thead>\n",
       "\t<tr><th></th><th scope=col>DZ_Rep1</th><th scope=col>DZ_Rep2</th><th scope=col>Pos_Rep1</th><th scope=col>Pos_Rep2</th><th scope=col>Neg_Rep1</th><th scope=col>Neg_Rep2</th></tr>\n",
       "</thead>\n",
       "<tbody>\n",
       "\t<tr><th scope=row>TTATCTGCATACTTATACAG</th><td>10.28074</td><td>10.20942</td><td>10.19445</td><td>10.19342</td><td> 8.179329</td><td>10.180377</td></tr>\n",
       "\t<tr><th scope=row>TATGCTTTATCCACTCCGAC</th><td>10.43807</td><td>10.51012</td><td>10.48850</td><td>10.43643</td><td>10.250736</td><td>10.038638</td></tr>\n",
       "\t<tr><th scope=row>TGAAAGCATAGGATATGGCA</th><td>10.91780</td><td>10.96297</td><td>10.77196</td><td>10.69434</td><td>10.867699</td><td>10.468938</td></tr>\n",
       "\t<tr><th scope=row>AATGGTAAGTTGCTGCTCAG</th><td>10.40833</td><td>10.36470</td><td>10.59696</td><td>10.45519</td><td>10.714068</td><td>10.617665</td></tr>\n",
       "\t<tr><th scope=row>TAAGCATGCGTGGTATCAAG</th><td>11.13464</td><td>10.60473</td><td>10.77857</td><td>10.58009</td><td>10.583908</td><td> 8.179329</td></tr>\n",
       "\t<tr><th scope=row>GCTGGGAGGCGCTGGACGGC</th><td>10.47015</td><td>10.45585</td><td>10.38969</td><td>10.52275</td><td>10.395718</td><td>10.270231</td></tr>\n",
       "</tbody>\n",
       "</table>\n"
      ],
      "text/latex": [
       "A matrix: 6 × 6 of type dbl\n",
       "\\begin{tabular}{r|llllll}\n",
       "  & DZ\\_Rep1 & DZ\\_Rep2 & Pos\\_Rep1 & Pos\\_Rep2 & Neg\\_Rep1 & Neg\\_Rep2\\\\\n",
       "\\hline\n",
       "\tTTATCTGCATACTTATACAG & 10.28074 & 10.20942 & 10.19445 & 10.19342 &  8.179329 & 10.180377\\\\\n",
       "\tTATGCTTTATCCACTCCGAC & 10.43807 & 10.51012 & 10.48850 & 10.43643 & 10.250736 & 10.038638\\\\\n",
       "\tTGAAAGCATAGGATATGGCA & 10.91780 & 10.96297 & 10.77196 & 10.69434 & 10.867699 & 10.468938\\\\\n",
       "\tAATGGTAAGTTGCTGCTCAG & 10.40833 & 10.36470 & 10.59696 & 10.45519 & 10.714068 & 10.617665\\\\\n",
       "\tTAAGCATGCGTGGTATCAAG & 11.13464 & 10.60473 & 10.77857 & 10.58009 & 10.583908 &  8.179329\\\\\n",
       "\tGCTGGGAGGCGCTGGACGGC & 10.47015 & 10.45585 & 10.38969 & 10.52275 & 10.395718 & 10.270231\\\\\n",
       "\\end{tabular}\n"
      ],
      "text/markdown": [
       "\n",
       "A matrix: 6 × 6 of type dbl\n",
       "\n",
       "| <!--/--> | DZ_Rep1 | DZ_Rep2 | Pos_Rep1 | Pos_Rep2 | Neg_Rep1 | Neg_Rep2 |\n",
       "|---|---|---|---|---|---|---|\n",
       "| TTATCTGCATACTTATACAG | 10.28074 | 10.20942 | 10.19445 | 10.19342 |  8.179329 | 10.180377 |\n",
       "| TATGCTTTATCCACTCCGAC | 10.43807 | 10.51012 | 10.48850 | 10.43643 | 10.250736 | 10.038638 |\n",
       "| TGAAAGCATAGGATATGGCA | 10.91780 | 10.96297 | 10.77196 | 10.69434 | 10.867699 | 10.468938 |\n",
       "| AATGGTAAGTTGCTGCTCAG | 10.40833 | 10.36470 | 10.59696 | 10.45519 | 10.714068 | 10.617665 |\n",
       "| TAAGCATGCGTGGTATCAAG | 11.13464 | 10.60473 | 10.77857 | 10.58009 | 10.583908 |  8.179329 |\n",
       "| GCTGGGAGGCGCTGGACGGC | 10.47015 | 10.45585 | 10.38969 | 10.52275 | 10.395718 | 10.270231 |\n",
       "\n"
      ],
      "text/plain": [
       "                     DZ_Rep1  DZ_Rep2  Pos_Rep1 Pos_Rep2 Neg_Rep1  Neg_Rep2 \n",
       "TTATCTGCATACTTATACAG 10.28074 10.20942 10.19445 10.19342  8.179329 10.180377\n",
       "TATGCTTTATCCACTCCGAC 10.43807 10.51012 10.48850 10.43643 10.250736 10.038638\n",
       "TGAAAGCATAGGATATGGCA 10.91780 10.96297 10.77196 10.69434 10.867699 10.468938\n",
       "AATGGTAAGTTGCTGCTCAG 10.40833 10.36470 10.59696 10.45519 10.714068 10.617665\n",
       "TAAGCATGCGTGGTATCAAG 11.13464 10.60473 10.77857 10.58009 10.583908  8.179329\n",
       "GCTGGGAGGCGCTGGACGGC 10.47015 10.45585 10.38969 10.52275 10.395718 10.270231"
      ]
     },
     "metadata": {},
     "output_type": "display_data"
    }
   ],
   "source": [
    "vsd <- vst(dds, blind=FALSE)\n",
    "head(assay(vsd))"
   ]
  },
  {
   "cell_type": "code",
   "execution_count": 19,
   "metadata": {},
   "outputs": [],
   "source": [
    "g1 <- plotPCA(vsd, ntop=100, intgroup=c(\"condition\", \"rep\"))"
   ]
  },
  {
   "cell_type": "code",
   "execution_count": 20,
   "metadata": {},
   "outputs": [],
   "source": [
    "mat <- assay(vsd)\n",
    "mat <- limma::removeBatchEffect(mat, vsd$rep)\n",
    "assay(vsd) <- mat"
   ]
  },
  {
   "cell_type": "code",
   "execution_count": 21,
   "metadata": {},
   "outputs": [],
   "source": [
    "g2 <- plotPCA(vsd, ntop=100, intgroup=c(\"condition\", \"rep\"))"
   ]
  },
  {
   "cell_type": "code",
   "execution_count": 22,
   "metadata": {},
   "outputs": [],
   "source": [
    "g1grob <- ggplotGrob(g1)\n",
    "g2grob <- ggplotGrob(g2)"
   ]
  },
  {
   "cell_type": "code",
   "execution_count": 23,
   "metadata": {},
   "outputs": [
    {
     "data": {
      "text/html": [
       "<strong>png:</strong> 2"
      ],
      "text/latex": [
       "\\textbf{png:} 2"
      ],
      "text/markdown": [
       "**png:** 2"
      ],
      "text/plain": [
       "png \n",
       "  2 "
      ]
     },
     "metadata": {},
     "output_type": "display_data"
    }
   ],
   "source": [
    "pdf(\"FigS5G.pdf\", height = 4, width = 6)\n",
    "grid::grid.draw(cbind(g1grob, g2grob, size = \"first\"))\n",
    "dev.off()"
   ]
  },
  {
   "cell_type": "code",
   "execution_count": 24,
   "metadata": {},
   "outputs": [],
   "source": [
    "dds <- estimateSizeFactors(dds)"
   ]
  },
  {
   "cell_type": "code",
   "execution_count": 25,
   "metadata": {},
   "outputs": [
    {
     "name": "stderr",
     "output_type": "stream",
     "text": [
      "factor levels were dropped which had no samples\n",
      "\n"
     ]
    }
   ],
   "source": [
    "dds <- DESeqDataSetFromMatrix(countData = fc_cts,\n",
    "                              colData = fc_cols,\n",
    "                              design = ~ rep + condition)"
   ]
  },
  {
   "cell_type": "code",
   "execution_count": 26,
   "metadata": {},
   "outputs": [
    {
     "name": "stderr",
     "output_type": "stream",
     "text": [
      "estimating size factors\n",
      "\n",
      "estimating dispersions\n",
      "\n",
      "gene-wise dispersion estimates\n",
      "\n",
      "mean-dispersion relationship\n",
      "\n",
      "-- note: fitType='parametric', but the dispersion trend was not well captured by the\n",
      "   function: y = a/x + b, and a local regression fit was automatically substituted.\n",
      "   specify fitType='local' or 'mean' to avoid this message next time.\n",
      "\n",
      "final dispersion estimates\n",
      "\n",
      "fitting model and testing\n",
      "\n"
     ]
    }
   ],
   "source": [
    "dds <- DESeq(dds)"
   ]
  },
  {
   "cell_type": "code",
   "execution_count": 27,
   "metadata": {},
   "outputs": [
    {
     "data": {
      "text/plain": [
       "log2 fold change (MLE): condition Pos vs Neg \n",
       "Wald test p-value: condition Pos vs Neg \n",
       "DataFrame with 6 rows and 6 columns\n",
       "                      baseMean log2FoldChange     lfcSE      stat    pvalue\n",
       "                     <numeric>      <numeric> <numeric> <numeric> <numeric>\n",
       "TTATCTGCATACTTATACAG   412.256       5.664040  3.049280  1.857501 0.0632399\n",
       "TATGCTTTATCCACTCCGAC   758.031       1.070549  0.839017  1.275956 0.2019712\n",
       "TGAAAGCATAGGATATGGCA  1418.357       0.145629  0.504865  0.288451 0.7730016\n",
       "AATGGTAAGTTGCTGCTCAG  1245.174      -0.292510  0.503902 -0.580490 0.5615841\n",
       "TAAGCATGCGTGGTATCAAG   997.275       6.039779  2.473113  2.442177 0.0145990\n",
       "GCTGGGAGGCGCTGGACGGC   896.654       0.341134  0.733941  0.464797 0.6420765\n",
       "                          padj\n",
       "                     <numeric>\n",
       "TTATCTGCATACTTATACAG  0.200661\n",
       "TATGCTTTATCCACTCCGAC  0.383558\n",
       "TGAAAGCATAGGATATGGCA  0.873424\n",
       "AATGGTAAGTTGCTGCTCAG  0.726077\n",
       "TAAGCATGCGTGGTATCAAG  0.101322\n",
       "GCTGGGAGGCGCTGGACGGC  0.785614"
      ]
     },
     "metadata": {},
     "output_type": "display_data"
    }
   ],
   "source": [
    "res <- results(dds)\n",
    "head(res)"
   ]
  },
  {
   "cell_type": "code",
   "execution_count": 28,
   "metadata": {},
   "outputs": [
    {
     "data": {
      "image/png": "[encoded data removed]",
      "text/plain": [
       "Plot with title “”"
      ]
     },
     "metadata": {
      "image/png": {
       "height": 420,
       "width": 420
      }
     },
     "output_type": "display_data"
    }
   ],
   "source": [
    "plotMA(res)"
   ]
  },
  {
   "cell_type": "markdown",
   "metadata": {},
   "source": [
    "## 3. write results"
   ]
  },
  {
   "cell_type": "code",
   "execution_count": 29,
   "metadata": {},
   "outputs": [],
   "source": [
    "write.table(res, file = \"../../../data/02__screen/01__normalized_counts/l2fcs.DESeq2.with_batch.txt\", \n",
    "            sep = \"\\t\", quote = FALSE)"
   ]
  },
  {
   "cell_type": "code",
   "execution_count": 30,
   "metadata": {},
   "outputs": [],
   "source": [
    "write.table(assay(vsd), file = \"../../../data/02__screen/01__normalized_counts/vsd.counts.with_batch.txt\", sep=\"\\t\", quote=FALSE)"
   ]
  },
  {
   "cell_type": "markdown",
   "metadata": {},
   "source": [
    "## try day zero method suggested by scott"
   ]
  },
  {
   "cell_type": "code",
   "execution_count": 31,
   "metadata": {},
   "outputs": [
    {
     "name": "stderr",
     "output_type": "stream",
     "text": [
      "factor levels were dropped which had no samples\n",
      "\n"
     ]
    }
   ],
   "source": [
    "dds <- DESeqDataSetFromMatrix(countData = fc_dz_cts,\n",
    "                              colData = fc_dz_cols,\n",
    "                              design = ~ rep + condition)"
   ]
  },
  {
   "cell_type": "code",
   "execution_count": 32,
   "metadata": {},
   "outputs": [
    {
     "name": "stderr",
     "output_type": "stream",
     "text": [
      "estimating size factors\n",
      "\n",
      "estimating dispersions\n",
      "\n",
      "gene-wise dispersion estimates\n",
      "\n",
      "mean-dispersion relationship\n",
      "\n",
      "-- note: fitType='parametric', but the dispersion trend was not well captured by the\n",
      "   function: y = a/x + b, and a local regression fit was automatically substituted.\n",
      "   specify fitType='local' or 'mean' to avoid this message next time.\n",
      "\n",
      "final dispersion estimates\n",
      "\n",
      "fitting model and testing\n",
      "\n"
     ]
    }
   ],
   "source": [
    "dds <- DESeq(dds)"
   ]
  },
  {
   "cell_type": "code",
   "execution_count": 33,
   "metadata": {},
   "outputs": [
    {
     "data": {
      "text/plain": [
       "log2 fold change (MLE): condition Pos vs DZ \n",
       "Wald test p-value: condition Pos vs DZ \n",
       "DataFrame with 6 rows and 6 columns\n",
       "                      baseMean log2FoldChange     lfcSE       stat    pvalue\n",
       "                     <numeric>      <numeric> <numeric>  <numeric> <numeric>\n",
       "TTATCTGCATACTTATACAG   649.951    -0.16081609  0.292766 -0.5492982 0.5828008\n",
       "TATGCTTTATCCACTCCGAC  1116.370     0.00682675  0.231030  0.0295491 0.9764266\n",
       "TGAAAGCATAGGATATGGCA  1789.218    -0.27108804  0.181299 -1.4952528 0.1348485\n",
       "AATGGTAAGTTGCTGCTCAG  1093.517     0.37873235  0.229156  1.6527304 0.0983857\n",
       "TAAGCATGCGTGGTATCAAG  1681.510    -0.23454800  0.199008 -1.1785868 0.2385628\n",
       "GCTGGGAGGCGCTGGACGGC  1099.595     0.00427455  0.235435  0.0181559 0.9855145\n",
       "                          padj\n",
       "                     <numeric>\n",
       "TTATCTGCATACTTATACAG  0.843282\n",
       "TATGCTTTATCCACTCCGAC  0.993275\n",
       "TGAAAGCATAGGATATGGCA  0.470467\n",
       "AATGGTAAGTTGCTGCTCAG  0.407817\n",
       "TAAGCATGCGTGGTATCAAG  0.599994\n",
       "GCTGGGAGGCGCTGGACGGC  0.995835"
      ]
     },
     "metadata": {},
     "output_type": "display_data"
    }
   ],
   "source": [
    "res <- results(dds)\n",
    "head(res)"
   ]
  },
  {
   "cell_type": "code",
   "execution_count": 34,
   "metadata": {},
   "outputs": [
    {
     "data": {
      "image/png": "[encoded data removed]",
      "text/plain": [
       "Plot with title “”"
      ]
     },
     "metadata": {
      "image/png": {
       "height": 420,
       "width": 420
      }
     },
     "output_type": "display_data"
    }
   ],
   "source": [
    "plotMA(res)"
   ]
  },
  {
   "cell_type": "code",
   "execution_count": 35,
   "metadata": {},
   "outputs": [],
   "source": [
    "write.table(res, file = \"../../../data/02__screen/01__normalized_counts/DZ_l2fcs.DESeq2.with_batch.txt\", \n",
    "            sep = \"\\t\", quote = FALSE)"
   ]
  },
  {
   "cell_type": "code",
   "execution_count": null,
   "metadata": {},
   "outputs": [],
   "source": []
  }
 ],
 "metadata": {
  "kernelspec": {
   "display_name": "R (4.0, upbm)",
   "language": "R",
   "name": "ir"
  },
  "language_info": {
   "codemirror_mode": "r",
   "file_extension": ".r",
   "mimetype": "text/x-r-source",
   "name": "R",
   "pygments_lexer": "r",
   "version": "4.0.2"
  }
 },
 "nbformat": 4,
 "nbformat_minor": 2
}
