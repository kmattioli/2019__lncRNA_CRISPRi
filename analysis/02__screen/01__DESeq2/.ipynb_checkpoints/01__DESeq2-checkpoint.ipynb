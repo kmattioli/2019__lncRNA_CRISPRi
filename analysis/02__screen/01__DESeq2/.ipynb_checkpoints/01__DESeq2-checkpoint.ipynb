{
 "cells": [
  {
   "cell_type": "markdown",
   "metadata": {},
   "source": [
    "# 01__DESeq2\n",
    "\n",
    "in this notebook, i run the raw counts for the differentiated/undifferentiated populations through DESeq2 to get a l2fc for each sgRNA in the library"
   ]
  },
  {
   "cell_type": "code",
   "execution_count": 1,
   "metadata": {},
   "outputs": [],
   "source": [
    "# if (!requireNamespace(\"BiocManager\", quietly = TRUE))\n",
    "#     install.packages(\"BiocManager\")"
   ]
  },
  {
   "cell_type": "code",
   "execution_count": 2,
   "metadata": {},
   "outputs": [],
   "source": [
    "# BiocManager::install(\"DESeq2\")"
   ]
  },
  {
   "cell_type": "code",
   "execution_count": 3,
   "metadata": {},
   "outputs": [],
   "source": [
    "suppressMessages(library(\"DESeq2\"))"
   ]
  },
  {
   "cell_type": "markdown",
   "metadata": {},
   "source": [
    "## 1. import data"
   ]
  },
  {
   "cell_type": "code",
   "execution_count": 4,
   "metadata": {},
   "outputs": [
    {
     "data": {
      "text/html": [
       "<table>\n",
       "<thead><tr><th></th><th scope=col>DZ_Rep1</th><th scope=col>DZ_Rep2</th><th scope=col>Pos_Rep1</th><th scope=col>Pos_Rep2</th><th scope=col>Neg_Rep1</th><th scope=col>Neg_Rep2</th></tr></thead>\n",
       "<tbody>\n",
       "\t<tr><th scope=row>TTATCTGCATACTTATACAG</th><td> 728</td><td> 637</td><td> 921</td><td> 420</td><td>   0</td><td> 524</td></tr>\n",
       "\t<tr><th scope=row>TATGCTTTATCCACTCCGAC</th><td>1016</td><td>1206</td><td>1754</td><td> 733</td><td> 660</td><td> 347</td></tr>\n",
       "\t<tr><th scope=row>TGAAAGCATAGGATATGGCA</th><td>1859</td><td>2038</td><td>2540</td><td>1065</td><td>1730</td><td>1004</td></tr>\n",
       "\t<tr><th scope=row>AATGGTAAGTTGCTGCTCAG</th><td> 961</td><td> 925</td><td>2061</td><td> 758</td><td>1471</td><td>1253</td></tr>\n",
       "\t<tr><th scope=row>TAAGCATGCGTGGTATCAAG</th><td>2257</td><td>1383</td><td>2558</td><td> 921</td><td>1250</td><td>   0</td></tr>\n",
       "\t<tr><th scope=row>GCTGGGAGGCGCTGGACGGC</th><td>1075</td><td>1102</td><td>1466</td><td> 847</td><td> 916</td><td> 664</td></tr>\n",
       "</tbody>\n",
       "</table>\n"
      ],
      "text/latex": [
       "\\begin{tabular}{r|llllll}\n",
       "  & DZ\\_Rep1 & DZ\\_Rep2 & Pos\\_Rep1 & Pos\\_Rep2 & Neg\\_Rep1 & Neg\\_Rep2\\\\\n",
       "\\hline\n",
       "\tTTATCTGCATACTTATACAG &  728 &  637 &  921 &  420 &    0 &  524\\\\\n",
       "\tTATGCTTTATCCACTCCGAC & 1016 & 1206 & 1754 &  733 &  660 &  347\\\\\n",
       "\tTGAAAGCATAGGATATGGCA & 1859 & 2038 & 2540 & 1065 & 1730 & 1004\\\\\n",
       "\tAATGGTAAGTTGCTGCTCAG &  961 &  925 & 2061 &  758 & 1471 & 1253\\\\\n",
       "\tTAAGCATGCGTGGTATCAAG & 2257 & 1383 & 2558 &  921 & 1250 &    0\\\\\n",
       "\tGCTGGGAGGCGCTGGACGGC & 1075 & 1102 & 1466 &  847 &  916 &  664\\\\\n",
       "\\end{tabular}\n"
      ],
      "text/markdown": [
       "\n",
       "| <!--/--> | DZ_Rep1 | DZ_Rep2 | Pos_Rep1 | Pos_Rep2 | Neg_Rep1 | Neg_Rep2 |\n",
       "|---|---|---|---|---|---|---|\n",
       "| TTATCTGCATACTTATACAG |  728 |  637 |  921 |  420 |    0 |  524 |\n",
       "| TATGCTTTATCCACTCCGAC | 1016 | 1206 | 1754 |  733 |  660 |  347 |\n",
       "| TGAAAGCATAGGATATGGCA | 1859 | 2038 | 2540 | 1065 | 1730 | 1004 |\n",
       "| AATGGTAAGTTGCTGCTCAG |  961 |  925 | 2061 |  758 | 1471 | 1253 |\n",
       "| TAAGCATGCGTGGTATCAAG | 2257 | 1383 | 2558 |  921 | 1250 |    0 |\n",
       "| GCTGGGAGGCGCTGGACGGC | 1075 | 1102 | 1466 |  847 |  916 |  664 |\n",
       "\n"
      ],
      "text/plain": [
       "                     DZ_Rep1 DZ_Rep2 Pos_Rep1 Pos_Rep2 Neg_Rep1 Neg_Rep2\n",
       "TTATCTGCATACTTATACAG  728     637     921      420        0      524    \n",
       "TATGCTTTATCCACTCCGAC 1016    1206    1754      733      660      347    \n",
       "TGAAAGCATAGGATATGGCA 1859    2038    2540     1065     1730     1004    \n",
       "AATGGTAAGTTGCTGCTCAG  961     925    2061      758     1471     1253    \n",
       "TAAGCATGCGTGGTATCAAG 2257    1383    2558      921     1250        0    \n",
       "GCTGGGAGGCGCTGGACGGC 1075    1102    1466      847      916      664    "
      ]
     },
     "metadata": {},
     "output_type": "display_data"
    }
   ],
   "source": [
    "cts <- read.csv(\"../../../data/02__screen/00__counts/Biol_Reps.sgRNA_counts.txt\", sep=\"\\t\", row.names=\"sgRNA\")\n",
    "cts <- as.matrix(cts)\n",
    "head(cts)"
   ]
  },
  {
   "cell_type": "code",
   "execution_count": 5,
   "metadata": {},
   "outputs": [
    {
     "data": {
      "text/html": [
       "<table>\n",
       "<thead><tr><th></th><th scope=col>condition</th><th scope=col>rep</th><th scope=col>time</th></tr></thead>\n",
       "<tbody>\n",
       "\t<tr><th scope=row>DZ_Rep1</th><td>DZ     </td><td>Rep1   </td><td>initial</td></tr>\n",
       "\t<tr><th scope=row>DZ_Rep2</th><td>DZ     </td><td>Rep2   </td><td>initial</td></tr>\n",
       "\t<tr><th scope=row>Pos_Rep1</th><td>Pos    </td><td>Rep1   </td><td>late   </td></tr>\n",
       "\t<tr><th scope=row>Pos_Rep2</th><td>Pos    </td><td>Rep2   </td><td>late   </td></tr>\n",
       "\t<tr><th scope=row>Neg_Rep1</th><td>Neg    </td><td>Rep1   </td><td>late   </td></tr>\n",
       "\t<tr><th scope=row>Neg_Rep2</th><td>Neg    </td><td>Rep2   </td><td>late   </td></tr>\n",
       "</tbody>\n",
       "</table>\n"
      ],
      "text/latex": [
       "\\begin{tabular}{r|lll}\n",
       "  & condition & rep & time\\\\\n",
       "\\hline\n",
       "\tDZ\\_Rep1 & DZ      & Rep1    & initial\\\\\n",
       "\tDZ\\_Rep2 & DZ      & Rep2    & initial\\\\\n",
       "\tPos\\_Rep1 & Pos     & Rep1    & late   \\\\\n",
       "\tPos\\_Rep2 & Pos     & Rep2    & late   \\\\\n",
       "\tNeg\\_Rep1 & Neg     & Rep1    & late   \\\\\n",
       "\tNeg\\_Rep2 & Neg     & Rep2    & late   \\\\\n",
       "\\end{tabular}\n"
      ],
      "text/markdown": [
       "\n",
       "| <!--/--> | condition | rep | time |\n",
       "|---|---|---|---|\n",
       "| DZ_Rep1 | DZ      | Rep1    | initial |\n",
       "| DZ_Rep2 | DZ      | Rep2    | initial |\n",
       "| Pos_Rep1 | Pos     | Rep1    | late    |\n",
       "| Pos_Rep2 | Pos     | Rep2    | late    |\n",
       "| Neg_Rep1 | Neg     | Rep1    | late    |\n",
       "| Neg_Rep2 | Neg     | Rep2    | late    |\n",
       "\n"
      ],
      "text/plain": [
       "         condition rep  time   \n",
       "DZ_Rep1  DZ        Rep1 initial\n",
       "DZ_Rep2  DZ        Rep2 initial\n",
       "Pos_Rep1 Pos       Rep1 late   \n",
       "Pos_Rep2 Pos       Rep2 late   \n",
       "Neg_Rep1 Neg       Rep1 late   \n",
       "Neg_Rep2 Neg       Rep2 late   "
      ]
     },
     "metadata": {},
     "output_type": "display_data"
    }
   ],
   "source": [
    "cols <- read.csv(\"../../../data/02__screen/01__normalized_counts/col_info.txt\", sep=\"\\t\", row.names=\"column\")\n",
    "cols$condition <- as.factor(cols$condition)\n",
    "cols$rep <- as.factor(cols$rep)\n",
    "cols$time <- as.factor(cols$time)\n",
    "head(cols)"
   ]
  },
  {
   "cell_type": "code",
   "execution_count": 6,
   "metadata": {},
   "outputs": [
    {
     "data": {
      "text/html": [
       "<table>\n",
       "<thead><tr><th></th><th scope=col>Neg_Rep1</th><th scope=col>Neg_Rep2</th><th scope=col>Pos_Rep1</th><th scope=col>Pos_Rep2</th></tr></thead>\n",
       "<tbody>\n",
       "\t<tr><th scope=row>TTATCTGCATACTTATACAG</th><td>   0</td><td> 524</td><td> 921</td><td> 420</td></tr>\n",
       "\t<tr><th scope=row>TATGCTTTATCCACTCCGAC</th><td> 660</td><td> 347</td><td>1754</td><td> 733</td></tr>\n",
       "\t<tr><th scope=row>TGAAAGCATAGGATATGGCA</th><td>1730</td><td>1004</td><td>2540</td><td>1065</td></tr>\n",
       "\t<tr><th scope=row>AATGGTAAGTTGCTGCTCAG</th><td>1471</td><td>1253</td><td>2061</td><td> 758</td></tr>\n",
       "\t<tr><th scope=row>TAAGCATGCGTGGTATCAAG</th><td>1250</td><td>   0</td><td>2558</td><td> 921</td></tr>\n",
       "\t<tr><th scope=row>GCTGGGAGGCGCTGGACGGC</th><td> 916</td><td> 664</td><td>1466</td><td> 847</td></tr>\n",
       "</tbody>\n",
       "</table>\n"
      ],
      "text/latex": [
       "\\begin{tabular}{r|llll}\n",
       "  & Neg\\_Rep1 & Neg\\_Rep2 & Pos\\_Rep1 & Pos\\_Rep2\\\\\n",
       "\\hline\n",
       "\tTTATCTGCATACTTATACAG &    0 &  524 &  921 &  420\\\\\n",
       "\tTATGCTTTATCCACTCCGAC &  660 &  347 & 1754 &  733\\\\\n",
       "\tTGAAAGCATAGGATATGGCA & 1730 & 1004 & 2540 & 1065\\\\\n",
       "\tAATGGTAAGTTGCTGCTCAG & 1471 & 1253 & 2061 &  758\\\\\n",
       "\tTAAGCATGCGTGGTATCAAG & 1250 &    0 & 2558 &  921\\\\\n",
       "\tGCTGGGAGGCGCTGGACGGC &  916 &  664 & 1466 &  847\\\\\n",
       "\\end{tabular}\n"
      ],
      "text/markdown": [
       "\n",
       "| <!--/--> | Neg_Rep1 | Neg_Rep2 | Pos_Rep1 | Pos_Rep2 |\n",
       "|---|---|---|---|---|\n",
       "| TTATCTGCATACTTATACAG |    0 |  524 |  921 |  420 |\n",
       "| TATGCTTTATCCACTCCGAC |  660 |  347 | 1754 |  733 |\n",
       "| TGAAAGCATAGGATATGGCA | 1730 | 1004 | 2540 | 1065 |\n",
       "| AATGGTAAGTTGCTGCTCAG | 1471 | 1253 | 2061 |  758 |\n",
       "| TAAGCATGCGTGGTATCAAG | 1250 |    0 | 2558 |  921 |\n",
       "| GCTGGGAGGCGCTGGACGGC |  916 |  664 | 1466 |  847 |\n",
       "\n"
      ],
      "text/plain": [
       "                     Neg_Rep1 Neg_Rep2 Pos_Rep1 Pos_Rep2\n",
       "TTATCTGCATACTTATACAG    0      524      921      420    \n",
       "TATGCTTTATCCACTCCGAC  660      347     1754      733    \n",
       "TGAAAGCATAGGATATGGCA 1730     1004     2540     1065    \n",
       "AATGGTAAGTTGCTGCTCAG 1471     1253     2061      758    \n",
       "TAAGCATGCGTGGTATCAAG 1250        0     2558      921    \n",
       "GCTGGGAGGCGCTGGACGGC  916      664     1466      847    "
      ]
     },
     "metadata": {},
     "output_type": "display_data"
    }
   ],
   "source": [
    "fc_cts <- cts[, c(5,6,3,4)]\n",
    "head(fc_cts)"
   ]
  },
  {
   "cell_type": "code",
   "execution_count": 7,
   "metadata": {},
   "outputs": [
    {
     "data": {
      "text/html": [
       "<table>\n",
       "<thead><tr><th></th><th scope=col>Neg_Rep1</th><th scope=col>Pos_Rep1</th></tr></thead>\n",
       "<tbody>\n",
       "\t<tr><th scope=row>TTATCTGCATACTTATACAG</th><td>   0</td><td> 921</td></tr>\n",
       "\t<tr><th scope=row>TATGCTTTATCCACTCCGAC</th><td> 660</td><td>1754</td></tr>\n",
       "\t<tr><th scope=row>TGAAAGCATAGGATATGGCA</th><td>1730</td><td>2540</td></tr>\n",
       "\t<tr><th scope=row>AATGGTAAGTTGCTGCTCAG</th><td>1471</td><td>2061</td></tr>\n",
       "\t<tr><th scope=row>TAAGCATGCGTGGTATCAAG</th><td>1250</td><td>2558</td></tr>\n",
       "\t<tr><th scope=row>GCTGGGAGGCGCTGGACGGC</th><td> 916</td><td>1466</td></tr>\n",
       "</tbody>\n",
       "</table>\n"
      ],
      "text/latex": [
       "\\begin{tabular}{r|ll}\n",
       "  & Neg\\_Rep1 & Pos\\_Rep1\\\\\n",
       "\\hline\n",
       "\tTTATCTGCATACTTATACAG &    0 &  921\\\\\n",
       "\tTATGCTTTATCCACTCCGAC &  660 & 1754\\\\\n",
       "\tTGAAAGCATAGGATATGGCA & 1730 & 2540\\\\\n",
       "\tAATGGTAAGTTGCTGCTCAG & 1471 & 2061\\\\\n",
       "\tTAAGCATGCGTGGTATCAAG & 1250 & 2558\\\\\n",
       "\tGCTGGGAGGCGCTGGACGGC &  916 & 1466\\\\\n",
       "\\end{tabular}\n"
      ],
      "text/markdown": [
       "\n",
       "| <!--/--> | Neg_Rep1 | Pos_Rep1 |\n",
       "|---|---|---|\n",
       "| TTATCTGCATACTTATACAG |    0 |  921 |\n",
       "| TATGCTTTATCCACTCCGAC |  660 | 1754 |\n",
       "| TGAAAGCATAGGATATGGCA | 1730 | 2540 |\n",
       "| AATGGTAAGTTGCTGCTCAG | 1471 | 2061 |\n",
       "| TAAGCATGCGTGGTATCAAG | 1250 | 2558 |\n",
       "| GCTGGGAGGCGCTGGACGGC |  916 | 1466 |\n",
       "\n"
      ],
      "text/plain": [
       "                     Neg_Rep1 Pos_Rep1\n",
       "TTATCTGCATACTTATACAG    0      921    \n",
       "TATGCTTTATCCACTCCGAC  660     1754    \n",
       "TGAAAGCATAGGATATGGCA 1730     2540    \n",
       "AATGGTAAGTTGCTGCTCAG 1471     2061    \n",
       "TAAGCATGCGTGGTATCAAG 1250     2558    \n",
       "GCTGGGAGGCGCTGGACGGC  916     1466    "
      ]
     },
     "metadata": {},
     "output_type": "display_data"
    }
   ],
   "source": [
    "fc_cts_rep1 <- cts[, c(5,3)]\n",
    "head(fc_cts_rep1)"
   ]
  },
  {
   "cell_type": "code",
   "execution_count": 8,
   "metadata": {},
   "outputs": [
    {
     "data": {
      "text/html": [
       "<table>\n",
       "<thead><tr><th></th><th scope=col>Neg_Rep2</th><th scope=col>Pos_Rep2</th></tr></thead>\n",
       "<tbody>\n",
       "\t<tr><th scope=row>TTATCTGCATACTTATACAG</th><td> 524</td><td> 420</td></tr>\n",
       "\t<tr><th scope=row>TATGCTTTATCCACTCCGAC</th><td> 347</td><td> 733</td></tr>\n",
       "\t<tr><th scope=row>TGAAAGCATAGGATATGGCA</th><td>1004</td><td>1065</td></tr>\n",
       "\t<tr><th scope=row>AATGGTAAGTTGCTGCTCAG</th><td>1253</td><td> 758</td></tr>\n",
       "\t<tr><th scope=row>TAAGCATGCGTGGTATCAAG</th><td>   0</td><td> 921</td></tr>\n",
       "\t<tr><th scope=row>GCTGGGAGGCGCTGGACGGC</th><td> 664</td><td> 847</td></tr>\n",
       "</tbody>\n",
       "</table>\n"
      ],
      "text/latex": [
       "\\begin{tabular}{r|ll}\n",
       "  & Neg\\_Rep2 & Pos\\_Rep2\\\\\n",
       "\\hline\n",
       "\tTTATCTGCATACTTATACAG &  524 &  420\\\\\n",
       "\tTATGCTTTATCCACTCCGAC &  347 &  733\\\\\n",
       "\tTGAAAGCATAGGATATGGCA & 1004 & 1065\\\\\n",
       "\tAATGGTAAGTTGCTGCTCAG & 1253 &  758\\\\\n",
       "\tTAAGCATGCGTGGTATCAAG &    0 &  921\\\\\n",
       "\tGCTGGGAGGCGCTGGACGGC &  664 &  847\\\\\n",
       "\\end{tabular}\n"
      ],
      "text/markdown": [
       "\n",
       "| <!--/--> | Neg_Rep2 | Pos_Rep2 |\n",
       "|---|---|---|\n",
       "| TTATCTGCATACTTATACAG |  524 |  420 |\n",
       "| TATGCTTTATCCACTCCGAC |  347 |  733 |\n",
       "| TGAAAGCATAGGATATGGCA | 1004 | 1065 |\n",
       "| AATGGTAAGTTGCTGCTCAG | 1253 |  758 |\n",
       "| TAAGCATGCGTGGTATCAAG |    0 |  921 |\n",
       "| GCTGGGAGGCGCTGGACGGC |  664 |  847 |\n",
       "\n"
      ],
      "text/plain": [
       "                     Neg_Rep2 Pos_Rep2\n",
       "TTATCTGCATACTTATACAG  524      420    \n",
       "TATGCTTTATCCACTCCGAC  347      733    \n",
       "TGAAAGCATAGGATATGGCA 1004     1065    \n",
       "AATGGTAAGTTGCTGCTCAG 1253      758    \n",
       "TAAGCATGCGTGGTATCAAG    0      921    \n",
       "GCTGGGAGGCGCTGGACGGC  664      847    "
      ]
     },
     "metadata": {},
     "output_type": "display_data"
    }
   ],
   "source": [
    "fc_cts_rep2 <- cts[, c(6,4)]\n",
    "head(fc_cts_rep2)"
   ]
  },
  {
   "cell_type": "code",
   "execution_count": 9,
   "metadata": {},
   "outputs": [
    {
     "data": {
      "text/html": [
       "<table>\n",
       "<thead><tr><th></th><th scope=col>condition</th><th scope=col>rep</th><th scope=col>time</th></tr></thead>\n",
       "<tbody>\n",
       "\t<tr><th scope=row>Neg_Rep1</th><td>Neg </td><td>Rep1</td><td>late</td></tr>\n",
       "\t<tr><th scope=row>Neg_Rep2</th><td>Neg </td><td>Rep2</td><td>late</td></tr>\n",
       "\t<tr><th scope=row>Pos_Rep1</th><td>Pos </td><td>Rep1</td><td>late</td></tr>\n",
       "\t<tr><th scope=row>Pos_Rep2</th><td>Pos </td><td>Rep2</td><td>late</td></tr>\n",
       "</tbody>\n",
       "</table>\n"
      ],
      "text/latex": [
       "\\begin{tabular}{r|lll}\n",
       "  & condition & rep & time\\\\\n",
       "\\hline\n",
       "\tNeg\\_Rep1 & Neg  & Rep1 & late\\\\\n",
       "\tNeg\\_Rep2 & Neg  & Rep2 & late\\\\\n",
       "\tPos\\_Rep1 & Pos  & Rep1 & late\\\\\n",
       "\tPos\\_Rep2 & Pos  & Rep2 & late\\\\\n",
       "\\end{tabular}\n"
      ],
      "text/markdown": [
       "\n",
       "| <!--/--> | condition | rep | time |\n",
       "|---|---|---|---|\n",
       "| Neg_Rep1 | Neg  | Rep1 | late |\n",
       "| Neg_Rep2 | Neg  | Rep2 | late |\n",
       "| Pos_Rep1 | Pos  | Rep1 | late |\n",
       "| Pos_Rep2 | Pos  | Rep2 | late |\n",
       "\n"
      ],
      "text/plain": [
       "         condition rep  time\n",
       "Neg_Rep1 Neg       Rep1 late\n",
       "Neg_Rep2 Neg       Rep2 late\n",
       "Pos_Rep1 Pos       Rep1 late\n",
       "Pos_Rep2 Pos       Rep2 late"
      ]
     },
     "metadata": {},
     "output_type": "display_data"
    }
   ],
   "source": [
    "fc_cols <- cols[3:6, ]\n",
    "fc_cols <- fc_cols[c(3,4,1,2), ]\n",
    "fc_cols"
   ]
  },
  {
   "cell_type": "code",
   "execution_count": 10,
   "metadata": {},
   "outputs": [
    {
     "data": {
      "text/html": [
       "<table>\n",
       "<thead><tr><th></th><th scope=col>condition</th><th scope=col>rep</th><th scope=col>time</th></tr></thead>\n",
       "<tbody>\n",
       "\t<tr><th scope=row>Neg_Rep1</th><td>Neg </td><td>Rep1</td><td>late</td></tr>\n",
       "\t<tr><th scope=row>Pos_Rep1</th><td>Pos </td><td>Rep1</td><td>late</td></tr>\n",
       "</tbody>\n",
       "</table>\n"
      ],
      "text/latex": [
       "\\begin{tabular}{r|lll}\n",
       "  & condition & rep & time\\\\\n",
       "\\hline\n",
       "\tNeg\\_Rep1 & Neg  & Rep1 & late\\\\\n",
       "\tPos\\_Rep1 & Pos  & Rep1 & late\\\\\n",
       "\\end{tabular}\n"
      ],
      "text/markdown": [
       "\n",
       "| <!--/--> | condition | rep | time |\n",
       "|---|---|---|---|\n",
       "| Neg_Rep1 | Neg  | Rep1 | late |\n",
       "| Pos_Rep1 | Pos  | Rep1 | late |\n",
       "\n"
      ],
      "text/plain": [
       "         condition rep  time\n",
       "Neg_Rep1 Neg       Rep1 late\n",
       "Pos_Rep1 Pos       Rep1 late"
      ]
     },
     "metadata": {},
     "output_type": "display_data"
    }
   ],
   "source": [
    "fc_cols_rep1 <- fc_cols[c(1,3), ]\n",
    "fc_cols_rep1"
   ]
  },
  {
   "cell_type": "code",
   "execution_count": 11,
   "metadata": {},
   "outputs": [
    {
     "data": {
      "text/html": [
       "<table>\n",
       "<thead><tr><th></th><th scope=col>condition</th><th scope=col>rep</th><th scope=col>time</th></tr></thead>\n",
       "<tbody>\n",
       "\t<tr><th scope=row>Neg_Rep2</th><td>Neg </td><td>Rep2</td><td>late</td></tr>\n",
       "\t<tr><th scope=row>Pos_Rep2</th><td>Pos </td><td>Rep2</td><td>late</td></tr>\n",
       "</tbody>\n",
       "</table>\n"
      ],
      "text/latex": [
       "\\begin{tabular}{r|lll}\n",
       "  & condition & rep & time\\\\\n",
       "\\hline\n",
       "\tNeg\\_Rep2 & Neg  & Rep2 & late\\\\\n",
       "\tPos\\_Rep2 & Pos  & Rep2 & late\\\\\n",
       "\\end{tabular}\n"
      ],
      "text/markdown": [
       "\n",
       "| <!--/--> | condition | rep | time |\n",
       "|---|---|---|---|\n",
       "| Neg_Rep2 | Neg  | Rep2 | late |\n",
       "| Pos_Rep2 | Pos  | Rep2 | late |\n",
       "\n"
      ],
      "text/plain": [
       "         condition rep  time\n",
       "Neg_Rep2 Neg       Rep2 late\n",
       "Pos_Rep2 Pos       Rep2 late"
      ]
     },
     "metadata": {},
     "output_type": "display_data"
    }
   ],
   "source": [
    "fc_cols_rep2 <- fc_cols[c(2,4), ]\n",
    "fc_cols_rep2"
   ]
  },
  {
   "cell_type": "markdown",
   "metadata": {},
   "source": [
    "## 2. DESeq2"
   ]
  },
  {
   "cell_type": "code",
   "execution_count": 12,
   "metadata": {},
   "outputs": [],
   "source": [
    "dds <- DESeqDataSetFromMatrix(countData = cts,\n",
    "                              colData = cols,\n",
    "                              design = ~ condition)"
   ]
  },
  {
   "cell_type": "code",
   "execution_count": 13,
   "metadata": {},
   "outputs": [],
   "source": [
    "dds <- estimateSizeFactors(dds)"
   ]
  },
  {
   "cell_type": "code",
   "execution_count": 14,
   "metadata": {},
   "outputs": [
    {
     "data": {
      "text/html": [
       "<table>\n",
       "<thead><tr><th></th><th scope=col>DZ_Rep1</th><th scope=col>DZ_Rep2</th><th scope=col>Pos_Rep1</th><th scope=col>Pos_Rep2</th><th scope=col>Neg_Rep1</th><th scope=col>Neg_Rep2</th></tr></thead>\n",
       "<tbody>\n",
       "\t<tr><th scope=row>TTATCTGCATACTTATACAG</th><td> 704.2718</td><td> 586.4672</td><td> 563.0922</td><td> 561.5087</td><td>   0.0000</td><td> 541.6455</td></tr>\n",
       "\t<tr><th scope=row>TATGCTTTATCCACTCCGAC</th><td> 982.8848</td><td>1110.3288</td><td>1072.3819</td><td> 979.9664</td><td> 653.5782</td><td> 358.6851</td></tr>\n",
       "\t<tr><th scope=row>TGAAAGCATAGGATATGGCA</th><td>1798.4084</td><td>1876.3267</td><td>1552.9362</td><td>1423.8257</td><td>1713.1671</td><td>1037.8093</td></tr>\n",
       "\t<tr><th scope=row>AATGGTAAGTTGCTGCTCAG</th><td> 929.6775</td><td> 851.6203</td><td>1260.0794</td><td>1013.3896</td><td>1456.6872</td><td>1295.1943</td></tr>\n",
       "\t<tr><th scope=row>TAAGCATGCGTGGTATCAAG</th><td>2183.4361</td><td>1273.2875</td><td>1563.9413</td><td>1231.3085</td><td>1237.8375</td><td>   0.0000</td></tr>\n",
       "\t<tr><th scope=row>GCTGGGAGGCGCTGGACGGC</th><td>1039.9618</td><td>1014.5790</td><td> 896.3010</td><td>1132.3760</td><td> 907.0873</td><td> 686.3599</td></tr>\n",
       "</tbody>\n",
       "</table>\n"
      ],
      "text/latex": [
       "\\begin{tabular}{r|llllll}\n",
       "  & DZ\\_Rep1 & DZ\\_Rep2 & Pos\\_Rep1 & Pos\\_Rep2 & Neg\\_Rep1 & Neg\\_Rep2\\\\\n",
       "\\hline\n",
       "\tTTATCTGCATACTTATACAG &  704.2718 &  586.4672 &  563.0922 &  561.5087 &    0.0000 &  541.6455\\\\\n",
       "\tTATGCTTTATCCACTCCGAC &  982.8848 & 1110.3288 & 1072.3819 &  979.9664 &  653.5782 &  358.6851\\\\\n",
       "\tTGAAAGCATAGGATATGGCA & 1798.4084 & 1876.3267 & 1552.9362 & 1423.8257 & 1713.1671 & 1037.8093\\\\\n",
       "\tAATGGTAAGTTGCTGCTCAG &  929.6775 &  851.6203 & 1260.0794 & 1013.3896 & 1456.6872 & 1295.1943\\\\\n",
       "\tTAAGCATGCGTGGTATCAAG & 2183.4361 & 1273.2875 & 1563.9413 & 1231.3085 & 1237.8375 &    0.0000\\\\\n",
       "\tGCTGGGAGGCGCTGGACGGC & 1039.9618 & 1014.5790 &  896.3010 & 1132.3760 &  907.0873 &  686.3599\\\\\n",
       "\\end{tabular}\n"
      ],
      "text/markdown": [
       "\n",
       "| <!--/--> | DZ_Rep1 | DZ_Rep2 | Pos_Rep1 | Pos_Rep2 | Neg_Rep1 | Neg_Rep2 |\n",
       "|---|---|---|---|---|---|---|\n",
       "| TTATCTGCATACTTATACAG |  704.2718 |  586.4672 |  563.0922 |  561.5087 |    0.0000 |  541.6455 |\n",
       "| TATGCTTTATCCACTCCGAC |  982.8848 | 1110.3288 | 1072.3819 |  979.9664 |  653.5782 |  358.6851 |\n",
       "| TGAAAGCATAGGATATGGCA | 1798.4084 | 1876.3267 | 1552.9362 | 1423.8257 | 1713.1671 | 1037.8093 |\n",
       "| AATGGTAAGTTGCTGCTCAG |  929.6775 |  851.6203 | 1260.0794 | 1013.3896 | 1456.6872 | 1295.1943 |\n",
       "| TAAGCATGCGTGGTATCAAG | 2183.4361 | 1273.2875 | 1563.9413 | 1231.3085 | 1237.8375 |    0.0000 |\n",
       "| GCTGGGAGGCGCTGGACGGC | 1039.9618 | 1014.5790 |  896.3010 | 1132.3760 |  907.0873 |  686.3599 |\n",
       "\n"
      ],
      "text/plain": [
       "                     DZ_Rep1   DZ_Rep2   Pos_Rep1  Pos_Rep2  Neg_Rep1 \n",
       "TTATCTGCATACTTATACAG  704.2718  586.4672  563.0922  561.5087    0.0000\n",
       "TATGCTTTATCCACTCCGAC  982.8848 1110.3288 1072.3819  979.9664  653.5782\n",
       "TGAAAGCATAGGATATGGCA 1798.4084 1876.3267 1552.9362 1423.8257 1713.1671\n",
       "AATGGTAAGTTGCTGCTCAG  929.6775  851.6203 1260.0794 1013.3896 1456.6872\n",
       "TAAGCATGCGTGGTATCAAG 2183.4361 1273.2875 1563.9413 1231.3085 1237.8375\n",
       "GCTGGGAGGCGCTGGACGGC 1039.9618 1014.5790  896.3010 1132.3760  907.0873\n",
       "                     Neg_Rep2 \n",
       "TTATCTGCATACTTATACAG  541.6455\n",
       "TATGCTTTATCCACTCCGAC  358.6851\n",
       "TGAAAGCATAGGATATGGCA 1037.8093\n",
       "AATGGTAAGTTGCTGCTCAG 1295.1943\n",
       "TAAGCATGCGTGGTATCAAG    0.0000\n",
       "GCTGGGAGGCGCTGGACGGC  686.3599"
      ]
     },
     "metadata": {},
     "output_type": "display_data"
    }
   ],
   "source": [
    "norm_cts <- counts(dds, normalized=TRUE)\n",
    "head(norm_cts)"
   ]
  },
  {
   "cell_type": "code",
   "execution_count": 15,
   "metadata": {},
   "outputs": [
    {
     "name": "stderr",
     "output_type": "stream",
     "text": [
      "-- note: fitType='parametric', but the dispersion trend was not well captured by the\n",
      "   function: y = a/x + b, and a local regression fit was automatically substituted.\n",
      "   specify fitType='local' or 'mean' to avoid this message next time.\n"
     ]
    },
    {
     "data": {
      "text/html": [
       "<table>\n",
       "<thead><tr><th></th><th scope=col>DZ_Rep1</th><th scope=col>DZ_Rep2</th><th scope=col>Pos_Rep1</th><th scope=col>Pos_Rep2</th><th scope=col>Neg_Rep1</th><th scope=col>Neg_Rep2</th></tr></thead>\n",
       "<tbody>\n",
       "\t<tr><th scope=row>TTATCTGCATACTTATACAG</th><td> 9.022278</td><td> 8.940067</td><td> 8.922797</td><td> 8.921544</td><td> 8.330748</td><td> 8.906570</td></tr>\n",
       "\t<tr><th scope=row>TATGCTTTATCCACTCCGAC</th><td> 9.806630</td><td> 9.893664</td><td> 9.868626</td><td> 9.804493</td><td> 9.535898</td><td> 9.200367</td></tr>\n",
       "\t<tr><th scope=row>TGAAAGCATAGGATATGGCA</th><td>10.744781</td><td>10.787724</td><td>10.597569</td><td>10.511513</td><td>10.695839</td><td>10.205004</td></tr>\n",
       "\t<tr><th scope=row>AATGGTAAGTTGCTGCTCAG</th><td> 9.975677</td><td> 9.906715</td><td>10.227389</td><td>10.045342</td><td>10.351186</td><td>10.250730</td></tr>\n",
       "\t<tr><th scope=row>TAAGCATGCGTGGTATCAAG</th><td>10.645091</td><td>10.125553</td><td>10.320086</td><td>10.094178</td><td>10.099214</td><td> 7.523307</td></tr>\n",
       "\t<tr><th scope=row>GCTGGGAGGCGCTGGACGGC</th><td> 9.949428</td><td> 9.931080</td><td> 9.840500</td><td>10.013170</td><td> 9.849133</td><td> 9.657008</td></tr>\n",
       "</tbody>\n",
       "</table>\n"
      ],
      "text/latex": [
       "\\begin{tabular}{r|llllll}\n",
       "  & DZ\\_Rep1 & DZ\\_Rep2 & Pos\\_Rep1 & Pos\\_Rep2 & Neg\\_Rep1 & Neg\\_Rep2\\\\\n",
       "\\hline\n",
       "\tTTATCTGCATACTTATACAG &  9.022278 &  8.940067 &  8.922797 &  8.921544 &  8.330748 &  8.906570\\\\\n",
       "\tTATGCTTTATCCACTCCGAC &  9.806630 &  9.893664 &  9.868626 &  9.804493 &  9.535898 &  9.200367\\\\\n",
       "\tTGAAAGCATAGGATATGGCA & 10.744781 & 10.787724 & 10.597569 & 10.511513 & 10.695839 & 10.205004\\\\\n",
       "\tAATGGTAAGTTGCTGCTCAG &  9.975677 &  9.906715 & 10.227389 & 10.045342 & 10.351186 & 10.250730\\\\\n",
       "\tTAAGCATGCGTGGTATCAAG & 10.645091 & 10.125553 & 10.320086 & 10.094178 & 10.099214 &  7.523307\\\\\n",
       "\tGCTGGGAGGCGCTGGACGGC &  9.949428 &  9.931080 &  9.840500 & 10.013170 &  9.849133 &  9.657008\\\\\n",
       "\\end{tabular}\n"
      ],
      "text/markdown": [
       "\n",
       "| <!--/--> | DZ_Rep1 | DZ_Rep2 | Pos_Rep1 | Pos_Rep2 | Neg_Rep1 | Neg_Rep2 |\n",
       "|---|---|---|---|---|---|---|\n",
       "| TTATCTGCATACTTATACAG |  9.022278 |  8.940067 |  8.922797 |  8.921544 |  8.330748 |  8.906570 |\n",
       "| TATGCTTTATCCACTCCGAC |  9.806630 |  9.893664 |  9.868626 |  9.804493 |  9.535898 |  9.200367 |\n",
       "| TGAAAGCATAGGATATGGCA | 10.744781 | 10.787724 | 10.597569 | 10.511513 | 10.695839 | 10.205004 |\n",
       "| AATGGTAAGTTGCTGCTCAG |  9.975677 |  9.906715 | 10.227389 | 10.045342 | 10.351186 | 10.250730 |\n",
       "| TAAGCATGCGTGGTATCAAG | 10.645091 | 10.125553 | 10.320086 | 10.094178 | 10.099214 |  7.523307 |\n",
       "| GCTGGGAGGCGCTGGACGGC |  9.949428 |  9.931080 |  9.840500 | 10.013170 |  9.849133 |  9.657008 |\n",
       "\n"
      ],
      "text/plain": [
       "                     DZ_Rep1   DZ_Rep2   Pos_Rep1  Pos_Rep2  Neg_Rep1 \n",
       "TTATCTGCATACTTATACAG  9.022278  8.940067  8.922797  8.921544  8.330748\n",
       "TATGCTTTATCCACTCCGAC  9.806630  9.893664  9.868626  9.804493  9.535898\n",
       "TGAAAGCATAGGATATGGCA 10.744781 10.787724 10.597569 10.511513 10.695839\n",
       "AATGGTAAGTTGCTGCTCAG  9.975677  9.906715 10.227389 10.045342 10.351186\n",
       "TAAGCATGCGTGGTATCAAG 10.645091 10.125553 10.320086 10.094178 10.099214\n",
       "GCTGGGAGGCGCTGGACGGC  9.949428  9.931080  9.840500 10.013170  9.849133\n",
       "                     Neg_Rep2 \n",
       "TTATCTGCATACTTATACAG  8.906570\n",
       "TATGCTTTATCCACTCCGAC  9.200367\n",
       "TGAAAGCATAGGATATGGCA 10.205004\n",
       "AATGGTAAGTTGCTGCTCAG 10.250730\n",
       "TAAGCATGCGTGGTATCAAG  7.523307\n",
       "GCTGGGAGGCGCTGGACGGC  9.657008"
      ]
     },
     "metadata": {},
     "output_type": "display_data"
    }
   ],
   "source": [
    "rld <- rlog(dds)\n",
    "head(assay(rld))"
   ]
  },
  {
   "cell_type": "code",
   "execution_count": 16,
   "metadata": {},
   "outputs": [
    {
     "name": "stderr",
     "output_type": "stream",
     "text": [
      "-- note: fitType='parametric', but the dispersion trend was not well captured by the\n",
      "   function: y = a/x + b, and a local regression fit was automatically substituted.\n",
      "   specify fitType='local' or 'mean' to avoid this message next time.\n"
     ]
    },
    {
     "data": {
      "text/html": [
       "<table>\n",
       "<thead><tr><th></th><th scope=col>DZ_Rep1</th><th scope=col>DZ_Rep2</th><th scope=col>Pos_Rep1</th><th scope=col>Pos_Rep2</th><th scope=col>Neg_Rep1</th><th scope=col>Neg_Rep2</th></tr></thead>\n",
       "<tbody>\n",
       "\t<tr><th scope=row>TTATCTGCATACTTATACAG</th><td>10.34290 </td><td>10.27091 </td><td>10.25567 </td><td>10.25462 </td><td> 8.296486</td><td>10.241326</td></tr>\n",
       "\t<tr><th scope=row>TATGCTTTATCCACTCCGAC</th><td>10.49729 </td><td>10.56657 </td><td>10.54584 </td><td>10.49571 </td><td>10.312765</td><td>10.098012</td></tr>\n",
       "\t<tr><th scope=row>TGAAAGCATAGGATATGGCA</th><td>10.95169 </td><td>10.99389 </td><td>10.81489 </td><td>10.74169 </td><td>10.904794</td><td>10.527044</td></tr>\n",
       "\t<tr><th scope=row>AATGGTAAGTTGCTGCTCAG</th><td>10.46849 </td><td>10.42597 </td><td>10.64941 </td><td>10.51380 </td><td>10.760324</td><td>10.669081</td></tr>\n",
       "\t<tr><th scope=row>TAAGCATGCGTGGTATCAAG</th><td>11.15370 </td><td>10.65680 </td><td>10.82111 </td><td>10.63336 </td><td>10.636999</td><td> 8.296486</td></tr>\n",
       "\t<tr><th scope=row>GCTGGGAGGCGCTGGACGGC</th><td>10.52821 </td><td>10.51445 </td><td>10.45037 </td><td>10.57865 </td><td>10.456237</td><td>10.332377</td></tr>\n",
       "</tbody>\n",
       "</table>\n"
      ],
      "text/latex": [
       "\\begin{tabular}{r|llllll}\n",
       "  & DZ\\_Rep1 & DZ\\_Rep2 & Pos\\_Rep1 & Pos\\_Rep2 & Neg\\_Rep1 & Neg\\_Rep2\\\\\n",
       "\\hline\n",
       "\tTTATCTGCATACTTATACAG & 10.34290  & 10.27091  & 10.25567  & 10.25462  &  8.296486 & 10.241326\\\\\n",
       "\tTATGCTTTATCCACTCCGAC & 10.49729  & 10.56657  & 10.54584  & 10.49571  & 10.312765 & 10.098012\\\\\n",
       "\tTGAAAGCATAGGATATGGCA & 10.95169  & 10.99389  & 10.81489  & 10.74169  & 10.904794 & 10.527044\\\\\n",
       "\tAATGGTAAGTTGCTGCTCAG & 10.46849  & 10.42597  & 10.64941  & 10.51380  & 10.760324 & 10.669081\\\\\n",
       "\tTAAGCATGCGTGGTATCAAG & 11.15370  & 10.65680  & 10.82111  & 10.63336  & 10.636999 &  8.296486\\\\\n",
       "\tGCTGGGAGGCGCTGGACGGC & 10.52821  & 10.51445  & 10.45037  & 10.57865  & 10.456237 & 10.332377\\\\\n",
       "\\end{tabular}\n"
      ],
      "text/markdown": [
       "\n",
       "| <!--/--> | DZ_Rep1 | DZ_Rep2 | Pos_Rep1 | Pos_Rep2 | Neg_Rep1 | Neg_Rep2 |\n",
       "|---|---|---|---|---|---|---|\n",
       "| TTATCTGCATACTTATACAG | 10.34290  | 10.27091  | 10.25567  | 10.25462  |  8.296486 | 10.241326 |\n",
       "| TATGCTTTATCCACTCCGAC | 10.49729  | 10.56657  | 10.54584  | 10.49571  | 10.312765 | 10.098012 |\n",
       "| TGAAAGCATAGGATATGGCA | 10.95169  | 10.99389  | 10.81489  | 10.74169  | 10.904794 | 10.527044 |\n",
       "| AATGGTAAGTTGCTGCTCAG | 10.46849  | 10.42597  | 10.64941  | 10.51380  | 10.760324 | 10.669081 |\n",
       "| TAAGCATGCGTGGTATCAAG | 11.15370  | 10.65680  | 10.82111  | 10.63336  | 10.636999 |  8.296486 |\n",
       "| GCTGGGAGGCGCTGGACGGC | 10.52821  | 10.51445  | 10.45037  | 10.57865  | 10.456237 | 10.332377 |\n",
       "\n"
      ],
      "text/plain": [
       "                     DZ_Rep1  DZ_Rep2  Pos_Rep1 Pos_Rep2 Neg_Rep1  Neg_Rep2 \n",
       "TTATCTGCATACTTATACAG 10.34290 10.27091 10.25567 10.25462  8.296486 10.241326\n",
       "TATGCTTTATCCACTCCGAC 10.49729 10.56657 10.54584 10.49571 10.312765 10.098012\n",
       "TGAAAGCATAGGATATGGCA 10.95169 10.99389 10.81489 10.74169 10.904794 10.527044\n",
       "AATGGTAAGTTGCTGCTCAG 10.46849 10.42597 10.64941 10.51380 10.760324 10.669081\n",
       "TAAGCATGCGTGGTATCAAG 11.15370 10.65680 10.82111 10.63336 10.636999  8.296486\n",
       "GCTGGGAGGCGCTGGACGGC 10.52821 10.51445 10.45037 10.57865 10.456237 10.332377"
      ]
     },
     "metadata": {},
     "output_type": "display_data"
    }
   ],
   "source": [
    "vsd <- vst(dds, blind=FALSE)\n",
    "head(assay(vsd))"
   ]
  },
  {
   "cell_type": "code",
   "execution_count": 17,
   "metadata": {},
   "outputs": [],
   "source": [
    "dds <- estimateSizeFactors(dds)"
   ]
  },
  {
   "cell_type": "code",
   "execution_count": 18,
   "metadata": {},
   "outputs": [
    {
     "name": "stderr",
     "output_type": "stream",
     "text": [
      "factor levels were dropped which had no samples\n"
     ]
    }
   ],
   "source": [
    "dds <- DESeqDataSetFromMatrix(countData = fc_cts,\n",
    "                              colData = fc_cols,\n",
    "                              design = ~ condition)"
   ]
  },
  {
   "cell_type": "code",
   "execution_count": 19,
   "metadata": {},
   "outputs": [
    {
     "name": "stderr",
     "output_type": "stream",
     "text": [
      "estimating size factors\n",
      "estimating dispersions\n",
      "gene-wise dispersion estimates\n",
      "mean-dispersion relationship\n",
      "-- note: fitType='parametric', but the dispersion trend was not well captured by the\n",
      "   function: y = a/x + b, and a local regression fit was automatically substituted.\n",
      "   specify fitType='local' or 'mean' to avoid this message next time.\n",
      "final dispersion estimates\n",
      "fitting model and testing\n"
     ]
    }
   ],
   "source": [
    "dds <- DESeq(dds)"
   ]
  },
  {
   "cell_type": "code",
   "execution_count": 20,
   "metadata": {},
   "outputs": [
    {
     "data": {
      "text/plain": [
       "log2 fold change (MLE): condition Pos vs Neg \n",
       "Wald test p-value: condition Pos vs Neg \n",
       "DataFrame with 6 rows and 6 columns\n",
       "                             baseMean    log2FoldChange             lfcSE\n",
       "                            <numeric>         <numeric>         <numeric>\n",
       "TTATCTGCATACTTATACAG 412.256020283252  1.04185097086873  2.83961662764972\n",
       "TATGCTTTATCCACTCCGAC 758.030832684092  1.00900393152098 0.688289802287602\n",
       "TGAAAGCATAGGATATGGCA 1418.35726476102 0.103126354387972 0.480259732350658\n",
       "AATGGTAAGTTGCTGCTCAG  1245.1737483947  -0.2857710617125 0.392330087303212\n",
       "TAAGCATGCGTGGTATCAAG 997.275095587964  1.16528235659288  2.57884012864359\n",
       "GCTGGGAGGCGCTGGACGGC 896.653787467409   0.3368684724605 0.530112660108345\n",
       "                                   stat            pvalue              padj\n",
       "                              <numeric>         <numeric>         <numeric>\n",
       "TTATCTGCATACTTATACAG  0.366898461124679  0.71369475937438 0.987449372205075\n",
       "TATGCTTTATCCACTCCGAC   1.46595798480154 0.142659733460345 0.518995982502942\n",
       "TGAAAGCATAGGATATGGCA  0.214730379087195  0.82997753592431 0.997096053113957\n",
       "AATGGTAAGTTGCTGCTCAG -0.728394459055705 0.466372154164836 0.897957287329346\n",
       "TAAGCATGCGTGGTATCAAG  0.451862968801323 0.651367703297608  0.97486453397792\n",
       "GCTGGGAGGCGCTGGACGGC  0.635465812855046  0.52512465674233 0.930201538801339"
      ]
     },
     "metadata": {},
     "output_type": "display_data"
    }
   ],
   "source": [
    "res <- results(dds)\n",
    "head(res)"
   ]
  },
  {
   "cell_type": "code",
   "execution_count": 21,
   "metadata": {},
   "outputs": [
    {
     "data": {
      "image/png": "[encoded data removed]",
      "text/plain": [
       "Plot with title “”"
      ]
     },
     "metadata": {},
     "output_type": "display_data"
    }
   ],
   "source": [
    "plotMA(res)"
   ]
  },
  {
   "cell_type": "markdown",
   "metadata": {},
   "source": [
    "## 3. write results"
   ]
  },
  {
   "cell_type": "code",
   "execution_count": 22,
   "metadata": {},
   "outputs": [],
   "source": [
    "write.table(res, file = \"../../../data/02__screen/01__normalized_counts/l2fcs.DESeq2.txt\", \n",
    "            sep = \"\\t\", quote = FALSE)"
   ]
  },
  {
   "cell_type": "code",
   "execution_count": null,
   "metadata": {},
   "outputs": [],
   "source": []
  }
 ],
 "metadata": {
  "kernelspec": {
   "display_name": "R [conda env:.conda-r-env36]",
   "language": "R",
   "name": "conda-env-.conda-r-env36-r"
  },
  "language_info": {
   "codemirror_mode": "r",
   "file_extension": ".r",
   "mimetype": "text/x-r-source",
   "name": "R",
   "pygments_lexer": "r",
   "version": "3.6.1"
  }
 },
 "nbformat": 4,
 "nbformat_minor": 2
}
