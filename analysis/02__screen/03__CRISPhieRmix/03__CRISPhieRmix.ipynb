{
 "cells": [
  {
   "cell_type": "markdown",
   "metadata": {},
   "source": [
    "# 03__CRISPhieRmix\n",
    "\n",
    "in this notebook, i run CRISPhieRmix on the filtered sgRNA log2 fold changes"
   ]
  },
  {
   "cell_type": "code",
   "execution_count": 1,
   "metadata": {},
   "outputs": [],
   "source": [
    "#install.packages(\"devtools\")"
   ]
  },
  {
   "cell_type": "code",
   "execution_count": 2,
   "metadata": {},
   "outputs": [],
   "source": [
    "#devtools::install_github(\"timydaley/CRISPhieRmix\")"
   ]
  },
  {
   "cell_type": "code",
   "execution_count": 3,
   "metadata": {},
   "outputs": [],
   "source": [
    "library(CRISPhieRmix)"
   ]
  },
  {
   "cell_type": "markdown",
   "metadata": {},
   "source": [
    "## 1. import data, get variables needed"
   ]
  },
  {
   "cell_type": "code",
   "execution_count": 4,
   "metadata": {},
   "outputs": [],
   "source": [
    "data_f = \"../../../data/02__screen/02__enrichment_data/data_filt.with_batch.tmp\""
   ]
  },
  {
   "cell_type": "code",
   "execution_count": 5,
   "metadata": {},
   "outputs": [
    {
     "data": {
      "text/html": [
       "<table>\n",
       "<caption>A data.frame: 6 × 43</caption>\n",
       "<thead>\n",
       "\t<tr><th></th><th scope=col>sgRNA</th><th scope=col>ctrl_status</th><th scope=col>gene_id</th><th scope=col>gene_name</th><th scope=col>transcript_id</th><th scope=col>transcript_name</th><th scope=col>transcript_biotype_status</th><th scope=col>tss_chr_hg38</th><th scope=col>tss_start_hg38</th><th scope=col>tss_strand_hg38</th><th scope=col>⋯</th><th scope=col>padj_diff</th><th scope=col>baseMean_dz</th><th scope=col>raw_l2fc_dz</th><th scope=col>l2fc_dz</th><th scope=col>l2fcSE_dz</th><th scope=col>stat_dz</th><th scope=col>pvalue_dz</th><th scope=col>padj_dz</th><th scope=col>sgRNA_filt</th><th scope=col>group_id_rd</th></tr>\n",
       "\t<tr><th></th><th scope=col>&lt;chr&gt;</th><th scope=col>&lt;chr&gt;</th><th scope=col>&lt;chr&gt;</th><th scope=col>&lt;chr&gt;</th><th scope=col>&lt;chr&gt;</th><th scope=col>&lt;chr&gt;</th><th scope=col>&lt;chr&gt;</th><th scope=col>&lt;chr&gt;</th><th scope=col>&lt;chr&gt;</th><th scope=col>&lt;chr&gt;</th><th scope=col>⋯</th><th scope=col>&lt;dbl&gt;</th><th scope=col>&lt;dbl&gt;</th><th scope=col>&lt;dbl&gt;</th><th scope=col>&lt;dbl&gt;</th><th scope=col>&lt;dbl&gt;</th><th scope=col>&lt;dbl&gt;</th><th scope=col>&lt;dbl&gt;</th><th scope=col>&lt;dbl&gt;</th><th scope=col>&lt;dbl&gt;</th><th scope=col>&lt;chr&gt;</th></tr>\n",
       "</thead>\n",
       "<tbody>\n",
       "\t<tr><th scope=row>1</th><td>GGGAAGTGAGATGACGGTCG</td><td>experimental</td><td>ENSG00000224616.1_1</td><td>RTCA-AS1</td><td>ENST00000421185.1_1</td><td>RTCA-AS1-001</td><td>promoter_overlap</td><td>chr1</td><td>100266115</td><td>-</td><td>⋯</td><td>0.9420532</td><td>1819.6600</td><td>-0.101521199</td><td> 0.11530071</td><td>0.1572539</td><td>-0.6455880</td><td>0.5185462</td><td>0.8215361</td><td>8</td><td>RTCA-AS1-001;;;NC_000001.11:-:100266115;;;experimental;;;promoter_overlap;;;8</td></tr>\n",
       "\t<tr><th scope=row>2</th><td>GGAAGTGAGATGACGGTCGC</td><td>experimental</td><td>ENSG00000224616.1_1</td><td>RTCA-AS1</td><td>ENST00000421185.1_1</td><td>RTCA-AS1-001</td><td>promoter_overlap</td><td>chr1</td><td>100266115</td><td>-</td><td>⋯</td><td>0.7641593</td><td>1860.5120</td><td>-0.009594832</td><td> 0.01103721</td><td>0.1604283</td><td>-0.0598076</td><td>0.9523089</td><td>0.9872230</td><td>8</td><td>RTCA-AS1-001;;;NC_000001.11:-:100266115;;;experimental;;;promoter_overlap;;;8</td></tr>\n",
       "\t<tr><th scope=row>3</th><td>GAAGTGAGATGACGGTCGCG</td><td>experimental</td><td>ENSG00000224616.1_1</td><td>RTCA-AS1</td><td>ENST00000421185.1_1</td><td>RTCA-AS1-001</td><td>promoter_overlap</td><td>chr1</td><td>100266115</td><td>-</td><td>⋯</td><td>0.9606568</td><td>1276.1564</td><td> 0.148680234</td><td>-0.17798390</td><td>0.1827426</td><td> 0.8136045</td><td>0.4158715</td><td>0.7631130</td><td>8</td><td>RTCA-AS1-001;;;NC_000001.11:-:100266115;;;experimental;;;promoter_overlap;;;8</td></tr>\n",
       "\t<tr><th scope=row>4</th><td>CCCTGAAAAACTTGTGCCCT</td><td>experimental</td><td>ENSG00000224616.1_1</td><td>RTCA-AS1</td><td>ENST00000421185.1_1</td><td>RTCA-AS1-001</td><td>promoter_overlap</td><td>chr1</td><td>100266115</td><td>-</td><td>⋯</td><td>0.7165734</td><td>3147.4102</td><td> 0.077057584</td><td>-0.08324473</td><td>0.1270343</td><td> 0.6065887</td><td>0.5441239</td><td>0.8312478</td><td>8</td><td>RTCA-AS1-001;;;NC_000001.11:-:100266115;;;experimental;;;promoter_overlap;;;8</td></tr>\n",
       "\t<tr><th scope=row>5</th><td>CTGCCGGGGAAGTGAGATGA</td><td>experimental</td><td>ENSG00000224616.1_1</td><td>RTCA-AS1</td><td>ENST00000421185.1_1</td><td>RTCA-AS1-001</td><td>promoter_overlap</td><td>chr1</td><td>100266115</td><td>-</td><td>⋯</td><td>0.8139329</td><td>1264.3644</td><td>-0.194711787</td><td> 0.23184131</td><td>0.1773541</td><td>-1.0978701</td><td>0.2722612</td><td>0.6551618</td><td>8</td><td>RTCA-AS1-001;;;NC_000001.11:-:100266115;;;experimental;;;promoter_overlap;;;8</td></tr>\n",
       "\t<tr><th scope=row>6</th><td>GCCCTGAAAAACTTGTGCCC</td><td>experimental</td><td>ENSG00000224616.1_1</td><td>RTCA-AS1</td><td>ENST00000421185.1_1</td><td>RTCA-AS1-001</td><td>promoter_overlap</td><td>chr1</td><td>100266115</td><td>-</td><td>⋯</td><td>0.9338354</td><td> 911.7831</td><td>-0.164146930</td><td> 0.20738000</td><td>0.2008389</td><td>-0.8173065</td><td>0.4137533</td><td>0.7614742</td><td>8</td><td>RTCA-AS1-001;;;NC_000001.11:-:100266115;;;experimental;;;promoter_overlap;;;8</td></tr>\n",
       "</tbody>\n",
       "</table>\n"
      ],
      "text/latex": [
       "A data.frame: 6 × 43\n",
       "\\begin{tabular}{r|lllllllllllllllllllll}\n",
       "  & sgRNA & ctrl\\_status & gene\\_id & gene\\_name & transcript\\_id & transcript\\_name & transcript\\_biotype\\_status & tss\\_chr\\_hg38 & tss\\_start\\_hg38 & tss\\_strand\\_hg38 & ⋯ & padj\\_diff & baseMean\\_dz & raw\\_l2fc\\_dz & l2fc\\_dz & l2fcSE\\_dz & stat\\_dz & pvalue\\_dz & padj\\_dz & sgRNA\\_filt & group\\_id\\_rd\\\\\n",
       "  & <chr> & <chr> & <chr> & <chr> & <chr> & <chr> & <chr> & <chr> & <chr> & <chr> & ⋯ & <dbl> & <dbl> & <dbl> & <dbl> & <dbl> & <dbl> & <dbl> & <dbl> & <dbl> & <chr>\\\\\n",
       "\\hline\n",
       "\t1 & GGGAAGTGAGATGACGGTCG & experimental & ENSG00000224616.1\\_1 & RTCA-AS1 & ENST00000421185.1\\_1 & RTCA-AS1-001 & promoter\\_overlap & chr1 & 100266115 & - & ⋯ & 0.9420532 & 1819.6600 & -0.101521199 &  0.11530071 & 0.1572539 & -0.6455880 & 0.5185462 & 0.8215361 & 8 & RTCA-AS1-001;;;NC\\_000001.11:-:100266115;;;experimental;;;promoter\\_overlap;;;8\\\\\n",
       "\t2 & GGAAGTGAGATGACGGTCGC & experimental & ENSG00000224616.1\\_1 & RTCA-AS1 & ENST00000421185.1\\_1 & RTCA-AS1-001 & promoter\\_overlap & chr1 & 100266115 & - & ⋯ & 0.7641593 & 1860.5120 & -0.009594832 &  0.01103721 & 0.1604283 & -0.0598076 & 0.9523089 & 0.9872230 & 8 & RTCA-AS1-001;;;NC\\_000001.11:-:100266115;;;experimental;;;promoter\\_overlap;;;8\\\\\n",
       "\t3 & GAAGTGAGATGACGGTCGCG & experimental & ENSG00000224616.1\\_1 & RTCA-AS1 & ENST00000421185.1\\_1 & RTCA-AS1-001 & promoter\\_overlap & chr1 & 100266115 & - & ⋯ & 0.9606568 & 1276.1564 &  0.148680234 & -0.17798390 & 0.1827426 &  0.8136045 & 0.4158715 & 0.7631130 & 8 & RTCA-AS1-001;;;NC\\_000001.11:-:100266115;;;experimental;;;promoter\\_overlap;;;8\\\\\n",
       "\t4 & CCCTGAAAAACTTGTGCCCT & experimental & ENSG00000224616.1\\_1 & RTCA-AS1 & ENST00000421185.1\\_1 & RTCA-AS1-001 & promoter\\_overlap & chr1 & 100266115 & - & ⋯ & 0.7165734 & 3147.4102 &  0.077057584 & -0.08324473 & 0.1270343 &  0.6065887 & 0.5441239 & 0.8312478 & 8 & RTCA-AS1-001;;;NC\\_000001.11:-:100266115;;;experimental;;;promoter\\_overlap;;;8\\\\\n",
       "\t5 & CTGCCGGGGAAGTGAGATGA & experimental & ENSG00000224616.1\\_1 & RTCA-AS1 & ENST00000421185.1\\_1 & RTCA-AS1-001 & promoter\\_overlap & chr1 & 100266115 & - & ⋯ & 0.8139329 & 1264.3644 & -0.194711787 &  0.23184131 & 0.1773541 & -1.0978701 & 0.2722612 & 0.6551618 & 8 & RTCA-AS1-001;;;NC\\_000001.11:-:100266115;;;experimental;;;promoter\\_overlap;;;8\\\\\n",
       "\t6 & GCCCTGAAAAACTTGTGCCC & experimental & ENSG00000224616.1\\_1 & RTCA-AS1 & ENST00000421185.1\\_1 & RTCA-AS1-001 & promoter\\_overlap & chr1 & 100266115 & - & ⋯ & 0.9338354 &  911.7831 & -0.164146930 &  0.20738000 & 0.2008389 & -0.8173065 & 0.4137533 & 0.7614742 & 8 & RTCA-AS1-001;;;NC\\_000001.11:-:100266115;;;experimental;;;promoter\\_overlap;;;8\\\\\n",
       "\\end{tabular}\n"
      ],
      "text/markdown": [
       "\n",
       "A data.frame: 6 × 43\n",
       "\n",
       "| <!--/--> | sgRNA &lt;chr&gt; | ctrl_status &lt;chr&gt; | gene_id &lt;chr&gt; | gene_name &lt;chr&gt; | transcript_id &lt;chr&gt; | transcript_name &lt;chr&gt; | transcript_biotype_status &lt;chr&gt; | tss_chr_hg38 &lt;chr&gt; | tss_start_hg38 &lt;chr&gt; | tss_strand_hg38 &lt;chr&gt; | ⋯ ⋯ | padj_diff &lt;dbl&gt; | baseMean_dz &lt;dbl&gt; | raw_l2fc_dz &lt;dbl&gt; | l2fc_dz &lt;dbl&gt; | l2fcSE_dz &lt;dbl&gt; | stat_dz &lt;dbl&gt; | pvalue_dz &lt;dbl&gt; | padj_dz &lt;dbl&gt; | sgRNA_filt &lt;dbl&gt; | group_id_rd &lt;chr&gt; |\n",
       "|---|---|---|---|---|---|---|---|---|---|---|---|---|---|---|---|---|---|---|---|---|---|\n",
       "| 1 | GGGAAGTGAGATGACGGTCG | experimental | ENSG00000224616.1_1 | RTCA-AS1 | ENST00000421185.1_1 | RTCA-AS1-001 | promoter_overlap | chr1 | 100266115 | - | ⋯ | 0.9420532 | 1819.6600 | -0.101521199 |  0.11530071 | 0.1572539 | -0.6455880 | 0.5185462 | 0.8215361 | 8 | RTCA-AS1-001;;;NC_000001.11:-:100266115;;;experimental;;;promoter_overlap;;;8 |\n",
       "| 2 | GGAAGTGAGATGACGGTCGC | experimental | ENSG00000224616.1_1 | RTCA-AS1 | ENST00000421185.1_1 | RTCA-AS1-001 | promoter_overlap | chr1 | 100266115 | - | ⋯ | 0.7641593 | 1860.5120 | -0.009594832 |  0.01103721 | 0.1604283 | -0.0598076 | 0.9523089 | 0.9872230 | 8 | RTCA-AS1-001;;;NC_000001.11:-:100266115;;;experimental;;;promoter_overlap;;;8 |\n",
       "| 3 | GAAGTGAGATGACGGTCGCG | experimental | ENSG00000224616.1_1 | RTCA-AS1 | ENST00000421185.1_1 | RTCA-AS1-001 | promoter_overlap | chr1 | 100266115 | - | ⋯ | 0.9606568 | 1276.1564 |  0.148680234 | -0.17798390 | 0.1827426 |  0.8136045 | 0.4158715 | 0.7631130 | 8 | RTCA-AS1-001;;;NC_000001.11:-:100266115;;;experimental;;;promoter_overlap;;;8 |\n",
       "| 4 | CCCTGAAAAACTTGTGCCCT | experimental | ENSG00000224616.1_1 | RTCA-AS1 | ENST00000421185.1_1 | RTCA-AS1-001 | promoter_overlap | chr1 | 100266115 | - | ⋯ | 0.7165734 | 3147.4102 |  0.077057584 | -0.08324473 | 0.1270343 |  0.6065887 | 0.5441239 | 0.8312478 | 8 | RTCA-AS1-001;;;NC_000001.11:-:100266115;;;experimental;;;promoter_overlap;;;8 |\n",
       "| 5 | CTGCCGGGGAAGTGAGATGA | experimental | ENSG00000224616.1_1 | RTCA-AS1 | ENST00000421185.1_1 | RTCA-AS1-001 | promoter_overlap | chr1 | 100266115 | - | ⋯ | 0.8139329 | 1264.3644 | -0.194711787 |  0.23184131 | 0.1773541 | -1.0978701 | 0.2722612 | 0.6551618 | 8 | RTCA-AS1-001;;;NC_000001.11:-:100266115;;;experimental;;;promoter_overlap;;;8 |\n",
       "| 6 | GCCCTGAAAAACTTGTGCCC | experimental | ENSG00000224616.1_1 | RTCA-AS1 | ENST00000421185.1_1 | RTCA-AS1-001 | promoter_overlap | chr1 | 100266115 | - | ⋯ | 0.9338354 |  911.7831 | -0.164146930 |  0.20738000 | 0.2008389 | -0.8173065 | 0.4137533 | 0.7614742 | 8 | RTCA-AS1-001;;;NC_000001.11:-:100266115;;;experimental;;;promoter_overlap;;;8 |\n",
       "\n"
      ],
      "text/plain": [
       "  sgRNA                ctrl_status  gene_id             gene_name\n",
       "1 GGGAAGTGAGATGACGGTCG experimental ENSG00000224616.1_1 RTCA-AS1 \n",
       "2 GGAAGTGAGATGACGGTCGC experimental ENSG00000224616.1_1 RTCA-AS1 \n",
       "3 GAAGTGAGATGACGGTCGCG experimental ENSG00000224616.1_1 RTCA-AS1 \n",
       "4 CCCTGAAAAACTTGTGCCCT experimental ENSG00000224616.1_1 RTCA-AS1 \n",
       "5 CTGCCGGGGAAGTGAGATGA experimental ENSG00000224616.1_1 RTCA-AS1 \n",
       "6 GCCCTGAAAAACTTGTGCCC experimental ENSG00000224616.1_1 RTCA-AS1 \n",
       "  transcript_id       transcript_name transcript_biotype_status tss_chr_hg38\n",
       "1 ENST00000421185.1_1 RTCA-AS1-001    promoter_overlap          chr1        \n",
       "2 ENST00000421185.1_1 RTCA-AS1-001    promoter_overlap          chr1        \n",
       "3 ENST00000421185.1_1 RTCA-AS1-001    promoter_overlap          chr1        \n",
       "4 ENST00000421185.1_1 RTCA-AS1-001    promoter_overlap          chr1        \n",
       "5 ENST00000421185.1_1 RTCA-AS1-001    promoter_overlap          chr1        \n",
       "6 ENST00000421185.1_1 RTCA-AS1-001    promoter_overlap          chr1        \n",
       "  tss_start_hg38 tss_strand_hg38 ⋯ padj_diff baseMean_dz raw_l2fc_dz \n",
       "1 100266115      -               ⋯ 0.9420532 1819.6600   -0.101521199\n",
       "2 100266115      -               ⋯ 0.7641593 1860.5120   -0.009594832\n",
       "3 100266115      -               ⋯ 0.9606568 1276.1564    0.148680234\n",
       "4 100266115      -               ⋯ 0.7165734 3147.4102    0.077057584\n",
       "5 100266115      -               ⋯ 0.8139329 1264.3644   -0.194711787\n",
       "6 100266115      -               ⋯ 0.9338354  911.7831   -0.164146930\n",
       "  l2fc_dz     l2fcSE_dz stat_dz    pvalue_dz padj_dz   sgRNA_filt\n",
       "1  0.11530071 0.1572539 -0.6455880 0.5185462 0.8215361 8         \n",
       "2  0.01103721 0.1604283 -0.0598076 0.9523089 0.9872230 8         \n",
       "3 -0.17798390 0.1827426  0.8136045 0.4158715 0.7631130 8         \n",
       "4 -0.08324473 0.1270343  0.6065887 0.5441239 0.8312478 8         \n",
       "5  0.23184131 0.1773541 -1.0978701 0.2722612 0.6551618 8         \n",
       "6  0.20738000 0.2008389 -0.8173065 0.4137533 0.7614742 8         \n",
       "  group_id_rd                                                                  \n",
       "1 RTCA-AS1-001;;;NC_000001.11:-:100266115;;;experimental;;;promoter_overlap;;;8\n",
       "2 RTCA-AS1-001;;;NC_000001.11:-:100266115;;;experimental;;;promoter_overlap;;;8\n",
       "3 RTCA-AS1-001;;;NC_000001.11:-:100266115;;;experimental;;;promoter_overlap;;;8\n",
       "4 RTCA-AS1-001;;;NC_000001.11:-:100266115;;;experimental;;;promoter_overlap;;;8\n",
       "5 RTCA-AS1-001;;;NC_000001.11:-:100266115;;;experimental;;;promoter_overlap;;;8\n",
       "6 RTCA-AS1-001;;;NC_000001.11:-:100266115;;;experimental;;;promoter_overlap;;;8"
      ]
     },
     "metadata": {},
     "output_type": "display_data"
    }
   ],
   "source": [
    "data <- read.table(data_f, sep=\"\\t\", header=TRUE)\n",
    "head(data)"
   ]
  },
  {
   "cell_type": "code",
   "execution_count": 6,
   "metadata": {},
   "outputs": [
    {
     "data": {
      "text/html": [
       "<style>\n",
       ".list-inline {list-style: none; margin:0; padding: 0}\n",
       ".list-inline>li {display: inline-block}\n",
       ".list-inline>li:not(:last-child)::after {content: \"\\00b7\"; padding: 0 .5ex}\n",
       "</style>\n",
       "<ol class=list-inline><li>'sgRNA'</li><li>'ctrl_status'</li><li>'gene_id'</li><li>'gene_name'</li><li>'transcript_id'</li><li>'transcript_name'</li><li>'transcript_biotype_status'</li><li>'tss_chr_hg38'</li><li>'tss_start_hg38'</li><li>'tss_strand_hg38'</li><li>'tss_type'</li><li>'tss_id_hg38'</li><li>'sgRNA_id'</li><li>'DZ_Rep1__counts'</li><li>'DZ_Rep2__counts'</li><li>'Pos_Rep1__counts'</li><li>'Pos_Rep2__counts'</li><li>'Neg_Rep1__counts'</li><li>'Neg_Rep2__counts'</li><li>'DZ_Rep1__cpm'</li><li>'DZ_Rep2__cpm'</li><li>'Pos_Rep1__cpm'</li><li>'Pos_Rep2__cpm'</li><li>'Neg_Rep1__cpm'</li><li>'Neg_Rep2__cpm'</li><li>'scramble_id'</li><li>'group_id'</li><li>'baseMean_diff'</li><li>'raw_l2fc_diff'</li><li>'l2fc_diff'</li><li>'l2fcSE_diff'</li><li>'stat_diff'</li><li>'pvalue_diff'</li><li>'padj_diff'</li><li>'baseMean_dz'</li><li>'raw_l2fc_dz'</li><li>'l2fc_dz'</li><li>'l2fcSE_dz'</li><li>'stat_dz'</li><li>'pvalue_dz'</li><li>'padj_dz'</li><li>'sgRNA_filt'</li><li>'group_id_rd'</li></ol>\n"
      ],
      "text/latex": [
       "\\begin{enumerate*}\n",
       "\\item 'sgRNA'\n",
       "\\item 'ctrl\\_status'\n",
       "\\item 'gene\\_id'\n",
       "\\item 'gene\\_name'\n",
       "\\item 'transcript\\_id'\n",
       "\\item 'transcript\\_name'\n",
       "\\item 'transcript\\_biotype\\_status'\n",
       "\\item 'tss\\_chr\\_hg38'\n",
       "\\item 'tss\\_start\\_hg38'\n",
       "\\item 'tss\\_strand\\_hg38'\n",
       "\\item 'tss\\_type'\n",
       "\\item 'tss\\_id\\_hg38'\n",
       "\\item 'sgRNA\\_id'\n",
       "\\item 'DZ\\_Rep1\\_\\_counts'\n",
       "\\item 'DZ\\_Rep2\\_\\_counts'\n",
       "\\item 'Pos\\_Rep1\\_\\_counts'\n",
       "\\item 'Pos\\_Rep2\\_\\_counts'\n",
       "\\item 'Neg\\_Rep1\\_\\_counts'\n",
       "\\item 'Neg\\_Rep2\\_\\_counts'\n",
       "\\item 'DZ\\_Rep1\\_\\_cpm'\n",
       "\\item 'DZ\\_Rep2\\_\\_cpm'\n",
       "\\item 'Pos\\_Rep1\\_\\_cpm'\n",
       "\\item 'Pos\\_Rep2\\_\\_cpm'\n",
       "\\item 'Neg\\_Rep1\\_\\_cpm'\n",
       "\\item 'Neg\\_Rep2\\_\\_cpm'\n",
       "\\item 'scramble\\_id'\n",
       "\\item 'group\\_id'\n",
       "\\item 'baseMean\\_diff'\n",
       "\\item 'raw\\_l2fc\\_diff'\n",
       "\\item 'l2fc\\_diff'\n",
       "\\item 'l2fcSE\\_diff'\n",
       "\\item 'stat\\_diff'\n",
       "\\item 'pvalue\\_diff'\n",
       "\\item 'padj\\_diff'\n",
       "\\item 'baseMean\\_dz'\n",
       "\\item 'raw\\_l2fc\\_dz'\n",
       "\\item 'l2fc\\_dz'\n",
       "\\item 'l2fcSE\\_dz'\n",
       "\\item 'stat\\_dz'\n",
       "\\item 'pvalue\\_dz'\n",
       "\\item 'padj\\_dz'\n",
       "\\item 'sgRNA\\_filt'\n",
       "\\item 'group\\_id\\_rd'\n",
       "\\end{enumerate*}\n"
      ],
      "text/markdown": [
       "1. 'sgRNA'\n",
       "2. 'ctrl_status'\n",
       "3. 'gene_id'\n",
       "4. 'gene_name'\n",
       "5. 'transcript_id'\n",
       "6. 'transcript_name'\n",
       "7. 'transcript_biotype_status'\n",
       "8. 'tss_chr_hg38'\n",
       "9. 'tss_start_hg38'\n",
       "10. 'tss_strand_hg38'\n",
       "11. 'tss_type'\n",
       "12. 'tss_id_hg38'\n",
       "13. 'sgRNA_id'\n",
       "14. 'DZ_Rep1__counts'\n",
       "15. 'DZ_Rep2__counts'\n",
       "16. 'Pos_Rep1__counts'\n",
       "17. 'Pos_Rep2__counts'\n",
       "18. 'Neg_Rep1__counts'\n",
       "19. 'Neg_Rep2__counts'\n",
       "20. 'DZ_Rep1__cpm'\n",
       "21. 'DZ_Rep2__cpm'\n",
       "22. 'Pos_Rep1__cpm'\n",
       "23. 'Pos_Rep2__cpm'\n",
       "24. 'Neg_Rep1__cpm'\n",
       "25. 'Neg_Rep2__cpm'\n",
       "26. 'scramble_id'\n",
       "27. 'group_id'\n",
       "28. 'baseMean_diff'\n",
       "29. 'raw_l2fc_diff'\n",
       "30. 'l2fc_diff'\n",
       "31. 'l2fcSE_diff'\n",
       "32. 'stat_diff'\n",
       "33. 'pvalue_diff'\n",
       "34. 'padj_diff'\n",
       "35. 'baseMean_dz'\n",
       "36. 'raw_l2fc_dz'\n",
       "37. 'l2fc_dz'\n",
       "38. 'l2fcSE_dz'\n",
       "39. 'stat_dz'\n",
       "40. 'pvalue_dz'\n",
       "41. 'padj_dz'\n",
       "42. 'sgRNA_filt'\n",
       "43. 'group_id_rd'\n",
       "\n",
       "\n"
      ],
      "text/plain": [
       " [1] \"sgRNA\"                     \"ctrl_status\"              \n",
       " [3] \"gene_id\"                   \"gene_name\"                \n",
       " [5] \"transcript_id\"             \"transcript_name\"          \n",
       " [7] \"transcript_biotype_status\" \"tss_chr_hg38\"             \n",
       " [9] \"tss_start_hg38\"            \"tss_strand_hg38\"          \n",
       "[11] \"tss_type\"                  \"tss_id_hg38\"              \n",
       "[13] \"sgRNA_id\"                  \"DZ_Rep1__counts\"          \n",
       "[15] \"DZ_Rep2__counts\"           \"Pos_Rep1__counts\"         \n",
       "[17] \"Pos_Rep2__counts\"          \"Neg_Rep1__counts\"         \n",
       "[19] \"Neg_Rep2__counts\"          \"DZ_Rep1__cpm\"             \n",
       "[21] \"DZ_Rep2__cpm\"              \"Pos_Rep1__cpm\"            \n",
       "[23] \"Pos_Rep2__cpm\"             \"Neg_Rep1__cpm\"            \n",
       "[25] \"Neg_Rep2__cpm\"             \"scramble_id\"              \n",
       "[27] \"group_id\"                  \"baseMean_diff\"            \n",
       "[29] \"raw_l2fc_diff\"             \"l2fc_diff\"                \n",
       "[31] \"l2fcSE_diff\"               \"stat_diff\"                \n",
       "[33] \"pvalue_diff\"               \"padj_diff\"                \n",
       "[35] \"baseMean_dz\"               \"raw_l2fc_dz\"              \n",
       "[37] \"l2fc_dz\"                   \"l2fcSE_dz\"                \n",
       "[39] \"stat_dz\"                   \"pvalue_dz\"                \n",
       "[41] \"padj_dz\"                   \"sgRNA_filt\"               \n",
       "[43] \"group_id_rd\"              "
      ]
     },
     "metadata": {},
     "output_type": "display_data"
    }
   ],
   "source": [
    "names(data)"
   ]
  },
  {
   "cell_type": "markdown",
   "metadata": {},
   "source": [
    "### first use CRISPhieRmix to calculate gene scores for undiff/diff (differentiation-related)"
   ]
  },
  {
   "cell_type": "code",
   "execution_count": 7,
   "metadata": {},
   "outputs": [
    {
     "data": {
      "text/html": [
       "<style>\n",
       ".list-inline {list-style: none; margin:0; padding: 0}\n",
       ".list-inline>li {display: inline-block}\n",
       ".list-inline>li:not(:last-child)::after {content: \"\\00b7\"; padding: 0 .5ex}\n",
       "</style>\n",
       "<ol class=list-inline><li>0.142884815244239</li><li>0.509978668602162</li><li>-0.391168380535838</li><li>0.282262979562935</li><li>0.562238386830325</li><li>-0.318818366826331</li></ol>\n"
      ],
      "text/latex": [
       "\\begin{enumerate*}\n",
       "\\item 0.142884815244239\n",
       "\\item 0.509978668602162\n",
       "\\item -0.391168380535838\n",
       "\\item 0.282262979562935\n",
       "\\item 0.562238386830325\n",
       "\\item -0.318818366826331\n",
       "\\end{enumerate*}\n"
      ],
      "text/markdown": [
       "1. 0.142884815244239\n",
       "2. 0.509978668602162\n",
       "3. -0.391168380535838\n",
       "4. 0.282262979562935\n",
       "5. 0.562238386830325\n",
       "6. -0.318818366826331\n",
       "\n",
       "\n"
      ],
      "text/plain": [
       "[1]  0.1428848  0.5099787 -0.3911684  0.2822630  0.5622384 -0.3188184"
      ]
     },
     "metadata": {},
     "output_type": "display_data"
    }
   ],
   "source": [
    "# x needs to be the l2fcs of target genes\n",
    "tgts <- data[which(data$ctrl_status != \"scramble\"), ]\n",
    "x <- tgts$l2fc_diff\n",
    "\n",
    "head(x)"
   ]
  },
  {
   "cell_type": "code",
   "execution_count": 8,
   "metadata": {},
   "outputs": [
    {
     "data": {
      "text/html": [
       "<style>\n",
       ".list-inline {list-style: none; margin:0; padding: 0}\n",
       ".list-inline>li {display: inline-block}\n",
       ".list-inline>li:not(:last-child)::after {content: \"\\00b7\"; padding: 0 .5ex}\n",
       "</style>\n",
       "<ol class=list-inline><li>'RTCA-AS1-001;;;NC_000001.11:-:100266115;;;experimental;;;promoter_overlap;;;8'</li><li>'RTCA-AS1-001;;;NC_000001.11:-:100266115;;;experimental;;;promoter_overlap;;;8'</li><li>'RTCA-AS1-001;;;NC_000001.11:-:100266115;;;experimental;;;promoter_overlap;;;8'</li><li>'RTCA-AS1-001;;;NC_000001.11:-:100266115;;;experimental;;;promoter_overlap;;;8'</li><li>'RTCA-AS1-001;;;NC_000001.11:-:100266115;;;experimental;;;promoter_overlap;;;8'</li><li>'RTCA-AS1-001;;;NC_000001.11:-:100266115;;;experimental;;;promoter_overlap;;;8'</li></ol>\n"
      ],
      "text/latex": [
       "\\begin{enumerate*}\n",
       "\\item 'RTCA-AS1-001;;;NC\\_000001.11:-:100266115;;;experimental;;;promoter\\_overlap;;;8'\n",
       "\\item 'RTCA-AS1-001;;;NC\\_000001.11:-:100266115;;;experimental;;;promoter\\_overlap;;;8'\n",
       "\\item 'RTCA-AS1-001;;;NC\\_000001.11:-:100266115;;;experimental;;;promoter\\_overlap;;;8'\n",
       "\\item 'RTCA-AS1-001;;;NC\\_000001.11:-:100266115;;;experimental;;;promoter\\_overlap;;;8'\n",
       "\\item 'RTCA-AS1-001;;;NC\\_000001.11:-:100266115;;;experimental;;;promoter\\_overlap;;;8'\n",
       "\\item 'RTCA-AS1-001;;;NC\\_000001.11:-:100266115;;;experimental;;;promoter\\_overlap;;;8'\n",
       "\\end{enumerate*}\n"
      ],
      "text/markdown": [
       "1. 'RTCA-AS1-001;;;NC_000001.11:-:100266115;;;experimental;;;promoter_overlap;;;8'\n",
       "2. 'RTCA-AS1-001;;;NC_000001.11:-:100266115;;;experimental;;;promoter_overlap;;;8'\n",
       "3. 'RTCA-AS1-001;;;NC_000001.11:-:100266115;;;experimental;;;promoter_overlap;;;8'\n",
       "4. 'RTCA-AS1-001;;;NC_000001.11:-:100266115;;;experimental;;;promoter_overlap;;;8'\n",
       "5. 'RTCA-AS1-001;;;NC_000001.11:-:100266115;;;experimental;;;promoter_overlap;;;8'\n",
       "6. 'RTCA-AS1-001;;;NC_000001.11:-:100266115;;;experimental;;;promoter_overlap;;;8'\n",
       "\n",
       "\n"
      ],
      "text/plain": [
       "[1] \"RTCA-AS1-001;;;NC_000001.11:-:100266115;;;experimental;;;promoter_overlap;;;8\"\n",
       "[2] \"RTCA-AS1-001;;;NC_000001.11:-:100266115;;;experimental;;;promoter_overlap;;;8\"\n",
       "[3] \"RTCA-AS1-001;;;NC_000001.11:-:100266115;;;experimental;;;promoter_overlap;;;8\"\n",
       "[4] \"RTCA-AS1-001;;;NC_000001.11:-:100266115;;;experimental;;;promoter_overlap;;;8\"\n",
       "[5] \"RTCA-AS1-001;;;NC_000001.11:-:100266115;;;experimental;;;promoter_overlap;;;8\"\n",
       "[6] \"RTCA-AS1-001;;;NC_000001.11:-:100266115;;;experimental;;;promoter_overlap;;;8\""
      ]
     },
     "metadata": {},
     "output_type": "display_data"
    }
   ],
   "source": [
    "# geneIds needs to be the geneIds associated with x\n",
    "geneIds <- tgts$group_id_rd\n",
    "head(geneIds)"
   ]
  },
  {
   "cell_type": "code",
   "execution_count": 9,
   "metadata": {},
   "outputs": [
    {
     "data": {
      "text/html": [
       "<style>\n",
       ".list-inline {list-style: none; margin:0; padding: 0}\n",
       ".list-inline>li {display: inline-block}\n",
       ".list-inline>li:not(:last-child)::after {content: \"\\00b7\"; padding: 0 .5ex}\n",
       "</style>\n",
       "<ol class=list-inline><li>2.01862595279665</li><li>-0.584911163109985</li><li>0.139634526995321</li><li>1.07417416327823</li><li>-0.599655865865873</li><li>-0.553726980135268</li></ol>\n"
      ],
      "text/latex": [
       "\\begin{enumerate*}\n",
       "\\item 2.01862595279665\n",
       "\\item -0.584911163109985\n",
       "\\item 0.139634526995321\n",
       "\\item 1.07417416327823\n",
       "\\item -0.599655865865873\n",
       "\\item -0.553726980135268\n",
       "\\end{enumerate*}\n"
      ],
      "text/markdown": [
       "1. 2.01862595279665\n",
       "2. -0.584911163109985\n",
       "3. 0.139634526995321\n",
       "4. 1.07417416327823\n",
       "5. -0.599655865865873\n",
       "6. -0.553726980135268\n",
       "\n",
       "\n"
      ],
      "text/plain": [
       "[1]  2.0186260 -0.5849112  0.1396345  1.0741742 -0.5996559 -0.5537270"
      ]
     },
     "metadata": {},
     "output_type": "display_data"
    }
   ],
   "source": [
    "# negCtrl needs to be the l2fcs of scrambles\n",
    "negs <- data[which(data$ctrl_status == \"scramble\"), ]\n",
    "negCtrl <- negs$l2fc_diff\n",
    "\n",
    "head(negCtrl)"
   ]
  },
  {
   "cell_type": "code",
   "execution_count": 10,
   "metadata": {},
   "outputs": [
    {
     "name": "stdout",
     "output_type": "stream",
     "text": [
      "fit negative control distributions \n",
      "2 groups \n",
      "converged \n",
      "mu =  2.718923 \n",
      "sigma =  2.194188 \n",
      "pq =  0.003520471 \n"
     ]
    },
    {
     "data": {
      "image/png": "[encoded data removed]",
      "text/plain": [
       "Plot with title “negative control fit”"
      ]
     },
     "metadata": {
      "image/png": {
       "height": 420,
       "width": 420
      }
     },
     "output_type": "display_data"
    },
    {
     "data": {
      "image/png": "[encoded data removed]",
      "text/plain": [
       "Plot with title “mixture fit to observations”"
      ]
     },
     "metadata": {
      "image/png": {
       "height": 420,
       "width": 420
      }
     },
     "output_type": "display_data"
    }
   ],
   "source": [
    "l2fc_diff.CRISPhieRmix <- CRISPhieRmix(x = x, geneIds = geneIds, negCtrl = negCtrl,\n",
    "                                       VERBOSE = TRUE, PLOT = TRUE)"
   ]
  },
  {
   "cell_type": "code",
   "execution_count": 11,
   "metadata": {},
   "outputs": [
    {
     "data": {
      "image/png": "[encoded data removed]",
      "text/plain": [
       "Plot with title “Histogram of l2fc_diff.CRISPhieRmix$FDR”"
      ]
     },
     "metadata": {
      "image/png": {
       "height": 420,
       "width": 420
      }
     },
     "output_type": "display_data"
    }
   ],
   "source": [
    "hist(l2fc_diff.CRISPhieRmix$FDR, breaks = 100)"
   ]
  },
  {
   "cell_type": "code",
   "execution_count": 12,
   "metadata": {},
   "outputs": [
    {
     "data": {
      "text/html": [
       "73"
      ],
      "text/latex": [
       "73"
      ],
      "text/markdown": [
       "73"
      ],
      "text/plain": [
       "[1] 73"
      ]
     },
     "metadata": {},
     "output_type": "display_data"
    }
   ],
   "source": [
    "sum(l2fc_diff.CRISPhieRmix$FDR < 0.1)"
   ]
  },
  {
   "cell_type": "code",
   "execution_count": 13,
   "metadata": {},
   "outputs": [
    {
     "data": {
      "text/html": [
       "65"
      ],
      "text/latex": [
       "65"
      ],
      "text/markdown": [
       "65"
      ],
      "text/plain": [
       "[1] 65"
      ]
     },
     "metadata": {},
     "output_type": "display_data"
    }
   ],
   "source": [
    "sum(l2fc_diff.CRISPhieRmix$FDR < 0.05)"
   ]
  },
  {
   "cell_type": "code",
   "execution_count": 14,
   "metadata": {},
   "outputs": [
    {
     "data": {
      "text/html": [
       "<table>\n",
       "<caption>A data.frame: 10 × 2</caption>\n",
       "<thead>\n",
       "\t<tr><th></th><th scope=col>groups</th><th scope=col>FDR</th></tr>\n",
       "\t<tr><th></th><th scope=col>&lt;chr&gt;</th><th scope=col>&lt;dbl&gt;</th></tr>\n",
       "</thead>\n",
       "<tbody>\n",
       "\t<tr><th scope=row>677</th><td>[RP11-120D5.1-005, RP11-120D5.1-004];;;NC_000023.11:-:11111137;;;experimental;;;promoter_overlap;;;7</td><td>0.000000e+00</td></tr>\n",
       "\t<tr><th scope=row>3278</th><td>EOMES-001;;;NC_000003.12:-:27722322;;;control;;;protein_coding;;;6                                  </td><td>0.000000e+00</td></tr>\n",
       "\t<tr><th scope=row>3279</th><td>EOMES-004;;;NC_000003.12:-:27722707;;;control;;;protein_coding;;;6                                  </td><td>0.000000e+00</td></tr>\n",
       "\t<tr><th scope=row>3554</th><td>HOXC-AS1-002;;;NC_000012.12:-:53999649;;;experimental;;;promoter_overlap;;;8                        </td><td>0.000000e+00</td></tr>\n",
       "\t<tr><th scope=row>5205</th><td>RP11-121L10.2-001;;;NC_000011.10:+:90223166;;;experimental;;;promoter_overlap;;;8                   </td><td>0.000000e+00</td></tr>\n",
       "\t<tr><th scope=row>8979</th><td>RP4-621N11.2-001;;;NC_000020.11:+:37095770;;;experimental;;;promoter_overlap;;;5                    </td><td>0.000000e+00</td></tr>\n",
       "\t<tr><th scope=row>9359</th><td>SMARCA4-014;;;NC_000019.10:+:11060127;;;mRNA;;;protein_coding;;;6                                   </td><td>0.000000e+00</td></tr>\n",
       "\t<tr><th scope=row>9415</th><td>SOX17-001;;;NC_000008.11:+:54457934;;;control;;;protein_coding;;;7                                  </td><td>0.000000e+00</td></tr>\n",
       "\t<tr><th scope=row>9465</th><td>STC2-001;;;NC_000005.10:-:173329499;;;mRNA;;;protein_coding;;;6                                     </td><td>3.700743e-17</td></tr>\n",
       "\t<tr><th scope=row>1912</th><td>ACVR2B-AS1-001;;;NC_000003.12:-:38454682;;;experimental;;;promoter_overlap;;;10                     </td><td>1.332268e-16</td></tr>\n",
       "</tbody>\n",
       "</table>\n"
      ],
      "text/latex": [
       "A data.frame: 10 × 2\n",
       "\\begin{tabular}{r|ll}\n",
       "  & groups & FDR\\\\\n",
       "  & <chr> & <dbl>\\\\\n",
       "\\hline\n",
       "\t677 & {[}RP11-120D5.1-005, RP11-120D5.1-004{]};;;NC\\_000023.11:-:11111137;;;experimental;;;promoter\\_overlap;;;7 & 0.000000e+00\\\\\n",
       "\t3278 & EOMES-001;;;NC\\_000003.12:-:27722322;;;control;;;protein\\_coding;;;6                                   & 0.000000e+00\\\\\n",
       "\t3279 & EOMES-004;;;NC\\_000003.12:-:27722707;;;control;;;protein\\_coding;;;6                                   & 0.000000e+00\\\\\n",
       "\t3554 & HOXC-AS1-002;;;NC\\_000012.12:-:53999649;;;experimental;;;promoter\\_overlap;;;8                         & 0.000000e+00\\\\\n",
       "\t5205 & RP11-121L10.2-001;;;NC\\_000011.10:+:90223166;;;experimental;;;promoter\\_overlap;;;8                    & 0.000000e+00\\\\\n",
       "\t8979 & RP4-621N11.2-001;;;NC\\_000020.11:+:37095770;;;experimental;;;promoter\\_overlap;;;5                     & 0.000000e+00\\\\\n",
       "\t9359 & SMARCA4-014;;;NC\\_000019.10:+:11060127;;;mRNA;;;protein\\_coding;;;6                                    & 0.000000e+00\\\\\n",
       "\t9415 & SOX17-001;;;NC\\_000008.11:+:54457934;;;control;;;protein\\_coding;;;7                                   & 0.000000e+00\\\\\n",
       "\t9465 & STC2-001;;;NC\\_000005.10:-:173329499;;;mRNA;;;protein\\_coding;;;6                                      & 3.700743e-17\\\\\n",
       "\t1912 & ACVR2B-AS1-001;;;NC\\_000003.12:-:38454682;;;experimental;;;promoter\\_overlap;;;10                      & 1.332268e-16\\\\\n",
       "\\end{tabular}\n"
      ],
      "text/markdown": [
       "\n",
       "A data.frame: 10 × 2\n",
       "\n",
       "| <!--/--> | groups &lt;chr&gt; | FDR &lt;dbl&gt; |\n",
       "|---|---|---|\n",
       "| 677 | [RP11-120D5.1-005, RP11-120D5.1-004];;;NC_000023.11:-:11111137;;;experimental;;;promoter_overlap;;;7 | 0.000000e+00 |\n",
       "| 3278 | EOMES-001;;;NC_000003.12:-:27722322;;;control;;;protein_coding;;;6                                   | 0.000000e+00 |\n",
       "| 3279 | EOMES-004;;;NC_000003.12:-:27722707;;;control;;;protein_coding;;;6                                   | 0.000000e+00 |\n",
       "| 3554 | HOXC-AS1-002;;;NC_000012.12:-:53999649;;;experimental;;;promoter_overlap;;;8                         | 0.000000e+00 |\n",
       "| 5205 | RP11-121L10.2-001;;;NC_000011.10:+:90223166;;;experimental;;;promoter_overlap;;;8                    | 0.000000e+00 |\n",
       "| 8979 | RP4-621N11.2-001;;;NC_000020.11:+:37095770;;;experimental;;;promoter_overlap;;;5                     | 0.000000e+00 |\n",
       "| 9359 | SMARCA4-014;;;NC_000019.10:+:11060127;;;mRNA;;;protein_coding;;;6                                    | 0.000000e+00 |\n",
       "| 9415 | SOX17-001;;;NC_000008.11:+:54457934;;;control;;;protein_coding;;;7                                   | 0.000000e+00 |\n",
       "| 9465 | STC2-001;;;NC_000005.10:-:173329499;;;mRNA;;;protein_coding;;;6                                      | 3.700743e-17 |\n",
       "| 1912 | ACVR2B-AS1-001;;;NC_000003.12:-:38454682;;;experimental;;;promoter_overlap;;;10                      | 1.332268e-16 |\n",
       "\n"
      ],
      "text/plain": [
       "     groups                                                                                              \n",
       "677  [RP11-120D5.1-005, RP11-120D5.1-004];;;NC_000023.11:-:11111137;;;experimental;;;promoter_overlap;;;7\n",
       "3278 EOMES-001;;;NC_000003.12:-:27722322;;;control;;;protein_coding;;;6                                  \n",
       "3279 EOMES-004;;;NC_000003.12:-:27722707;;;control;;;protein_coding;;;6                                  \n",
       "3554 HOXC-AS1-002;;;NC_000012.12:-:53999649;;;experimental;;;promoter_overlap;;;8                        \n",
       "5205 RP11-121L10.2-001;;;NC_000011.10:+:90223166;;;experimental;;;promoter_overlap;;;8                   \n",
       "8979 RP4-621N11.2-001;;;NC_000020.11:+:37095770;;;experimental;;;promoter_overlap;;;5                    \n",
       "9359 SMARCA4-014;;;NC_000019.10:+:11060127;;;mRNA;;;protein_coding;;;6                                   \n",
       "9415 SOX17-001;;;NC_000008.11:+:54457934;;;control;;;protein_coding;;;7                                  \n",
       "9465 STC2-001;;;NC_000005.10:-:173329499;;;mRNA;;;protein_coding;;;6                                     \n",
       "1912 ACVR2B-AS1-001;;;NC_000003.12:-:38454682;;;experimental;;;promoter_overlap;;;10                     \n",
       "     FDR         \n",
       "677  0.000000e+00\n",
       "3278 0.000000e+00\n",
       "3279 0.000000e+00\n",
       "3554 0.000000e+00\n",
       "5205 0.000000e+00\n",
       "8979 0.000000e+00\n",
       "9359 0.000000e+00\n",
       "9415 0.000000e+00\n",
       "9465 3.700743e-17\n",
       "1912 1.332268e-16"
      ]
     },
     "metadata": {},
     "output_type": "display_data"
    }
   ],
   "source": [
    "scores_diff <- data.frame(groups = l2fc_diff.CRISPhieRmix$genes, FDR = l2fc_diff.CRISPhieRmix$FDR)\n",
    "head(scores_diff[order(scores_diff$FDR, decreasing = FALSE), ], 10)"
   ]
  },
  {
   "cell_type": "code",
   "execution_count": 15,
   "metadata": {},
   "outputs": [
    {
     "data": {
      "text/html": [
       "73"
      ],
      "text/latex": [
       "73"
      ],
      "text/markdown": [
       "73"
      ],
      "text/plain": [
       "[1] 73"
      ]
     },
     "metadata": {},
     "output_type": "display_data"
    }
   ],
   "source": [
    "sig_diff <- scores_diff[which(scores_diff$FDR < 0.1), ]\n",
    "nrow(sig_diff)"
   ]
  },
  {
   "cell_type": "code",
   "execution_count": 16,
   "metadata": {},
   "outputs": [
    {
     "data": {
      "text/html": [
       "<table>\n",
       "<caption>A data.frame: 6 × 2</caption>\n",
       "<thead>\n",
       "\t<tr><th></th><th scope=col>groups</th><th scope=col>FDR</th></tr>\n",
       "\t<tr><th></th><th scope=col>&lt;chr&gt;</th><th scope=col>&lt;dbl&gt;</th></tr>\n",
       "</thead>\n",
       "<tbody>\n",
       "\t<tr><th scope=row>3278</th><td>EOMES-001;;;NC_000003.12:-:27722322;;;control;;;protein_coding;;;6</td><td>0.000000e+00</td></tr>\n",
       "\t<tr><th scope=row>3279</th><td>EOMES-004;;;NC_000003.12:-:27722707;;;control;;;protein_coding;;;6</td><td>0.000000e+00</td></tr>\n",
       "\t<tr><th scope=row>3378</th><td>FOXA2-002;;;NC_000020.11:-:22584571;;;control;;;protein_coding;;;9</td><td>1.132523e-10</td></tr>\n",
       "\t<tr><th scope=row>3416</th><td>GATA6-001;;;NC_000018.10:+:22169434;;;control;;;protein_coding;;;7</td><td>4.454609e-05</td></tr>\n",
       "\t<tr><th scope=row>3464</th><td>GSC-001;;;NC_000014.9:-:94770237;;;control;;;protein_coding;;;3   </td><td>2.982147e-03</td></tr>\n",
       "\t<tr><th scope=row>9415</th><td>SOX17-001;;;NC_000008.11:+:54457934;;;control;;;protein_coding;;;7</td><td>0.000000e+00</td></tr>\n",
       "</tbody>\n",
       "</table>\n"
      ],
      "text/latex": [
       "A data.frame: 6 × 2\n",
       "\\begin{tabular}{r|ll}\n",
       "  & groups & FDR\\\\\n",
       "  & <chr> & <dbl>\\\\\n",
       "\\hline\n",
       "\t3278 & EOMES-001;;;NC\\_000003.12:-:27722322;;;control;;;protein\\_coding;;;6 & 0.000000e+00\\\\\n",
       "\t3279 & EOMES-004;;;NC\\_000003.12:-:27722707;;;control;;;protein\\_coding;;;6 & 0.000000e+00\\\\\n",
       "\t3378 & FOXA2-002;;;NC\\_000020.11:-:22584571;;;control;;;protein\\_coding;;;9 & 1.132523e-10\\\\\n",
       "\t3416 & GATA6-001;;;NC\\_000018.10:+:22169434;;;control;;;protein\\_coding;;;7 & 4.454609e-05\\\\\n",
       "\t3464 & GSC-001;;;NC\\_000014.9:-:94770237;;;control;;;protein\\_coding;;;3    & 2.982147e-03\\\\\n",
       "\t9415 & SOX17-001;;;NC\\_000008.11:+:54457934;;;control;;;protein\\_coding;;;7 & 0.000000e+00\\\\\n",
       "\\end{tabular}\n"
      ],
      "text/markdown": [
       "\n",
       "A data.frame: 6 × 2\n",
       "\n",
       "| <!--/--> | groups &lt;chr&gt; | FDR &lt;dbl&gt; |\n",
       "|---|---|---|\n",
       "| 3278 | EOMES-001;;;NC_000003.12:-:27722322;;;control;;;protein_coding;;;6 | 0.000000e+00 |\n",
       "| 3279 | EOMES-004;;;NC_000003.12:-:27722707;;;control;;;protein_coding;;;6 | 0.000000e+00 |\n",
       "| 3378 | FOXA2-002;;;NC_000020.11:-:22584571;;;control;;;protein_coding;;;9 | 1.132523e-10 |\n",
       "| 3416 | GATA6-001;;;NC_000018.10:+:22169434;;;control;;;protein_coding;;;7 | 4.454609e-05 |\n",
       "| 3464 | GSC-001;;;NC_000014.9:-:94770237;;;control;;;protein_coding;;;3    | 2.982147e-03 |\n",
       "| 9415 | SOX17-001;;;NC_000008.11:+:54457934;;;control;;;protein_coding;;;7 | 0.000000e+00 |\n",
       "\n"
      ],
      "text/plain": [
       "     groups                                                            \n",
       "3278 EOMES-001;;;NC_000003.12:-:27722322;;;control;;;protein_coding;;;6\n",
       "3279 EOMES-004;;;NC_000003.12:-:27722707;;;control;;;protein_coding;;;6\n",
       "3378 FOXA2-002;;;NC_000020.11:-:22584571;;;control;;;protein_coding;;;9\n",
       "3416 GATA6-001;;;NC_000018.10:+:22169434;;;control;;;protein_coding;;;7\n",
       "3464 GSC-001;;;NC_000014.9:-:94770237;;;control;;;protein_coding;;;3   \n",
       "9415 SOX17-001;;;NC_000008.11:+:54457934;;;control;;;protein_coding;;;7\n",
       "     FDR         \n",
       "3278 0.000000e+00\n",
       "3279 0.000000e+00\n",
       "3378 1.132523e-10\n",
       "3416 4.454609e-05\n",
       "3464 2.982147e-03\n",
       "9415 0.000000e+00"
      ]
     },
     "metadata": {},
     "output_type": "display_data"
    }
   ],
   "source": [
    "sig_diff[grep(\"control\", sig_diff$groups), ]"
   ]
  },
  {
   "cell_type": "code",
   "execution_count": 17,
   "metadata": {},
   "outputs": [
    {
     "data": {
      "text/html": [
       "<table>\n",
       "<caption>A data.frame: 3 × 2</caption>\n",
       "<thead>\n",
       "\t<tr><th></th><th scope=col>groups</th><th scope=col>FDR</th></tr>\n",
       "\t<tr><th></th><th scope=col>&lt;chr&gt;</th><th scope=col>&lt;dbl&gt;</th></tr>\n",
       "</thead>\n",
       "<tbody>\n",
       "\t<tr><th scope=row>3212</th><td>DIGIT;;;NC_000014.9:+:94770641;;;experimental;;;promoter_overlap;;;4</td><td>5.767385e-02</td></tr>\n",
       "\t<tr><th scope=row>3378</th><td>FOXA2-002;;;NC_000020.11:-:22584571;;;control;;;protein_coding;;;9  </td><td>1.132523e-10</td></tr>\n",
       "\t<tr><th scope=row>9415</th><td>SOX17-001;;;NC_000008.11:+:54457934;;;control;;;protein_coding;;;7  </td><td>0.000000e+00</td></tr>\n",
       "</tbody>\n",
       "</table>\n"
      ],
      "text/latex": [
       "A data.frame: 3 × 2\n",
       "\\begin{tabular}{r|ll}\n",
       "  & groups & FDR\\\\\n",
       "  & <chr> & <dbl>\\\\\n",
       "\\hline\n",
       "\t3212 & DIGIT;;;NC\\_000014.9:+:94770641;;;experimental;;;promoter\\_overlap;;;4 & 5.767385e-02\\\\\n",
       "\t3378 & FOXA2-002;;;NC\\_000020.11:-:22584571;;;control;;;protein\\_coding;;;9   & 1.132523e-10\\\\\n",
       "\t9415 & SOX17-001;;;NC\\_000008.11:+:54457934;;;control;;;protein\\_coding;;;7   & 0.000000e+00\\\\\n",
       "\\end{tabular}\n"
      ],
      "text/markdown": [
       "\n",
       "A data.frame: 3 × 2\n",
       "\n",
       "| <!--/--> | groups &lt;chr&gt; | FDR &lt;dbl&gt; |\n",
       "|---|---|---|\n",
       "| 3212 | DIGIT;;;NC_000014.9:+:94770641;;;experimental;;;promoter_overlap;;;4 | 5.767385e-02 |\n",
       "| 3378 | FOXA2-002;;;NC_000020.11:-:22584571;;;control;;;protein_coding;;;9   | 1.132523e-10 |\n",
       "| 9415 | SOX17-001;;;NC_000008.11:+:54457934;;;control;;;protein_coding;;;7   | 0.000000e+00 |\n",
       "\n"
      ],
      "text/plain": [
       "     groups                                                              \n",
       "3212 DIGIT;;;NC_000014.9:+:94770641;;;experimental;;;promoter_overlap;;;4\n",
       "3378 FOXA2-002;;;NC_000020.11:-:22584571;;;control;;;protein_coding;;;9  \n",
       "9415 SOX17-001;;;NC_000008.11:+:54457934;;;control;;;protein_coding;;;7  \n",
       "     FDR         \n",
       "3212 5.767385e-02\n",
       "3378 1.132523e-10\n",
       "9415 0.000000e+00"
      ]
     },
     "metadata": {},
     "output_type": "display_data"
    }
   ],
   "source": [
    "scores_diff[grep(\"DIGIT|FOXA2|SOX17\", scores_diff$groups), ]"
   ]
  },
  {
   "cell_type": "code",
   "execution_count": 18,
   "metadata": {},
   "outputs": [
    {
     "data": {
      "text/html": [
       "9771"
      ],
      "text/latex": [
       "9771"
      ],
      "text/markdown": [
       "9771"
      ],
      "text/plain": [
       "[1] 9771"
      ]
     },
     "metadata": {},
     "output_type": "display_data"
    }
   ],
   "source": [
    "nrow(scores_diff)"
   ]
  },
  {
   "cell_type": "code",
   "execution_count": 19,
   "metadata": {},
   "outputs": [],
   "source": [
    "write.table(scores_diff, file = \"../../../data/02__screen/02__enrichment_data/CRISPhieRmix_diff.with_batch.txt\", \n",
    "            quote = FALSE, sep = \"\\t\", row.names = FALSE)"
   ]
  },
  {
   "cell_type": "markdown",
   "metadata": {},
   "source": [
    "### then use CRISPhieRmix to find gene scores for differentiated / day zero (proliferation *or* differentiation related)"
   ]
  },
  {
   "cell_type": "code",
   "execution_count": 20,
   "metadata": {},
   "outputs": [],
   "source": [
    "data_f = \"../../../data/02__screen/02__enrichment_data/data_filt_dz.with_batch.tmp\""
   ]
  },
  {
   "cell_type": "code",
   "execution_count": 21,
   "metadata": {},
   "outputs": [
    {
     "data": {
      "text/html": [
       "<table>\n",
       "<caption>A data.frame: 6 × 43</caption>\n",
       "<thead>\n",
       "\t<tr><th></th><th scope=col>sgRNA</th><th scope=col>ctrl_status</th><th scope=col>gene_id</th><th scope=col>gene_name</th><th scope=col>transcript_id</th><th scope=col>transcript_name</th><th scope=col>transcript_biotype_status</th><th scope=col>tss_chr_hg38</th><th scope=col>tss_start_hg38</th><th scope=col>tss_strand_hg38</th><th scope=col>⋯</th><th scope=col>padj_diff</th><th scope=col>baseMean_dz</th><th scope=col>raw_l2fc_dz</th><th scope=col>l2fc_dz</th><th scope=col>l2fcSE_dz</th><th scope=col>stat_dz</th><th scope=col>pvalue_dz</th><th scope=col>padj_dz</th><th scope=col>sgRNA_filt</th><th scope=col>group_id_rd</th></tr>\n",
       "\t<tr><th></th><th scope=col>&lt;chr&gt;</th><th scope=col>&lt;chr&gt;</th><th scope=col>&lt;chr&gt;</th><th scope=col>&lt;chr&gt;</th><th scope=col>&lt;chr&gt;</th><th scope=col>&lt;chr&gt;</th><th scope=col>&lt;chr&gt;</th><th scope=col>&lt;chr&gt;</th><th scope=col>&lt;chr&gt;</th><th scope=col>&lt;chr&gt;</th><th scope=col>⋯</th><th scope=col>&lt;dbl&gt;</th><th scope=col>&lt;dbl&gt;</th><th scope=col>&lt;dbl&gt;</th><th scope=col>&lt;dbl&gt;</th><th scope=col>&lt;dbl&gt;</th><th scope=col>&lt;dbl&gt;</th><th scope=col>&lt;dbl&gt;</th><th scope=col>&lt;dbl&gt;</th><th scope=col>&lt;dbl&gt;</th><th scope=col>&lt;chr&gt;</th></tr>\n",
       "</thead>\n",
       "<tbody>\n",
       "\t<tr><th scope=row>1</th><td>TTGCAAGTGTCTTTAAACTA</td><td>experimental</td><td>ENSG00000241073.1_2</td><td>RP4-714D9.2</td><td>ENST00000432294.1_1</td><td>RP4-714D9.2-001</td><td>transcript_overlap</td><td>chr1</td><td>100084320</td><td>-</td><td>⋯</td><td>0.807198431</td><td> 933.5858</td><td>-0.514538689</td><td> 0.73723630</td><td>0.2144475</td><td>-2.39936889</td><td>0.01642336</td><td>0.1711099</td><td>4</td><td>RP4-714D9.2-001;;;NC_000001.11:-:100084320;;;experimental;;;transcript_overlap;;;4</td></tr>\n",
       "\t<tr><th scope=row>2</th><td>AGCCAGTATCTTGAAACTAT</td><td>experimental</td><td>ENSG00000241073.1_2</td><td>RP4-714D9.2</td><td>ENST00000432294.1_1</td><td>RP4-714D9.2-001</td><td>transcript_overlap</td><td>chr1</td><td>100084320</td><td>-</td><td>⋯</td><td>0.908335226</td><td> 828.5286</td><td>-0.012370510</td><td> 0.02024852</td><td>0.2050266</td><td>-0.06033611</td><td>0.95188794</td><td>0.9871074</td><td>4</td><td>RP4-714D9.2-001;;;NC_000001.11:-:100084320;;;experimental;;;transcript_overlap;;;4</td></tr>\n",
       "\t<tr><th scope=row>3</th><td>ACAGTAGTGTATCTAAATGG</td><td>experimental</td><td>ENSG00000241073.1_2</td><td>RP4-714D9.2</td><td>ENST00000432294.1_1</td><td>RP4-714D9.2-001</td><td>transcript_overlap</td><td>chr1</td><td>100084320</td><td>-</td><td>⋯</td><td>0.810794582</td><td>1204.6864</td><td> 0.063534733</td><td>-0.07538236</td><td>0.1926574</td><td> 0.32978090</td><td>0.74156552</td><td>0.9169122</td><td>4</td><td>RP4-714D9.2-001;;;NC_000001.11:-:100084320;;;experimental;;;transcript_overlap;;;4</td></tr>\n",
       "\t<tr><th scope=row>4</th><td>AATAACATTACTGAGTCCCA</td><td>experimental</td><td>ENSG00000241073.1_2</td><td>RP4-714D9.2</td><td>ENST00000432294.1_1</td><td>RP4-714D9.2-001</td><td>transcript_overlap</td><td>chr1</td><td>100084320</td><td>-</td><td>⋯</td><td>0.005283311</td><td>1341.5446</td><td> 0.178433687</td><td>-0.21236187</td><td>0.1801515</td><td> 0.99046478</td><td>0.32194700</td><td>0.6962974</td><td>4</td><td>RP4-714D9.2-001;;;NC_000001.11:-:100084320;;;experimental;;;transcript_overlap;;;4</td></tr>\n",
       "\t<tr><th scope=row>5</th><td>GGGAAGTGAGATGACGGTCG</td><td>experimental</td><td>ENSG00000224616.1_1</td><td>RTCA-AS1   </td><td>ENST00000421185.1_1</td><td>RTCA-AS1-001   </td><td>promoter_overlap  </td><td>chr1</td><td>100266115</td><td>-</td><td>⋯</td><td>0.942053181</td><td>1819.6600</td><td>-0.101521199</td><td> 0.11530071</td><td>0.1572539</td><td>-0.64558796</td><td>0.51854623</td><td>0.8215361</td><td>8</td><td>RTCA-AS1-001;;;NC_000001.11:-:100266115;;;experimental;;;promoter_overlap;;;8     </td></tr>\n",
       "\t<tr><th scope=row>6</th><td>GGAAGTGAGATGACGGTCGC</td><td>experimental</td><td>ENSG00000224616.1_1</td><td>RTCA-AS1   </td><td>ENST00000421185.1_1</td><td>RTCA-AS1-001   </td><td>promoter_overlap  </td><td>chr1</td><td>100266115</td><td>-</td><td>⋯</td><td>0.764159347</td><td>1860.5120</td><td>-0.009594832</td><td> 0.01103721</td><td>0.1604283</td><td>-0.05980760</td><td>0.95230887</td><td>0.9872230</td><td>8</td><td>RTCA-AS1-001;;;NC_000001.11:-:100266115;;;experimental;;;promoter_overlap;;;8     </td></tr>\n",
       "</tbody>\n",
       "</table>\n"
      ],
      "text/latex": [
       "A data.frame: 6 × 43\n",
       "\\begin{tabular}{r|lllllllllllllllllllll}\n",
       "  & sgRNA & ctrl\\_status & gene\\_id & gene\\_name & transcript\\_id & transcript\\_name & transcript\\_biotype\\_status & tss\\_chr\\_hg38 & tss\\_start\\_hg38 & tss\\_strand\\_hg38 & ⋯ & padj\\_diff & baseMean\\_dz & raw\\_l2fc\\_dz & l2fc\\_dz & l2fcSE\\_dz & stat\\_dz & pvalue\\_dz & padj\\_dz & sgRNA\\_filt & group\\_id\\_rd\\\\\n",
       "  & <chr> & <chr> & <chr> & <chr> & <chr> & <chr> & <chr> & <chr> & <chr> & <chr> & ⋯ & <dbl> & <dbl> & <dbl> & <dbl> & <dbl> & <dbl> & <dbl> & <dbl> & <dbl> & <chr>\\\\\n",
       "\\hline\n",
       "\t1 & TTGCAAGTGTCTTTAAACTA & experimental & ENSG00000241073.1\\_2 & RP4-714D9.2 & ENST00000432294.1\\_1 & RP4-714D9.2-001 & transcript\\_overlap & chr1 & 100084320 & - & ⋯ & 0.807198431 &  933.5858 & -0.514538689 &  0.73723630 & 0.2144475 & -2.39936889 & 0.01642336 & 0.1711099 & 4 & RP4-714D9.2-001;;;NC\\_000001.11:-:100084320;;;experimental;;;transcript\\_overlap;;;4\\\\\n",
       "\t2 & AGCCAGTATCTTGAAACTAT & experimental & ENSG00000241073.1\\_2 & RP4-714D9.2 & ENST00000432294.1\\_1 & RP4-714D9.2-001 & transcript\\_overlap & chr1 & 100084320 & - & ⋯ & 0.908335226 &  828.5286 & -0.012370510 &  0.02024852 & 0.2050266 & -0.06033611 & 0.95188794 & 0.9871074 & 4 & RP4-714D9.2-001;;;NC\\_000001.11:-:100084320;;;experimental;;;transcript\\_overlap;;;4\\\\\n",
       "\t3 & ACAGTAGTGTATCTAAATGG & experimental & ENSG00000241073.1\\_2 & RP4-714D9.2 & ENST00000432294.1\\_1 & RP4-714D9.2-001 & transcript\\_overlap & chr1 & 100084320 & - & ⋯ & 0.810794582 & 1204.6864 &  0.063534733 & -0.07538236 & 0.1926574 &  0.32978090 & 0.74156552 & 0.9169122 & 4 & RP4-714D9.2-001;;;NC\\_000001.11:-:100084320;;;experimental;;;transcript\\_overlap;;;4\\\\\n",
       "\t4 & AATAACATTACTGAGTCCCA & experimental & ENSG00000241073.1\\_2 & RP4-714D9.2 & ENST00000432294.1\\_1 & RP4-714D9.2-001 & transcript\\_overlap & chr1 & 100084320 & - & ⋯ & 0.005283311 & 1341.5446 &  0.178433687 & -0.21236187 & 0.1801515 &  0.99046478 & 0.32194700 & 0.6962974 & 4 & RP4-714D9.2-001;;;NC\\_000001.11:-:100084320;;;experimental;;;transcript\\_overlap;;;4\\\\\n",
       "\t5 & GGGAAGTGAGATGACGGTCG & experimental & ENSG00000224616.1\\_1 & RTCA-AS1    & ENST00000421185.1\\_1 & RTCA-AS1-001    & promoter\\_overlap   & chr1 & 100266115 & - & ⋯ & 0.942053181 & 1819.6600 & -0.101521199 &  0.11530071 & 0.1572539 & -0.64558796 & 0.51854623 & 0.8215361 & 8 & RTCA-AS1-001;;;NC\\_000001.11:-:100266115;;;experimental;;;promoter\\_overlap;;;8     \\\\\n",
       "\t6 & GGAAGTGAGATGACGGTCGC & experimental & ENSG00000224616.1\\_1 & RTCA-AS1    & ENST00000421185.1\\_1 & RTCA-AS1-001    & promoter\\_overlap   & chr1 & 100266115 & - & ⋯ & 0.764159347 & 1860.5120 & -0.009594832 &  0.01103721 & 0.1604283 & -0.05980760 & 0.95230887 & 0.9872230 & 8 & RTCA-AS1-001;;;NC\\_000001.11:-:100266115;;;experimental;;;promoter\\_overlap;;;8     \\\\\n",
       "\\end{tabular}\n"
      ],
      "text/markdown": [
       "\n",
       "A data.frame: 6 × 43\n",
       "\n",
       "| <!--/--> | sgRNA &lt;chr&gt; | ctrl_status &lt;chr&gt; | gene_id &lt;chr&gt; | gene_name &lt;chr&gt; | transcript_id &lt;chr&gt; | transcript_name &lt;chr&gt; | transcript_biotype_status &lt;chr&gt; | tss_chr_hg38 &lt;chr&gt; | tss_start_hg38 &lt;chr&gt; | tss_strand_hg38 &lt;chr&gt; | ⋯ ⋯ | padj_diff &lt;dbl&gt; | baseMean_dz &lt;dbl&gt; | raw_l2fc_dz &lt;dbl&gt; | l2fc_dz &lt;dbl&gt; | l2fcSE_dz &lt;dbl&gt; | stat_dz &lt;dbl&gt; | pvalue_dz &lt;dbl&gt; | padj_dz &lt;dbl&gt; | sgRNA_filt &lt;dbl&gt; | group_id_rd &lt;chr&gt; |\n",
       "|---|---|---|---|---|---|---|---|---|---|---|---|---|---|---|---|---|---|---|---|---|---|\n",
       "| 1 | TTGCAAGTGTCTTTAAACTA | experimental | ENSG00000241073.1_2 | RP4-714D9.2 | ENST00000432294.1_1 | RP4-714D9.2-001 | transcript_overlap | chr1 | 100084320 | - | ⋯ | 0.807198431 |  933.5858 | -0.514538689 |  0.73723630 | 0.2144475 | -2.39936889 | 0.01642336 | 0.1711099 | 4 | RP4-714D9.2-001;;;NC_000001.11:-:100084320;;;experimental;;;transcript_overlap;;;4 |\n",
       "| 2 | AGCCAGTATCTTGAAACTAT | experimental | ENSG00000241073.1_2 | RP4-714D9.2 | ENST00000432294.1_1 | RP4-714D9.2-001 | transcript_overlap | chr1 | 100084320 | - | ⋯ | 0.908335226 |  828.5286 | -0.012370510 |  0.02024852 | 0.2050266 | -0.06033611 | 0.95188794 | 0.9871074 | 4 | RP4-714D9.2-001;;;NC_000001.11:-:100084320;;;experimental;;;transcript_overlap;;;4 |\n",
       "| 3 | ACAGTAGTGTATCTAAATGG | experimental | ENSG00000241073.1_2 | RP4-714D9.2 | ENST00000432294.1_1 | RP4-714D9.2-001 | transcript_overlap | chr1 | 100084320 | - | ⋯ | 0.810794582 | 1204.6864 |  0.063534733 | -0.07538236 | 0.1926574 |  0.32978090 | 0.74156552 | 0.9169122 | 4 | RP4-714D9.2-001;;;NC_000001.11:-:100084320;;;experimental;;;transcript_overlap;;;4 |\n",
       "| 4 | AATAACATTACTGAGTCCCA | experimental | ENSG00000241073.1_2 | RP4-714D9.2 | ENST00000432294.1_1 | RP4-714D9.2-001 | transcript_overlap | chr1 | 100084320 | - | ⋯ | 0.005283311 | 1341.5446 |  0.178433687 | -0.21236187 | 0.1801515 |  0.99046478 | 0.32194700 | 0.6962974 | 4 | RP4-714D9.2-001;;;NC_000001.11:-:100084320;;;experimental;;;transcript_overlap;;;4 |\n",
       "| 5 | GGGAAGTGAGATGACGGTCG | experimental | ENSG00000224616.1_1 | RTCA-AS1    | ENST00000421185.1_1 | RTCA-AS1-001    | promoter_overlap   | chr1 | 100266115 | - | ⋯ | 0.942053181 | 1819.6600 | -0.101521199 |  0.11530071 | 0.1572539 | -0.64558796 | 0.51854623 | 0.8215361 | 8 | RTCA-AS1-001;;;NC_000001.11:-:100266115;;;experimental;;;promoter_overlap;;;8      |\n",
       "| 6 | GGAAGTGAGATGACGGTCGC | experimental | ENSG00000224616.1_1 | RTCA-AS1    | ENST00000421185.1_1 | RTCA-AS1-001    | promoter_overlap   | chr1 | 100266115 | - | ⋯ | 0.764159347 | 1860.5120 | -0.009594832 |  0.01103721 | 0.1604283 | -0.05980760 | 0.95230887 | 0.9872230 | 8 | RTCA-AS1-001;;;NC_000001.11:-:100266115;;;experimental;;;promoter_overlap;;;8      |\n",
       "\n"
      ],
      "text/plain": [
       "  sgRNA                ctrl_status  gene_id             gene_name  \n",
       "1 TTGCAAGTGTCTTTAAACTA experimental ENSG00000241073.1_2 RP4-714D9.2\n",
       "2 AGCCAGTATCTTGAAACTAT experimental ENSG00000241073.1_2 RP4-714D9.2\n",
       "3 ACAGTAGTGTATCTAAATGG experimental ENSG00000241073.1_2 RP4-714D9.2\n",
       "4 AATAACATTACTGAGTCCCA experimental ENSG00000241073.1_2 RP4-714D9.2\n",
       "5 GGGAAGTGAGATGACGGTCG experimental ENSG00000224616.1_1 RTCA-AS1   \n",
       "6 GGAAGTGAGATGACGGTCGC experimental ENSG00000224616.1_1 RTCA-AS1   \n",
       "  transcript_id       transcript_name transcript_biotype_status tss_chr_hg38\n",
       "1 ENST00000432294.1_1 RP4-714D9.2-001 transcript_overlap        chr1        \n",
       "2 ENST00000432294.1_1 RP4-714D9.2-001 transcript_overlap        chr1        \n",
       "3 ENST00000432294.1_1 RP4-714D9.2-001 transcript_overlap        chr1        \n",
       "4 ENST00000432294.1_1 RP4-714D9.2-001 transcript_overlap        chr1        \n",
       "5 ENST00000421185.1_1 RTCA-AS1-001    promoter_overlap          chr1        \n",
       "6 ENST00000421185.1_1 RTCA-AS1-001    promoter_overlap          chr1        \n",
       "  tss_start_hg38 tss_strand_hg38 ⋯ padj_diff   baseMean_dz raw_l2fc_dz \n",
       "1 100084320      -               ⋯ 0.807198431  933.5858   -0.514538689\n",
       "2 100084320      -               ⋯ 0.908335226  828.5286   -0.012370510\n",
       "3 100084320      -               ⋯ 0.810794582 1204.6864    0.063534733\n",
       "4 100084320      -               ⋯ 0.005283311 1341.5446    0.178433687\n",
       "5 100266115      -               ⋯ 0.942053181 1819.6600   -0.101521199\n",
       "6 100266115      -               ⋯ 0.764159347 1860.5120   -0.009594832\n",
       "  l2fc_dz     l2fcSE_dz stat_dz     pvalue_dz  padj_dz   sgRNA_filt\n",
       "1  0.73723630 0.2144475 -2.39936889 0.01642336 0.1711099 4         \n",
       "2  0.02024852 0.2050266 -0.06033611 0.95188794 0.9871074 4         \n",
       "3 -0.07538236 0.1926574  0.32978090 0.74156552 0.9169122 4         \n",
       "4 -0.21236187 0.1801515  0.99046478 0.32194700 0.6962974 4         \n",
       "5  0.11530071 0.1572539 -0.64558796 0.51854623 0.8215361 8         \n",
       "6  0.01103721 0.1604283 -0.05980760 0.95230887 0.9872230 8         \n",
       "  group_id_rd                                                                       \n",
       "1 RP4-714D9.2-001;;;NC_000001.11:-:100084320;;;experimental;;;transcript_overlap;;;4\n",
       "2 RP4-714D9.2-001;;;NC_000001.11:-:100084320;;;experimental;;;transcript_overlap;;;4\n",
       "3 RP4-714D9.2-001;;;NC_000001.11:-:100084320;;;experimental;;;transcript_overlap;;;4\n",
       "4 RP4-714D9.2-001;;;NC_000001.11:-:100084320;;;experimental;;;transcript_overlap;;;4\n",
       "5 RTCA-AS1-001;;;NC_000001.11:-:100266115;;;experimental;;;promoter_overlap;;;8     \n",
       "6 RTCA-AS1-001;;;NC_000001.11:-:100266115;;;experimental;;;promoter_overlap;;;8     "
      ]
     },
     "metadata": {},
     "output_type": "display_data"
    }
   ],
   "source": [
    "data <- read.table(data_f, sep=\"\\t\", header=TRUE)\n",
    "head(data)"
   ]
  },
  {
   "cell_type": "code",
   "execution_count": 22,
   "metadata": {},
   "outputs": [
    {
     "data": {
      "text/html": [
       "75599"
      ],
      "text/latex": [
       "75599"
      ],
      "text/markdown": [
       "75599"
      ],
      "text/plain": [
       "[1] 75599"
      ]
     },
     "metadata": {},
     "output_type": "display_data"
    }
   ],
   "source": [
    "nrow(data)"
   ]
  },
  {
   "cell_type": "code",
   "execution_count": 23,
   "metadata": {},
   "outputs": [
    {
     "data": {
      "text/html": [
       "<style>\n",
       ".list-inline {list-style: none; margin:0; padding: 0}\n",
       ".list-inline>li {display: inline-block}\n",
       ".list-inline>li:not(:last-child)::after {content: \"\\00b7\"; padding: 0 .5ex}\n",
       "</style>\n",
       "<ol class=list-inline><li>0.737236299252148</li><li>0.0202485238402466</li><li>-0.0753823569276512</li><li>-0.212361871711976</li><li>0.115300711554394</li><li>0.0110372086234159</li></ol>\n"
      ],
      "text/latex": [
       "\\begin{enumerate*}\n",
       "\\item 0.737236299252148\n",
       "\\item 0.0202485238402466\n",
       "\\item -0.0753823569276512\n",
       "\\item -0.212361871711976\n",
       "\\item 0.115300711554394\n",
       "\\item 0.0110372086234159\n",
       "\\end{enumerate*}\n"
      ],
      "text/markdown": [
       "1. 0.737236299252148\n",
       "2. 0.0202485238402466\n",
       "3. -0.0753823569276512\n",
       "4. -0.212361871711976\n",
       "5. 0.115300711554394\n",
       "6. 0.0110372086234159\n",
       "\n",
       "\n"
      ],
      "text/plain": [
       "[1]  0.73723630  0.02024852 -0.07538236 -0.21236187  0.11530071  0.01103721"
      ]
     },
     "metadata": {},
     "output_type": "display_data"
    }
   ],
   "source": [
    "# x needs to be the l2fcs of target genes\n",
    "tgts <- data[which(data$ctrl_status != \"scramble\"), ]\n",
    "x <- tgts$l2fc_dz\n",
    "head(x)"
   ]
  },
  {
   "cell_type": "code",
   "execution_count": 24,
   "metadata": {},
   "outputs": [
    {
     "data": {
      "text/html": [
       "<style>\n",
       ".list-inline {list-style: none; margin:0; padding: 0}\n",
       ".list-inline>li {display: inline-block}\n",
       ".list-inline>li:not(:last-child)::after {content: \"\\00b7\"; padding: 0 .5ex}\n",
       "</style>\n",
       "<ol class=list-inline><li>'RP4-714D9.2-001;;;NC_000001.11:-:100084320;;;experimental;;;transcript_overlap;;;4'</li><li>'RP4-714D9.2-001;;;NC_000001.11:-:100084320;;;experimental;;;transcript_overlap;;;4'</li><li>'RP4-714D9.2-001;;;NC_000001.11:-:100084320;;;experimental;;;transcript_overlap;;;4'</li><li>'RP4-714D9.2-001;;;NC_000001.11:-:100084320;;;experimental;;;transcript_overlap;;;4'</li><li>'RTCA-AS1-001;;;NC_000001.11:-:100266115;;;experimental;;;promoter_overlap;;;8'</li><li>'RTCA-AS1-001;;;NC_000001.11:-:100266115;;;experimental;;;promoter_overlap;;;8'</li></ol>\n"
      ],
      "text/latex": [
       "\\begin{enumerate*}\n",
       "\\item 'RP4-714D9.2-001;;;NC\\_000001.11:-:100084320;;;experimental;;;transcript\\_overlap;;;4'\n",
       "\\item 'RP4-714D9.2-001;;;NC\\_000001.11:-:100084320;;;experimental;;;transcript\\_overlap;;;4'\n",
       "\\item 'RP4-714D9.2-001;;;NC\\_000001.11:-:100084320;;;experimental;;;transcript\\_overlap;;;4'\n",
       "\\item 'RP4-714D9.2-001;;;NC\\_000001.11:-:100084320;;;experimental;;;transcript\\_overlap;;;4'\n",
       "\\item 'RTCA-AS1-001;;;NC\\_000001.11:-:100266115;;;experimental;;;promoter\\_overlap;;;8'\n",
       "\\item 'RTCA-AS1-001;;;NC\\_000001.11:-:100266115;;;experimental;;;promoter\\_overlap;;;8'\n",
       "\\end{enumerate*}\n"
      ],
      "text/markdown": [
       "1. 'RP4-714D9.2-001;;;NC_000001.11:-:100084320;;;experimental;;;transcript_overlap;;;4'\n",
       "2. 'RP4-714D9.2-001;;;NC_000001.11:-:100084320;;;experimental;;;transcript_overlap;;;4'\n",
       "3. 'RP4-714D9.2-001;;;NC_000001.11:-:100084320;;;experimental;;;transcript_overlap;;;4'\n",
       "4. 'RP4-714D9.2-001;;;NC_000001.11:-:100084320;;;experimental;;;transcript_overlap;;;4'\n",
       "5. 'RTCA-AS1-001;;;NC_000001.11:-:100266115;;;experimental;;;promoter_overlap;;;8'\n",
       "6. 'RTCA-AS1-001;;;NC_000001.11:-:100266115;;;experimental;;;promoter_overlap;;;8'\n",
       "\n",
       "\n"
      ],
      "text/plain": [
       "[1] \"RP4-714D9.2-001;;;NC_000001.11:-:100084320;;;experimental;;;transcript_overlap;;;4\"\n",
       "[2] \"RP4-714D9.2-001;;;NC_000001.11:-:100084320;;;experimental;;;transcript_overlap;;;4\"\n",
       "[3] \"RP4-714D9.2-001;;;NC_000001.11:-:100084320;;;experimental;;;transcript_overlap;;;4\"\n",
       "[4] \"RP4-714D9.2-001;;;NC_000001.11:-:100084320;;;experimental;;;transcript_overlap;;;4\"\n",
       "[5] \"RTCA-AS1-001;;;NC_000001.11:-:100266115;;;experimental;;;promoter_overlap;;;8\"     \n",
       "[6] \"RTCA-AS1-001;;;NC_000001.11:-:100266115;;;experimental;;;promoter_overlap;;;8\"     "
      ]
     },
     "metadata": {},
     "output_type": "display_data"
    }
   ],
   "source": [
    "# geneIds needs to be the geneIds associated with x\n",
    "geneIds <- tgts$group_id_rd\n",
    "head(geneIds)"
   ]
  },
  {
   "cell_type": "code",
   "execution_count": 25,
   "metadata": {},
   "outputs": [
    {
     "data": {
      "text/html": [
       "<style>\n",
       ".list-inline {list-style: none; margin:0; padding: 0}\n",
       ".list-inline>li {display: inline-block}\n",
       ".list-inline>li:not(:last-child)::after {content: \"\\00b7\"; padding: 0 .5ex}\n",
       "</style>\n",
       "<ol class=list-inline><li>0.0216295548768932</li><li>0.00920920299616569</li><li>-0.113607613715043</li><li>-0.0251331761895917</li><li>-0.315474942201017</li><li>-0.122390204619633</li></ol>\n"
      ],
      "text/latex": [
       "\\begin{enumerate*}\n",
       "\\item 0.0216295548768932\n",
       "\\item 0.00920920299616569\n",
       "\\item -0.113607613715043\n",
       "\\item -0.0251331761895917\n",
       "\\item -0.315474942201017\n",
       "\\item -0.122390204619633\n",
       "\\end{enumerate*}\n"
      ],
      "text/markdown": [
       "1. 0.0216295548768932\n",
       "2. 0.00920920299616569\n",
       "3. -0.113607613715043\n",
       "4. -0.0251331761895917\n",
       "5. -0.315474942201017\n",
       "6. -0.122390204619633\n",
       "\n",
       "\n"
      ],
      "text/plain": [
       "[1]  0.021629555  0.009209203 -0.113607614 -0.025133176 -0.315474942\n",
       "[6] -0.122390205"
      ]
     },
     "metadata": {},
     "output_type": "display_data"
    }
   ],
   "source": [
    "# negCtrl needs to be the l2fcs of scrambles\n",
    "negCtrl <- negs$l2fc_dz\n",
    "head(negCtrl)"
   ]
  },
  {
   "cell_type": "code",
   "execution_count": 26,
   "metadata": {},
   "outputs": [
    {
     "name": "stdout",
     "output_type": "stream",
     "text": [
      "fit negative control distributions \n",
      "2 groups \n",
      "converged \n",
      "mu =  1.057882 \n",
      "sigma =  1.078475 \n",
      "pq =  0.03149804 \n"
     ]
    },
    {
     "data": {
      "image/png": "[encoded data removed]",
      "text/plain": [
       "Plot with title “negative control fit”"
      ]
     },
     "metadata": {
      "image/png": {
       "height": 420,
       "width": 420
      }
     },
     "output_type": "display_data"
    },
    {
     "data": {
      "image/png": "[encoded data removed]",
      "text/plain": [
       "Plot with title “mixture fit to observations”"
      ]
     },
     "metadata": {
      "image/png": {
       "height": 420,
       "width": 420
      }
     },
     "output_type": "display_data"
    }
   ],
   "source": [
    "l2fc_dz.CRISPhieRmix <- CRISPhieRmix(x = x, geneIds = geneIds, negCtrl = negCtrl,\n",
    "                                     VERBOSE = TRUE, PLOT = TRUE)"
   ]
  },
  {
   "cell_type": "code",
   "execution_count": 27,
   "metadata": {},
   "outputs": [
    {
     "data": {
      "image/png": "[encoded data removed]",
      "text/plain": [
       "Plot with title “Histogram of l2fc_dz.CRISPhieRmix$FDR”"
      ]
     },
     "metadata": {
      "image/png": {
       "height": 420,
       "width": 420
      }
     },
     "output_type": "display_data"
    }
   ],
   "source": [
    "hist(l2fc_dz.CRISPhieRmix$FDR, breaks = 100)"
   ]
  },
  {
   "cell_type": "code",
   "execution_count": 28,
   "metadata": {},
   "outputs": [
    {
     "data": {
      "text/html": [
       "598"
      ],
      "text/latex": [
       "598"
      ],
      "text/markdown": [
       "598"
      ],
      "text/plain": [
       "[1] 598"
      ]
     },
     "metadata": {},
     "output_type": "display_data"
    }
   ],
   "source": [
    "sum(l2fc_dz.CRISPhieRmix$FDR < 0.1)"
   ]
  },
  {
   "cell_type": "code",
   "execution_count": 29,
   "metadata": {},
   "outputs": [
    {
     "data": {
      "text/html": [
       "449"
      ],
      "text/latex": [
       "449"
      ],
      "text/markdown": [
       "449"
      ],
      "text/plain": [
       "[1] 449"
      ]
     },
     "metadata": {},
     "output_type": "display_data"
    }
   ],
   "source": [
    "sum(l2fc_dz.CRISPhieRmix$FDR < 0.05)"
   ]
  },
  {
   "cell_type": "code",
   "execution_count": 30,
   "metadata": {},
   "outputs": [
    {
     "data": {
      "text/html": [
       "<table>\n",
       "<caption>A data.frame: 10 × 2</caption>\n",
       "<thead>\n",
       "\t<tr><th></th><th scope=col>groups</th><th scope=col>FDR</th></tr>\n",
       "\t<tr><th></th><th scope=col>&lt;chr&gt;</th><th scope=col>&lt;dbl&gt;</th></tr>\n",
       "</thead>\n",
       "<tbody>\n",
       "\t<tr><th scope=row>250</th><td>[CTD-2270L9.4-002, CTD-2270L9.4-001, CTD-2270L9.4-003];;;NC_000016.10:+:23452748;;;experimental;;;promoter_overlap;;;6                                                 </td><td>0.000000e+00</td></tr>\n",
       "\t<tr><th scope=row>328</th><td>[FOXD3-AS1-002, FOXD3-AS1-003];;;NC_000001.11:-:63322446;;;experimental;;;promoter_overlap;;;7                                                                         </td><td>0.000000e+00</td></tr>\n",
       "\t<tr><th scope=row>402</th><td>[LAMTOR5-AS1-022, LAMTOR5-AS1-006, LAMTOR5-AS1-020, LAMTOR5-AS1-014, LAMTOR5-AS1-023, LAMTOR5-AS1-031];;;NC_000001.11:+:110407783;;;experimental;;;promoter_overlap;;;9</td><td>0.000000e+00</td></tr>\n",
       "\t<tr><th scope=row>1750</th><td>AC068831.3-001;;;NC_000015.10:-:90935157;;;experimental;;;promoter_overlap;;;8                                                                                         </td><td>0.000000e+00</td></tr>\n",
       "\t<tr><th scope=row>3506</th><td>EOMES-001;;;NC_000003.12:-:27722322;;;control;;;protein_coding;;;8                                                                                                     </td><td>0.000000e+00</td></tr>\n",
       "\t<tr><th scope=row>3613</th><td>FOXA2-002;;;NC_000020.11:-:22584571;;;control;;;protein_coding;;;10                                                                                                    </td><td>0.000000e+00</td></tr>\n",
       "\t<tr><th scope=row>4489</th><td>LINC01424-001;;;NC_000021.9:+:44801879;;;experimental;;;promoter_overlap;;;9                                                                                           </td><td>0.000000e+00</td></tr>\n",
       "\t<tr><th scope=row>4958</th><td>PITPNA-AS1-001;;;NC_000017.11:+:1516924;;;experimental;;;promoter_overlap;;;9                                                                                          </td><td>0.000000e+00</td></tr>\n",
       "\t<tr><th scope=row>5560</th><td>RP11-121L10.2-001;;;NC_000011.10:+:90223166;;;experimental;;;promoter_overlap;;;8                                                                                      </td><td>0.000000e+00</td></tr>\n",
       "\t<tr><th scope=row>6178</th><td>RP11-222K16.2-001;;;NC_000003.12:+:27712918;;;experimental;;;intergenic;;;9                                                                                            </td><td>1.110223e-17</td></tr>\n",
       "</tbody>\n",
       "</table>\n"
      ],
      "text/latex": [
       "A data.frame: 10 × 2\n",
       "\\begin{tabular}{r|ll}\n",
       "  & groups & FDR\\\\\n",
       "  & <chr> & <dbl>\\\\\n",
       "\\hline\n",
       "\t250 & {[}CTD-2270L9.4-002, CTD-2270L9.4-001, CTD-2270L9.4-003{]};;;NC\\_000016.10:+:23452748;;;experimental;;;promoter\\_overlap;;;6                                                  & 0.000000e+00\\\\\n",
       "\t328 & {[}FOXD3-AS1-002, FOXD3-AS1-003{]};;;NC\\_000001.11:-:63322446;;;experimental;;;promoter\\_overlap;;;7                                                                          & 0.000000e+00\\\\\n",
       "\t402 & {[}LAMTOR5-AS1-022, LAMTOR5-AS1-006, LAMTOR5-AS1-020, LAMTOR5-AS1-014, LAMTOR5-AS1-023, LAMTOR5-AS1-031{]};;;NC\\_000001.11:+:110407783;;;experimental;;;promoter\\_overlap;;;9 & 0.000000e+00\\\\\n",
       "\t1750 & AC068831.3-001;;;NC\\_000015.10:-:90935157;;;experimental;;;promoter\\_overlap;;;8                                                                                          & 0.000000e+00\\\\\n",
       "\t3506 & EOMES-001;;;NC\\_000003.12:-:27722322;;;control;;;protein\\_coding;;;8                                                                                                      & 0.000000e+00\\\\\n",
       "\t3613 & FOXA2-002;;;NC\\_000020.11:-:22584571;;;control;;;protein\\_coding;;;10                                                                                                     & 0.000000e+00\\\\\n",
       "\t4489 & LINC01424-001;;;NC\\_000021.9:+:44801879;;;experimental;;;promoter\\_overlap;;;9                                                                                            & 0.000000e+00\\\\\n",
       "\t4958 & PITPNA-AS1-001;;;NC\\_000017.11:+:1516924;;;experimental;;;promoter\\_overlap;;;9                                                                                           & 0.000000e+00\\\\\n",
       "\t5560 & RP11-121L10.2-001;;;NC\\_000011.10:+:90223166;;;experimental;;;promoter\\_overlap;;;8                                                                                       & 0.000000e+00\\\\\n",
       "\t6178 & RP11-222K16.2-001;;;NC\\_000003.12:+:27712918;;;experimental;;;intergenic;;;9                                                                                             & 1.110223e-17\\\\\n",
       "\\end{tabular}\n"
      ],
      "text/markdown": [
       "\n",
       "A data.frame: 10 × 2\n",
       "\n",
       "| <!--/--> | groups &lt;chr&gt; | FDR &lt;dbl&gt; |\n",
       "|---|---|---|\n",
       "| 250 | [CTD-2270L9.4-002, CTD-2270L9.4-001, CTD-2270L9.4-003];;;NC_000016.10:+:23452748;;;experimental;;;promoter_overlap;;;6                                                  | 0.000000e+00 |\n",
       "| 328 | [FOXD3-AS1-002, FOXD3-AS1-003];;;NC_000001.11:-:63322446;;;experimental;;;promoter_overlap;;;7                                                                          | 0.000000e+00 |\n",
       "| 402 | [LAMTOR5-AS1-022, LAMTOR5-AS1-006, LAMTOR5-AS1-020, LAMTOR5-AS1-014, LAMTOR5-AS1-023, LAMTOR5-AS1-031];;;NC_000001.11:+:110407783;;;experimental;;;promoter_overlap;;;9 | 0.000000e+00 |\n",
       "| 1750 | AC068831.3-001;;;NC_000015.10:-:90935157;;;experimental;;;promoter_overlap;;;8                                                                                          | 0.000000e+00 |\n",
       "| 3506 | EOMES-001;;;NC_000003.12:-:27722322;;;control;;;protein_coding;;;8                                                                                                      | 0.000000e+00 |\n",
       "| 3613 | FOXA2-002;;;NC_000020.11:-:22584571;;;control;;;protein_coding;;;10                                                                                                     | 0.000000e+00 |\n",
       "| 4489 | LINC01424-001;;;NC_000021.9:+:44801879;;;experimental;;;promoter_overlap;;;9                                                                                            | 0.000000e+00 |\n",
       "| 4958 | PITPNA-AS1-001;;;NC_000017.11:+:1516924;;;experimental;;;promoter_overlap;;;9                                                                                           | 0.000000e+00 |\n",
       "| 5560 | RP11-121L10.2-001;;;NC_000011.10:+:90223166;;;experimental;;;promoter_overlap;;;8                                                                                       | 0.000000e+00 |\n",
       "| 6178 | RP11-222K16.2-001;;;NC_000003.12:+:27712918;;;experimental;;;intergenic;;;9                                                                                             | 1.110223e-17 |\n",
       "\n"
      ],
      "text/plain": [
       "     groups                                                                                                                                                                 \n",
       "250  [CTD-2270L9.4-002, CTD-2270L9.4-001, CTD-2270L9.4-003];;;NC_000016.10:+:23452748;;;experimental;;;promoter_overlap;;;6                                                 \n",
       "328  [FOXD3-AS1-002, FOXD3-AS1-003];;;NC_000001.11:-:63322446;;;experimental;;;promoter_overlap;;;7                                                                         \n",
       "402  [LAMTOR5-AS1-022, LAMTOR5-AS1-006, LAMTOR5-AS1-020, LAMTOR5-AS1-014, LAMTOR5-AS1-023, LAMTOR5-AS1-031];;;NC_000001.11:+:110407783;;;experimental;;;promoter_overlap;;;9\n",
       "1750 AC068831.3-001;;;NC_000015.10:-:90935157;;;experimental;;;promoter_overlap;;;8                                                                                         \n",
       "3506 EOMES-001;;;NC_000003.12:-:27722322;;;control;;;protein_coding;;;8                                                                                                     \n",
       "3613 FOXA2-002;;;NC_000020.11:-:22584571;;;control;;;protein_coding;;;10                                                                                                    \n",
       "4489 LINC01424-001;;;NC_000021.9:+:44801879;;;experimental;;;promoter_overlap;;;9                                                                                           \n",
       "4958 PITPNA-AS1-001;;;NC_000017.11:+:1516924;;;experimental;;;promoter_overlap;;;9                                                                                          \n",
       "5560 RP11-121L10.2-001;;;NC_000011.10:+:90223166;;;experimental;;;promoter_overlap;;;8                                                                                      \n",
       "6178 RP11-222K16.2-001;;;NC_000003.12:+:27712918;;;experimental;;;intergenic;;;9                                                                                            \n",
       "     FDR         \n",
       "250  0.000000e+00\n",
       "328  0.000000e+00\n",
       "402  0.000000e+00\n",
       "1750 0.000000e+00\n",
       "3506 0.000000e+00\n",
       "3613 0.000000e+00\n",
       "4489 0.000000e+00\n",
       "4958 0.000000e+00\n",
       "5560 0.000000e+00\n",
       "6178 1.110223e-17"
      ]
     },
     "metadata": {},
     "output_type": "display_data"
    }
   ],
   "source": [
    "scores_dz <- data.frame(groups = l2fc_dz.CRISPhieRmix$genes, FDR = l2fc_dz.CRISPhieRmix$FDR)\n",
    "head(scores_dz[order(scores_dz$FDR, decreasing = FALSE), ], 10)"
   ]
  },
  {
   "cell_type": "code",
   "execution_count": 31,
   "metadata": {},
   "outputs": [
    {
     "data": {
      "text/html": [
       "598"
      ],
      "text/latex": [
       "598"
      ],
      "text/markdown": [
       "598"
      ],
      "text/plain": [
       "[1] 598"
      ]
     },
     "metadata": {},
     "output_type": "display_data"
    }
   ],
   "source": [
    "sig_dz <- scores_dz[which(scores_dz$FDR < 0.1), ]\n",
    "nrow(sig_dz)"
   ]
  },
  {
   "cell_type": "code",
   "execution_count": 32,
   "metadata": {},
   "outputs": [
    {
     "data": {
      "text/html": [
       "<table>\n",
       "<caption>A data.frame: 9 × 2</caption>\n",
       "<thead>\n",
       "\t<tr><th></th><th scope=col>groups</th><th scope=col>FDR</th></tr>\n",
       "\t<tr><th></th><th scope=col>&lt;chr&gt;</th><th scope=col>&lt;dbl&gt;</th></tr>\n",
       "</thead>\n",
       "<tbody>\n",
       "\t<tr><th scope=row>3506</th><td>EOMES-001;;;NC_000003.12:-:27722322;;;control;;;protein_coding;;;8 </td><td>0.000000e+00</td></tr>\n",
       "\t<tr><th scope=row>3507</th><td>EOMES-004;;;NC_000003.12:-:27722707;;;control;;;protein_coding;;;7 </td><td>4.234045e-05</td></tr>\n",
       "\t<tr><th scope=row>3509</th><td>EPCAM-001;;;NC_000002.12:+:47369211;;;control;;;protein_coding;;;9 </td><td>7.089883e-02</td></tr>\n",
       "\t<tr><th scope=row>3613</th><td>FOXA2-002;;;NC_000020.11:-:22584571;;;control;;;protein_coding;;;10</td><td>0.000000e+00</td></tr>\n",
       "\t<tr><th scope=row>3652</th><td>GATA4-001;;;NC_000008.11:+:11704204;;;control;;;protein_coding;;;8 </td><td>1.615812e-03</td></tr>\n",
       "\t<tr><th scope=row>3705</th><td>GSC-001;;;NC_000014.9:-:94770237;;;control;;;protein_coding;;;6    </td><td>3.952268e-06</td></tr>\n",
       "\t<tr><th scope=row>3749</th><td>HHEX-001;;;NC_000010.11:+:92689954;;;control;;;protein_coding;;;7  </td><td>3.434829e-04</td></tr>\n",
       "\t<tr><th scope=row>4798</th><td>MIXL1-001;;;NC_000001.11:+:226223663;;;control;;;protein_coding;;;9</td><td>1.410607e-02</td></tr>\n",
       "\t<tr><th scope=row>10107</th><td>SOX17-001;;;NC_000008.11:+:54457934;;;control;;;protein_coding;;;7 </td><td>2.818258e-16</td></tr>\n",
       "</tbody>\n",
       "</table>\n"
      ],
      "text/latex": [
       "A data.frame: 9 × 2\n",
       "\\begin{tabular}{r|ll}\n",
       "  & groups & FDR\\\\\n",
       "  & <chr> & <dbl>\\\\\n",
       "\\hline\n",
       "\t3506 & EOMES-001;;;NC\\_000003.12:-:27722322;;;control;;;protein\\_coding;;;8  & 0.000000e+00\\\\\n",
       "\t3507 & EOMES-004;;;NC\\_000003.12:-:27722707;;;control;;;protein\\_coding;;;7  & 4.234045e-05\\\\\n",
       "\t3509 & EPCAM-001;;;NC\\_000002.12:+:47369211;;;control;;;protein\\_coding;;;9  & 7.089883e-02\\\\\n",
       "\t3613 & FOXA2-002;;;NC\\_000020.11:-:22584571;;;control;;;protein\\_coding;;;10 & 0.000000e+00\\\\\n",
       "\t3652 & GATA4-001;;;NC\\_000008.11:+:11704204;;;control;;;protein\\_coding;;;8  & 1.615812e-03\\\\\n",
       "\t3705 & GSC-001;;;NC\\_000014.9:-:94770237;;;control;;;protein\\_coding;;;6     & 3.952268e-06\\\\\n",
       "\t3749 & HHEX-001;;;NC\\_000010.11:+:92689954;;;control;;;protein\\_coding;;;7   & 3.434829e-04\\\\\n",
       "\t4798 & MIXL1-001;;;NC\\_000001.11:+:226223663;;;control;;;protein\\_coding;;;9 & 1.410607e-02\\\\\n",
       "\t10107 & SOX17-001;;;NC\\_000008.11:+:54457934;;;control;;;protein\\_coding;;;7  & 2.818258e-16\\\\\n",
       "\\end{tabular}\n"
      ],
      "text/markdown": [
       "\n",
       "A data.frame: 9 × 2\n",
       "\n",
       "| <!--/--> | groups &lt;chr&gt; | FDR &lt;dbl&gt; |\n",
       "|---|---|---|\n",
       "| 3506 | EOMES-001;;;NC_000003.12:-:27722322;;;control;;;protein_coding;;;8  | 0.000000e+00 |\n",
       "| 3507 | EOMES-004;;;NC_000003.12:-:27722707;;;control;;;protein_coding;;;7  | 4.234045e-05 |\n",
       "| 3509 | EPCAM-001;;;NC_000002.12:+:47369211;;;control;;;protein_coding;;;9  | 7.089883e-02 |\n",
       "| 3613 | FOXA2-002;;;NC_000020.11:-:22584571;;;control;;;protein_coding;;;10 | 0.000000e+00 |\n",
       "| 3652 | GATA4-001;;;NC_000008.11:+:11704204;;;control;;;protein_coding;;;8  | 1.615812e-03 |\n",
       "| 3705 | GSC-001;;;NC_000014.9:-:94770237;;;control;;;protein_coding;;;6     | 3.952268e-06 |\n",
       "| 3749 | HHEX-001;;;NC_000010.11:+:92689954;;;control;;;protein_coding;;;7   | 3.434829e-04 |\n",
       "| 4798 | MIXL1-001;;;NC_000001.11:+:226223663;;;control;;;protein_coding;;;9 | 1.410607e-02 |\n",
       "| 10107 | SOX17-001;;;NC_000008.11:+:54457934;;;control;;;protein_coding;;;7  | 2.818258e-16 |\n",
       "\n"
      ],
      "text/plain": [
       "      groups                                                             \n",
       "3506  EOMES-001;;;NC_000003.12:-:27722322;;;control;;;protein_coding;;;8 \n",
       "3507  EOMES-004;;;NC_000003.12:-:27722707;;;control;;;protein_coding;;;7 \n",
       "3509  EPCAM-001;;;NC_000002.12:+:47369211;;;control;;;protein_coding;;;9 \n",
       "3613  FOXA2-002;;;NC_000020.11:-:22584571;;;control;;;protein_coding;;;10\n",
       "3652  GATA4-001;;;NC_000008.11:+:11704204;;;control;;;protein_coding;;;8 \n",
       "3705  GSC-001;;;NC_000014.9:-:94770237;;;control;;;protein_coding;;;6    \n",
       "3749  HHEX-001;;;NC_000010.11:+:92689954;;;control;;;protein_coding;;;7  \n",
       "4798  MIXL1-001;;;NC_000001.11:+:226223663;;;control;;;protein_coding;;;9\n",
       "10107 SOX17-001;;;NC_000008.11:+:54457934;;;control;;;protein_coding;;;7 \n",
       "      FDR         \n",
       "3506  0.000000e+00\n",
       "3507  4.234045e-05\n",
       "3509  7.089883e-02\n",
       "3613  0.000000e+00\n",
       "3652  1.615812e-03\n",
       "3705  3.952268e-06\n",
       "3749  3.434829e-04\n",
       "4798  1.410607e-02\n",
       "10107 2.818258e-16"
      ]
     },
     "metadata": {},
     "output_type": "display_data"
    }
   ],
   "source": [
    "sig_dz[grep(\"control\", sig_dz$groups), ]"
   ]
  },
  {
   "cell_type": "code",
   "execution_count": 33,
   "metadata": {},
   "outputs": [
    {
     "data": {
      "text/html": [
       "<table>\n",
       "<caption>A data.frame: 1 × 2</caption>\n",
       "<thead>\n",
       "\t<tr><th></th><th scope=col>groups</th><th scope=col>FDR</th></tr>\n",
       "\t<tr><th></th><th scope=col>&lt;chr&gt;</th><th scope=col>&lt;dbl&gt;</th></tr>\n",
       "</thead>\n",
       "<tbody>\n",
       "\t<tr><th scope=row>3436</th><td>DIGIT;;;NC_000014.9:+:94770641;;;experimental;;;promoter_overlap;;;6</td><td>0.641542</td></tr>\n",
       "</tbody>\n",
       "</table>\n"
      ],
      "text/latex": [
       "A data.frame: 1 × 2\n",
       "\\begin{tabular}{r|ll}\n",
       "  & groups & FDR\\\\\n",
       "  & <chr> & <dbl>\\\\\n",
       "\\hline\n",
       "\t3436 & DIGIT;;;NC\\_000014.9:+:94770641;;;experimental;;;promoter\\_overlap;;;6 & 0.641542\\\\\n",
       "\\end{tabular}\n"
      ],
      "text/markdown": [
       "\n",
       "A data.frame: 1 × 2\n",
       "\n",
       "| <!--/--> | groups &lt;chr&gt; | FDR &lt;dbl&gt; |\n",
       "|---|---|---|\n",
       "| 3436 | DIGIT;;;NC_000014.9:+:94770641;;;experimental;;;promoter_overlap;;;6 | 0.641542 |\n",
       "\n"
      ],
      "text/plain": [
       "     groups                                                              \n",
       "3436 DIGIT;;;NC_000014.9:+:94770641;;;experimental;;;promoter_overlap;;;6\n",
       "     FDR     \n",
       "3436 0.641542"
      ]
     },
     "metadata": {},
     "output_type": "display_data"
    }
   ],
   "source": [
    "scores_dz[grep(\"DIGIT\", scores_dz$groups), ]"
   ]
  },
  {
   "cell_type": "code",
   "execution_count": 34,
   "metadata": {},
   "outputs": [
    {
     "data": {
      "text/html": [
       "10480"
      ],
      "text/latex": [
       "10480"
      ],
      "text/markdown": [
       "10480"
      ],
      "text/plain": [
       "[1] 10480"
      ]
     },
     "metadata": {},
     "output_type": "display_data"
    }
   ],
   "source": [
    "nrow(scores_dz)"
   ]
  },
  {
   "cell_type": "code",
   "execution_count": 35,
   "metadata": {},
   "outputs": [],
   "source": [
    "write.table(scores_dz, file = \"../../../data/02__screen/02__enrichment_data/CRISPhieRmix_dz.with_batch.txt\", \n",
    "            quote = FALSE, sep = \"\\t\", row.names = FALSE)"
   ]
  },
  {
   "cell_type": "code",
   "execution_count": null,
   "metadata": {},
   "outputs": [],
   "source": []
  }
 ],
 "metadata": {
  "kernelspec": {
   "display_name": "R (4.0, upbm)",
   "language": "R",
   "name": "ir"
  },
  "language_info": {
   "codemirror_mode": "r",
   "file_extension": ".r",
   "mimetype": "text/x-r-source",
   "name": "R",
   "pygments_lexer": "r",
   "version": "4.0.2"
  }
 },
 "nbformat": 4,
 "nbformat_minor": 2
}
