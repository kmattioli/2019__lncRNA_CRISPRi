{
 "cells": [
  {
   "cell_type": "code",
   "execution_count": 1,
   "metadata": {},
   "outputs": [],
   "source": [
    "import warnings\n",
    "warnings.filterwarnings('ignore')\n",
    "\n",
    "import math\n",
    "import matplotlib as mpl\n",
    "import matplotlib.pyplot as plt\n",
    "import matplotlib.ticker as ticker\n",
    "import numpy as np\n",
    "import pandas as pd\n",
    "import re\n",
    "import scipy.stats as stats\n",
    "import seaborn as sns\n",
    "import statsmodels.api as sm\n",
    "import sys\n",
    "import time\n",
    "\n",
    "# import utils\n",
    "sys.path.append(\"../../../utils\")\n",
    "from plotting_utils import *\n",
    "from classify_utils import *\n",
    "\n",
    "%matplotlib inline\n",
    "%config InlineBackend.figure_format = 'svg'\n",
    "mpl.rcParams['figure.autolayout'] = False"
   ]
  },
  {
   "cell_type": "code",
   "execution_count": 2,
   "metadata": {},
   "outputs": [],
   "source": [
    "sns.set(**PAPER_PRESET)\n",
    "fontsize = PAPER_FONTSIZE"
   ]
  },
  {
   "cell_type": "code",
   "execution_count": 3,
   "metadata": {},
   "outputs": [],
   "source": [
    "np.random.seed(2019)"
   ]
  },
  {
   "cell_type": "markdown",
   "metadata": {},
   "source": [
    "## functions"
   ]
  },
  {
   "cell_type": "code",
   "execution_count": 4,
   "metadata": {},
   "outputs": [],
   "source": [
    "def min_biotype(row):\n",
    "    if row.cleaner_gene_biotype == \"protein_coding\":\n",
    "        return \"mRNA\"\n",
    "    else:\n",
    "        return \"lncRNA\""
   ]
  },
  {
   "cell_type": "code",
   "execution_count": 5,
   "metadata": {},
   "outputs": [],
   "source": [
    "def min_hit(row):\n",
    "    if row.is_hit == \"stringent hit\":\n",
    "        return \"hit\"\n",
    "    elif row.is_hit == \"lenient hit\":\n",
    "        return \"lenient\"\n",
    "    else:\n",
    "        return \"no hit\""
   ]
  },
  {
   "cell_type": "markdown",
   "metadata": {},
   "source": [
    "## variables"
   ]
  },
  {
   "cell_type": "code",
   "execution_count": 6,
   "metadata": {},
   "outputs": [],
   "source": [
    "# features\n",
    "feature_dir = \"../../../misc/08__model_features\"\n",
    "splicing_f = \"%s/gene_splicing_efficiency.with_DIGIT.txt\" % feature_dir\n",
    "gc_f = \"%s/gc_content.with_DIGIT.txt\" % feature_dir\n",
    "n_tss_f = \"%s/n_tss_within_100bp.with_DIGIT.txt\" % feature_dir\n",
    "n_enh_f = \"%s/n_enhancers_within_1mb.with_DIGIT.txt\" % feature_dir\n",
    "closest_enh_f = \"%s/closest_enh_to_TSS.with_DIGIT.txt\" % feature_dir\n",
    "prom_cons_f = \"%s/promoter_conservation.500buff.with_DIGIT.txt\" % feature_dir\n",
    "exon_cons_f = \"%s/exon_conservation.with_DIGIT.txt\" % feature_dir\n",
    "dna_len_f = \"%s/transcript_length.with_DIGIT.txt\" % feature_dir\n",
    "rna_len_f = \"%s/transcript_length_RNA.with_DIGIT.txt\" % feature_dir\n",
    "n_exons_f = \"%s/n_exons_per_transcript.with_DIGIT.txt\" % feature_dir"
   ]
  },
  {
   "cell_type": "code",
   "execution_count": 7,
   "metadata": {},
   "outputs": [],
   "source": [
    "# gwas file\n",
    "gwas_dir = \"../../../misc/06__gwas\"\n",
    "closest_endo_f = \"%s/transcript_coords.closest_endo_cancer_snp.with_DIGIT.bed\" % gwas_dir"
   ]
  },
  {
   "cell_type": "code",
   "execution_count": 8,
   "metadata": {},
   "outputs": [],
   "source": [
    "gene_map_f = \"../../../misc/00__gene_metadata/gencode.v25lift37.GENE_ID_TRANSCRIPT_ID_MAP.with_DIGIT.fixed.txt\""
   ]
  },
  {
   "cell_type": "code",
   "execution_count": 9,
   "metadata": {},
   "outputs": [],
   "source": [
    "hits_f = \"../../../data/02__screen/02__enrichment_data/enrichment_values.with_rna_seq.txt\""
   ]
  },
  {
   "cell_type": "markdown",
   "metadata": {},
   "source": [
    "## 1. import data"
   ]
  },
  {
   "cell_type": "code",
   "execution_count": 10,
   "metadata": {},
   "outputs": [],
   "source": [
    "splicing = pd.read_table(splicing_f)"
   ]
  },
  {
   "cell_type": "code",
   "execution_count": 11,
   "metadata": {},
   "outputs": [],
   "source": [
    "gc = pd.read_table(gc_f, header=None)\n",
    "gc.columns = [\"transcript_id\", \"gc\"]"
   ]
  },
  {
   "cell_type": "code",
   "execution_count": 12,
   "metadata": {},
   "outputs": [],
   "source": [
    "n_tss = pd.read_table(n_tss_f, delim_whitespace=True, header=None)\n",
    "n_tss.columns = [\"n_tss\", \"transcript_id\"]"
   ]
  },
  {
   "cell_type": "code",
   "execution_count": 13,
   "metadata": {},
   "outputs": [],
   "source": [
    "n_enh = pd.read_table(n_enh_f, delim_whitespace=True, header=None)\n",
    "n_enh.columns = [\"n_enh\", \"transcript_id\"]"
   ]
  },
  {
   "cell_type": "code",
   "execution_count": 14,
   "metadata": {},
   "outputs": [],
   "source": [
    "closest_enh = pd.read_table(closest_enh_f, header=None)\n",
    "closest_enh.columns = [\"transcript_id\", \"enh_id\", \"enh_dist\"]"
   ]
  },
  {
   "cell_type": "code",
   "execution_count": 15,
   "metadata": {},
   "outputs": [],
   "source": [
    "prom_cons = pd.read_table(prom_cons_f)"
   ]
  },
  {
   "cell_type": "code",
   "execution_count": 16,
   "metadata": {},
   "outputs": [],
   "source": [
    "exon_cons = pd.read_table(exon_cons_f)"
   ]
  },
  {
   "cell_type": "code",
   "execution_count": 17,
   "metadata": {},
   "outputs": [],
   "source": [
    "dna_len = pd.read_table(dna_len_f, header=None)\n",
    "dna_len.columns = [\"transcript_id\", \"dna_len\"]"
   ]
  },
  {
   "cell_type": "code",
   "execution_count": 18,
   "metadata": {},
   "outputs": [],
   "source": [
    "rna_len = pd.read_table(rna_len_f, header=None)\n",
    "rna_len.columns = [\"transcript_id\", \"rna_len\"]"
   ]
  },
  {
   "cell_type": "code",
   "execution_count": 19,
   "metadata": {},
   "outputs": [],
   "source": [
    "n_exons = pd.read_table(n_exons_f, header=None)\n",
    "n_exons.columns = [\"n_exons\", \"gene_id\", \"transcript_id\"]"
   ]
  },
  {
   "cell_type": "code",
   "execution_count": 20,
   "metadata": {},
   "outputs": [],
   "source": [
    "closest_endo = pd.read_table(closest_endo_f, sep=\"\\t\", header=None)\n",
    "closest_endo.columns = [\"chr\", \"start\", \"end\", \"transcript_id\", \"snp_chr\", \"snp_start\", \"snp_end\",\n",
    "                        \"closest_endo_snp_id\", \"closest_endo_snp_disease\", \"closest_endo_snp_distance\"]"
   ]
  },
  {
   "cell_type": "code",
   "execution_count": 21,
   "metadata": {},
   "outputs": [],
   "source": [
    "gene_map = pd.read_table(gene_map_f, header=None)\n",
    "gene_map.columns = [\"gene_id\", \"transcript_id\"]"
   ]
  },
  {
   "cell_type": "code",
   "execution_count": 22,
   "metadata": {},
   "outputs": [],
   "source": [
    "hits = pd.read_table(hits_f)"
   ]
  },
  {
   "cell_type": "markdown",
   "metadata": {},
   "source": [
    "## 2. join transcript-level data w/ gene id"
   ]
  },
  {
   "cell_type": "code",
   "execution_count": 23,
   "metadata": {},
   "outputs": [
    {
     "name": "stdout",
     "output_type": "stream",
     "text": [
      "200140\n",
      "200140\n"
     ]
    }
   ],
   "source": [
    "print(len(gc))\n",
    "gc = gc.merge(gene_map, on=\"transcript_id\")\n",
    "print(len(gc))"
   ]
  },
  {
   "cell_type": "code",
   "execution_count": 24,
   "metadata": {},
   "outputs": [
    {
     "name": "stdout",
     "output_type": "stream",
     "text": [
      "94934\n",
      "94934\n"
     ]
    }
   ],
   "source": [
    "print(len(n_tss))\n",
    "n_tss = n_tss.merge(gene_map, on=\"transcript_id\")\n",
    "print(len(n_tss))"
   ]
  },
  {
   "cell_type": "code",
   "execution_count": 25,
   "metadata": {},
   "outputs": [
    {
     "name": "stdout",
     "output_type": "stream",
     "text": [
      "199413\n",
      "199413\n"
     ]
    }
   ],
   "source": [
    "print(len(n_enh))\n",
    "n_enh = n_enh.merge(gene_map, on=\"transcript_id\")\n",
    "print(len(n_enh))"
   ]
  },
  {
   "cell_type": "code",
   "execution_count": 26,
   "metadata": {},
   "outputs": [
    {
     "name": "stdout",
     "output_type": "stream",
     "text": [
      "200148\n",
      "200148\n"
     ]
    }
   ],
   "source": [
    "print(len(closest_enh))\n",
    "closest_enh = closest_enh.merge(gene_map, on=\"transcript_id\")\n",
    "print(len(closest_enh))"
   ]
  },
  {
   "cell_type": "code",
   "execution_count": 27,
   "metadata": {},
   "outputs": [
    {
     "name": "stdout",
     "output_type": "stream",
     "text": [
      "200140\n",
      "200140\n"
     ]
    }
   ],
   "source": [
    "print(len(prom_cons))\n",
    "prom_cons = prom_cons.merge(gene_map, left_on=\"name\", right_on=\"transcript_id\")\n",
    "print(len(prom_cons))"
   ]
  },
  {
   "cell_type": "code",
   "execution_count": 28,
   "metadata": {},
   "outputs": [
    {
     "name": "stdout",
     "output_type": "stream",
     "text": [
      "1185571\n",
      "1185571\n"
     ]
    }
   ],
   "source": [
    "print(len(exon_cons))\n",
    "exon_cons = exon_cons.merge(gene_map, left_on=\"name\", right_on=\"transcript_id\")\n",
    "print(len(exon_cons))"
   ]
  },
  {
   "cell_type": "code",
   "execution_count": 29,
   "metadata": {},
   "outputs": [
    {
     "name": "stdout",
     "output_type": "stream",
     "text": [
      "200140\n",
      "200140\n"
     ]
    }
   ],
   "source": [
    "print(len(dna_len))\n",
    "dna_len = dna_len.merge(gene_map, on=\"transcript_id\")\n",
    "print(len(dna_len))"
   ]
  },
  {
   "cell_type": "code",
   "execution_count": 30,
   "metadata": {},
   "outputs": [
    {
     "name": "stdout",
     "output_type": "stream",
     "text": [
      "200140\n",
      "200140\n"
     ]
    }
   ],
   "source": [
    "print(len(rna_len))\n",
    "rna_len = rna_len.merge(gene_map, on=\"transcript_id\")\n",
    "print(len(rna_len))"
   ]
  },
  {
   "cell_type": "code",
   "execution_count": 31,
   "metadata": {},
   "outputs": [
    {
     "name": "stdout",
     "output_type": "stream",
     "text": [
      "255868\n",
      "255868\n"
     ]
    }
   ],
   "source": [
    "print(len(closest_endo))\n",
    "closest_endo = closest_endo.merge(gene_map, on=\"transcript_id\")\n",
    "print(len(closest_endo))"
   ]
  },
  {
   "cell_type": "markdown",
   "metadata": {},
   "source": [
    "## 3. aggregate features to gene level"
   ]
  },
  {
   "cell_type": "code",
   "execution_count": 32,
   "metadata": {},
   "outputs": [
    {
     "name": "stdout",
     "output_type": "stream",
     "text": [
      "60253\n"
     ]
    }
   ],
   "source": [
    "gc_gene = gc.groupby(\"gene_id\")[\"gc\"].agg(\"mean\").reset_index()\n",
    "print(len(gc_gene))"
   ]
  },
  {
   "cell_type": "code",
   "execution_count": 33,
   "metadata": {},
   "outputs": [
    {
     "name": "stdout",
     "output_type": "stream",
     "text": [
      "23065\n"
     ]
    }
   ],
   "source": [
    "n_tss_gene = n_tss.groupby(\"gene_id\")[\"n_tss\"].agg(\"max\").reset_index()\n",
    "print(len(n_tss_gene))"
   ]
  },
  {
   "cell_type": "code",
   "execution_count": 34,
   "metadata": {},
   "outputs": [
    {
     "name": "stdout",
     "output_type": "stream",
     "text": [
      "59781\n"
     ]
    }
   ],
   "source": [
    "n_enh_gene = n_enh.groupby(\"gene_id\")[\"n_enh\"].agg(\"max\").reset_index()\n",
    "print(len(n_enh_gene))"
   ]
  },
  {
   "cell_type": "code",
   "execution_count": 35,
   "metadata": {},
   "outputs": [
    {
     "name": "stdout",
     "output_type": "stream",
     "text": [
      "60253\n"
     ]
    }
   ],
   "source": [
    "closest_enh_gene = closest_enh.groupby(\"gene_id\")[\"enh_dist\"].agg(\"min\").reset_index()\n",
    "print(len(closest_enh_gene))"
   ]
  },
  {
   "cell_type": "code",
   "execution_count": 36,
   "metadata": {},
   "outputs": [
    {
     "name": "stdout",
     "output_type": "stream",
     "text": [
      "60253\n"
     ]
    }
   ],
   "source": [
    "prom_cons_gene = prom_cons.groupby(\"gene_id\")[\"median\"].agg(\"max\").reset_index()\n",
    "prom_cons_gene.columns = [\"gene_id\", \"prom_cons\"]\n",
    "print(len(prom_cons_gene))"
   ]
  },
  {
   "cell_type": "code",
   "execution_count": 37,
   "metadata": {},
   "outputs": [
    {
     "name": "stdout",
     "output_type": "stream",
     "text": [
      "60253\n"
     ]
    }
   ],
   "source": [
    "exon_cons_tx = exon_cons.groupby([\"name\", \"gene_id\"])[\"median\"].agg(\"mean\").reset_index()\n",
    "exon_cons_gene = exon_cons_tx.groupby(\"gene_id\")[\"median\"].agg(\"max\").reset_index()\n",
    "exon_cons_gene.columns = [\"gene_id\", \"exon_cons\"]\n",
    "print(len(exon_cons_gene))"
   ]
  },
  {
   "cell_type": "code",
   "execution_count": 38,
   "metadata": {},
   "outputs": [
    {
     "name": "stdout",
     "output_type": "stream",
     "text": [
      "60253\n"
     ]
    }
   ],
   "source": [
    "dna_len_gene = dna_len.groupby(\"gene_id\")[\"dna_len\"].agg(\"max\").reset_index()\n",
    "print(len(dna_len_gene))"
   ]
  },
  {
   "cell_type": "code",
   "execution_count": 39,
   "metadata": {},
   "outputs": [
    {
     "name": "stdout",
     "output_type": "stream",
     "text": [
      "60253\n"
     ]
    }
   ],
   "source": [
    "rna_len_gene = rna_len.groupby(\"gene_id\")[\"rna_len\"].agg(\"max\").reset_index()\n",
    "print(len(rna_len_gene))"
   ]
  },
  {
   "cell_type": "code",
   "execution_count": 40,
   "metadata": {},
   "outputs": [
    {
     "name": "stdout",
     "output_type": "stream",
     "text": [
      "60253\n"
     ]
    }
   ],
   "source": [
    "n_exons_gene = n_exons.groupby(\"gene_id\")[\"n_exons\"].agg(\"max\").reset_index()\n",
    "print(len(n_exons_gene))"
   ]
  },
  {
   "cell_type": "code",
   "execution_count": 41,
   "metadata": {},
   "outputs": [
    {
     "name": "stdout",
     "output_type": "stream",
     "text": [
      "8167\n"
     ]
    }
   ],
   "source": [
    "# same thing for RNA-seq data: sum up transcript expression levels\n",
    "endo_exp = hits[[\"gene_id\", \"hESC_mean\", \"endo_mean\"]].groupby(\"gene_id\")[[\"hESC_mean\", \"endo_mean\"]].agg(\"sum\").reset_index()\n",
    "print(len(endo_exp))"
   ]
  },
  {
   "cell_type": "code",
   "execution_count": 42,
   "metadata": {},
   "outputs": [
    {
     "name": "stdout",
     "output_type": "stream",
     "text": [
      "8167\n"
     ]
    }
   ],
   "source": [
    "# take transcript w/ maximum logfc expression\n",
    "endo_fc = hits[[\"gene_id\", \"endo_hESC_abslog2fc\"]].groupby(\"gene_id\")[\"endo_hESC_abslog2fc\"].agg(\"max\").reset_index()\n",
    "print(len(endo_fc))"
   ]
  },
  {
   "cell_type": "code",
   "execution_count": 43,
   "metadata": {},
   "outputs": [
    {
     "name": "stdout",
     "output_type": "stream",
     "text": [
      "60253\n"
     ]
    }
   ],
   "source": [
    "# need to also do this for gwas\n",
    "closest_endo_gene = closest_endo[[\"gene_id\", \n",
    "                                  \"closest_endo_snp_distance\"]].groupby(\"gene_id\")[\"closest_endo_snp_distance\"].agg(\"min\").reset_index()\n",
    "closest_endo_gene = closest_endo_gene.merge(closest_endo[[\"gene_id\", \"closest_endo_snp_distance\", \n",
    "                                                          \"closest_endo_snp_id\", \"closest_endo_snp_disease\"]],\n",
    "                                            on=[\"gene_id\", \n",
    "                                                \"closest_endo_snp_distance\"]).drop_duplicates(subset=[\"gene_id\", \n",
    "                                                                                                      \"closest_endo_snp_distance\"])\n",
    "print(len(closest_endo_gene))"
   ]
  },
  {
   "cell_type": "markdown",
   "metadata": {},
   "source": [
    "## 4. merge all genomic features into 1 dataframe"
   ]
  },
  {
   "cell_type": "code",
   "execution_count": 44,
   "metadata": {},
   "outputs": [
    {
     "name": "stdout",
     "output_type": "stream",
     "text": [
      "60253\n"
     ]
    }
   ],
   "source": [
    "data = splicing.merge(gc_gene, on=\"gene_id\", how=\"outer\")\n",
    "print(len(data))"
   ]
  },
  {
   "cell_type": "code",
   "execution_count": 45,
   "metadata": {},
   "outputs": [
    {
     "name": "stdout",
     "output_type": "stream",
     "text": [
      "60253\n"
     ]
    }
   ],
   "source": [
    "data = data.merge(n_tss_gene, on=\"gene_id\", how=\"left\").merge(n_enh_gene, on=\"gene_id\", how=\"left\")\n",
    "print(len(data))"
   ]
  },
  {
   "cell_type": "code",
   "execution_count": 46,
   "metadata": {},
   "outputs": [
    {
     "name": "stdout",
     "output_type": "stream",
     "text": [
      "60253\n"
     ]
    }
   ],
   "source": [
    "data = data.merge(closest_enh_gene, on=\"gene_id\", how=\"left\").merge(prom_cons_gene, on=\"gene_id\", how=\"left\")\n",
    "print(len(data))"
   ]
  },
  {
   "cell_type": "code",
   "execution_count": 47,
   "metadata": {},
   "outputs": [
    {
     "name": "stdout",
     "output_type": "stream",
     "text": [
      "60253\n"
     ]
    }
   ],
   "source": [
    "data = data.merge(exon_cons_gene, on=\"gene_id\", how=\"left\").merge(dna_len_gene, on=\"gene_id\", how=\"left\")\n",
    "print(len(data))"
   ]
  },
  {
   "cell_type": "code",
   "execution_count": 48,
   "metadata": {},
   "outputs": [
    {
     "name": "stdout",
     "output_type": "stream",
     "text": [
      "60253\n"
     ]
    }
   ],
   "source": [
    "data = data.merge(rna_len_gene, on=\"gene_id\", how=\"left\").merge(n_exons_gene, on=\"gene_id\", how=\"left\")\n",
    "print(len(data))"
   ]
  },
  {
   "cell_type": "code",
   "execution_count": 49,
   "metadata": {},
   "outputs": [
    {
     "name": "stdout",
     "output_type": "stream",
     "text": [
      "60253\n"
     ]
    }
   ],
   "source": [
    "data = data.merge(closest_endo_gene[[\"gene_id\", \"closest_endo_snp_distance\", \"closest_endo_snp_id\",\n",
    "                                     \"closest_endo_snp_disease\"]], on=\"gene_id\", how=\"left\")\n",
    "print(len(data))"
   ]
  },
  {
   "cell_type": "code",
   "execution_count": 50,
   "metadata": {},
   "outputs": [],
   "source": [
    "# for n tss and n enh, NAs do not mean lack of data but mean 0 -- so replace NAs in these cols with 0\n",
    "data[\"n_tss\"] = data[\"n_tss\"].fillna(0)\n",
    "data[\"n_enh\"] = data[\"n_enh\"].fillna(0)"
   ]
  },
  {
   "cell_type": "code",
   "execution_count": 51,
   "metadata": {},
   "outputs": [
    {
     "data": {
      "text/plain": [
       "lncRNA    40121\n",
       "mRNA      20132\n",
       "Name: minimal_biotype, dtype: int64"
      ]
     },
     "execution_count": 51,
     "metadata": {},
     "output_type": "execute_result"
    }
   ],
   "source": [
    "data[\"short_gene_id\"] = data[\"gene_id\"].str.split(\"_\", expand=True)[0]\n",
    "data[\"shorter_gene_id\"] = data[\"short_gene_id\"].str.split(\".\", expand=True)[0]\n",
    "data[\"minimal_biotype\"] = data.apply(min_biotype, axis=1)\n",
    "data.minimal_biotype.value_counts()"
   ]
  },
  {
   "cell_type": "code",
   "execution_count": 52,
   "metadata": {},
   "outputs": [
    {
     "data": {
      "text/plain": [
       "33856"
      ]
     },
     "execution_count": 52,
     "metadata": {},
     "output_type": "execute_result"
    }
   ],
   "source": [
    "# remove bad biotypes we don't care about (like pseudogenes) which will have a null gene_name value\n",
    "data_filt = data[~pd.isnull(data[\"gene_name\"])]\n",
    "len(data_filt)"
   ]
  },
  {
   "cell_type": "markdown",
   "metadata": {},
   "source": [
    "## 5. create df including only genes in screen + include endo RNAseq features"
   ]
  },
  {
   "cell_type": "code",
   "execution_count": 53,
   "metadata": {},
   "outputs": [
    {
     "data": {
      "text/plain": [
       "8167"
      ]
     },
     "execution_count": 53,
     "metadata": {},
     "output_type": "execute_result"
    }
   ],
   "source": [
    "genes_in_screen = hits[\"gene_id\"].unique()\n",
    "len(genes_in_screen)"
   ]
  },
  {
   "cell_type": "code",
   "execution_count": 54,
   "metadata": {},
   "outputs": [
    {
     "data": {
      "text/plain": [
       "no hit     11196\n",
       "lenient     1428\n",
       "hit           73\n",
       "Name: min_hit, dtype: int64"
      ]
     },
     "execution_count": 54,
     "metadata": {},
     "output_type": "execute_result"
    }
   ],
   "source": [
    "hits[\"min_hit\"] = hits.apply(min_hit, axis=1)\n",
    "hits.min_hit.value_counts()"
   ]
  },
  {
   "cell_type": "code",
   "execution_count": 55,
   "metadata": {},
   "outputs": [
    {
     "data": {
      "text/html": [
       "<div>\n",
       "<style>\n",
       "    .dataframe thead tr:only-child th {\n",
       "        text-align: right;\n",
       "    }\n",
       "\n",
       "    .dataframe thead th {\n",
       "        text-align: left;\n",
       "    }\n",
       "\n",
       "    .dataframe tbody tr th {\n",
       "        vertical-align: top;\n",
       "    }\n",
       "</style>\n",
       "<table border=\"1\" class=\"dataframe\">\n",
       "  <thead>\n",
       "    <tr style=\"text-align: right;\">\n",
       "      <th></th>\n",
       "      <th>gene_id</th>\n",
       "      <th>gene_name</th>\n",
       "      <th>endo_ctrl_val</th>\n",
       "      <th>cleaner_gene_biotype</th>\n",
       "      <th>min_hit</th>\n",
       "    </tr>\n",
       "  </thead>\n",
       "  <tbody>\n",
       "    <tr>\n",
       "      <th>118</th>\n",
       "      <td>DIGIT</td>\n",
       "      <td>DIGIT</td>\n",
       "      <td>False</td>\n",
       "      <td>promoter_overlap</td>\n",
       "      <td>hit</td>\n",
       "    </tr>\n",
       "    <tr>\n",
       "      <th>1680</th>\n",
       "      <td>ENSG00000005206.12</td>\n",
       "      <td>SPPL2B</td>\n",
       "      <td>False</td>\n",
       "      <td>promoter_overlap</td>\n",
       "      <td>no hit</td>\n",
       "    </tr>\n",
       "    <tr>\n",
       "      <th>1205</th>\n",
       "      <td>ENSG00000008311.14_1</td>\n",
       "      <td>AASS</td>\n",
       "      <td>False</td>\n",
       "      <td>protein_coding</td>\n",
       "      <td>no hit</td>\n",
       "    </tr>\n",
       "    <tr>\n",
       "      <th>2483</th>\n",
       "      <td>ENSG00000010278.12_2</td>\n",
       "      <td>CD9</td>\n",
       "      <td>False</td>\n",
       "      <td>protein_coding</td>\n",
       "      <td>no hit</td>\n",
       "    </tr>\n",
       "    <tr>\n",
       "      <th>9453</th>\n",
       "      <td>ENSG00000013297.10_2</td>\n",
       "      <td>CLDN11</td>\n",
       "      <td>False</td>\n",
       "      <td>protein_coding</td>\n",
       "      <td>no hit</td>\n",
       "    </tr>\n",
       "  </tbody>\n",
       "</table>\n",
       "</div>"
      ],
      "text/plain": [
       "                   gene_id gene_name  endo_ctrl_val cleaner_gene_biotype  \\\n",
       "118                  DIGIT     DIGIT          False     promoter_overlap   \n",
       "1680    ENSG00000005206.12    SPPL2B          False     promoter_overlap   \n",
       "1205  ENSG00000008311.14_1      AASS          False       protein_coding   \n",
       "2483  ENSG00000010278.12_2       CD9          False       protein_coding   \n",
       "9453  ENSG00000013297.10_2    CLDN11          False       protein_coding   \n",
       "\n",
       "     min_hit  \n",
       "118      hit  \n",
       "1680  no hit  \n",
       "1205  no hit  \n",
       "2483  no hit  \n",
       "9453  no hit  "
      ]
     },
     "execution_count": 55,
     "metadata": {},
     "output_type": "execute_result"
    }
   ],
   "source": [
    "gene_hit_status = hits[[\"gene_id\", \"gene_name\", \"endo_ctrl_val\", \"cleaner_gene_biotype\",\n",
    "                        \"min_hit\"]].sort_values(by=[\"gene_id\", \"min_hit\"]).drop_duplicates(subset=\"gene_id\", \n",
    "                                                                                           keep=\"first\")\n",
    "gene_hit_status.head()"
   ]
  },
  {
   "cell_type": "code",
   "execution_count": 56,
   "metadata": {},
   "outputs": [
    {
     "name": "stdout",
     "output_type": "stream",
     "text": [
      "60253\n",
      "8167\n"
     ]
    },
    {
     "data": {
      "text/html": [
       "<div>\n",
       "<style>\n",
       "    .dataframe thead tr:only-child th {\n",
       "        text-align: right;\n",
       "    }\n",
       "\n",
       "    .dataframe thead th {\n",
       "        text-align: left;\n",
       "    }\n",
       "\n",
       "    .dataframe tbody tr th {\n",
       "        vertical-align: top;\n",
       "    }\n",
       "</style>\n",
       "<table border=\"1\" class=\"dataframe\">\n",
       "  <thead>\n",
       "    <tr style=\"text-align: right;\">\n",
       "      <th></th>\n",
       "      <th>gene_id</th>\n",
       "      <th>IMR-90_eff_mean</th>\n",
       "      <th>IMR-90_exp_mean</th>\n",
       "      <th>IMR-90_eff_ratio</th>\n",
       "      <th>K562_eff_mean</th>\n",
       "      <th>K562_exp_mean</th>\n",
       "      <th>K562_eff_ratio</th>\n",
       "      <th>HT1080_eff_mean</th>\n",
       "      <th>HT1080_exp_mean</th>\n",
       "      <th>HT1080_eff_ratio</th>\n",
       "      <th>...</th>\n",
       "      <th>rna_len</th>\n",
       "      <th>n_exons</th>\n",
       "      <th>closest_endo_snp_distance</th>\n",
       "      <th>closest_endo_snp_id</th>\n",
       "      <th>closest_endo_snp_disease</th>\n",
       "      <th>short_gene_id</th>\n",
       "      <th>shorter_gene_id</th>\n",
       "      <th>minimal_biotype</th>\n",
       "      <th>endo_ctrl_val</th>\n",
       "      <th>min_hit</th>\n",
       "    </tr>\n",
       "  </thead>\n",
       "  <tbody>\n",
       "    <tr>\n",
       "      <th>0</th>\n",
       "      <td>ENSG00000243485.4_2</td>\n",
       "      <td>0.000000</td>\n",
       "      <td>0.000000</td>\n",
       "      <td>0.000000</td>\n",
       "      <td>0.038730</td>\n",
       "      <td>0.115228</td>\n",
       "      <td>0.004463</td>\n",
       "      <td>0.000000</td>\n",
       "      <td>0.038927</td>\n",
       "      <td>0.000000</td>\n",
       "      <td>...</td>\n",
       "      <td>712</td>\n",
       "      <td>3</td>\n",
       "      <td>863464</td>\n",
       "      <td>rs13303010</td>\n",
       "      <td>pancreatic carcinoma</td>\n",
       "      <td>ENSG00000243485.4</td>\n",
       "      <td>ENSG00000243485</td>\n",
       "      <td>lncRNA</td>\n",
       "      <td>False</td>\n",
       "      <td>no hit</td>\n",
       "    </tr>\n",
       "    <tr>\n",
       "      <th>1</th>\n",
       "      <td>ENSG00000237613.2_1</td>\n",
       "      <td>0.075812</td>\n",
       "      <td>0.089398</td>\n",
       "      <td>0.006777</td>\n",
       "      <td>0.014606</td>\n",
       "      <td>0.032696</td>\n",
       "      <td>0.000478</td>\n",
       "      <td>0.010058</td>\n",
       "      <td>0.010983</td>\n",
       "      <td>0.000110</td>\n",
       "      <td>...</td>\n",
       "      <td>1187</td>\n",
       "      <td>3</td>\n",
       "      <td>858492</td>\n",
       "      <td>rs13303010</td>\n",
       "      <td>pancreatic carcinoma</td>\n",
       "      <td>ENSG00000237613.2</td>\n",
       "      <td>ENSG00000237613</td>\n",
       "      <td>lncRNA</td>\n",
       "      <td>False</td>\n",
       "      <td>lenient</td>\n",
       "    </tr>\n",
       "    <tr>\n",
       "      <th>2</th>\n",
       "      <td>ENSG00000238009.6_2</td>\n",
       "      <td>0.114828</td>\n",
       "      <td>0.131461</td>\n",
       "      <td>0.015095</td>\n",
       "      <td>0.688701</td>\n",
       "      <td>2.415708</td>\n",
       "      <td>1.663702</td>\n",
       "      <td>0.206727</td>\n",
       "      <td>0.313033</td>\n",
       "      <td>0.064712</td>\n",
       "      <td>...</td>\n",
       "      <td>2748</td>\n",
       "      <td>4</td>\n",
       "      <td>760850</td>\n",
       "      <td>rs13303010</td>\n",
       "      <td>pancreatic carcinoma</td>\n",
       "      <td>ENSG00000238009.6</td>\n",
       "      <td>ENSG00000238009</td>\n",
       "      <td>lncRNA</td>\n",
       "      <td>False</td>\n",
       "      <td>no hit</td>\n",
       "    </tr>\n",
       "    <tr>\n",
       "      <th>3</th>\n",
       "      <td>ENSG00000239945.1_2</td>\n",
       "      <td>0.000000</td>\n",
       "      <td>0.469485</td>\n",
       "      <td>0.000000</td>\n",
       "      <td>0.002306</td>\n",
       "      <td>1.325207</td>\n",
       "      <td>0.003055</td>\n",
       "      <td>0.000000</td>\n",
       "      <td>0.730441</td>\n",
       "      <td>0.000000</td>\n",
       "      <td>...</td>\n",
       "      <td>1319</td>\n",
       "      <td>2</td>\n",
       "      <td>803468</td>\n",
       "      <td>rs13303010</td>\n",
       "      <td>pancreatic carcinoma</td>\n",
       "      <td>ENSG00000239945.1</td>\n",
       "      <td>ENSG00000239945</td>\n",
       "      <td>lncRNA</td>\n",
       "      <td>False</td>\n",
       "      <td>no hit</td>\n",
       "    </tr>\n",
       "    <tr>\n",
       "      <th>4</th>\n",
       "      <td>ENSG00000239906.1_1</td>\n",
       "      <td>0.197971</td>\n",
       "      <td>0.327736</td>\n",
       "      <td>0.064882</td>\n",
       "      <td>0.623117</td>\n",
       "      <td>2.832431</td>\n",
       "      <td>1.764937</td>\n",
       "      <td>0.000000</td>\n",
       "      <td>0.016915</td>\n",
       "      <td>0.000000</td>\n",
       "      <td>...</td>\n",
       "      <td>323</td>\n",
       "      <td>2</td>\n",
       "      <td>754234</td>\n",
       "      <td>rs13303010</td>\n",
       "      <td>pancreatic carcinoma</td>\n",
       "      <td>ENSG00000239906.1</td>\n",
       "      <td>ENSG00000239906</td>\n",
       "      <td>lncRNA</td>\n",
       "      <td>False</td>\n",
       "      <td>no hit</td>\n",
       "    </tr>\n",
       "  </tbody>\n",
       "</table>\n",
       "<p>5 rows × 60 columns</p>\n",
       "</div>"
      ],
      "text/plain": [
       "               gene_id  IMR-90_eff_mean  IMR-90_exp_mean  IMR-90_eff_ratio  \\\n",
       "0  ENSG00000243485.4_2         0.000000         0.000000          0.000000   \n",
       "1  ENSG00000237613.2_1         0.075812         0.089398          0.006777   \n",
       "2  ENSG00000238009.6_2         0.114828         0.131461          0.015095   \n",
       "3  ENSG00000239945.1_2         0.000000         0.469485          0.000000   \n",
       "4  ENSG00000239906.1_1         0.197971         0.327736          0.064882   \n",
       "\n",
       "   K562_eff_mean  K562_exp_mean  K562_eff_ratio  HT1080_eff_mean  \\\n",
       "0       0.038730       0.115228        0.004463         0.000000   \n",
       "1       0.014606       0.032696        0.000478         0.010058   \n",
       "2       0.688701       2.415708        1.663702         0.206727   \n",
       "3       0.002306       1.325207        0.003055         0.000000   \n",
       "4       0.623117       2.832431        1.764937         0.000000   \n",
       "\n",
       "   HT1080_exp_mean  HT1080_eff_ratio   ...     rna_len  n_exons  \\\n",
       "0         0.038927          0.000000   ...         712        3   \n",
       "1         0.010983          0.000110   ...        1187        3   \n",
       "2         0.313033          0.064712   ...        2748        4   \n",
       "3         0.730441          0.000000   ...        1319        2   \n",
       "4         0.016915          0.000000   ...         323        2   \n",
       "\n",
       "   closest_endo_snp_distance  closest_endo_snp_id  closest_endo_snp_disease  \\\n",
       "0                     863464           rs13303010      pancreatic carcinoma   \n",
       "1                     858492           rs13303010      pancreatic carcinoma   \n",
       "2                     760850           rs13303010      pancreatic carcinoma   \n",
       "3                     803468           rs13303010      pancreatic carcinoma   \n",
       "4                     754234           rs13303010      pancreatic carcinoma   \n",
       "\n",
       "       short_gene_id  shorter_gene_id  minimal_biotype  endo_ctrl_val  min_hit  \n",
       "0  ENSG00000243485.4  ENSG00000243485           lncRNA          False   no hit  \n",
       "1  ENSG00000237613.2  ENSG00000237613           lncRNA          False  lenient  \n",
       "2  ENSG00000238009.6  ENSG00000238009           lncRNA          False   no hit  \n",
       "3  ENSG00000239945.1  ENSG00000239945           lncRNA          False   no hit  \n",
       "4  ENSG00000239906.1  ENSG00000239906           lncRNA          False   no hit  \n",
       "\n",
       "[5 rows x 60 columns]"
      ]
     },
     "execution_count": 56,
     "metadata": {},
     "output_type": "execute_result"
    }
   ],
   "source": [
    "print(len(data))\n",
    "df_screen = data.merge(gene_hit_status, on=[\"gene_id\", \"gene_name\", \"cleaner_gene_biotype\"])\n",
    "print(len(df_screen))\n",
    "df_screen.head()"
   ]
  },
  {
   "cell_type": "code",
   "execution_count": 57,
   "metadata": {},
   "outputs": [
    {
     "data": {
      "text/plain": [
       "8167"
      ]
     },
     "execution_count": 57,
     "metadata": {},
     "output_type": "execute_result"
    }
   ],
   "source": [
    "df_screen = df_screen.merge(endo_exp, on=\"gene_id\").merge(endo_fc, on=\"gene_id\")\n",
    "len(df_screen)"
   ]
  },
  {
   "cell_type": "code",
   "execution_count": 58,
   "metadata": {},
   "outputs": [
    {
     "data": {
      "text/plain": [
       "lncRNA    43\n",
       "mRNA       9\n",
       "Name: minimal_biotype, dtype: int64"
      ]
     },
     "execution_count": 58,
     "metadata": {},
     "output_type": "execute_result"
    }
   ],
   "source": [
    "df_screen[df_screen[\"min_hit\"] == \"hit\"].minimal_biotype.value_counts()"
   ]
  },
  {
   "cell_type": "code",
   "execution_count": 59,
   "metadata": {},
   "outputs": [
    {
     "data": {
      "text/html": [
       "<div>\n",
       "<style>\n",
       "    .dataframe thead tr:only-child th {\n",
       "        text-align: right;\n",
       "    }\n",
       "\n",
       "    .dataframe thead th {\n",
       "        text-align: left;\n",
       "    }\n",
       "\n",
       "    .dataframe tbody tr th {\n",
       "        vertical-align: top;\n",
       "    }\n",
       "</style>\n",
       "<table border=\"1\" class=\"dataframe\">\n",
       "  <thead>\n",
       "    <tr style=\"text-align: right;\">\n",
       "      <th></th>\n",
       "      <th>gene_name</th>\n",
       "      <th>minimal_biotype</th>\n",
       "      <th>endo_ctrl_val</th>\n",
       "      <th>cleaner_gene_biotype</th>\n",
       "    </tr>\n",
       "  </thead>\n",
       "  <tbody>\n",
       "    <tr>\n",
       "      <th>68</th>\n",
       "      <td>RP3-510D11.2</td>\n",
       "      <td>lncRNA</td>\n",
       "      <td>False</td>\n",
       "      <td>transcript_overlap</td>\n",
       "    </tr>\n",
       "    <tr>\n",
       "      <th>107</th>\n",
       "      <td>RP5-1056L3.1</td>\n",
       "      <td>lncRNA</td>\n",
       "      <td>False</td>\n",
       "      <td>promoter_overlap</td>\n",
       "    </tr>\n",
       "    <tr>\n",
       "      <th>255</th>\n",
       "      <td>FOXD3-AS1</td>\n",
       "      <td>lncRNA</td>\n",
       "      <td>False</td>\n",
       "      <td>transcript_overlap</td>\n",
       "    </tr>\n",
       "    <tr>\n",
       "      <th>331</th>\n",
       "      <td>RP11-421L21.3</td>\n",
       "      <td>lncRNA</td>\n",
       "      <td>False</td>\n",
       "      <td>promoter_overlap</td>\n",
       "    </tr>\n",
       "    <tr>\n",
       "      <th>351</th>\n",
       "      <td>LAMTOR5-AS1</td>\n",
       "      <td>lncRNA</td>\n",
       "      <td>False</td>\n",
       "      <td>transcript_overlap</td>\n",
       "    </tr>\n",
       "    <tr>\n",
       "      <th>516</th>\n",
       "      <td>RP11-533E19.7</td>\n",
       "      <td>lncRNA</td>\n",
       "      <td>False</td>\n",
       "      <td>promoter_overlap</td>\n",
       "    </tr>\n",
       "    <tr>\n",
       "      <th>622</th>\n",
       "      <td>MIXL1</td>\n",
       "      <td>mRNA</td>\n",
       "      <td>True</td>\n",
       "      <td>protein_coding</td>\n",
       "    </tr>\n",
       "    <tr>\n",
       "      <th>965</th>\n",
       "      <td>AC011753.5</td>\n",
       "      <td>lncRNA</td>\n",
       "      <td>False</td>\n",
       "      <td>transcript_overlap</td>\n",
       "    </tr>\n",
       "    <tr>\n",
       "      <th>1303</th>\n",
       "      <td>RP11-222K16.2</td>\n",
       "      <td>lncRNA</td>\n",
       "      <td>False</td>\n",
       "      <td>intergenic</td>\n",
       "    </tr>\n",
       "    <tr>\n",
       "      <th>1304</th>\n",
       "      <td>EOMES</td>\n",
       "      <td>mRNA</td>\n",
       "      <td>True</td>\n",
       "      <td>protein_coding</td>\n",
       "    </tr>\n",
       "    <tr>\n",
       "      <th>1323</th>\n",
       "      <td>ACVR2B-AS1</td>\n",
       "      <td>lncRNA</td>\n",
       "      <td>False</td>\n",
       "      <td>promoter_overlap</td>\n",
       "    </tr>\n",
       "    <tr>\n",
       "      <th>1423</th>\n",
       "      <td>LINC00635</td>\n",
       "      <td>lncRNA</td>\n",
       "      <td>False</td>\n",
       "      <td>intergenic</td>\n",
       "    </tr>\n",
       "    <tr>\n",
       "      <th>1633</th>\n",
       "      <td>LINC00969</td>\n",
       "      <td>lncRNA</td>\n",
       "      <td>False</td>\n",
       "      <td>promoter_overlap</td>\n",
       "    </tr>\n",
       "    <tr>\n",
       "      <th>2088</th>\n",
       "      <td>CTD-2325A15.5</td>\n",
       "      <td>lncRNA</td>\n",
       "      <td>False</td>\n",
       "      <td>transcript_overlap</td>\n",
       "    </tr>\n",
       "    <tr>\n",
       "      <th>2181</th>\n",
       "      <td>RP11-414H23.2</td>\n",
       "      <td>lncRNA</td>\n",
       "      <td>False</td>\n",
       "      <td>intergenic</td>\n",
       "    </tr>\n",
       "    <tr>\n",
       "      <th>2365</th>\n",
       "      <td>RP11-541P9.3</td>\n",
       "      <td>lncRNA</td>\n",
       "      <td>False</td>\n",
       "      <td>promoter_overlap</td>\n",
       "    </tr>\n",
       "    <tr>\n",
       "      <th>2958</th>\n",
       "      <td>AC002066.1</td>\n",
       "      <td>lncRNA</td>\n",
       "      <td>False</td>\n",
       "      <td>transcript_overlap</td>\n",
       "    </tr>\n",
       "    <tr>\n",
       "      <th>3183</th>\n",
       "      <td>RP11-346L1.2</td>\n",
       "      <td>lncRNA</td>\n",
       "      <td>False</td>\n",
       "      <td>gene_nearby</td>\n",
       "    </tr>\n",
       "    <tr>\n",
       "      <th>3222</th>\n",
       "      <td>SOX17</td>\n",
       "      <td>mRNA</td>\n",
       "      <td>True</td>\n",
       "      <td>protein_coding</td>\n",
       "    </tr>\n",
       "    <tr>\n",
       "      <th>3252</th>\n",
       "      <td>LINC00967</td>\n",
       "      <td>lncRNA</td>\n",
       "      <td>False</td>\n",
       "      <td>intergenic</td>\n",
       "    </tr>\n",
       "    <tr>\n",
       "      <th>3358</th>\n",
       "      <td>RP11-1C8.4</td>\n",
       "      <td>lncRNA</td>\n",
       "      <td>False</td>\n",
       "      <td>promoter_overlap</td>\n",
       "    </tr>\n",
       "    <tr>\n",
       "      <th>3405</th>\n",
       "      <td>PVT1</td>\n",
       "      <td>lncRNA</td>\n",
       "      <td>False</td>\n",
       "      <td>transcript_overlap</td>\n",
       "    </tr>\n",
       "    <tr>\n",
       "      <th>4054</th>\n",
       "      <td>RP11-23F23.2</td>\n",
       "      <td>lncRNA</td>\n",
       "      <td>False</td>\n",
       "      <td>intergenic</td>\n",
       "    </tr>\n",
       "    <tr>\n",
       "      <th>4078</th>\n",
       "      <td>RP11-685M7.3</td>\n",
       "      <td>lncRNA</td>\n",
       "      <td>False</td>\n",
       "      <td>promoter_overlap</td>\n",
       "    </tr>\n",
       "    <tr>\n",
       "      <th>4286</th>\n",
       "      <td>KCTD21-AS1</td>\n",
       "      <td>lncRNA</td>\n",
       "      <td>False</td>\n",
       "      <td>promoter_overlap</td>\n",
       "    </tr>\n",
       "    <tr>\n",
       "      <th>4316</th>\n",
       "      <td>RP11-121L10.2</td>\n",
       "      <td>lncRNA</td>\n",
       "      <td>False</td>\n",
       "      <td>promoter_overlap</td>\n",
       "    </tr>\n",
       "    <tr>\n",
       "      <th>4867</th>\n",
       "      <td>RP11-474D1.4</td>\n",
       "      <td>lncRNA</td>\n",
       "      <td>False</td>\n",
       "      <td>promoter_overlap</td>\n",
       "    </tr>\n",
       "    <tr>\n",
       "      <th>4945</th>\n",
       "      <td>FOXO1</td>\n",
       "      <td>mRNA</td>\n",
       "      <td>False</td>\n",
       "      <td>protein_coding</td>\n",
       "    </tr>\n",
       "    <tr>\n",
       "      <th>5246</th>\n",
       "      <td>CTD-3075F15.1</td>\n",
       "      <td>lncRNA</td>\n",
       "      <td>False</td>\n",
       "      <td>promoter_overlap</td>\n",
       "    </tr>\n",
       "    <tr>\n",
       "      <th>5298</th>\n",
       "      <td>GSC</td>\n",
       "      <td>mRNA</td>\n",
       "      <td>True</td>\n",
       "      <td>protein_coding</td>\n",
       "    </tr>\n",
       "    <tr>\n",
       "      <th>5524</th>\n",
       "      <td>RP11-299H22.6</td>\n",
       "      <td>lncRNA</td>\n",
       "      <td>False</td>\n",
       "      <td>intergenic</td>\n",
       "    </tr>\n",
       "    <tr>\n",
       "      <th>5667</th>\n",
       "      <td>AC068831.3</td>\n",
       "      <td>lncRNA</td>\n",
       "      <td>False</td>\n",
       "      <td>transcript_overlap</td>\n",
       "    </tr>\n",
       "    <tr>\n",
       "      <th>5880</th>\n",
       "      <td>CTD-2270L9.4</td>\n",
       "      <td>lncRNA</td>\n",
       "      <td>False</td>\n",
       "      <td>promoter_overlap</td>\n",
       "    </tr>\n",
       "    <tr>\n",
       "      <th>5898</th>\n",
       "      <td>RP11-57A19.2</td>\n",
       "      <td>lncRNA</td>\n",
       "      <td>False</td>\n",
       "      <td>promoter_overlap</td>\n",
       "    </tr>\n",
       "    <tr>\n",
       "      <th>6196</th>\n",
       "      <td>PITPNA-AS1</td>\n",
       "      <td>lncRNA</td>\n",
       "      <td>False</td>\n",
       "      <td>promoter_overlap</td>\n",
       "    </tr>\n",
       "    <tr>\n",
       "      <th>6316</th>\n",
       "      <td>AC007952.4</td>\n",
       "      <td>lncRNA</td>\n",
       "      <td>False</td>\n",
       "      <td>intergenic</td>\n",
       "    </tr>\n",
       "    <tr>\n",
       "      <th>6636</th>\n",
       "      <td>LINC00511</td>\n",
       "      <td>lncRNA</td>\n",
       "      <td>False</td>\n",
       "      <td>transcript_overlap</td>\n",
       "    </tr>\n",
       "    <tr>\n",
       "      <th>6715</th>\n",
       "      <td>SLC16A3</td>\n",
       "      <td>mRNA</td>\n",
       "      <td>False</td>\n",
       "      <td>protein_coding</td>\n",
       "    </tr>\n",
       "    <tr>\n",
       "      <th>6738</th>\n",
       "      <td>RP11-705O1.8</td>\n",
       "      <td>lncRNA</td>\n",
       "      <td>False</td>\n",
       "      <td>promoter_overlap</td>\n",
       "    </tr>\n",
       "    <tr>\n",
       "      <th>6827</th>\n",
       "      <td>GATA6</td>\n",
       "      <td>mRNA</td>\n",
       "      <td>True</td>\n",
       "      <td>protein_coding</td>\n",
       "    </tr>\n",
       "    <tr>\n",
       "      <th>6919</th>\n",
       "      <td>PMAIP1</td>\n",
       "      <td>mRNA</td>\n",
       "      <td>False</td>\n",
       "      <td>protein_coding</td>\n",
       "    </tr>\n",
       "    <tr>\n",
       "      <th>6978</th>\n",
       "      <td>LLNLR-260G6.1</td>\n",
       "      <td>lncRNA</td>\n",
       "      <td>False</td>\n",
       "      <td>transcript_overlap</td>\n",
       "    </tr>\n",
       "    <tr>\n",
       "      <th>7230</th>\n",
       "      <td>CTD-3220F14.2</td>\n",
       "      <td>lncRNA</td>\n",
       "      <td>False</td>\n",
       "      <td>transcript_overlap</td>\n",
       "    </tr>\n",
       "    <tr>\n",
       "      <th>7252</th>\n",
       "      <td>CTC-492K19.4</td>\n",
       "      <td>lncRNA</td>\n",
       "      <td>False</td>\n",
       "      <td>transcript_overlap</td>\n",
       "    </tr>\n",
       "    <tr>\n",
       "      <th>7464</th>\n",
       "      <td>FOXA2</td>\n",
       "      <td>mRNA</td>\n",
       "      <td>True</td>\n",
       "      <td>protein_coding</td>\n",
       "    </tr>\n",
       "    <tr>\n",
       "      <th>7541</th>\n",
       "      <td>RP1-148H17.1</td>\n",
       "      <td>lncRNA</td>\n",
       "      <td>False</td>\n",
       "      <td>intergenic</td>\n",
       "    </tr>\n",
       "    <tr>\n",
       "      <th>7699</th>\n",
       "      <td>LINC00479</td>\n",
       "      <td>lncRNA</td>\n",
       "      <td>False</td>\n",
       "      <td>promoter_overlap</td>\n",
       "    </tr>\n",
       "    <tr>\n",
       "      <th>7728</th>\n",
       "      <td>LINC01424</td>\n",
       "      <td>lncRNA</td>\n",
       "      <td>False</td>\n",
       "      <td>promoter_overlap</td>\n",
       "    </tr>\n",
       "    <tr>\n",
       "      <th>7776</th>\n",
       "      <td>KB-1440D3.14</td>\n",
       "      <td>lncRNA</td>\n",
       "      <td>False</td>\n",
       "      <td>gene_nearby</td>\n",
       "    </tr>\n",
       "    <tr>\n",
       "      <th>7867</th>\n",
       "      <td>RP3-508I15.9</td>\n",
       "      <td>lncRNA</td>\n",
       "      <td>False</td>\n",
       "      <td>promoter_overlap</td>\n",
       "    </tr>\n",
       "    <tr>\n",
       "      <th>7933</th>\n",
       "      <td>RP11-120D5.1</td>\n",
       "      <td>lncRNA</td>\n",
       "      <td>False</td>\n",
       "      <td>promoter_overlap</td>\n",
       "    </tr>\n",
       "    <tr>\n",
       "      <th>8166</th>\n",
       "      <td>DIGIT</td>\n",
       "      <td>lncRNA</td>\n",
       "      <td>False</td>\n",
       "      <td>promoter_overlap</td>\n",
       "    </tr>\n",
       "  </tbody>\n",
       "</table>\n",
       "</div>"
      ],
      "text/plain": [
       "          gene_name minimal_biotype  endo_ctrl_val cleaner_gene_biotype\n",
       "68     RP3-510D11.2          lncRNA          False   transcript_overlap\n",
       "107    RP5-1056L3.1          lncRNA          False     promoter_overlap\n",
       "255       FOXD3-AS1          lncRNA          False   transcript_overlap\n",
       "331   RP11-421L21.3          lncRNA          False     promoter_overlap\n",
       "351     LAMTOR5-AS1          lncRNA          False   transcript_overlap\n",
       "516   RP11-533E19.7          lncRNA          False     promoter_overlap\n",
       "622           MIXL1            mRNA           True       protein_coding\n",
       "965      AC011753.5          lncRNA          False   transcript_overlap\n",
       "1303  RP11-222K16.2          lncRNA          False           intergenic\n",
       "1304          EOMES            mRNA           True       protein_coding\n",
       "1323     ACVR2B-AS1          lncRNA          False     promoter_overlap\n",
       "1423      LINC00635          lncRNA          False           intergenic\n",
       "1633      LINC00969          lncRNA          False     promoter_overlap\n",
       "2088  CTD-2325A15.5          lncRNA          False   transcript_overlap\n",
       "2181  RP11-414H23.2          lncRNA          False           intergenic\n",
       "2365   RP11-541P9.3          lncRNA          False     promoter_overlap\n",
       "2958     AC002066.1          lncRNA          False   transcript_overlap\n",
       "3183   RP11-346L1.2          lncRNA          False          gene_nearby\n",
       "3222          SOX17            mRNA           True       protein_coding\n",
       "3252      LINC00967          lncRNA          False           intergenic\n",
       "3358     RP11-1C8.4          lncRNA          False     promoter_overlap\n",
       "3405           PVT1          lncRNA          False   transcript_overlap\n",
       "4054   RP11-23F23.2          lncRNA          False           intergenic\n",
       "4078   RP11-685M7.3          lncRNA          False     promoter_overlap\n",
       "4286     KCTD21-AS1          lncRNA          False     promoter_overlap\n",
       "4316  RP11-121L10.2          lncRNA          False     promoter_overlap\n",
       "4867   RP11-474D1.4          lncRNA          False     promoter_overlap\n",
       "4945          FOXO1            mRNA          False       protein_coding\n",
       "5246  CTD-3075F15.1          lncRNA          False     promoter_overlap\n",
       "5298            GSC            mRNA           True       protein_coding\n",
       "5524  RP11-299H22.6          lncRNA          False           intergenic\n",
       "5667     AC068831.3          lncRNA          False   transcript_overlap\n",
       "5880   CTD-2270L9.4          lncRNA          False     promoter_overlap\n",
       "5898   RP11-57A19.2          lncRNA          False     promoter_overlap\n",
       "6196     PITPNA-AS1          lncRNA          False     promoter_overlap\n",
       "6316     AC007952.4          lncRNA          False           intergenic\n",
       "6636      LINC00511          lncRNA          False   transcript_overlap\n",
       "6715        SLC16A3            mRNA          False       protein_coding\n",
       "6738   RP11-705O1.8          lncRNA          False     promoter_overlap\n",
       "6827          GATA6            mRNA           True       protein_coding\n",
       "6919         PMAIP1            mRNA          False       protein_coding\n",
       "6978  LLNLR-260G6.1          lncRNA          False   transcript_overlap\n",
       "7230  CTD-3220F14.2          lncRNA          False   transcript_overlap\n",
       "7252   CTC-492K19.4          lncRNA          False   transcript_overlap\n",
       "7464          FOXA2            mRNA           True       protein_coding\n",
       "7541   RP1-148H17.1          lncRNA          False           intergenic\n",
       "7699      LINC00479          lncRNA          False     promoter_overlap\n",
       "7728      LINC01424          lncRNA          False     promoter_overlap\n",
       "7776   KB-1440D3.14          lncRNA          False          gene_nearby\n",
       "7867   RP3-508I15.9          lncRNA          False     promoter_overlap\n",
       "7933   RP11-120D5.1          lncRNA          False     promoter_overlap\n",
       "8166          DIGIT          lncRNA          False     promoter_overlap"
      ]
     },
     "execution_count": 59,
     "metadata": {},
     "output_type": "execute_result"
    }
   ],
   "source": [
    "tmp = df_screen[df_screen[\"min_hit\"] == \"hit\"][[\"gene_name\", \"minimal_biotype\", \"endo_ctrl_val\", \"cleaner_gene_biotype\"]]\n",
    "tmp"
   ]
  },
  {
   "cell_type": "code",
   "execution_count": 60,
   "metadata": {},
   "outputs": [
    {
     "data": {
      "text/plain": [
       "minimal_biotype  endo_ctrl_val\n",
       "lncRNA           False            43\n",
       "mRNA             False             3\n",
       "                 True              6\n",
       "Name: gene_name, dtype: int64"
      ]
     },
     "execution_count": 60,
     "metadata": {},
     "output_type": "execute_result"
    }
   ],
   "source": [
    "tmp.groupby([\"minimal_biotype\", \"endo_ctrl_val\"])[\"gene_name\"].agg(\"count\")"
   ]
  },
  {
   "cell_type": "markdown",
   "metadata": {},
   "source": [
    "## 6. write final files"
   ]
  },
  {
   "cell_type": "markdown",
   "metadata": {},
   "source": [
    "### general features for all genes"
   ]
  },
  {
   "cell_type": "code",
   "execution_count": 61,
   "metadata": {},
   "outputs": [],
   "source": [
    "meta_cols = [\"gene_id\", \"gene_name\", \"csf\", \"cleaner_gene_biotype\", \"minimal_biotype\"]\n",
    "sub_feature_cols = ['max_eff', 'max_exp', 'gc', 'n_tss', 'n_enh', 'enh_dist', 'prom_cons',\n",
    "                    'exon_cons', 'dna_len', 'rna_len', 'n_exons']"
   ]
  },
  {
   "cell_type": "code",
   "execution_count": 62,
   "metadata": {},
   "outputs": [],
   "source": [
    "all_cols = meta_cols + sub_feature_cols"
   ]
  },
  {
   "cell_type": "code",
   "execution_count": 63,
   "metadata": {},
   "outputs": [
    {
     "data": {
      "text/html": [
       "<div>\n",
       "<style>\n",
       "    .dataframe thead tr:only-child th {\n",
       "        text-align: right;\n",
       "    }\n",
       "\n",
       "    .dataframe thead th {\n",
       "        text-align: left;\n",
       "    }\n",
       "\n",
       "    .dataframe tbody tr th {\n",
       "        vertical-align: top;\n",
       "    }\n",
       "</style>\n",
       "<table border=\"1\" class=\"dataframe\">\n",
       "  <thead>\n",
       "    <tr style=\"text-align: right;\">\n",
       "      <th></th>\n",
       "      <th>gene_id</th>\n",
       "      <th>gene_name</th>\n",
       "      <th>csf</th>\n",
       "      <th>cleaner_gene_biotype</th>\n",
       "      <th>minimal_biotype</th>\n",
       "      <th>max_eff</th>\n",
       "      <th>max_exp</th>\n",
       "      <th>gc</th>\n",
       "      <th>n_tss</th>\n",
       "      <th>n_enh</th>\n",
       "      <th>enh_dist</th>\n",
       "      <th>prom_cons</th>\n",
       "      <th>exon_cons</th>\n",
       "      <th>dna_len</th>\n",
       "      <th>rna_len</th>\n",
       "      <th>n_exons</th>\n",
       "    </tr>\n",
       "  </thead>\n",
       "  <tbody>\n",
       "    <tr>\n",
       "      <th>2</th>\n",
       "      <td>ENSG00000243485.4_2</td>\n",
       "      <td>MIR1302-2</td>\n",
       "      <td>lncRNA_good_csf</td>\n",
       "      <td>intergenic</td>\n",
       "      <td>lncRNA</td>\n",
       "      <td>0.208126</td>\n",
       "      <td>0.559674</td>\n",
       "      <td>0.545147</td>\n",
       "      <td>0.0</td>\n",
       "      <td>18.0</td>\n",
       "      <td>809376</td>\n",
       "      <td>0.00</td>\n",
       "      <td>0.000000</td>\n",
       "      <td>1543</td>\n",
       "      <td>712</td>\n",
       "      <td>3</td>\n",
       "    </tr>\n",
       "    <tr>\n",
       "      <th>3</th>\n",
       "      <td>ENSG00000237613.2_1</td>\n",
       "      <td>FAM138A</td>\n",
       "      <td>lncRNA_good_csf</td>\n",
       "      <td>intergenic</td>\n",
       "      <td>lncRNA</td>\n",
       "      <td>0.154032</td>\n",
       "      <td>0.222609</td>\n",
       "      <td>0.465565</td>\n",
       "      <td>0.0</td>\n",
       "      <td>18.0</td>\n",
       "      <td>803661</td>\n",
       "      <td>0.00</td>\n",
       "      <td>0.006667</td>\n",
       "      <td>1527</td>\n",
       "      <td>1187</td>\n",
       "      <td>3</td>\n",
       "    </tr>\n",
       "    <tr>\n",
       "      <th>6</th>\n",
       "      <td>ENSG00000186092.4_1</td>\n",
       "      <td>OR4F5</td>\n",
       "      <td>protein_coding</td>\n",
       "      <td>protein_coding</td>\n",
       "      <td>mRNA</td>\n",
       "      <td>0.023544</td>\n",
       "      <td>0.050019</td>\n",
       "      <td>0.571895</td>\n",
       "      <td>0.0</td>\n",
       "      <td>20.0</td>\n",
       "      <td>770651</td>\n",
       "      <td>0.00</td>\n",
       "      <td>0.000000</td>\n",
       "      <td>917</td>\n",
       "      <td>918</td>\n",
       "      <td>1</td>\n",
       "    </tr>\n",
       "    <tr>\n",
       "      <th>7</th>\n",
       "      <td>ENSG00000238009.6_2</td>\n",
       "      <td>RP11-34P13.7</td>\n",
       "      <td>lncRNA_good_csf</td>\n",
       "      <td>transcript_overlap</td>\n",
       "      <td>lncRNA</td>\n",
       "      <td>0.688701</td>\n",
       "      <td>2.415708</td>\n",
       "      <td>0.537288</td>\n",
       "      <td>0.0</td>\n",
       "      <td>26.0</td>\n",
       "      <td>706019</td>\n",
       "      <td>0.38</td>\n",
       "      <td>0.505000</td>\n",
       "      <td>36987</td>\n",
       "      <td>2748</td>\n",
       "      <td>4</td>\n",
       "    </tr>\n",
       "    <tr>\n",
       "      <th>8</th>\n",
       "      <td>ENSG00000239945.1_2</td>\n",
       "      <td>RP11-34P13.8</td>\n",
       "      <td>lncRNA_good_csf</td>\n",
       "      <td>transcript_overlap</td>\n",
       "      <td>lncRNA</td>\n",
       "      <td>0.027553</td>\n",
       "      <td>2.987223</td>\n",
       "      <td>0.525398</td>\n",
       "      <td>0.0</td>\n",
       "      <td>21.0</td>\n",
       "      <td>748637</td>\n",
       "      <td>0.11</td>\n",
       "      <td>0.140000</td>\n",
       "      <td>1554</td>\n",
       "      <td>1319</td>\n",
       "      <td>2</td>\n",
       "    </tr>\n",
       "  </tbody>\n",
       "</table>\n",
       "</div>"
      ],
      "text/plain": [
       "               gene_id     gene_name              csf cleaner_gene_biotype  \\\n",
       "2  ENSG00000243485.4_2     MIR1302-2  lncRNA_good_csf           intergenic   \n",
       "3  ENSG00000237613.2_1       FAM138A  lncRNA_good_csf           intergenic   \n",
       "6  ENSG00000186092.4_1         OR4F5   protein_coding       protein_coding   \n",
       "7  ENSG00000238009.6_2  RP11-34P13.7  lncRNA_good_csf   transcript_overlap   \n",
       "8  ENSG00000239945.1_2  RP11-34P13.8  lncRNA_good_csf   transcript_overlap   \n",
       "\n",
       "  minimal_biotype   max_eff   max_exp        gc  n_tss  n_enh  enh_dist  \\\n",
       "2          lncRNA  0.208126  0.559674  0.545147    0.0   18.0    809376   \n",
       "3          lncRNA  0.154032  0.222609  0.465565    0.0   18.0    803661   \n",
       "6            mRNA  0.023544  0.050019  0.571895    0.0   20.0    770651   \n",
       "7          lncRNA  0.688701  2.415708  0.537288    0.0   26.0    706019   \n",
       "8          lncRNA  0.027553  2.987223  0.525398    0.0   21.0    748637   \n",
       "\n",
       "   prom_cons  exon_cons  dna_len  rna_len  n_exons  \n",
       "2       0.00   0.000000     1543      712        3  \n",
       "3       0.00   0.006667     1527     1187        3  \n",
       "6       0.00   0.000000      917      918        1  \n",
       "7       0.38   0.505000    36987     2748        4  \n",
       "8       0.11   0.140000     1554     1319        2  "
      ]
     },
     "execution_count": 63,
     "metadata": {},
     "output_type": "execute_result"
    }
   ],
   "source": [
    "supp = data_filt[all_cols]\n",
    "supp.head()"
   ]
  },
  {
   "cell_type": "code",
   "execution_count": 64,
   "metadata": {},
   "outputs": [],
   "source": [
    "supp.to_csv(\"../../../data/03__features/SuppTable_AllFeatures.txt\", sep=\"\\t\", index=False)"
   ]
  },
  {
   "cell_type": "markdown",
   "metadata": {},
   "source": [
    "### + endo features for screen genes"
   ]
  },
  {
   "cell_type": "code",
   "execution_count": 65,
   "metadata": {},
   "outputs": [],
   "source": [
    "meta_cols = [\"gene_id\", \"gene_name\", \"csf\", \"cleaner_gene_biotype\", \"minimal_biotype\", \"endo_ctrl_val\", \"min_hit\"]\n",
    "sub_feature_cols = ['max_eff', 'max_exp', 'gc', 'n_tss', 'n_enh', 'enh_dist', 'prom_cons',\n",
    "                    'exon_cons', 'dna_len', 'rna_len', 'n_exons', 'hESC_mean', 'endo_mean', 'endo_hESC_abslog2fc',\n",
    "                    'closest_endo_snp_distance', 'closest_endo_snp_id', 'closest_endo_snp_disease']"
   ]
  },
  {
   "cell_type": "code",
   "execution_count": 66,
   "metadata": {},
   "outputs": [],
   "source": [
    "all_cols = meta_cols + sub_feature_cols"
   ]
  },
  {
   "cell_type": "code",
   "execution_count": 67,
   "metadata": {},
   "outputs": [
    {
     "data": {
      "text/html": [
       "<div>\n",
       "<style>\n",
       "    .dataframe thead tr:only-child th {\n",
       "        text-align: right;\n",
       "    }\n",
       "\n",
       "    .dataframe thead th {\n",
       "        text-align: left;\n",
       "    }\n",
       "\n",
       "    .dataframe tbody tr th {\n",
       "        vertical-align: top;\n",
       "    }\n",
       "</style>\n",
       "<table border=\"1\" class=\"dataframe\">\n",
       "  <thead>\n",
       "    <tr style=\"text-align: right;\">\n",
       "      <th></th>\n",
       "      <th>gene_id</th>\n",
       "      <th>gene_name</th>\n",
       "      <th>csf</th>\n",
       "      <th>cleaner_gene_biotype</th>\n",
       "      <th>minimal_biotype</th>\n",
       "      <th>endo_ctrl_val</th>\n",
       "      <th>min_hit</th>\n",
       "      <th>max_eff</th>\n",
       "      <th>max_exp</th>\n",
       "      <th>gc</th>\n",
       "      <th>...</th>\n",
       "      <th>exon_cons</th>\n",
       "      <th>dna_len</th>\n",
       "      <th>rna_len</th>\n",
       "      <th>n_exons</th>\n",
       "      <th>hESC_mean</th>\n",
       "      <th>endo_mean</th>\n",
       "      <th>endo_hESC_abslog2fc</th>\n",
       "      <th>closest_endo_snp_distance</th>\n",
       "      <th>closest_endo_snp_id</th>\n",
       "      <th>closest_endo_snp_disease</th>\n",
       "    </tr>\n",
       "  </thead>\n",
       "  <tbody>\n",
       "    <tr>\n",
       "      <th>0</th>\n",
       "      <td>ENSG00000243485.4_2</td>\n",
       "      <td>MIR1302-2</td>\n",
       "      <td>lncRNA_good_csf</td>\n",
       "      <td>intergenic</td>\n",
       "      <td>lncRNA</td>\n",
       "      <td>False</td>\n",
       "      <td>no hit</td>\n",
       "      <td>0.208126</td>\n",
       "      <td>0.559674</td>\n",
       "      <td>0.545147</td>\n",
       "      <td>...</td>\n",
       "      <td>0.000000</td>\n",
       "      <td>1543</td>\n",
       "      <td>712</td>\n",
       "      <td>3</td>\n",
       "      <td>0.088460</td>\n",
       "      <td>0.000000</td>\n",
       "      <td>0.122288</td>\n",
       "      <td>863464</td>\n",
       "      <td>rs13303010</td>\n",
       "      <td>pancreatic carcinoma</td>\n",
       "    </tr>\n",
       "    <tr>\n",
       "      <th>1</th>\n",
       "      <td>ENSG00000237613.2_1</td>\n",
       "      <td>FAM138A</td>\n",
       "      <td>lncRNA_good_csf</td>\n",
       "      <td>intergenic</td>\n",
       "      <td>lncRNA</td>\n",
       "      <td>False</td>\n",
       "      <td>lenient</td>\n",
       "      <td>0.154032</td>\n",
       "      <td>0.222609</td>\n",
       "      <td>0.465565</td>\n",
       "      <td>...</td>\n",
       "      <td>0.006667</td>\n",
       "      <td>1527</td>\n",
       "      <td>1187</td>\n",
       "      <td>3</td>\n",
       "      <td>0.000000</td>\n",
       "      <td>0.480302</td>\n",
       "      <td>0.565892</td>\n",
       "      <td>858492</td>\n",
       "      <td>rs13303010</td>\n",
       "      <td>pancreatic carcinoma</td>\n",
       "    </tr>\n",
       "    <tr>\n",
       "      <th>2</th>\n",
       "      <td>ENSG00000238009.6_2</td>\n",
       "      <td>RP11-34P13.7</td>\n",
       "      <td>lncRNA_good_csf</td>\n",
       "      <td>transcript_overlap</td>\n",
       "      <td>lncRNA</td>\n",
       "      <td>False</td>\n",
       "      <td>no hit</td>\n",
       "      <td>0.688701</td>\n",
       "      <td>2.415708</td>\n",
       "      <td>0.537288</td>\n",
       "      <td>...</td>\n",
       "      <td>0.505000</td>\n",
       "      <td>36987</td>\n",
       "      <td>2748</td>\n",
       "      <td>4</td>\n",
       "      <td>0.634022</td>\n",
       "      <td>0.963033</td>\n",
       "      <td>0.452706</td>\n",
       "      <td>760850</td>\n",
       "      <td>rs13303010</td>\n",
       "      <td>pancreatic carcinoma</td>\n",
       "    </tr>\n",
       "    <tr>\n",
       "      <th>3</th>\n",
       "      <td>ENSG00000239945.1_2</td>\n",
       "      <td>RP11-34P13.8</td>\n",
       "      <td>lncRNA_good_csf</td>\n",
       "      <td>transcript_overlap</td>\n",
       "      <td>lncRNA</td>\n",
       "      <td>False</td>\n",
       "      <td>no hit</td>\n",
       "      <td>0.027553</td>\n",
       "      <td>2.987223</td>\n",
       "      <td>0.525398</td>\n",
       "      <td>...</td>\n",
       "      <td>0.140000</td>\n",
       "      <td>1554</td>\n",
       "      <td>1319</td>\n",
       "      <td>2</td>\n",
       "      <td>0.207940</td>\n",
       "      <td>0.307150</td>\n",
       "      <td>0.113875</td>\n",
       "      <td>803468</td>\n",
       "      <td>rs13303010</td>\n",
       "      <td>pancreatic carcinoma</td>\n",
       "    </tr>\n",
       "    <tr>\n",
       "      <th>4</th>\n",
       "      <td>ENSG00000239906.1_1</td>\n",
       "      <td>RP11-34P13.14</td>\n",
       "      <td>lncRNA_good_csf</td>\n",
       "      <td>promoter_overlap</td>\n",
       "      <td>lncRNA</td>\n",
       "      <td>False</td>\n",
       "      <td>no hit</td>\n",
       "      <td>0.950739</td>\n",
       "      <td>19.299900</td>\n",
       "      <td>0.461300</td>\n",
       "      <td>...</td>\n",
       "      <td>0.270000</td>\n",
       "      <td>549</td>\n",
       "      <td>323</td>\n",
       "      <td>2</td>\n",
       "      <td>13.451185</td>\n",
       "      <td>15.657979</td>\n",
       "      <td>0.205026</td>\n",
       "      <td>754234</td>\n",
       "      <td>rs13303010</td>\n",
       "      <td>pancreatic carcinoma</td>\n",
       "    </tr>\n",
       "  </tbody>\n",
       "</table>\n",
       "<p>5 rows × 24 columns</p>\n",
       "</div>"
      ],
      "text/plain": [
       "               gene_id      gene_name              csf cleaner_gene_biotype  \\\n",
       "0  ENSG00000243485.4_2      MIR1302-2  lncRNA_good_csf           intergenic   \n",
       "1  ENSG00000237613.2_1        FAM138A  lncRNA_good_csf           intergenic   \n",
       "2  ENSG00000238009.6_2   RP11-34P13.7  lncRNA_good_csf   transcript_overlap   \n",
       "3  ENSG00000239945.1_2   RP11-34P13.8  lncRNA_good_csf   transcript_overlap   \n",
       "4  ENSG00000239906.1_1  RP11-34P13.14  lncRNA_good_csf     promoter_overlap   \n",
       "\n",
       "  minimal_biotype  endo_ctrl_val  min_hit   max_eff    max_exp        gc  \\\n",
       "0          lncRNA          False   no hit  0.208126   0.559674  0.545147   \n",
       "1          lncRNA          False  lenient  0.154032   0.222609  0.465565   \n",
       "2          lncRNA          False   no hit  0.688701   2.415708  0.537288   \n",
       "3          lncRNA          False   no hit  0.027553   2.987223  0.525398   \n",
       "4          lncRNA          False   no hit  0.950739  19.299900  0.461300   \n",
       "\n",
       "             ...             exon_cons  dna_len  rna_len  n_exons  hESC_mean  \\\n",
       "0            ...              0.000000     1543      712        3   0.088460   \n",
       "1            ...              0.006667     1527     1187        3   0.000000   \n",
       "2            ...              0.505000    36987     2748        4   0.634022   \n",
       "3            ...              0.140000     1554     1319        2   0.207940   \n",
       "4            ...              0.270000      549      323        2  13.451185   \n",
       "\n",
       "   endo_mean  endo_hESC_abslog2fc  closest_endo_snp_distance  \\\n",
       "0   0.000000             0.122288                     863464   \n",
       "1   0.480302             0.565892                     858492   \n",
       "2   0.963033             0.452706                     760850   \n",
       "3   0.307150             0.113875                     803468   \n",
       "4  15.657979             0.205026                     754234   \n",
       "\n",
       "   closest_endo_snp_id  closest_endo_snp_disease  \n",
       "0           rs13303010      pancreatic carcinoma  \n",
       "1           rs13303010      pancreatic carcinoma  \n",
       "2           rs13303010      pancreatic carcinoma  \n",
       "3           rs13303010      pancreatic carcinoma  \n",
       "4           rs13303010      pancreatic carcinoma  \n",
       "\n",
       "[5 rows x 24 columns]"
      ]
     },
     "execution_count": 67,
     "metadata": {},
     "output_type": "execute_result"
    }
   ],
   "source": [
    "supp = df_screen[all_cols]\n",
    "supp.head()"
   ]
  },
  {
   "cell_type": "code",
   "execution_count": 68,
   "metadata": {},
   "outputs": [],
   "source": [
    "supp.to_csv(\"../../../data/03__features/SuppTable_ScreenGenes.txt\", sep=\"\\t\", index=False)"
   ]
  },
  {
   "cell_type": "code",
   "execution_count": 70,
   "metadata": {},
   "outputs": [
    {
     "data": {
      "text/html": [
       "<div>\n",
       "<style>\n",
       "    .dataframe thead tr:only-child th {\n",
       "        text-align: right;\n",
       "    }\n",
       "\n",
       "    .dataframe thead th {\n",
       "        text-align: left;\n",
       "    }\n",
       "\n",
       "    .dataframe tbody tr th {\n",
       "        vertical-align: top;\n",
       "    }\n",
       "</style>\n",
       "<table border=\"1\" class=\"dataframe\">\n",
       "  <thead>\n",
       "    <tr style=\"text-align: right;\">\n",
       "      <th></th>\n",
       "      <th>gene_name</th>\n",
       "      <th>closest_endo_snp_distance</th>\n",
       "      <th>closest_endo_snp_id</th>\n",
       "      <th>closest_endo_snp_disease</th>\n",
       "    </tr>\n",
       "  </thead>\n",
       "  <tbody>\n",
       "    <tr>\n",
       "      <th>6636</th>\n",
       "      <td>LINC00511</td>\n",
       "      <td>0</td>\n",
       "      <td>rs11655237</td>\n",
       "      <td>pancreatic carcinoma</td>\n",
       "    </tr>\n",
       "    <tr>\n",
       "      <th>3405</th>\n",
       "      <td>PVT1</td>\n",
       "      <td>0</td>\n",
       "      <td>rs17775239</td>\n",
       "      <td>lung carcinoma</td>\n",
       "    </tr>\n",
       "    <tr>\n",
       "      <th>2365</th>\n",
       "      <td>RP11-541P9.3</td>\n",
       "      <td>0</td>\n",
       "      <td>rs12187751</td>\n",
       "      <td>colorectal cancer, microsatellite instability ...</td>\n",
       "    </tr>\n",
       "    <tr>\n",
       "      <th>2181</th>\n",
       "      <td>RP11-414H23.2</td>\n",
       "      <td>56495</td>\n",
       "      <td>rs13355819</td>\n",
       "      <td>colorectal cancer</td>\n",
       "    </tr>\n",
       "    <tr>\n",
       "      <th>4054</th>\n",
       "      <td>RP11-23F23.2</td>\n",
       "      <td>193244</td>\n",
       "      <td>rs11032090</td>\n",
       "      <td>lung carcinoma</td>\n",
       "    </tr>\n",
       "    <tr>\n",
       "      <th>7933</th>\n",
       "      <td>RP11-120D5.1</td>\n",
       "      <td>209950</td>\n",
       "      <td>rs2788524</td>\n",
       "      <td>prostate carcinoma</td>\n",
       "    </tr>\n",
       "    <tr>\n",
       "      <th>7699</th>\n",
       "      <td>LINC00479</td>\n",
       "      <td>217675</td>\n",
       "      <td>rs12482500</td>\n",
       "      <td>colorectal adenoma</td>\n",
       "    </tr>\n",
       "    <tr>\n",
       "      <th>7252</th>\n",
       "      <td>CTC-492K19.4</td>\n",
       "      <td>238084</td>\n",
       "      <td>rs141799618</td>\n",
       "      <td>response to radiation, prostate carcinoma</td>\n",
       "    </tr>\n",
       "    <tr>\n",
       "      <th>6738</th>\n",
       "      <td>RP11-705O1.8</td>\n",
       "      <td>244193</td>\n",
       "      <td>rs62091368</td>\n",
       "      <td>response to radiation, prostate carcinoma</td>\n",
       "    </tr>\n",
       "    <tr>\n",
       "      <th>7867</th>\n",
       "      <td>RP3-508I15.9</td>\n",
       "      <td>254798</td>\n",
       "      <td>rs1014971</td>\n",
       "      <td>bladder carcinoma</td>\n",
       "    </tr>\n",
       "    <tr>\n",
       "      <th>5246</th>\n",
       "      <td>CTD-3075F15.1</td>\n",
       "      <td>277904</td>\n",
       "      <td>rs732765</td>\n",
       "      <td>non-small cell lung carcinoma</td>\n",
       "    </tr>\n",
       "    <tr>\n",
       "      <th>1633</th>\n",
       "      <td>LINC00969</td>\n",
       "      <td>284795</td>\n",
       "      <td>rs4927850</td>\n",
       "      <td>pancreatic carcinoma</td>\n",
       "    </tr>\n",
       "    <tr>\n",
       "      <th>3358</th>\n",
       "      <td>RP11-1C8.4</td>\n",
       "      <td>294226</td>\n",
       "      <td>rs12548629</td>\n",
       "      <td>colorectal cancer, breast carcinoma</td>\n",
       "    </tr>\n",
       "    <tr>\n",
       "      <th>1423</th>\n",
       "      <td>LINC00635</td>\n",
       "      <td>311646</td>\n",
       "      <td>rs80152782</td>\n",
       "      <td>small cell lung carcinoma</td>\n",
       "    </tr>\n",
       "    <tr>\n",
       "      <th>6316</th>\n",
       "      <td>AC007952.4</td>\n",
       "      <td>313653</td>\n",
       "      <td>rs4924935</td>\n",
       "      <td>pancreatic carcinoma</td>\n",
       "    </tr>\n",
       "    <tr>\n",
       "      <th>5667</th>\n",
       "      <td>AC068831.3</td>\n",
       "      <td>336719</td>\n",
       "      <td>rs16944613</td>\n",
       "      <td>colorectal cancer</td>\n",
       "    </tr>\n",
       "    <tr>\n",
       "      <th>2088</th>\n",
       "      <td>CTD-2325A15.5</td>\n",
       "      <td>367584</td>\n",
       "      <td>rs150037323</td>\n",
       "      <td>squamous cell lung carcinoma, family history o...</td>\n",
       "    </tr>\n",
       "    <tr>\n",
       "      <th>1303</th>\n",
       "      <td>RP11-222K16.2</td>\n",
       "      <td>427188</td>\n",
       "      <td>rs481519</td>\n",
       "      <td>lung carcinoma, estrogen-receptor negative bre...</td>\n",
       "    </tr>\n",
       "    <tr>\n",
       "      <th>4316</th>\n",
       "      <td>RP11-121L10.2</td>\n",
       "      <td>450436</td>\n",
       "      <td>rs34735495</td>\n",
       "      <td>small cell lung carcinoma</td>\n",
       "    </tr>\n",
       "    <tr>\n",
       "      <th>1323</th>\n",
       "      <td>ACVR2B-AS1</td>\n",
       "      <td>496042</td>\n",
       "      <td>rs9311171</td>\n",
       "      <td>prostate carcinoma</td>\n",
       "    </tr>\n",
       "    <tr>\n",
       "      <th>4867</th>\n",
       "      <td>RP11-474D1.4</td>\n",
       "      <td>515629</td>\n",
       "      <td>rs7975553</td>\n",
       "      <td>colorectal cancer, breast carcinoma</td>\n",
       "    </tr>\n",
       "    <tr>\n",
       "      <th>6978</th>\n",
       "      <td>LLNLR-260G6.1</td>\n",
       "      <td>607743</td>\n",
       "      <td>rs6510725</td>\n",
       "      <td>non-small cell lung carcinoma</td>\n",
       "    </tr>\n",
       "    <tr>\n",
       "      <th>6196</th>\n",
       "      <td>PITPNA-AS1</td>\n",
       "      <td>619633</td>\n",
       "      <td>rs12603526</td>\n",
       "      <td>colorectal cancer</td>\n",
       "    </tr>\n",
       "    <tr>\n",
       "      <th>331</th>\n",
       "      <td>RP11-421L21.3</td>\n",
       "      <td>690093</td>\n",
       "      <td>rs6668441</td>\n",
       "      <td>colorectal cancer</td>\n",
       "    </tr>\n",
       "    <tr>\n",
       "      <th>8166</th>\n",
       "      <td>DIGIT</td>\n",
       "      <td>702503</td>\n",
       "      <td>rs11622887</td>\n",
       "      <td>response to irinotecan, non-small cell lung ca...</td>\n",
       "    </tr>\n",
       "    <tr>\n",
       "      <th>255</th>\n",
       "      <td>FOXD3-AS1</td>\n",
       "      <td>748849</td>\n",
       "      <td>rs1747924</td>\n",
       "      <td>pancreatic carcinoma</td>\n",
       "    </tr>\n",
       "    <tr>\n",
       "      <th>4078</th>\n",
       "      <td>RP11-685M7.3</td>\n",
       "      <td>857783</td>\n",
       "      <td>rs10500715</td>\n",
       "      <td>pancreatic carcinoma</td>\n",
       "    </tr>\n",
       "    <tr>\n",
       "      <th>2958</th>\n",
       "      <td>AC002066.1</td>\n",
       "      <td>900598</td>\n",
       "      <td>rs2188554</td>\n",
       "      <td>esophageal adenocarcinoma</td>\n",
       "    </tr>\n",
       "    <tr>\n",
       "      <th>7230</th>\n",
       "      <td>CTD-3220F14.2</td>\n",
       "      <td>906968</td>\n",
       "      <td>rs8102476</td>\n",
       "      <td>prostate carcinoma</td>\n",
       "    </tr>\n",
       "    <tr>\n",
       "      <th>4286</th>\n",
       "      <td>KCTD21-AS1</td>\n",
       "      <td>922877</td>\n",
       "      <td>rs2187172</td>\n",
       "      <td>smoking status measurement, lung carcinoma</td>\n",
       "    </tr>\n",
       "    <tr>\n",
       "      <th>3183</th>\n",
       "      <td>RP11-346L1.2</td>\n",
       "      <td>937398</td>\n",
       "      <td>rs7832232</td>\n",
       "      <td>pancreatic carcinoma</td>\n",
       "    </tr>\n",
       "    <tr>\n",
       "      <th>68</th>\n",
       "      <td>RP3-510D11.2</td>\n",
       "      <td>1129128</td>\n",
       "      <td>rs17401966</td>\n",
       "      <td>hepatocellular carcinoma</td>\n",
       "    </tr>\n",
       "    <tr>\n",
       "      <th>107</th>\n",
       "      <td>RP5-1056L3.1</td>\n",
       "      <td>1240127</td>\n",
       "      <td>rs16861827</td>\n",
       "      <td>overall survival, pancreatic carcinoma</td>\n",
       "    </tr>\n",
       "    <tr>\n",
       "      <th>7541</th>\n",
       "      <td>RP1-148H17.1</td>\n",
       "      <td>1299046</td>\n",
       "      <td>rs6066825</td>\n",
       "      <td>colorectal cancer</td>\n",
       "    </tr>\n",
       "    <tr>\n",
       "      <th>965</th>\n",
       "      <td>AC011753.5</td>\n",
       "      <td>1365207</td>\n",
       "      <td>rs4849303</td>\n",
       "      <td>colorectal cancer, diet measurement</td>\n",
       "    </tr>\n",
       "    <tr>\n",
       "      <th>351</th>\n",
       "      <td>LAMTOR5-AS1</td>\n",
       "      <td>1429924</td>\n",
       "      <td>rs2788612</td>\n",
       "      <td>response to radiation, prostate carcinoma</td>\n",
       "    </tr>\n",
       "    <tr>\n",
       "      <th>5898</th>\n",
       "      <td>RP11-57A19.2</td>\n",
       "      <td>1756945</td>\n",
       "      <td>rs35874699</td>\n",
       "      <td>colorectal cancer</td>\n",
       "    </tr>\n",
       "    <tr>\n",
       "      <th>3252</th>\n",
       "      <td>LINC00967</td>\n",
       "      <td>1890388</td>\n",
       "      <td>rs4382459</td>\n",
       "      <td>overall survival, pancreatic carcinoma</td>\n",
       "    </tr>\n",
       "    <tr>\n",
       "      <th>7776</th>\n",
       "      <td>KB-1440D3.14</td>\n",
       "      <td>2237242</td>\n",
       "      <td>rs2238776</td>\n",
       "      <td>prostate carcinoma</td>\n",
       "    </tr>\n",
       "    <tr>\n",
       "      <th>7728</th>\n",
       "      <td>LINC01424</td>\n",
       "      <td>2443598</td>\n",
       "      <td>rs1547374</td>\n",
       "      <td>pancreatic carcinoma</td>\n",
       "    </tr>\n",
       "    <tr>\n",
       "      <th>5880</th>\n",
       "      <td>CTD-2270L9.4</td>\n",
       "      <td>3070335</td>\n",
       "      <td>rs35874699</td>\n",
       "      <td>colorectal cancer</td>\n",
       "    </tr>\n",
       "    <tr>\n",
       "      <th>516</th>\n",
       "      <td>RP11-533E19.7</td>\n",
       "      <td>3121761</td>\n",
       "      <td>rs10752881</td>\n",
       "      <td>colorectal cancer</td>\n",
       "    </tr>\n",
       "    <tr>\n",
       "      <th>5524</th>\n",
       "      <td>RP11-299H22.6</td>\n",
       "      <td>3891694</td>\n",
       "      <td>rs539901</td>\n",
       "      <td>non-small cell lung carcinoma</td>\n",
       "    </tr>\n",
       "  </tbody>\n",
       "</table>\n",
       "</div>"
      ],
      "text/plain": [
       "          gene_name  closest_endo_snp_distance closest_endo_snp_id  \\\n",
       "6636      LINC00511                          0          rs11655237   \n",
       "3405           PVT1                          0          rs17775239   \n",
       "2365   RP11-541P9.3                          0          rs12187751   \n",
       "2181  RP11-414H23.2                      56495          rs13355819   \n",
       "4054   RP11-23F23.2                     193244          rs11032090   \n",
       "7933   RP11-120D5.1                     209950           rs2788524   \n",
       "7699      LINC00479                     217675          rs12482500   \n",
       "7252   CTC-492K19.4                     238084         rs141799618   \n",
       "6738   RP11-705O1.8                     244193          rs62091368   \n",
       "7867   RP3-508I15.9                     254798           rs1014971   \n",
       "5246  CTD-3075F15.1                     277904            rs732765   \n",
       "1633      LINC00969                     284795           rs4927850   \n",
       "3358     RP11-1C8.4                     294226          rs12548629   \n",
       "1423      LINC00635                     311646          rs80152782   \n",
       "6316     AC007952.4                     313653           rs4924935   \n",
       "5667     AC068831.3                     336719          rs16944613   \n",
       "2088  CTD-2325A15.5                     367584         rs150037323   \n",
       "1303  RP11-222K16.2                     427188            rs481519   \n",
       "4316  RP11-121L10.2                     450436          rs34735495   \n",
       "1323     ACVR2B-AS1                     496042           rs9311171   \n",
       "4867   RP11-474D1.4                     515629           rs7975553   \n",
       "6978  LLNLR-260G6.1                     607743           rs6510725   \n",
       "6196     PITPNA-AS1                     619633          rs12603526   \n",
       "331   RP11-421L21.3                     690093           rs6668441   \n",
       "8166          DIGIT                     702503          rs11622887   \n",
       "255       FOXD3-AS1                     748849           rs1747924   \n",
       "4078   RP11-685M7.3                     857783          rs10500715   \n",
       "2958     AC002066.1                     900598           rs2188554   \n",
       "7230  CTD-3220F14.2                     906968           rs8102476   \n",
       "4286     KCTD21-AS1                     922877           rs2187172   \n",
       "3183   RP11-346L1.2                     937398           rs7832232   \n",
       "68     RP3-510D11.2                    1129128          rs17401966   \n",
       "107    RP5-1056L3.1                    1240127          rs16861827   \n",
       "7541   RP1-148H17.1                    1299046           rs6066825   \n",
       "965      AC011753.5                    1365207           rs4849303   \n",
       "351     LAMTOR5-AS1                    1429924           rs2788612   \n",
       "5898   RP11-57A19.2                    1756945          rs35874699   \n",
       "3252      LINC00967                    1890388           rs4382459   \n",
       "7776   KB-1440D3.14                    2237242           rs2238776   \n",
       "7728      LINC01424                    2443598           rs1547374   \n",
       "5880   CTD-2270L9.4                    3070335          rs35874699   \n",
       "516   RP11-533E19.7                    3121761          rs10752881   \n",
       "5524  RP11-299H22.6                    3891694            rs539901   \n",
       "\n",
       "                               closest_endo_snp_disease  \n",
       "6636                               pancreatic carcinoma  \n",
       "3405                                     lung carcinoma  \n",
       "2365  colorectal cancer, microsatellite instability ...  \n",
       "2181                                  colorectal cancer  \n",
       "4054                                     lung carcinoma  \n",
       "7933                                 prostate carcinoma  \n",
       "7699                                 colorectal adenoma  \n",
       "7252          response to radiation, prostate carcinoma  \n",
       "6738          response to radiation, prostate carcinoma  \n",
       "7867                                  bladder carcinoma  \n",
       "5246                      non-small cell lung carcinoma  \n",
       "1633                               pancreatic carcinoma  \n",
       "3358                colorectal cancer, breast carcinoma  \n",
       "1423                          small cell lung carcinoma  \n",
       "6316                               pancreatic carcinoma  \n",
       "5667                                  colorectal cancer  \n",
       "2088  squamous cell lung carcinoma, family history o...  \n",
       "1303  lung carcinoma, estrogen-receptor negative bre...  \n",
       "4316                          small cell lung carcinoma  \n",
       "1323                                 prostate carcinoma  \n",
       "4867                colorectal cancer, breast carcinoma  \n",
       "6978                      non-small cell lung carcinoma  \n",
       "6196                                  colorectal cancer  \n",
       "331                                   colorectal cancer  \n",
       "8166  response to irinotecan, non-small cell lung ca...  \n",
       "255                                pancreatic carcinoma  \n",
       "4078                               pancreatic carcinoma  \n",
       "2958                          esophageal adenocarcinoma  \n",
       "7230                                 prostate carcinoma  \n",
       "4286         smoking status measurement, lung carcinoma  \n",
       "3183                               pancreatic carcinoma  \n",
       "68                             hepatocellular carcinoma  \n",
       "107              overall survival, pancreatic carcinoma  \n",
       "7541                                  colorectal cancer  \n",
       "965                 colorectal cancer, diet measurement  \n",
       "351           response to radiation, prostate carcinoma  \n",
       "5898                                  colorectal cancer  \n",
       "3252             overall survival, pancreatic carcinoma  \n",
       "7776                                 prostate carcinoma  \n",
       "7728                               pancreatic carcinoma  \n",
       "5880                                  colorectal cancer  \n",
       "516                                   colorectal cancer  \n",
       "5524                      non-small cell lung carcinoma  "
      ]
     },
     "execution_count": 70,
     "metadata": {},
     "output_type": "execute_result"
    }
   ],
   "source": [
    "### look at GWAS hits\n",
    "tmp = supp[supp[\"minimal_biotype\"] == \"lncRNA\"]\n",
    "tmp = tmp[tmp[\"min_hit\"] == \"hit\"]\n",
    "tmp.sort_values(by=\"closest_endo_snp_distance\")[[\"gene_name\", \"closest_endo_snp_distance\",\n",
    "                                                 \"closest_endo_snp_id\", \"closest_endo_snp_disease\"]]"
   ]
  },
  {
   "cell_type": "code",
   "execution_count": null,
   "metadata": {},
   "outputs": [],
   "source": []
  }
 ],
 "metadata": {
  "kernelspec": {
   "display_name": "Python [conda env:.conda-py3]",
   "language": "python",
   "name": "conda-env-.conda-py3-py"
  },
  "language_info": {
   "codemirror_mode": {
    "name": "ipython",
    "version": 3
   },
   "file_extension": ".py",
   "mimetype": "text/x-python",
   "name": "python",
   "nbconvert_exporter": "python",
   "pygments_lexer": "ipython3",
   "version": "3.6.3"
  }
 },
 "nbformat": 4,
 "nbformat_minor": 2
}
