{
 "cells": [
  {
   "cell_type": "markdown",
   "metadata": {},
   "source": [
    "# 02__aggregate_features\n",
    "\n",
    "in this notebook, i aggregate all features examined (in order to make plots for Fig 5 and for the cluster analysis in Fig 6)\n",
    "\n",
    "tables in this notebook:\n",
    "- Table S5: features for all lncRNAs in the screen"
   ]
  },
  {
   "cell_type": "code",
   "execution_count": 1,
   "metadata": {},
   "outputs": [],
   "source": [
    "import warnings\n",
    "warnings.filterwarnings('ignore')\n",
    "\n",
    "import math\n",
    "import matplotlib as mpl\n",
    "import matplotlib.pyplot as plt\n",
    "import matplotlib.ticker as ticker\n",
    "import numpy as np\n",
    "import pandas as pd\n",
    "import re\n",
    "import scipy.stats as stats\n",
    "import seaborn as sns\n",
    "import statsmodels.api as sm\n",
    "import sys\n",
    "import time\n",
    "\n",
    "# import utils\n",
    "sys.path.append(\"../../../utils\")\n",
    "from plotting_utils import *\n",
    "from classify_utils import *\n",
    "\n",
    "%matplotlib inline\n",
    "%config InlineBackend.figure_format = 'svg'\n",
    "mpl.rcParams['figure.autolayout'] = False"
   ]
  },
  {
   "cell_type": "code",
   "execution_count": 2,
   "metadata": {},
   "outputs": [],
   "source": [
    "sns.set(**PAPER_PRESET)\n",
    "fontsize = PAPER_FONTSIZE"
   ]
  },
  {
   "cell_type": "code",
   "execution_count": 3,
   "metadata": {},
   "outputs": [],
   "source": [
    "np.random.seed(2019)"
   ]
  },
  {
   "cell_type": "markdown",
   "metadata": {},
   "source": [
    "## functions"
   ]
  },
  {
   "cell_type": "code",
   "execution_count": 4,
   "metadata": {},
   "outputs": [],
   "source": [
    "def min_biotype(row):\n",
    "    if row.cleaner_gene_biotype == \"protein_coding\":\n",
    "        return \"mRNA\"\n",
    "    else:\n",
    "        return \"lncRNA\""
   ]
  },
  {
   "cell_type": "markdown",
   "metadata": {},
   "source": [
    "## variables"
   ]
  },
  {
   "cell_type": "code",
   "execution_count": 5,
   "metadata": {},
   "outputs": [],
   "source": [
    "# features\n",
    "feature_dir = \"../../../misc/09__model_features\"\n",
    "splicing_f = \"%s/gene_splicing_efficiency.with_DIGIT.txt\" % feature_dir\n",
    "gc_f = \"%s/gc_content.with_DIGIT.txt\" % feature_dir\n",
    "n_tss_f = \"%s/n_tss_within_100bp.with_DIGIT.txt\" % feature_dir\n",
    "n_enh_f = \"%s/n_enhancers_within_1mb.with_DIGIT.txt\" % feature_dir\n",
    "closest_enh_tss_f = \"%s/closest_enh_to_TSS.with_DIGIT.fixed.txt\" % feature_dir\n",
    "closest_enh_tran_f = \"%s/closest_enh_to_transcript.with_DIGIT.txt\" % feature_dir\n",
    "prom_cons_f = \"%s/promoter_conservation.500buff.with_DIGIT.txt\" % feature_dir\n",
    "exon_cons_f = \"%s/exon_conservation.with_DIGIT.txt\" % feature_dir\n",
    "dna_len_f = \"%s/transcript_length.with_DIGIT.txt\" % feature_dir\n",
    "rna_len_f = \"%s/transcript_length_RNA.with_DIGIT.txt\" % feature_dir\n",
    "n_exons_f = \"%s/n_exons_per_transcript.with_DIGIT.txt\" % feature_dir\n",
    "closest_DE_enh_tss_f = \"%s/closest_DE_enh_to_TSS.with_DIGIT.fixed.txt\" % feature_dir\n",
    "closest_DE_enh_tran_f = \"%s/closest_DE_enh_to_transcript.with_DIGIT.txt\" % feature_dir"
   ]
  },
  {
   "cell_type": "code",
   "execution_count": 6,
   "metadata": {},
   "outputs": [],
   "source": [
    "# gwas file\n",
    "gwas_dir = \"../../../misc/06__gwas\"\n",
    "closest_endo_f = \"%s/transcript_coords.closest_endo_cancer_snp.with_DIGIT.bed\" % gwas_dir"
   ]
  },
  {
   "cell_type": "code",
   "execution_count": 7,
   "metadata": {},
   "outputs": [],
   "source": [
    "gene_map_f = \"../../../misc/00__gene_metadata/gencode.v25lift37.GENE_ID_TRANSCRIPT_ID_MAP.with_DIGIT.fixed.txt\""
   ]
  },
  {
   "cell_type": "code",
   "execution_count": 8,
   "metadata": {},
   "outputs": [],
   "source": [
    "hits_f = \"../../../data/02__screen/02__enrichment_data/enrichment_values.with_rna_seq.UPDATED.txt\""
   ]
  },
  {
   "cell_type": "markdown",
   "metadata": {},
   "source": [
    "## 1. import data"
   ]
  },
  {
   "cell_type": "code",
   "execution_count": 9,
   "metadata": {},
   "outputs": [],
   "source": [
    "splicing = pd.read_table(splicing_f)"
   ]
  },
  {
   "cell_type": "code",
   "execution_count": 10,
   "metadata": {},
   "outputs": [],
   "source": [
    "gc = pd.read_table(gc_f, header=None)\n",
    "gc.columns = [\"transcript_id\", \"gc\"]"
   ]
  },
  {
   "cell_type": "code",
   "execution_count": 11,
   "metadata": {},
   "outputs": [],
   "source": [
    "n_tss = pd.read_table(n_tss_f, delim_whitespace=True, header=None)\n",
    "n_tss.columns = [\"n_tss\", \"transcript_id\"]"
   ]
  },
  {
   "cell_type": "code",
   "execution_count": 12,
   "metadata": {},
   "outputs": [],
   "source": [
    "n_enh = pd.read_table(n_enh_f, delim_whitespace=True, header=None)\n",
    "n_enh.columns = [\"n_enh\", \"transcript_id\"]"
   ]
  },
  {
   "cell_type": "code",
   "execution_count": 13,
   "metadata": {},
   "outputs": [],
   "source": [
    "closest_enh_tss = pd.read_table(closest_enh_tss_f, header=None)\n",
    "closest_enh_tss.columns = [\"chr\", \"start\", \"end\", \"transcript_id\", \"score\", \"strand\", \"enh_chr\", \"enh_start\", \n",
    "                           \"enh_end\", \"closest_enh_id\", \"enh_len\", \"enh_strand\", \"enh_tss1\", \"enh_tss2\",\n",
    "                           \"enh_blocks\", \"enh_nblocks\", \"enh_distblocks\", \"enh_endblocks\", \"enh_tss_dist\"]\n",
    "closest_enh_tss = closest_enh_tss[[\"transcript_id\", \"enh_tss_dist\"]]"
   ]
  },
  {
   "cell_type": "code",
   "execution_count": 14,
   "metadata": {},
   "outputs": [],
   "source": [
    "closest_enh_tran = pd.read_table(closest_enh_tran_f, header=None)\n",
    "closest_enh_tran.columns = [\"chr\", \"start\", \"end\", \"transcript_id\", \"enh_chr\", \"enh_start\", \n",
    "                           \"enh_end\", \"closest_enh_id\", \"enh_len\", \"enh_strand\", \"enh_tss1\", \"enh_tss2\",\n",
    "                           \"enh_blocks\", \"enh_nblocks\", \"enh_distblocks\", \"enh_endblocks\", \"enh_tran_dist\"]\n",
    "closest_enh_tran = closest_enh_tran[[\"transcript_id\", \"enh_tran_dist\"]]"
   ]
  },
  {
   "cell_type": "code",
   "execution_count": 15,
   "metadata": {},
   "outputs": [],
   "source": [
    "prom_cons = pd.read_table(prom_cons_f)"
   ]
  },
  {
   "cell_type": "code",
   "execution_count": 16,
   "metadata": {},
   "outputs": [],
   "source": [
    "exon_cons = pd.read_table(exon_cons_f)"
   ]
  },
  {
   "cell_type": "code",
   "execution_count": 17,
   "metadata": {},
   "outputs": [],
   "source": [
    "dna_len = pd.read_table(dna_len_f, header=None)\n",
    "dna_len.columns = [\"transcript_id\", \"dna_len\"]"
   ]
  },
  {
   "cell_type": "code",
   "execution_count": 18,
   "metadata": {},
   "outputs": [],
   "source": [
    "rna_len = pd.read_table(rna_len_f, header=None)\n",
    "rna_len.columns = [\"transcript_id\", \"rna_len\"]"
   ]
  },
  {
   "cell_type": "code",
   "execution_count": 19,
   "metadata": {},
   "outputs": [],
   "source": [
    "n_exons = pd.read_table(n_exons_f, header=None)\n",
    "n_exons.columns = [\"n_exons\", \"gene_id\", \"transcript_id\"]"
   ]
  },
  {
   "cell_type": "code",
   "execution_count": 20,
   "metadata": {},
   "outputs": [],
   "source": [
    "closest_endo = pd.read_table(closest_endo_f, sep=\"\\t\", header=None)\n",
    "closest_endo.columns = [\"chr\", \"start\", \"end\", \"transcript_id\", \"snp_chr\", \"snp_start\", \"snp_end\",\n",
    "                        \"closest_endo_snp_id\", \"closest_endo_snp_disease\", \"closest_endo_snp_distance\"]"
   ]
  },
  {
   "cell_type": "code",
   "execution_count": 21,
   "metadata": {},
   "outputs": [],
   "source": [
    "closest_DE_enh_tss = pd.read_table(closest_DE_enh_tss_f, header=None)\n",
    "closest_DE_enh_tss.columns = [\"chr\", \"start\", \"end\", \"transcript_id\", \"score\", \"strand\", \"enh_chr\", \"enh_start\", \n",
    "                           \"enh_end\", \"DE_enh_tss_dist\"]\n",
    "closest_DE_enh_tss = closest_DE_enh_tss[[\"transcript_id\", \"DE_enh_tss_dist\"]]"
   ]
  },
  {
   "cell_type": "code",
   "execution_count": 22,
   "metadata": {},
   "outputs": [],
   "source": [
    "closest_DE_enh_tran = pd.read_table(closest_DE_enh_tran_f, header=None)\n",
    "closest_DE_enh_tran.columns = [\"chr\", \"start\", \"end\", \"transcript_id\", \"enh_chr\", \"enh_start\", \n",
    "                           \"enh_end\", \"DE_enh_tran_dist\"]\n",
    "closest_DE_enh_tran = closest_DE_enh_tran[[\"transcript_id\", \"DE_enh_tran_dist\"]]"
   ]
  },
  {
   "cell_type": "code",
   "execution_count": 23,
   "metadata": {},
   "outputs": [],
   "source": [
    "gene_map = pd.read_table(gene_map_f, header=None)\n",
    "gene_map.columns = [\"gene_id\", \"transcript_id\"]"
   ]
  },
  {
   "cell_type": "code",
   "execution_count": 24,
   "metadata": {},
   "outputs": [],
   "source": [
    "hits = pd.read_table(hits_f)"
   ]
  },
  {
   "cell_type": "markdown",
   "metadata": {},
   "source": [
    "## 2. join transcript-level data w/ gene id"
   ]
  },
  {
   "cell_type": "code",
   "execution_count": 25,
   "metadata": {},
   "outputs": [
    {
     "name": "stdout",
     "output_type": "stream",
     "text": [
      "200140\n",
      "200140\n"
     ]
    }
   ],
   "source": [
    "print(len(gc))\n",
    "gc = gc.merge(gene_map, on=\"transcript_id\")\n",
    "print(len(gc))"
   ]
  },
  {
   "cell_type": "code",
   "execution_count": 26,
   "metadata": {},
   "outputs": [
    {
     "name": "stdout",
     "output_type": "stream",
     "text": [
      "94934\n",
      "94934\n"
     ]
    }
   ],
   "source": [
    "print(len(n_tss))\n",
    "n_tss = n_tss.merge(gene_map, on=\"transcript_id\")\n",
    "print(len(n_tss))"
   ]
  },
  {
   "cell_type": "code",
   "execution_count": 27,
   "metadata": {},
   "outputs": [
    {
     "name": "stdout",
     "output_type": "stream",
     "text": [
      "199413\n",
      "199413\n"
     ]
    }
   ],
   "source": [
    "print(len(n_enh))\n",
    "n_enh = n_enh.merge(gene_map, on=\"transcript_id\")\n",
    "print(len(n_enh))"
   ]
  },
  {
   "cell_type": "code",
   "execution_count": 28,
   "metadata": {},
   "outputs": [
    {
     "name": "stdout",
     "output_type": "stream",
     "text": [
      "200140\n",
      "200140\n"
     ]
    }
   ],
   "source": [
    "print(len(closest_enh_tss))\n",
    "closest_enh_tss = closest_enh_tss.merge(gene_map, on=\"transcript_id\")\n",
    "print(len(closest_enh_tss))"
   ]
  },
  {
   "cell_type": "code",
   "execution_count": 29,
   "metadata": {},
   "outputs": [
    {
     "name": "stdout",
     "output_type": "stream",
     "text": [
      "200140\n",
      "200140\n"
     ]
    }
   ],
   "source": [
    "print(len(closest_enh_tran))\n",
    "closest_enh_tran = closest_enh_tran.merge(gene_map, on=\"transcript_id\")\n",
    "print(len(closest_enh_tran))"
   ]
  },
  {
   "cell_type": "code",
   "execution_count": 30,
   "metadata": {},
   "outputs": [
    {
     "name": "stdout",
     "output_type": "stream",
     "text": [
      "200140\n",
      "200140\n"
     ]
    }
   ],
   "source": [
    "print(len(prom_cons))\n",
    "prom_cons = prom_cons.merge(gene_map, left_on=\"name\", right_on=\"transcript_id\")\n",
    "print(len(prom_cons))"
   ]
  },
  {
   "cell_type": "code",
   "execution_count": 31,
   "metadata": {},
   "outputs": [
    {
     "name": "stdout",
     "output_type": "stream",
     "text": [
      "1185571\n",
      "1185571\n"
     ]
    }
   ],
   "source": [
    "print(len(exon_cons))\n",
    "exon_cons = exon_cons.merge(gene_map, left_on=\"name\", right_on=\"transcript_id\")\n",
    "print(len(exon_cons))"
   ]
  },
  {
   "cell_type": "code",
   "execution_count": 32,
   "metadata": {},
   "outputs": [
    {
     "name": "stdout",
     "output_type": "stream",
     "text": [
      "200140\n",
      "200140\n"
     ]
    }
   ],
   "source": [
    "print(len(dna_len))\n",
    "dna_len = dna_len.merge(gene_map, on=\"transcript_id\")\n",
    "print(len(dna_len))"
   ]
  },
  {
   "cell_type": "code",
   "execution_count": 33,
   "metadata": {},
   "outputs": [
    {
     "name": "stdout",
     "output_type": "stream",
     "text": [
      "200140\n",
      "200140\n"
     ]
    }
   ],
   "source": [
    "print(len(rna_len))\n",
    "rna_len = rna_len.merge(gene_map, on=\"transcript_id\")\n",
    "print(len(rna_len))"
   ]
  },
  {
   "cell_type": "code",
   "execution_count": 34,
   "metadata": {},
   "outputs": [
    {
     "name": "stdout",
     "output_type": "stream",
     "text": [
      "255868\n",
      "255868\n"
     ]
    }
   ],
   "source": [
    "print(len(closest_endo))\n",
    "closest_endo = closest_endo.merge(gene_map, on=\"transcript_id\")\n",
    "print(len(closest_endo))"
   ]
  },
  {
   "cell_type": "code",
   "execution_count": 35,
   "metadata": {},
   "outputs": [
    {
     "name": "stdout",
     "output_type": "stream",
     "text": [
      "200140\n",
      "200140\n"
     ]
    }
   ],
   "source": [
    "print(len(closest_DE_enh_tss))\n",
    "closest_DE_enh_tss = closest_DE_enh_tss.merge(gene_map, on=\"transcript_id\")\n",
    "print(len(closest_DE_enh_tss))"
   ]
  },
  {
   "cell_type": "code",
   "execution_count": 36,
   "metadata": {},
   "outputs": [
    {
     "name": "stdout",
     "output_type": "stream",
     "text": [
      "200140\n",
      "200140\n"
     ]
    }
   ],
   "source": [
    "print(len(closest_DE_enh_tran))\n",
    "closest_DE_enh_tran = closest_DE_enh_tran.merge(gene_map, on=\"transcript_id\")\n",
    "print(len(closest_DE_enh_tran))"
   ]
  },
  {
   "cell_type": "markdown",
   "metadata": {},
   "source": [
    "## 3. aggregate features to gene level"
   ]
  },
  {
   "cell_type": "code",
   "execution_count": 37,
   "metadata": {},
   "outputs": [
    {
     "name": "stdout",
     "output_type": "stream",
     "text": [
      "60253\n"
     ]
    }
   ],
   "source": [
    "gc_gene = gc.groupby(\"gene_id\")[\"gc\"].agg(\"mean\").reset_index()\n",
    "print(len(gc_gene))"
   ]
  },
  {
   "cell_type": "code",
   "execution_count": 38,
   "metadata": {},
   "outputs": [
    {
     "name": "stdout",
     "output_type": "stream",
     "text": [
      "23065\n"
     ]
    }
   ],
   "source": [
    "n_tss_gene = n_tss.groupby(\"gene_id\")[\"n_tss\"].agg(\"max\").reset_index()\n",
    "print(len(n_tss_gene))"
   ]
  },
  {
   "cell_type": "code",
   "execution_count": 39,
   "metadata": {},
   "outputs": [
    {
     "name": "stdout",
     "output_type": "stream",
     "text": [
      "59781\n"
     ]
    }
   ],
   "source": [
    "n_enh_gene = n_enh.groupby(\"gene_id\")[\"n_enh\"].agg(\"max\").reset_index()\n",
    "print(len(n_enh_gene))"
   ]
  },
  {
   "cell_type": "code",
   "execution_count": 40,
   "metadata": {},
   "outputs": [
    {
     "name": "stdout",
     "output_type": "stream",
     "text": [
      "60253\n"
     ]
    }
   ],
   "source": [
    "closest_enh_tss_gene = closest_enh_tss.groupby(\"gene_id\")[\"enh_tss_dist\"].agg(\"min\").reset_index()\n",
    "print(len(closest_enh_tss_gene))"
   ]
  },
  {
   "cell_type": "code",
   "execution_count": 41,
   "metadata": {},
   "outputs": [
    {
     "name": "stdout",
     "output_type": "stream",
     "text": [
      "60253\n"
     ]
    }
   ],
   "source": [
    "closest_enh_tran_gene = closest_enh_tran.groupby(\"gene_id\")[\"enh_tran_dist\"].agg(\"min\").reset_index()\n",
    "print(len(closest_enh_tran_gene))"
   ]
  },
  {
   "cell_type": "code",
   "execution_count": 42,
   "metadata": {},
   "outputs": [
    {
     "name": "stdout",
     "output_type": "stream",
     "text": [
      "60253\n"
     ]
    }
   ],
   "source": [
    "closest_DE_enh_tss_gene = closest_DE_enh_tss.groupby(\"gene_id\")[\"DE_enh_tss_dist\"].agg(\"min\").reset_index()\n",
    "print(len(closest_DE_enh_tss_gene))"
   ]
  },
  {
   "cell_type": "code",
   "execution_count": 43,
   "metadata": {},
   "outputs": [
    {
     "name": "stdout",
     "output_type": "stream",
     "text": [
      "60253\n"
     ]
    }
   ],
   "source": [
    "closest_DE_enh_tran_gene = closest_DE_enh_tran.groupby(\"gene_id\")[\"DE_enh_tran_dist\"].agg(\"min\").reset_index()\n",
    "print(len(closest_DE_enh_tran_gene))"
   ]
  },
  {
   "cell_type": "code",
   "execution_count": 44,
   "metadata": {},
   "outputs": [
    {
     "name": "stdout",
     "output_type": "stream",
     "text": [
      "60253\n"
     ]
    }
   ],
   "source": [
    "prom_cons_gene = prom_cons.groupby(\"gene_id\")[\"median\"].agg(\"max\").reset_index()\n",
    "prom_cons_gene.columns = [\"gene_id\", \"prom_cons\"]\n",
    "print(len(prom_cons_gene))"
   ]
  },
  {
   "cell_type": "code",
   "execution_count": 45,
   "metadata": {},
   "outputs": [
    {
     "name": "stdout",
     "output_type": "stream",
     "text": [
      "60253\n"
     ]
    }
   ],
   "source": [
    "exon_cons_tx = exon_cons.groupby([\"name\", \"gene_id\"])[\"median\"].agg(\"mean\").reset_index()\n",
    "exon_cons_gene = exon_cons_tx.groupby(\"gene_id\")[\"median\"].agg(\"max\").reset_index()\n",
    "exon_cons_gene.columns = [\"gene_id\", \"exon_cons\"]\n",
    "print(len(exon_cons_gene))"
   ]
  },
  {
   "cell_type": "code",
   "execution_count": 46,
   "metadata": {},
   "outputs": [
    {
     "name": "stdout",
     "output_type": "stream",
     "text": [
      "60253\n"
     ]
    }
   ],
   "source": [
    "dna_len_gene = dna_len.groupby(\"gene_id\")[\"dna_len\"].agg(\"max\").reset_index()\n",
    "print(len(dna_len_gene))"
   ]
  },
  {
   "cell_type": "code",
   "execution_count": 47,
   "metadata": {},
   "outputs": [
    {
     "name": "stdout",
     "output_type": "stream",
     "text": [
      "60253\n"
     ]
    }
   ],
   "source": [
    "rna_len_gene = rna_len.groupby(\"gene_id\")[\"rna_len\"].agg(\"max\").reset_index()\n",
    "print(len(rna_len_gene))"
   ]
  },
  {
   "cell_type": "code",
   "execution_count": 48,
   "metadata": {},
   "outputs": [
    {
     "name": "stdout",
     "output_type": "stream",
     "text": [
      "60253\n"
     ]
    }
   ],
   "source": [
    "n_exons_gene = n_exons.groupby(\"gene_id\")[\"n_exons\"].agg(\"max\").reset_index()\n",
    "print(len(n_exons_gene))"
   ]
  },
  {
   "cell_type": "code",
   "execution_count": 49,
   "metadata": {},
   "outputs": [
    {
     "name": "stdout",
     "output_type": "stream",
     "text": [
      "7650\n"
     ]
    }
   ],
   "source": [
    "# same thing for RNA-seq data: sum up transcript expression levels\n",
    "endo_exp = hits[[\"gene_id\", \"hESC_mean\", \"endo_mean\"]].groupby(\"gene_id\")[[\"hESC_mean\", \"endo_mean\"]].agg(\"sum\").reset_index()\n",
    "print(len(endo_exp))"
   ]
  },
  {
   "cell_type": "code",
   "execution_count": 50,
   "metadata": {},
   "outputs": [
    {
     "name": "stdout",
     "output_type": "stream",
     "text": [
      "7650\n"
     ]
    }
   ],
   "source": [
    "# take transcript w/ maximum logfc expression\n",
    "endo_fc = hits[[\"gene_id\", \"endo_hESC_abslog2fc\"]].groupby(\"gene_id\")[\"endo_hESC_abslog2fc\"].agg(\"max\").reset_index()\n",
    "print(len(endo_fc))"
   ]
  },
  {
   "cell_type": "code",
   "execution_count": 51,
   "metadata": {},
   "outputs": [
    {
     "name": "stdout",
     "output_type": "stream",
     "text": [
      "60253\n"
     ]
    }
   ],
   "source": [
    "# need to also do this for gwas\n",
    "closest_endo_gene = closest_endo[[\"gene_id\", \n",
    "                                  \"closest_endo_snp_distance\"]].groupby(\"gene_id\")[\"closest_endo_snp_distance\"].agg(\"min\").reset_index()\n",
    "closest_endo_gene = closest_endo_gene.merge(closest_endo[[\"gene_id\", \"closest_endo_snp_distance\", \n",
    "                                                          \"closest_endo_snp_id\", \"closest_endo_snp_disease\"]],\n",
    "                                            on=[\"gene_id\", \n",
    "                                                \"closest_endo_snp_distance\"]).drop_duplicates(subset=[\"gene_id\", \n",
    "                                                                                                      \"closest_endo_snp_distance\"])\n",
    "print(len(closest_endo_gene))"
   ]
  },
  {
   "cell_type": "markdown",
   "metadata": {},
   "source": [
    "## 4. merge all genomic features into 1 dataframe"
   ]
  },
  {
   "cell_type": "code",
   "execution_count": 52,
   "metadata": {},
   "outputs": [
    {
     "name": "stdout",
     "output_type": "stream",
     "text": [
      "60253\n"
     ]
    }
   ],
   "source": [
    "data = splicing.merge(gc_gene, on=\"gene_id\", how=\"outer\")\n",
    "print(len(data))"
   ]
  },
  {
   "cell_type": "code",
   "execution_count": 53,
   "metadata": {},
   "outputs": [
    {
     "name": "stdout",
     "output_type": "stream",
     "text": [
      "60253\n"
     ]
    }
   ],
   "source": [
    "data = data.merge(n_tss_gene, on=\"gene_id\", how=\"left\").merge(n_enh_gene, on=\"gene_id\", how=\"left\")\n",
    "print(len(data))"
   ]
  },
  {
   "cell_type": "code",
   "execution_count": 54,
   "metadata": {},
   "outputs": [
    {
     "name": "stdout",
     "output_type": "stream",
     "text": [
      "60253\n"
     ]
    }
   ],
   "source": [
    "data = data.merge(closest_enh_tss_gene, on=\"gene_id\", how=\"left\").merge(closest_enh_tran_gene, \n",
    "                                                                        on=\"gene_id\", how=\"left\")\n",
    "print(len(data))"
   ]
  },
  {
   "cell_type": "code",
   "execution_count": 55,
   "metadata": {},
   "outputs": [
    {
     "name": "stdout",
     "output_type": "stream",
     "text": [
      "60253\n"
     ]
    }
   ],
   "source": [
    "data = data.merge(closest_DE_enh_tss_gene, on=\"gene_id\", how=\"left\").merge(closest_DE_enh_tran_gene, \n",
    "                                                                           on=\"gene_id\", how=\"left\")\n",
    "print(len(data))"
   ]
  },
  {
   "cell_type": "code",
   "execution_count": 56,
   "metadata": {},
   "outputs": [
    {
     "name": "stdout",
     "output_type": "stream",
     "text": [
      "60253\n"
     ]
    }
   ],
   "source": [
    "data = data.merge(prom_cons_gene, on=\"gene_id\", how=\"left\")\n",
    "print(len(data))"
   ]
  },
  {
   "cell_type": "code",
   "execution_count": 57,
   "metadata": {},
   "outputs": [
    {
     "name": "stdout",
     "output_type": "stream",
     "text": [
      "60253\n"
     ]
    }
   ],
   "source": [
    "data = data.merge(exon_cons_gene, on=\"gene_id\", how=\"left\").merge(dna_len_gene, on=\"gene_id\", how=\"left\")\n",
    "print(len(data))"
   ]
  },
  {
   "cell_type": "code",
   "execution_count": 58,
   "metadata": {},
   "outputs": [
    {
     "name": "stdout",
     "output_type": "stream",
     "text": [
      "60253\n"
     ]
    }
   ],
   "source": [
    "data = data.merge(rna_len_gene, on=\"gene_id\", how=\"left\").merge(n_exons_gene, on=\"gene_id\", how=\"left\")\n",
    "print(len(data))"
   ]
  },
  {
   "cell_type": "code",
   "execution_count": 59,
   "metadata": {},
   "outputs": [
    {
     "name": "stdout",
     "output_type": "stream",
     "text": [
      "60253\n"
     ]
    }
   ],
   "source": [
    "data = data.merge(closest_endo_gene[[\"gene_id\", \"closest_endo_snp_distance\", \"closest_endo_snp_id\",\n",
    "                                     \"closest_endo_snp_disease\"]], on=\"gene_id\", how=\"left\")\n",
    "print(len(data))"
   ]
  },
  {
   "cell_type": "code",
   "execution_count": 60,
   "metadata": {},
   "outputs": [],
   "source": [
    "# for n tss and n enh, NAs do not mean lack of data but mean 0 -- so replace NAs in these cols with 0\n",
    "data[\"n_tss\"] = data[\"n_tss\"].fillna(0)\n",
    "data[\"n_enh\"] = data[\"n_enh\"].fillna(0)"
   ]
  },
  {
   "cell_type": "code",
   "execution_count": 61,
   "metadata": {},
   "outputs": [
    {
     "data": {
      "text/plain": [
       "lncRNA    40121\n",
       "mRNA      20132\n",
       "Name: minimal_biotype, dtype: int64"
      ]
     },
     "execution_count": 61,
     "metadata": {},
     "output_type": "execute_result"
    }
   ],
   "source": [
    "data[\"short_gene_id\"] = data[\"gene_id\"].str.split(\"_\", expand=True)[0]\n",
    "data[\"shorter_gene_id\"] = data[\"short_gene_id\"].str.split(\".\", expand=True)[0]\n",
    "data[\"minimal_biotype\"] = data.apply(min_biotype, axis=1)\n",
    "data.minimal_biotype.value_counts()"
   ]
  },
  {
   "cell_type": "code",
   "execution_count": 62,
   "metadata": {},
   "outputs": [
    {
     "data": {
      "text/plain": [
       "33856"
      ]
     },
     "execution_count": 62,
     "metadata": {},
     "output_type": "execute_result"
    }
   ],
   "source": [
    "# remove bad biotypes we don't care about (like pseudogenes) which will have a null gene_name value\n",
    "data_filt = data[~pd.isnull(data[\"gene_name\"])]\n",
    "len(data_filt)"
   ]
  },
  {
   "cell_type": "markdown",
   "metadata": {},
   "source": [
    "## 5. create df including only genes in screen + include endo RNAseq features"
   ]
  },
  {
   "cell_type": "code",
   "execution_count": 63,
   "metadata": {},
   "outputs": [
    {
     "data": {
      "text/plain": [
       "7650"
      ]
     },
     "execution_count": 63,
     "metadata": {},
     "output_type": "execute_result"
    }
   ],
   "source": [
    "genes_in_screen = hits[\"gene_id\"].unique()\n",
    "len(genes_in_screen)"
   ]
  },
  {
   "cell_type": "code",
   "execution_count": 64,
   "metadata": {},
   "outputs": [
    {
     "data": {
      "text/plain": [
       "no hit              11315\n",
       "stringent no hit      370\n",
       "hit                    91\n",
       "Name: is_hit, dtype: int64"
      ]
     },
     "execution_count": 64,
     "metadata": {},
     "output_type": "execute_result"
    }
   ],
   "source": [
    "hits.is_hit.value_counts()"
   ]
  },
  {
   "cell_type": "code",
   "execution_count": 65,
   "metadata": {},
   "outputs": [
    {
     "data": {
      "text/html": [
       "<div>\n",
       "<style scoped>\n",
       "    .dataframe tbody tr th:only-of-type {\n",
       "        vertical-align: middle;\n",
       "    }\n",
       "\n",
       "    .dataframe tbody tr th {\n",
       "        vertical-align: top;\n",
       "    }\n",
       "\n",
       "    .dataframe thead th {\n",
       "        text-align: right;\n",
       "    }\n",
       "</style>\n",
       "<table border=\"1\" class=\"dataframe\">\n",
       "  <thead>\n",
       "    <tr style=\"text-align: right;\">\n",
       "      <th></th>\n",
       "      <th>gene_id</th>\n",
       "      <th>gene_name</th>\n",
       "      <th>ctrl_status</th>\n",
       "      <th>cleaner_gene_biotype</th>\n",
       "      <th>is_hit</th>\n",
       "    </tr>\n",
       "  </thead>\n",
       "  <tbody>\n",
       "    <tr>\n",
       "      <th>26</th>\n",
       "      <td>DIGIT</td>\n",
       "      <td>DIGIT</td>\n",
       "      <td>experimental</td>\n",
       "      <td>promoter_overlap</td>\n",
       "      <td>hit</td>\n",
       "    </tr>\n",
       "    <tr>\n",
       "      <th>562</th>\n",
       "      <td>ENSG00000005206.12</td>\n",
       "      <td>SPPL2B</td>\n",
       "      <td>experimental</td>\n",
       "      <td>promoter_overlap</td>\n",
       "      <td>no hit</td>\n",
       "    </tr>\n",
       "    <tr>\n",
       "      <th>6426</th>\n",
       "      <td>ENSG00000008311.14_1</td>\n",
       "      <td>AASS</td>\n",
       "      <td>mRNA</td>\n",
       "      <td>protein_coding</td>\n",
       "      <td>no hit</td>\n",
       "    </tr>\n",
       "    <tr>\n",
       "      <th>299</th>\n",
       "      <td>ENSG00000010278.12_2</td>\n",
       "      <td>CD9</td>\n",
       "      <td>mRNA</td>\n",
       "      <td>protein_coding</td>\n",
       "      <td>stringent no hit</td>\n",
       "    </tr>\n",
       "    <tr>\n",
       "      <th>6653</th>\n",
       "      <td>ENSG00000013297.10_2</td>\n",
       "      <td>CLDN11</td>\n",
       "      <td>mRNA</td>\n",
       "      <td>protein_coding</td>\n",
       "      <td>no hit</td>\n",
       "    </tr>\n",
       "  </tbody>\n",
       "</table>\n",
       "</div>"
      ],
      "text/plain": [
       "                   gene_id gene_name   ctrl_status cleaner_gene_biotype  \\\n",
       "26                   DIGIT     DIGIT  experimental     promoter_overlap   \n",
       "562     ENSG00000005206.12    SPPL2B  experimental     promoter_overlap   \n",
       "6426  ENSG00000008311.14_1      AASS          mRNA       protein_coding   \n",
       "299   ENSG00000010278.12_2       CD9          mRNA       protein_coding   \n",
       "6653  ENSG00000013297.10_2    CLDN11          mRNA       protein_coding   \n",
       "\n",
       "                is_hit  \n",
       "26                 hit  \n",
       "562             no hit  \n",
       "6426            no hit  \n",
       "299   stringent no hit  \n",
       "6653            no hit  "
      ]
     },
     "execution_count": 65,
     "metadata": {},
     "output_type": "execute_result"
    }
   ],
   "source": [
    "gene_hit_status = hits[[\"gene_id\", \"gene_name\", \"ctrl_status\", \"cleaner_gene_biotype\",\n",
    "                        \"is_hit\"]].sort_values(by=[\"gene_id\", \"is_hit\"]).drop_duplicates(subset=\"gene_id\", \n",
    "                                                                                           keep=\"first\")\n",
    "gene_hit_status.head()"
   ]
  },
  {
   "cell_type": "code",
   "execution_count": 66,
   "metadata": {},
   "outputs": [
    {
     "name": "stdout",
     "output_type": "stream",
     "text": [
      "60253\n",
      "7650\n"
     ]
    },
    {
     "data": {
      "text/html": [
       "<div>\n",
       "<style scoped>\n",
       "    .dataframe tbody tr th:only-of-type {\n",
       "        vertical-align: middle;\n",
       "    }\n",
       "\n",
       "    .dataframe tbody tr th {\n",
       "        vertical-align: top;\n",
       "    }\n",
       "\n",
       "    .dataframe thead th {\n",
       "        text-align: right;\n",
       "    }\n",
       "</style>\n",
       "<table border=\"1\" class=\"dataframe\">\n",
       "  <thead>\n",
       "    <tr style=\"text-align: right;\">\n",
       "      <th></th>\n",
       "      <th>gene_id</th>\n",
       "      <th>SK-N-SH_eff_mean</th>\n",
       "      <th>SK-N-SH_exp_mean</th>\n",
       "      <th>SK-N-SH_eff_ratio</th>\n",
       "      <th>NCI-H460_eff_mean</th>\n",
       "      <th>NCI-H460_exp_mean</th>\n",
       "      <th>NCI-H460_eff_ratio</th>\n",
       "      <th>K562_eff_mean</th>\n",
       "      <th>K562_exp_mean</th>\n",
       "      <th>K562_eff_ratio</th>\n",
       "      <th>...</th>\n",
       "      <th>rna_len</th>\n",
       "      <th>n_exons</th>\n",
       "      <th>closest_endo_snp_distance</th>\n",
       "      <th>closest_endo_snp_id</th>\n",
       "      <th>closest_endo_snp_disease</th>\n",
       "      <th>short_gene_id</th>\n",
       "      <th>shorter_gene_id</th>\n",
       "      <th>minimal_biotype</th>\n",
       "      <th>ctrl_status</th>\n",
       "      <th>is_hit</th>\n",
       "    </tr>\n",
       "  </thead>\n",
       "  <tbody>\n",
       "    <tr>\n",
       "      <th>0</th>\n",
       "      <td>ENSG00000243485.4_2</td>\n",
       "      <td>0.208126</td>\n",
       "      <td>0.319514</td>\n",
       "      <td>6.649922e-02</td>\n",
       "      <td>0.000000</td>\n",
       "      <td>3.094915e-08</td>\n",
       "      <td>0.0000</td>\n",
       "      <td>0.038730</td>\n",
       "      <td>0.115228</td>\n",
       "      <td>0.004463</td>\n",
       "      <td>...</td>\n",
       "      <td>712</td>\n",
       "      <td>3</td>\n",
       "      <td>863464</td>\n",
       "      <td>rs13303010</td>\n",
       "      <td>pancreatic carcinoma</td>\n",
       "      <td>ENSG00000243485.4</td>\n",
       "      <td>ENSG00000243485</td>\n",
       "      <td>lncRNA</td>\n",
       "      <td>experimental</td>\n",
       "      <td>no hit</td>\n",
       "    </tr>\n",
       "    <tr>\n",
       "      <th>1</th>\n",
       "      <td>ENSG00000237613.2_1</td>\n",
       "      <td>0.000005</td>\n",
       "      <td>0.000032</td>\n",
       "      <td>1.654360e-10</td>\n",
       "      <td>0.000000</td>\n",
       "      <td>0.000000e+00</td>\n",
       "      <td>0.0000</td>\n",
       "      <td>0.014606</td>\n",
       "      <td>0.032696</td>\n",
       "      <td>0.000478</td>\n",
       "      <td>...</td>\n",
       "      <td>1187</td>\n",
       "      <td>3</td>\n",
       "      <td>858492</td>\n",
       "      <td>rs13303010</td>\n",
       "      <td>pancreatic carcinoma</td>\n",
       "      <td>ENSG00000237613.2</td>\n",
       "      <td>ENSG00000237613</td>\n",
       "      <td>lncRNA</td>\n",
       "      <td>experimental</td>\n",
       "      <td>no hit</td>\n",
       "    </tr>\n",
       "    <tr>\n",
       "      <th>2</th>\n",
       "      <td>ENSG00000238009.6_2</td>\n",
       "      <td>0.226354</td>\n",
       "      <td>0.307654</td>\n",
       "      <td>6.963862e-02</td>\n",
       "      <td>0.018496</td>\n",
       "      <td>4.327625e-02</td>\n",
       "      <td>0.0008</td>\n",
       "      <td>0.688701</td>\n",
       "      <td>2.415708</td>\n",
       "      <td>1.663702</td>\n",
       "      <td>...</td>\n",
       "      <td>2748</td>\n",
       "      <td>4</td>\n",
       "      <td>760850</td>\n",
       "      <td>rs13303010</td>\n",
       "      <td>pancreatic carcinoma</td>\n",
       "      <td>ENSG00000238009.6</td>\n",
       "      <td>ENSG00000238009</td>\n",
       "      <td>lncRNA</td>\n",
       "      <td>experimental</td>\n",
       "      <td>no hit</td>\n",
       "    </tr>\n",
       "    <tr>\n",
       "      <th>3</th>\n",
       "      <td>ENSG00000239945.1_2</td>\n",
       "      <td>0.000000</td>\n",
       "      <td>1.790425</td>\n",
       "      <td>0.000000e+00</td>\n",
       "      <td>0.000000</td>\n",
       "      <td>2.987223e+00</td>\n",
       "      <td>0.0000</td>\n",
       "      <td>0.002306</td>\n",
       "      <td>1.325207</td>\n",
       "      <td>0.003055</td>\n",
       "      <td>...</td>\n",
       "      <td>1319</td>\n",
       "      <td>2</td>\n",
       "      <td>803468</td>\n",
       "      <td>rs13303010</td>\n",
       "      <td>pancreatic carcinoma</td>\n",
       "      <td>ENSG00000239945.1</td>\n",
       "      <td>ENSG00000239945</td>\n",
       "      <td>lncRNA</td>\n",
       "      <td>experimental</td>\n",
       "      <td>no hit</td>\n",
       "    </tr>\n",
       "    <tr>\n",
       "      <th>4</th>\n",
       "      <td>ENSG00000239906.1_1</td>\n",
       "      <td>0.061595</td>\n",
       "      <td>2.201202</td>\n",
       "      <td>1.355827e-01</td>\n",
       "      <td>0.000000</td>\n",
       "      <td>0.000000e+00</td>\n",
       "      <td>0.0000</td>\n",
       "      <td>0.623117</td>\n",
       "      <td>2.832431</td>\n",
       "      <td>1.764937</td>\n",
       "      <td>...</td>\n",
       "      <td>323</td>\n",
       "      <td>2</td>\n",
       "      <td>754234</td>\n",
       "      <td>rs13303010</td>\n",
       "      <td>pancreatic carcinoma</td>\n",
       "      <td>ENSG00000239906.1</td>\n",
       "      <td>ENSG00000239906</td>\n",
       "      <td>lncRNA</td>\n",
       "      <td>experimental</td>\n",
       "      <td>no hit</td>\n",
       "    </tr>\n",
       "  </tbody>\n",
       "</table>\n",
       "<p>5 rows × 63 columns</p>\n",
       "</div>"
      ],
      "text/plain": [
       "               gene_id  SK-N-SH_eff_mean  SK-N-SH_exp_mean  SK-N-SH_eff_ratio  \\\n",
       "0  ENSG00000243485.4_2          0.208126          0.319514       6.649922e-02   \n",
       "1  ENSG00000237613.2_1          0.000005          0.000032       1.654360e-10   \n",
       "2  ENSG00000238009.6_2          0.226354          0.307654       6.963862e-02   \n",
       "3  ENSG00000239945.1_2          0.000000          1.790425       0.000000e+00   \n",
       "4  ENSG00000239906.1_1          0.061595          2.201202       1.355827e-01   \n",
       "\n",
       "   NCI-H460_eff_mean  NCI-H460_exp_mean  NCI-H460_eff_ratio  K562_eff_mean  \\\n",
       "0           0.000000       3.094915e-08              0.0000       0.038730   \n",
       "1           0.000000       0.000000e+00              0.0000       0.014606   \n",
       "2           0.018496       4.327625e-02              0.0008       0.688701   \n",
       "3           0.000000       2.987223e+00              0.0000       0.002306   \n",
       "4           0.000000       0.000000e+00              0.0000       0.623117   \n",
       "\n",
       "   K562_exp_mean  K562_eff_ratio  ...  rna_len  n_exons  \\\n",
       "0       0.115228        0.004463  ...      712        3   \n",
       "1       0.032696        0.000478  ...     1187        3   \n",
       "2       2.415708        1.663702  ...     2748        4   \n",
       "3       1.325207        0.003055  ...     1319        2   \n",
       "4       2.832431        1.764937  ...      323        2   \n",
       "\n",
       "   closest_endo_snp_distance  closest_endo_snp_id  closest_endo_snp_disease  \\\n",
       "0                     863464           rs13303010      pancreatic carcinoma   \n",
       "1                     858492           rs13303010      pancreatic carcinoma   \n",
       "2                     760850           rs13303010      pancreatic carcinoma   \n",
       "3                     803468           rs13303010      pancreatic carcinoma   \n",
       "4                     754234           rs13303010      pancreatic carcinoma   \n",
       "\n",
       "       short_gene_id  shorter_gene_id  minimal_biotype   ctrl_status  is_hit  \n",
       "0  ENSG00000243485.4  ENSG00000243485           lncRNA  experimental  no hit  \n",
       "1  ENSG00000237613.2  ENSG00000237613           lncRNA  experimental  no hit  \n",
       "2  ENSG00000238009.6  ENSG00000238009           lncRNA  experimental  no hit  \n",
       "3  ENSG00000239945.1  ENSG00000239945           lncRNA  experimental  no hit  \n",
       "4  ENSG00000239906.1  ENSG00000239906           lncRNA  experimental  no hit  \n",
       "\n",
       "[5 rows x 63 columns]"
      ]
     },
     "execution_count": 66,
     "metadata": {},
     "output_type": "execute_result"
    }
   ],
   "source": [
    "print(len(data))\n",
    "df_screen = data.merge(gene_hit_status, on=[\"gene_id\", \"gene_name\", \"cleaner_gene_biotype\"])\n",
    "print(len(df_screen))\n",
    "df_screen.head()"
   ]
  },
  {
   "cell_type": "code",
   "execution_count": 67,
   "metadata": {},
   "outputs": [
    {
     "data": {
      "text/plain": [
       "7650"
      ]
     },
     "execution_count": 67,
     "metadata": {},
     "output_type": "execute_result"
    }
   ],
   "source": [
    "df_screen = df_screen.merge(endo_exp, on=\"gene_id\").merge(endo_fc, on=\"gene_id\")\n",
    "len(df_screen)"
   ]
  },
  {
   "cell_type": "code",
   "execution_count": 68,
   "metadata": {},
   "outputs": [
    {
     "data": {
      "text/plain": [
       "lncRNA    60\n",
       "mRNA      11\n",
       "Name: minimal_biotype, dtype: int64"
      ]
     },
     "execution_count": 68,
     "metadata": {},
     "output_type": "execute_result"
    }
   ],
   "source": [
    "df_screen[df_screen[\"is_hit\"] == \"hit\"].minimal_biotype.value_counts()"
   ]
  },
  {
   "cell_type": "code",
   "execution_count": 69,
   "metadata": {},
   "outputs": [
    {
     "data": {
      "text/html": [
       "<div>\n",
       "<style scoped>\n",
       "    .dataframe tbody tr th:only-of-type {\n",
       "        vertical-align: middle;\n",
       "    }\n",
       "\n",
       "    .dataframe tbody tr th {\n",
       "        vertical-align: top;\n",
       "    }\n",
       "\n",
       "    .dataframe thead th {\n",
       "        text-align: right;\n",
       "    }\n",
       "</style>\n",
       "<table border=\"1\" class=\"dataframe\">\n",
       "  <thead>\n",
       "    <tr style=\"text-align: right;\">\n",
       "      <th></th>\n",
       "      <th>gene_name</th>\n",
       "      <th>minimal_biotype</th>\n",
       "      <th>ctrl_status</th>\n",
       "      <th>cleaner_gene_biotype</th>\n",
       "    </tr>\n",
       "  </thead>\n",
       "  <tbody>\n",
       "    <tr>\n",
       "      <th>81</th>\n",
       "      <td>RP4-680D5.8</td>\n",
       "      <td>lncRNA</td>\n",
       "      <td>experimental</td>\n",
       "      <td>transcript_overlap</td>\n",
       "    </tr>\n",
       "    <tr>\n",
       "      <th>197</th>\n",
       "      <td>MKNK1-AS1</td>\n",
       "      <td>lncRNA</td>\n",
       "      <td>experimental</td>\n",
       "      <td>transcript_overlap</td>\n",
       "    </tr>\n",
       "    <tr>\n",
       "      <th>243</th>\n",
       "      <td>FOXD3-AS1</td>\n",
       "      <td>lncRNA</td>\n",
       "      <td>experimental</td>\n",
       "      <td>transcript_overlap</td>\n",
       "    </tr>\n",
       "    <tr>\n",
       "      <th>311</th>\n",
       "      <td>RP11-421L21.3</td>\n",
       "      <td>lncRNA</td>\n",
       "      <td>experimental</td>\n",
       "      <td>promoter_overlap</td>\n",
       "    </tr>\n",
       "    <tr>\n",
       "      <th>322</th>\n",
       "      <td>RP5-1065J22.8</td>\n",
       "      <td>lncRNA</td>\n",
       "      <td>experimental</td>\n",
       "      <td>transcript_overlap</td>\n",
       "    </tr>\n",
       "    <tr>\n",
       "      <th>...</th>\n",
       "      <td>...</td>\n",
       "      <td>...</td>\n",
       "      <td>...</td>\n",
       "      <td>...</td>\n",
       "    </tr>\n",
       "    <tr>\n",
       "      <th>7287</th>\n",
       "      <td>KB-1440D3.14</td>\n",
       "      <td>lncRNA</td>\n",
       "      <td>experimental</td>\n",
       "      <td>gene_nearby</td>\n",
       "    </tr>\n",
       "    <tr>\n",
       "      <th>7374</th>\n",
       "      <td>RP3-508I15.9</td>\n",
       "      <td>lncRNA</td>\n",
       "      <td>experimental</td>\n",
       "      <td>promoter_overlap</td>\n",
       "    </tr>\n",
       "    <tr>\n",
       "      <th>7438</th>\n",
       "      <td>RP11-120D5.1</td>\n",
       "      <td>lncRNA</td>\n",
       "      <td>experimental</td>\n",
       "      <td>promoter_overlap</td>\n",
       "    </tr>\n",
       "    <tr>\n",
       "      <th>7600</th>\n",
       "      <td>LINC00623</td>\n",
       "      <td>lncRNA</td>\n",
       "      <td>experimental</td>\n",
       "      <td>transcript_overlap</td>\n",
       "    </tr>\n",
       "    <tr>\n",
       "      <th>7649</th>\n",
       "      <td>DIGIT</td>\n",
       "      <td>lncRNA</td>\n",
       "      <td>experimental</td>\n",
       "      <td>promoter_overlap</td>\n",
       "    </tr>\n",
       "  </tbody>\n",
       "</table>\n",
       "<p>71 rows × 4 columns</p>\n",
       "</div>"
      ],
      "text/plain": [
       "          gene_name minimal_biotype   ctrl_status cleaner_gene_biotype\n",
       "81      RP4-680D5.8          lncRNA  experimental   transcript_overlap\n",
       "197       MKNK1-AS1          lncRNA  experimental   transcript_overlap\n",
       "243       FOXD3-AS1          lncRNA  experimental   transcript_overlap\n",
       "311   RP11-421L21.3          lncRNA  experimental     promoter_overlap\n",
       "322   RP5-1065J22.8          lncRNA  experimental   transcript_overlap\n",
       "...             ...             ...           ...                  ...\n",
       "7287   KB-1440D3.14          lncRNA  experimental          gene_nearby\n",
       "7374   RP3-508I15.9          lncRNA  experimental     promoter_overlap\n",
       "7438   RP11-120D5.1          lncRNA  experimental     promoter_overlap\n",
       "7600      LINC00623          lncRNA  experimental   transcript_overlap\n",
       "7649          DIGIT          lncRNA  experimental     promoter_overlap\n",
       "\n",
       "[71 rows x 4 columns]"
      ]
     },
     "execution_count": 69,
     "metadata": {},
     "output_type": "execute_result"
    }
   ],
   "source": [
    "tmp = df_screen[df_screen[\"is_hit\"] == \"hit\"][[\"gene_name\", \"minimal_biotype\", \"ctrl_status\", \"cleaner_gene_biotype\"]]\n",
    "tmp"
   ]
  },
  {
   "cell_type": "code",
   "execution_count": 70,
   "metadata": {},
   "outputs": [
    {
     "data": {
      "text/plain": [
       "minimal_biotype  ctrl_status \n",
       "lncRNA           experimental    60\n",
       "mRNA             control          5\n",
       "                 mRNA             6\n",
       "Name: gene_name, dtype: int64"
      ]
     },
     "execution_count": 70,
     "metadata": {},
     "output_type": "execute_result"
    }
   ],
   "source": [
    "tmp.groupby([\"minimal_biotype\", \"ctrl_status\"])[\"gene_name\"].agg(\"count\")"
   ]
  },
  {
   "cell_type": "code",
   "execution_count": 71,
   "metadata": {},
   "outputs": [
    {
     "data": {
      "text/html": [
       "<div>\n",
       "<style scoped>\n",
       "    .dataframe tbody tr th:only-of-type {\n",
       "        vertical-align: middle;\n",
       "    }\n",
       "\n",
       "    .dataframe tbody tr th {\n",
       "        vertical-align: top;\n",
       "    }\n",
       "\n",
       "    .dataframe thead th {\n",
       "        text-align: right;\n",
       "    }\n",
       "</style>\n",
       "<table border=\"1\" class=\"dataframe\">\n",
       "  <thead>\n",
       "    <tr style=\"text-align: right;\">\n",
       "      <th></th>\n",
       "      <th>gene_name</th>\n",
       "      <th>minimal_biotype</th>\n",
       "      <th>ctrl_status</th>\n",
       "      <th>cleaner_gene_biotype</th>\n",
       "    </tr>\n",
       "  </thead>\n",
       "  <tbody>\n",
       "  </tbody>\n",
       "</table>\n",
       "</div>"
      ],
      "text/plain": [
       "Empty DataFrame\n",
       "Columns: [gene_name, minimal_biotype, ctrl_status, cleaner_gene_biotype]\n",
       "Index: []"
      ]
     },
     "execution_count": 71,
     "metadata": {},
     "output_type": "execute_result"
    }
   ],
   "source": [
    "tmp[(tmp[\"minimal_biotype\"] == \"mRNA\") & (tmp[\"ctrl_status\"] == \"experimental\")]"
   ]
  },
  {
   "cell_type": "markdown",
   "metadata": {},
   "source": [
    "## 6. write final files"
   ]
  },
  {
   "cell_type": "markdown",
   "metadata": {},
   "source": [
    "### general features for all genes"
   ]
  },
  {
   "cell_type": "code",
   "execution_count": 72,
   "metadata": {},
   "outputs": [],
   "source": [
    "meta_cols = [\"gene_id\", \"gene_name\", \"csf\", \"cleaner_gene_biotype\", \"minimal_biotype\"]\n",
    "sub_feature_cols = ['max_eff', 'max_exp', 'gc', 'n_tss', 'n_enh', 'enh_tss_dist', 'enh_tran_dist', 'prom_cons',\n",
    "                    'exon_cons', 'dna_len', 'rna_len', 'n_exons']"
   ]
  },
  {
   "cell_type": "code",
   "execution_count": 73,
   "metadata": {},
   "outputs": [],
   "source": [
    "all_cols = meta_cols + sub_feature_cols"
   ]
  },
  {
   "cell_type": "code",
   "execution_count": 74,
   "metadata": {},
   "outputs": [
    {
     "data": {
      "text/html": [
       "<div>\n",
       "<style scoped>\n",
       "    .dataframe tbody tr th:only-of-type {\n",
       "        vertical-align: middle;\n",
       "    }\n",
       "\n",
       "    .dataframe tbody tr th {\n",
       "        vertical-align: top;\n",
       "    }\n",
       "\n",
       "    .dataframe thead th {\n",
       "        text-align: right;\n",
       "    }\n",
       "</style>\n",
       "<table border=\"1\" class=\"dataframe\">\n",
       "  <thead>\n",
       "    <tr style=\"text-align: right;\">\n",
       "      <th></th>\n",
       "      <th>gene_id</th>\n",
       "      <th>gene_name</th>\n",
       "      <th>csf</th>\n",
       "      <th>cleaner_gene_biotype</th>\n",
       "      <th>minimal_biotype</th>\n",
       "      <th>max_eff</th>\n",
       "      <th>max_exp</th>\n",
       "      <th>gc</th>\n",
       "      <th>n_tss</th>\n",
       "      <th>n_enh</th>\n",
       "      <th>enh_tss_dist</th>\n",
       "      <th>enh_tran_dist</th>\n",
       "      <th>prom_cons</th>\n",
       "      <th>exon_cons</th>\n",
       "      <th>dna_len</th>\n",
       "      <th>rna_len</th>\n",
       "      <th>n_exons</th>\n",
       "    </tr>\n",
       "  </thead>\n",
       "  <tbody>\n",
       "    <tr>\n",
       "      <th>2</th>\n",
       "      <td>ENSG00000243485.4_2</td>\n",
       "      <td>MIR1302-2</td>\n",
       "      <td>lncRNA_good_csf</td>\n",
       "      <td>intergenic</td>\n",
       "      <td>lncRNA</td>\n",
       "      <td>0.208126</td>\n",
       "      <td>0.559674</td>\n",
       "      <td>0.545147</td>\n",
       "      <td>0.0</td>\n",
       "      <td>18.0</td>\n",
       "      <td>809376</td>\n",
       "      <td>808633</td>\n",
       "      <td>0.00</td>\n",
       "      <td>0.000000</td>\n",
       "      <td>1543</td>\n",
       "      <td>712</td>\n",
       "      <td>3</td>\n",
       "    </tr>\n",
       "    <tr>\n",
       "      <th>3</th>\n",
       "      <td>ENSG00000237613.2_1</td>\n",
       "      <td>FAM138A</td>\n",
       "      <td>lncRNA_good_csf</td>\n",
       "      <td>intergenic</td>\n",
       "      <td>lncRNA</td>\n",
       "      <td>0.154032</td>\n",
       "      <td>0.222609</td>\n",
       "      <td>0.465565</td>\n",
       "      <td>0.0</td>\n",
       "      <td>18.0</td>\n",
       "      <td>803660</td>\n",
       "      <td>803661</td>\n",
       "      <td>0.00</td>\n",
       "      <td>0.006667</td>\n",
       "      <td>1527</td>\n",
       "      <td>1187</td>\n",
       "      <td>3</td>\n",
       "    </tr>\n",
       "    <tr>\n",
       "      <th>6</th>\n",
       "      <td>ENSG00000186092.4_1</td>\n",
       "      <td>OR4F5</td>\n",
       "      <td>protein_coding</td>\n",
       "      <td>protein_coding</td>\n",
       "      <td>mRNA</td>\n",
       "      <td>0.023544</td>\n",
       "      <td>0.050019</td>\n",
       "      <td>0.571895</td>\n",
       "      <td>0.0</td>\n",
       "      <td>20.0</td>\n",
       "      <td>770651</td>\n",
       "      <td>769734</td>\n",
       "      <td>0.00</td>\n",
       "      <td>0.000000</td>\n",
       "      <td>917</td>\n",
       "      <td>918</td>\n",
       "      <td>1</td>\n",
       "    </tr>\n",
       "    <tr>\n",
       "      <th>7</th>\n",
       "      <td>ENSG00000238009.6_2</td>\n",
       "      <td>RP11-34P13.7</td>\n",
       "      <td>lncRNA_good_csf</td>\n",
       "      <td>transcript_overlap</td>\n",
       "      <td>lncRNA</td>\n",
       "      <td>0.688701</td>\n",
       "      <td>2.415708</td>\n",
       "      <td>0.537288</td>\n",
       "      <td>0.0</td>\n",
       "      <td>26.0</td>\n",
       "      <td>706018</td>\n",
       "      <td>706019</td>\n",
       "      <td>0.38</td>\n",
       "      <td>0.505000</td>\n",
       "      <td>36987</td>\n",
       "      <td>2748</td>\n",
       "      <td>4</td>\n",
       "    </tr>\n",
       "    <tr>\n",
       "      <th>8</th>\n",
       "      <td>ENSG00000239945.1_2</td>\n",
       "      <td>RP11-34P13.8</td>\n",
       "      <td>lncRNA_good_csf</td>\n",
       "      <td>transcript_overlap</td>\n",
       "      <td>lncRNA</td>\n",
       "      <td>0.027553</td>\n",
       "      <td>2.987223</td>\n",
       "      <td>0.525398</td>\n",
       "      <td>0.0</td>\n",
       "      <td>21.0</td>\n",
       "      <td>748636</td>\n",
       "      <td>748637</td>\n",
       "      <td>0.11</td>\n",
       "      <td>0.140000</td>\n",
       "      <td>1554</td>\n",
       "      <td>1319</td>\n",
       "      <td>2</td>\n",
       "    </tr>\n",
       "  </tbody>\n",
       "</table>\n",
       "</div>"
      ],
      "text/plain": [
       "               gene_id     gene_name              csf cleaner_gene_biotype  \\\n",
       "2  ENSG00000243485.4_2     MIR1302-2  lncRNA_good_csf           intergenic   \n",
       "3  ENSG00000237613.2_1       FAM138A  lncRNA_good_csf           intergenic   \n",
       "6  ENSG00000186092.4_1         OR4F5   protein_coding       protein_coding   \n",
       "7  ENSG00000238009.6_2  RP11-34P13.7  lncRNA_good_csf   transcript_overlap   \n",
       "8  ENSG00000239945.1_2  RP11-34P13.8  lncRNA_good_csf   transcript_overlap   \n",
       "\n",
       "  minimal_biotype   max_eff   max_exp        gc  n_tss  n_enh  enh_tss_dist  \\\n",
       "2          lncRNA  0.208126  0.559674  0.545147    0.0   18.0        809376   \n",
       "3          lncRNA  0.154032  0.222609  0.465565    0.0   18.0        803660   \n",
       "6            mRNA  0.023544  0.050019  0.571895    0.0   20.0        770651   \n",
       "7          lncRNA  0.688701  2.415708  0.537288    0.0   26.0        706018   \n",
       "8          lncRNA  0.027553  2.987223  0.525398    0.0   21.0        748636   \n",
       "\n",
       "   enh_tran_dist  prom_cons  exon_cons  dna_len  rna_len  n_exons  \n",
       "2         808633       0.00   0.000000     1543      712        3  \n",
       "3         803661       0.00   0.006667     1527     1187        3  \n",
       "6         769734       0.00   0.000000      917      918        1  \n",
       "7         706019       0.38   0.505000    36987     2748        4  \n",
       "8         748637       0.11   0.140000     1554     1319        2  "
      ]
     },
     "execution_count": 74,
     "metadata": {},
     "output_type": "execute_result"
    }
   ],
   "source": [
    "supp = data_filt[all_cols]\n",
    "supp.head()"
   ]
  },
  {
   "cell_type": "code",
   "execution_count": 75,
   "metadata": {},
   "outputs": [
    {
     "data": {
      "text/html": [
       "<div>\n",
       "<style scoped>\n",
       "    .dataframe tbody tr th:only-of-type {\n",
       "        vertical-align: middle;\n",
       "    }\n",
       "\n",
       "    .dataframe tbody tr th {\n",
       "        vertical-align: top;\n",
       "    }\n",
       "\n",
       "    .dataframe thead th {\n",
       "        text-align: right;\n",
       "    }\n",
       "</style>\n",
       "<table border=\"1\" class=\"dataframe\">\n",
       "  <thead>\n",
       "    <tr style=\"text-align: right;\">\n",
       "      <th></th>\n",
       "      <th>gene_id</th>\n",
       "      <th>gene_name</th>\n",
       "      <th>csf</th>\n",
       "      <th>cleaner_gene_biotype</th>\n",
       "      <th>minimal_biotype</th>\n",
       "      <th>max_eff</th>\n",
       "      <th>max_exp</th>\n",
       "      <th>gc</th>\n",
       "      <th>n_tss</th>\n",
       "      <th>n_enh</th>\n",
       "      <th>enh_tss_dist</th>\n",
       "      <th>enh_tran_dist</th>\n",
       "      <th>prom_cons</th>\n",
       "      <th>exon_cons</th>\n",
       "      <th>dna_len</th>\n",
       "      <th>rna_len</th>\n",
       "      <th>n_exons</th>\n",
       "    </tr>\n",
       "  </thead>\n",
       "  <tbody>\n",
       "    <tr>\n",
       "      <th>60203</th>\n",
       "      <td>DIGIT</td>\n",
       "      <td>DIGIT</td>\n",
       "      <td>lncRNA_good_csf</td>\n",
       "      <td>promoter_overlap</td>\n",
       "      <td>lncRNA</td>\n",
       "      <td>0.224504</td>\n",
       "      <td>0.639554</td>\n",
       "      <td>0.480683</td>\n",
       "      <td>0.0</td>\n",
       "      <td>72.0</td>\n",
       "      <td>2518</td>\n",
       "      <td>0</td>\n",
       "      <td>0.1</td>\n",
       "      <td>0.0</td>\n",
       "      <td>2966</td>\n",
       "      <td>2226</td>\n",
       "      <td>2</td>\n",
       "    </tr>\n",
       "  </tbody>\n",
       "</table>\n",
       "</div>"
      ],
      "text/plain": [
       "      gene_id gene_name              csf cleaner_gene_biotype minimal_biotype  \\\n",
       "60203   DIGIT     DIGIT  lncRNA_good_csf     promoter_overlap          lncRNA   \n",
       "\n",
       "        max_eff   max_exp        gc  n_tss  n_enh  enh_tss_dist  \\\n",
       "60203  0.224504  0.639554  0.480683    0.0   72.0          2518   \n",
       "\n",
       "       enh_tran_dist  prom_cons  exon_cons  dna_len  rna_len  n_exons  \n",
       "60203              0        0.1        0.0     2966     2226        2  "
      ]
     },
     "execution_count": 75,
     "metadata": {},
     "output_type": "execute_result"
    }
   ],
   "source": [
    "supp[supp[\"gene_name\"] == \"DIGIT\"]"
   ]
  },
  {
   "cell_type": "code",
   "execution_count": 76,
   "metadata": {},
   "outputs": [],
   "source": [
    "supp.to_csv(\"../../../data/03__features/all_features.tmp\", sep=\"\\t\", index=False)"
   ]
  },
  {
   "cell_type": "markdown",
   "metadata": {},
   "source": [
    "### + endo features for screen genes"
   ]
  },
  {
   "cell_type": "code",
   "execution_count": 77,
   "metadata": {},
   "outputs": [],
   "source": [
    "meta_cols = [\"gene_id\", \"gene_name\", \"csf\", \"cleaner_gene_biotype\", \"minimal_biotype\", \"is_hit\"]\n",
    "sub_feature_cols = ['max_eff', 'max_exp', 'gc', 'n_tss', 'n_enh', 'enh_tss_dist', 'enh_tran_dist', 'prom_cons',\n",
    "                    'exon_cons', 'dna_len', 'rna_len', 'n_exons', 'hESC_mean', 'endo_mean', 'endo_hESC_abslog2fc',\n",
    "                    'closest_endo_snp_distance', 'closest_endo_snp_id', 'closest_endo_snp_disease', 'DE_enh_tss_dist',\n",
    "                    'DE_enh_tran_dist']"
   ]
  },
  {
   "cell_type": "code",
   "execution_count": 78,
   "metadata": {},
   "outputs": [],
   "source": [
    "all_cols = meta_cols + sub_feature_cols"
   ]
  },
  {
   "cell_type": "code",
   "execution_count": 79,
   "metadata": {},
   "outputs": [
    {
     "data": {
      "text/html": [
       "<div>\n",
       "<style scoped>\n",
       "    .dataframe tbody tr th:only-of-type {\n",
       "        vertical-align: middle;\n",
       "    }\n",
       "\n",
       "    .dataframe tbody tr th {\n",
       "        vertical-align: top;\n",
       "    }\n",
       "\n",
       "    .dataframe thead th {\n",
       "        text-align: right;\n",
       "    }\n",
       "</style>\n",
       "<table border=\"1\" class=\"dataframe\">\n",
       "  <thead>\n",
       "    <tr style=\"text-align: right;\">\n",
       "      <th></th>\n",
       "      <th>gene_id</th>\n",
       "      <th>gene_name</th>\n",
       "      <th>csf</th>\n",
       "      <th>cleaner_gene_biotype</th>\n",
       "      <th>minimal_biotype</th>\n",
       "      <th>is_hit</th>\n",
       "      <th>max_eff</th>\n",
       "      <th>max_exp</th>\n",
       "      <th>gc</th>\n",
       "      <th>n_tss</th>\n",
       "      <th>...</th>\n",
       "      <th>rna_len</th>\n",
       "      <th>n_exons</th>\n",
       "      <th>hESC_mean</th>\n",
       "      <th>endo_mean</th>\n",
       "      <th>endo_hESC_abslog2fc</th>\n",
       "      <th>closest_endo_snp_distance</th>\n",
       "      <th>closest_endo_snp_id</th>\n",
       "      <th>closest_endo_snp_disease</th>\n",
       "      <th>DE_enh_tss_dist</th>\n",
       "      <th>DE_enh_tran_dist</th>\n",
       "    </tr>\n",
       "  </thead>\n",
       "  <tbody>\n",
       "    <tr>\n",
       "      <th>0</th>\n",
       "      <td>ENSG00000243485.4_2</td>\n",
       "      <td>MIR1302-2</td>\n",
       "      <td>lncRNA_good_csf</td>\n",
       "      <td>intergenic</td>\n",
       "      <td>lncRNA</td>\n",
       "      <td>no hit</td>\n",
       "      <td>0.208126</td>\n",
       "      <td>0.559674</td>\n",
       "      <td>0.545147</td>\n",
       "      <td>0.0</td>\n",
       "      <td>...</td>\n",
       "      <td>712</td>\n",
       "      <td>3</td>\n",
       "      <td>0.088460</td>\n",
       "      <td>0.000000</td>\n",
       "      <td>0.122288</td>\n",
       "      <td>863464</td>\n",
       "      <td>rs13303010</td>\n",
       "      <td>pancreatic carcinoma</td>\n",
       "      <td>909431</td>\n",
       "      <td>908688</td>\n",
       "    </tr>\n",
       "    <tr>\n",
       "      <th>1</th>\n",
       "      <td>ENSG00000237613.2_1</td>\n",
       "      <td>FAM138A</td>\n",
       "      <td>lncRNA_good_csf</td>\n",
       "      <td>intergenic</td>\n",
       "      <td>lncRNA</td>\n",
       "      <td>no hit</td>\n",
       "      <td>0.154032</td>\n",
       "      <td>0.222609</td>\n",
       "      <td>0.465565</td>\n",
       "      <td>0.0</td>\n",
       "      <td>...</td>\n",
       "      <td>1187</td>\n",
       "      <td>3</td>\n",
       "      <td>0.000000</td>\n",
       "      <td>0.480302</td>\n",
       "      <td>0.565892</td>\n",
       "      <td>858492</td>\n",
       "      <td>rs13303010</td>\n",
       "      <td>pancreatic carcinoma</td>\n",
       "      <td>903715</td>\n",
       "      <td>903716</td>\n",
       "    </tr>\n",
       "    <tr>\n",
       "      <th>2</th>\n",
       "      <td>ENSG00000238009.6_2</td>\n",
       "      <td>RP11-34P13.7</td>\n",
       "      <td>lncRNA_good_csf</td>\n",
       "      <td>transcript_overlap</td>\n",
       "      <td>lncRNA</td>\n",
       "      <td>no hit</td>\n",
       "      <td>0.688701</td>\n",
       "      <td>2.415708</td>\n",
       "      <td>0.537288</td>\n",
       "      <td>0.0</td>\n",
       "      <td>...</td>\n",
       "      <td>2748</td>\n",
       "      <td>4</td>\n",
       "      <td>0.280988</td>\n",
       "      <td>0.111266</td>\n",
       "      <td>0.205054</td>\n",
       "      <td>760850</td>\n",
       "      <td>rs13303010</td>\n",
       "      <td>pancreatic carcinoma</td>\n",
       "      <td>806073</td>\n",
       "      <td>806074</td>\n",
       "    </tr>\n",
       "    <tr>\n",
       "      <th>3</th>\n",
       "      <td>ENSG00000239945.1_2</td>\n",
       "      <td>RP11-34P13.8</td>\n",
       "      <td>lncRNA_good_csf</td>\n",
       "      <td>transcript_overlap</td>\n",
       "      <td>lncRNA</td>\n",
       "      <td>no hit</td>\n",
       "      <td>0.027553</td>\n",
       "      <td>2.987223</td>\n",
       "      <td>0.525398</td>\n",
       "      <td>0.0</td>\n",
       "      <td>...</td>\n",
       "      <td>1319</td>\n",
       "      <td>2</td>\n",
       "      <td>0.207940</td>\n",
       "      <td>0.307150</td>\n",
       "      <td>0.113875</td>\n",
       "      <td>803468</td>\n",
       "      <td>rs13303010</td>\n",
       "      <td>pancreatic carcinoma</td>\n",
       "      <td>848691</td>\n",
       "      <td>848692</td>\n",
       "    </tr>\n",
       "    <tr>\n",
       "      <th>4</th>\n",
       "      <td>ENSG00000239906.1_1</td>\n",
       "      <td>RP11-34P13.14</td>\n",
       "      <td>lncRNA_good_csf</td>\n",
       "      <td>promoter_overlap</td>\n",
       "      <td>lncRNA</td>\n",
       "      <td>no hit</td>\n",
       "      <td>0.950739</td>\n",
       "      <td>19.299900</td>\n",
       "      <td>0.461300</td>\n",
       "      <td>0.0</td>\n",
       "      <td>...</td>\n",
       "      <td>323</td>\n",
       "      <td>2</td>\n",
       "      <td>13.451185</td>\n",
       "      <td>15.657979</td>\n",
       "      <td>0.205026</td>\n",
       "      <td>754234</td>\n",
       "      <td>rs13303010</td>\n",
       "      <td>pancreatic carcinoma</td>\n",
       "      <td>799457</td>\n",
       "      <td>799458</td>\n",
       "    </tr>\n",
       "  </tbody>\n",
       "</table>\n",
       "<p>5 rows × 26 columns</p>\n",
       "</div>"
      ],
      "text/plain": [
       "               gene_id      gene_name              csf cleaner_gene_biotype  \\\n",
       "0  ENSG00000243485.4_2      MIR1302-2  lncRNA_good_csf           intergenic   \n",
       "1  ENSG00000237613.2_1        FAM138A  lncRNA_good_csf           intergenic   \n",
       "2  ENSG00000238009.6_2   RP11-34P13.7  lncRNA_good_csf   transcript_overlap   \n",
       "3  ENSG00000239945.1_2   RP11-34P13.8  lncRNA_good_csf   transcript_overlap   \n",
       "4  ENSG00000239906.1_1  RP11-34P13.14  lncRNA_good_csf     promoter_overlap   \n",
       "\n",
       "  minimal_biotype  is_hit   max_eff    max_exp        gc  n_tss  ...  rna_len  \\\n",
       "0          lncRNA  no hit  0.208126   0.559674  0.545147    0.0  ...      712   \n",
       "1          lncRNA  no hit  0.154032   0.222609  0.465565    0.0  ...     1187   \n",
       "2          lncRNA  no hit  0.688701   2.415708  0.537288    0.0  ...     2748   \n",
       "3          lncRNA  no hit  0.027553   2.987223  0.525398    0.0  ...     1319   \n",
       "4          lncRNA  no hit  0.950739  19.299900  0.461300    0.0  ...      323   \n",
       "\n",
       "   n_exons  hESC_mean  endo_mean  endo_hESC_abslog2fc  \\\n",
       "0        3   0.088460   0.000000             0.122288   \n",
       "1        3   0.000000   0.480302             0.565892   \n",
       "2        4   0.280988   0.111266             0.205054   \n",
       "3        2   0.207940   0.307150             0.113875   \n",
       "4        2  13.451185  15.657979             0.205026   \n",
       "\n",
       "   closest_endo_snp_distance  closest_endo_snp_id  closest_endo_snp_disease  \\\n",
       "0                     863464           rs13303010      pancreatic carcinoma   \n",
       "1                     858492           rs13303010      pancreatic carcinoma   \n",
       "2                     760850           rs13303010      pancreatic carcinoma   \n",
       "3                     803468           rs13303010      pancreatic carcinoma   \n",
       "4                     754234           rs13303010      pancreatic carcinoma   \n",
       "\n",
       "   DE_enh_tss_dist  DE_enh_tran_dist  \n",
       "0           909431            908688  \n",
       "1           903715            903716  \n",
       "2           806073            806074  \n",
       "3           848691            848692  \n",
       "4           799457            799458  \n",
       "\n",
       "[5 rows x 26 columns]"
      ]
     },
     "execution_count": 79,
     "metadata": {},
     "output_type": "execute_result"
    }
   ],
   "source": [
    "supp = df_screen[all_cols]\n",
    "supp.head()"
   ]
  },
  {
   "cell_type": "code",
   "execution_count": 80,
   "metadata": {},
   "outputs": [],
   "source": [
    "supp.to_csv(\"../../../data/03__features/SuppTable_S5.locus_features.txt\", sep=\"\\t\", index=False)"
   ]
  },
  {
   "cell_type": "code",
   "execution_count": 81,
   "metadata": {},
   "outputs": [
    {
     "data": {
      "text/html": [
       "<div>\n",
       "<style scoped>\n",
       "    .dataframe tbody tr th:only-of-type {\n",
       "        vertical-align: middle;\n",
       "    }\n",
       "\n",
       "    .dataframe tbody tr th {\n",
       "        vertical-align: top;\n",
       "    }\n",
       "\n",
       "    .dataframe thead th {\n",
       "        text-align: right;\n",
       "    }\n",
       "</style>\n",
       "<table border=\"1\" class=\"dataframe\">\n",
       "  <thead>\n",
       "    <tr style=\"text-align: right;\">\n",
       "      <th></th>\n",
       "      <th>gene_name</th>\n",
       "      <th>closest_endo_snp_distance</th>\n",
       "      <th>closest_endo_snp_id</th>\n",
       "      <th>closest_endo_snp_disease</th>\n",
       "    </tr>\n",
       "  </thead>\n",
       "  <tbody>\n",
       "    <tr>\n",
       "      <th>2211</th>\n",
       "      <td>RP11-541P9.3</td>\n",
       "      <td>0</td>\n",
       "      <td>rs12187751</td>\n",
       "      <td>colorectal cancer, microsatellite instability ...</td>\n",
       "    </tr>\n",
       "    <tr>\n",
       "      <th>4055</th>\n",
       "      <td>RP11-867G2.8</td>\n",
       "      <td>0</td>\n",
       "      <td>rs12279741</td>\n",
       "      <td>small cell lung carcinoma</td>\n",
       "    </tr>\n",
       "    <tr>\n",
       "      <th>3246</th>\n",
       "      <td>VLDLR-AS1</td>\n",
       "      <td>0</td>\n",
       "      <td>rs148802107</td>\n",
       "      <td>smoking status measurement, lung carcinoma</td>\n",
       "    </tr>\n",
       "    <tr>\n",
       "      <th>6859</th>\n",
       "      <td>AC011523.2</td>\n",
       "      <td>252</td>\n",
       "      <td>rs2659124</td>\n",
       "      <td>prostate carcinoma</td>\n",
       "    </tr>\n",
       "    <tr>\n",
       "      <th>3789</th>\n",
       "      <td>MRPL23-AS1</td>\n",
       "      <td>10343</td>\n",
       "      <td>rs78276179</td>\n",
       "      <td>squamous cell lung carcinoma</td>\n",
       "    </tr>\n",
       "    <tr>\n",
       "      <th>4896</th>\n",
       "      <td>RP1-292L20.3</td>\n",
       "      <td>30418</td>\n",
       "      <td>rs143046984</td>\n",
       "      <td>colorectal cancer</td>\n",
       "    </tr>\n",
       "    <tr>\n",
       "      <th>2037</th>\n",
       "      <td>RP11-414H23.2</td>\n",
       "      <td>56495</td>\n",
       "      <td>rs13355819</td>\n",
       "      <td>colorectal cancer</td>\n",
       "    </tr>\n",
       "    <tr>\n",
       "      <th>2802</th>\n",
       "      <td>MKLN1-AS</td>\n",
       "      <td>61841</td>\n",
       "      <td>rs11514963</td>\n",
       "      <td>smoking status measurement, lung carcinoma</td>\n",
       "    </tr>\n",
       "    <tr>\n",
       "      <th>81</th>\n",
       "      <td>RP4-680D5.8</td>\n",
       "      <td>99681</td>\n",
       "      <td>rs2901964</td>\n",
       "      <td>response to radiation, prostate carcinoma, ere...</td>\n",
       "    </tr>\n",
       "    <tr>\n",
       "      <th>1114</th>\n",
       "      <td>CTD-2308L22.1</td>\n",
       "      <td>110023</td>\n",
       "      <td>rs10209697</td>\n",
       "      <td>response to radiation, prostate carcinoma</td>\n",
       "    </tr>\n",
       "    <tr>\n",
       "      <th>828</th>\n",
       "      <td>PCBP1-AS1</td>\n",
       "      <td>129572</td>\n",
       "      <td>rs4853036</td>\n",
       "      <td>colorectal cancer, endometrial neoplasm</td>\n",
       "    </tr>\n",
       "    <tr>\n",
       "      <th>5671</th>\n",
       "      <td>RP11-615I2.2</td>\n",
       "      <td>140875</td>\n",
       "      <td>rs9929218</td>\n",
       "      <td>colorectal cancer</td>\n",
       "    </tr>\n",
       "    <tr>\n",
       "      <th>6062</th>\n",
       "      <td>RAMP2-AS1</td>\n",
       "      <td>150122</td>\n",
       "      <td>rs9901225</td>\n",
       "      <td>colorectal cancer, endometrial neoplasm</td>\n",
       "    </tr>\n",
       "    <tr>\n",
       "      <th>846</th>\n",
       "      <td>RP11-259N19.1</td>\n",
       "      <td>190247</td>\n",
       "      <td>rs2422088</td>\n",
       "      <td>colorectal cancer, skin disease, response to c...</td>\n",
       "    </tr>\n",
       "    <tr>\n",
       "      <th>1997</th>\n",
       "      <td>CTD-2631K10.1</td>\n",
       "      <td>193454</td>\n",
       "      <td>rs258892</td>\n",
       "      <td>small cell lung carcinoma</td>\n",
       "    </tr>\n",
       "    <tr>\n",
       "      <th>6508</th>\n",
       "      <td>RP11-405M12.2</td>\n",
       "      <td>199018</td>\n",
       "      <td>rs12970291</td>\n",
       "      <td>colorectal cancer, endometrial neoplasm</td>\n",
       "    </tr>\n",
       "    <tr>\n",
       "      <th>2130</th>\n",
       "      <td>AC006077.3</td>\n",
       "      <td>199045</td>\n",
       "      <td>rs254563</td>\n",
       "      <td>colorectal cancer</td>\n",
       "    </tr>\n",
       "    <tr>\n",
       "      <th>7438</th>\n",
       "      <td>RP11-120D5.1</td>\n",
       "      <td>209950</td>\n",
       "      <td>rs2788524</td>\n",
       "      <td>prostate carcinoma</td>\n",
       "    </tr>\n",
       "    <tr>\n",
       "      <th>7032</th>\n",
       "      <td>RP4-621N11.2</td>\n",
       "      <td>217398</td>\n",
       "      <td>rs138156272</td>\n",
       "      <td>lung adenocarcinoma, family history of lung ca...</td>\n",
       "    </tr>\n",
       "    <tr>\n",
       "      <th>1636</th>\n",
       "      <td>DANCR</td>\n",
       "      <td>240907</td>\n",
       "      <td>rs77582856</td>\n",
       "      <td>squamous cell lung carcinoma, family history o...</td>\n",
       "    </tr>\n",
       "    <tr>\n",
       "      <th>7374</th>\n",
       "      <td>RP3-508I15.9</td>\n",
       "      <td>254798</td>\n",
       "      <td>rs1014971</td>\n",
       "      <td>bladder carcinoma</td>\n",
       "    </tr>\n",
       "    <tr>\n",
       "      <th>6717</th>\n",
       "      <td>CTC-525D6.1</td>\n",
       "      <td>280194</td>\n",
       "      <td>rs8102137</td>\n",
       "      <td>bladder carcinoma</td>\n",
       "    </tr>\n",
       "    <tr>\n",
       "      <th>3135</th>\n",
       "      <td>KB-1732A1.1</td>\n",
       "      <td>281641</td>\n",
       "      <td>rs146278598</td>\n",
       "      <td>squamous cell lung carcinoma, family history o...</td>\n",
       "    </tr>\n",
       "    <tr>\n",
       "      <th>3142</th>\n",
       "      <td>RP11-1C8.7</td>\n",
       "      <td>292094</td>\n",
       "      <td>rs12548629</td>\n",
       "      <td>colorectal cancer, breast carcinoma</td>\n",
       "    </tr>\n",
       "    <tr>\n",
       "      <th>3143</th>\n",
       "      <td>RP11-1C8.4</td>\n",
       "      <td>294226</td>\n",
       "      <td>rs12548629</td>\n",
       "      <td>colorectal cancer, breast carcinoma</td>\n",
       "    </tr>\n",
       "    <tr>\n",
       "      <th>1978</th>\n",
       "      <td>RP11-479O16.1</td>\n",
       "      <td>294845</td>\n",
       "      <td>rs10052657</td>\n",
       "      <td>esophageal carcinoma</td>\n",
       "    </tr>\n",
       "    <tr>\n",
       "      <th>5849</th>\n",
       "      <td>CTD-2545G14.4</td>\n",
       "      <td>301276</td>\n",
       "      <td>rs4239258</td>\n",
       "      <td>metastasis measurement, metastatic colorectal ...</td>\n",
       "    </tr>\n",
       "    <tr>\n",
       "      <th>5915</th>\n",
       "      <td>AC007952.4</td>\n",
       "      <td>313653</td>\n",
       "      <td>rs4924935</td>\n",
       "      <td>pancreatic carcinoma</td>\n",
       "    </tr>\n",
       "    <tr>\n",
       "      <th>5308</th>\n",
       "      <td>AC068831.3</td>\n",
       "      <td>336719</td>\n",
       "      <td>rs16944613</td>\n",
       "      <td>colorectal cancer</td>\n",
       "    </tr>\n",
       "    <tr>\n",
       "      <th>3055</th>\n",
       "      <td>RP11-1144P22.1</td>\n",
       "      <td>365783</td>\n",
       "      <td>rs12234934</td>\n",
       "      <td>smoking status measurement, lung carcinoma</td>\n",
       "    </tr>\n",
       "    <tr>\n",
       "      <th>1215</th>\n",
       "      <td>RP11-222K16.2</td>\n",
       "      <td>427188</td>\n",
       "      <td>rs481519</td>\n",
       "      <td>lung carcinoma, estrogen-receptor negative bre...</td>\n",
       "    </tr>\n",
       "    <tr>\n",
       "      <th>4043</th>\n",
       "      <td>RP11-121L10.2</td>\n",
       "      <td>450436</td>\n",
       "      <td>rs34735495</td>\n",
       "      <td>small cell lung carcinoma</td>\n",
       "    </tr>\n",
       "    <tr>\n",
       "      <th>830</th>\n",
       "      <td>AC022201.5</td>\n",
       "      <td>468760</td>\n",
       "      <td>rs4853036</td>\n",
       "      <td>colorectal cancer, endometrial neoplasm</td>\n",
       "    </tr>\n",
       "    <tr>\n",
       "      <th>1234</th>\n",
       "      <td>ACVR2B-AS1</td>\n",
       "      <td>496042</td>\n",
       "      <td>rs9311171</td>\n",
       "      <td>prostate carcinoma</td>\n",
       "    </tr>\n",
       "    <tr>\n",
       "      <th>3944</th>\n",
       "      <td>RP11-867G23.8</td>\n",
       "      <td>507899</td>\n",
       "      <td>rs191456353</td>\n",
       "      <td>squamous cell lung carcinoma, family history o...</td>\n",
       "    </tr>\n",
       "    <tr>\n",
       "      <th>6161</th>\n",
       "      <td>RP11-60A24.3</td>\n",
       "      <td>536187</td>\n",
       "      <td>rs2257205</td>\n",
       "      <td>pancreatic carcinoma</td>\n",
       "    </tr>\n",
       "    <tr>\n",
       "      <th>6536</th>\n",
       "      <td>LLNLR-260G6.1</td>\n",
       "      <td>607743</td>\n",
       "      <td>rs6510725</td>\n",
       "      <td>non-small cell lung carcinoma</td>\n",
       "    </tr>\n",
       "    <tr>\n",
       "      <th>5805</th>\n",
       "      <td>PITPNA-AS1</td>\n",
       "      <td>619633</td>\n",
       "      <td>rs12603526</td>\n",
       "      <td>colorectal cancer</td>\n",
       "    </tr>\n",
       "    <tr>\n",
       "      <th>1191</th>\n",
       "      <td>LINC00620</td>\n",
       "      <td>621398</td>\n",
       "      <td>rs361052</td>\n",
       "      <td>overall survival, pancreatic carcinoma</td>\n",
       "    </tr>\n",
       "    <tr>\n",
       "      <th>1724</th>\n",
       "      <td>RP11-402J6.1</td>\n",
       "      <td>687030</td>\n",
       "      <td>rs139235514</td>\n",
       "      <td>lung adenocarcinoma, family history of lung ca...</td>\n",
       "    </tr>\n",
       "    <tr>\n",
       "      <th>311</th>\n",
       "      <td>RP11-421L21.3</td>\n",
       "      <td>690093</td>\n",
       "      <td>rs6668441</td>\n",
       "      <td>colorectal cancer</td>\n",
       "    </tr>\n",
       "    <tr>\n",
       "      <th>7649</th>\n",
       "      <td>DIGIT</td>\n",
       "      <td>702503</td>\n",
       "      <td>rs11622887</td>\n",
       "      <td>response to irinotecan, non-small cell lung ca...</td>\n",
       "    </tr>\n",
       "    <tr>\n",
       "      <th>243</th>\n",
       "      <td>FOXD3-AS1</td>\n",
       "      <td>748849</td>\n",
       "      <td>rs1747924</td>\n",
       "      <td>pancreatic carcinoma</td>\n",
       "    </tr>\n",
       "    <tr>\n",
       "      <th>3658</th>\n",
       "      <td>RP11-359E3.4</td>\n",
       "      <td>768759</td>\n",
       "      <td>rs10788473</td>\n",
       "      <td>pancreatic carcinoma</td>\n",
       "    </tr>\n",
       "    <tr>\n",
       "      <th>4338</th>\n",
       "      <td>HOXC-AS1</td>\n",
       "      <td>798369</td>\n",
       "      <td>rs11574532</td>\n",
       "      <td>response to radiation, prostate carcinoma</td>\n",
       "    </tr>\n",
       "    <tr>\n",
       "      <th>5625</th>\n",
       "      <td>RP11-249C24.11</td>\n",
       "      <td>966985</td>\n",
       "      <td>rs11859370</td>\n",
       "      <td>prostate carcinoma</td>\n",
       "    </tr>\n",
       "    <tr>\n",
       "      <th>2244</th>\n",
       "      <td>RP11-1334A24.6</td>\n",
       "      <td>1038267</td>\n",
       "      <td>rs4976790</td>\n",
       "      <td>prostate carcinoma</td>\n",
       "    </tr>\n",
       "    <tr>\n",
       "      <th>4813</th>\n",
       "      <td>CTD-2058B24.2</td>\n",
       "      <td>1146081</td>\n",
       "      <td>rs17177725</td>\n",
       "      <td>colorectal cancer</td>\n",
       "    </tr>\n",
       "    <tr>\n",
       "      <th>3775</th>\n",
       "      <td>RP11-326C3.12</td>\n",
       "      <td>1177390</td>\n",
       "      <td>rs1881502</td>\n",
       "      <td>prostate carcinoma</td>\n",
       "    </tr>\n",
       "    <tr>\n",
       "      <th>322</th>\n",
       "      <td>RP5-1065J22.8</td>\n",
       "      <td>1271089</td>\n",
       "      <td>rs4915076</td>\n",
       "      <td>differentiated thyroid carcinoma</td>\n",
       "    </tr>\n",
       "    <tr>\n",
       "      <th>329</th>\n",
       "      <td>LAMTOR5-AS1</td>\n",
       "      <td>1429924</td>\n",
       "      <td>rs2788612</td>\n",
       "      <td>response to radiation, prostate carcinoma</td>\n",
       "    </tr>\n",
       "    <tr>\n",
       "      <th>5283</th>\n",
       "      <td>RP11-182J1.13</td>\n",
       "      <td>1549923</td>\n",
       "      <td>rs3743102</td>\n",
       "      <td>colorectal adenoma</td>\n",
       "    </tr>\n",
       "    <tr>\n",
       "      <th>2568</th>\n",
       "      <td>AC093627.9</td>\n",
       "      <td>1795071</td>\n",
       "      <td>rs527510716</td>\n",
       "      <td>prostate carcinoma</td>\n",
       "    </tr>\n",
       "    <tr>\n",
       "      <th>7287</th>\n",
       "      <td>KB-1440D3.14</td>\n",
       "      <td>2237242</td>\n",
       "      <td>rs2238776</td>\n",
       "      <td>prostate carcinoma</td>\n",
       "    </tr>\n",
       "    <tr>\n",
       "      <th>1841</th>\n",
       "      <td>RP11-326I11.3</td>\n",
       "      <td>2359043</td>\n",
       "      <td>rs17305086</td>\n",
       "      <td>survival time, non-small cell lung carcinoma</td>\n",
       "    </tr>\n",
       "    <tr>\n",
       "      <th>7242</th>\n",
       "      <td>LINC01424</td>\n",
       "      <td>2443598</td>\n",
       "      <td>rs1547374</td>\n",
       "      <td>pancreatic carcinoma</td>\n",
       "    </tr>\n",
       "    <tr>\n",
       "      <th>3581</th>\n",
       "      <td>RP11-124O11.1</td>\n",
       "      <td>2713477</td>\n",
       "      <td>rs76934034</td>\n",
       "      <td>prostate carcinoma</td>\n",
       "    </tr>\n",
       "    <tr>\n",
       "      <th>197</th>\n",
       "      <td>MKNK1-AS1</td>\n",
       "      <td>2852458</td>\n",
       "      <td>rs113688544</td>\n",
       "      <td>squamous cell lung carcinoma</td>\n",
       "    </tr>\n",
       "    <tr>\n",
       "      <th>7600</th>\n",
       "      <td>LINC00623</td>\n",
       "      <td>6316531</td>\n",
       "      <td>rs17599629</td>\n",
       "      <td>prostate carcinoma</td>\n",
       "    </tr>\n",
       "    <tr>\n",
       "      <th>3308</th>\n",
       "      <td>GLIDR</td>\n",
       "      <td>7902601</td>\n",
       "      <td>rs10122495</td>\n",
       "      <td>prostate carcinoma</td>\n",
       "    </tr>\n",
       "  </tbody>\n",
       "</table>\n",
       "</div>"
      ],
      "text/plain": [
       "           gene_name  closest_endo_snp_distance closest_endo_snp_id  \\\n",
       "2211    RP11-541P9.3                          0          rs12187751   \n",
       "4055    RP11-867G2.8                          0          rs12279741   \n",
       "3246       VLDLR-AS1                          0         rs148802107   \n",
       "6859      AC011523.2                        252           rs2659124   \n",
       "3789      MRPL23-AS1                      10343          rs78276179   \n",
       "4896    RP1-292L20.3                      30418         rs143046984   \n",
       "2037   RP11-414H23.2                      56495          rs13355819   \n",
       "2802        MKLN1-AS                      61841          rs11514963   \n",
       "81       RP4-680D5.8                      99681           rs2901964   \n",
       "1114   CTD-2308L22.1                     110023          rs10209697   \n",
       "828        PCBP1-AS1                     129572           rs4853036   \n",
       "5671    RP11-615I2.2                     140875           rs9929218   \n",
       "6062       RAMP2-AS1                     150122           rs9901225   \n",
       "846    RP11-259N19.1                     190247           rs2422088   \n",
       "1997   CTD-2631K10.1                     193454            rs258892   \n",
       "6508   RP11-405M12.2                     199018          rs12970291   \n",
       "2130      AC006077.3                     199045            rs254563   \n",
       "7438    RP11-120D5.1                     209950           rs2788524   \n",
       "7032    RP4-621N11.2                     217398         rs138156272   \n",
       "1636           DANCR                     240907          rs77582856   \n",
       "7374    RP3-508I15.9                     254798           rs1014971   \n",
       "6717     CTC-525D6.1                     280194           rs8102137   \n",
       "3135     KB-1732A1.1                     281641         rs146278598   \n",
       "3142      RP11-1C8.7                     292094          rs12548629   \n",
       "3143      RP11-1C8.4                     294226          rs12548629   \n",
       "1978   RP11-479O16.1                     294845          rs10052657   \n",
       "5849   CTD-2545G14.4                     301276           rs4239258   \n",
       "5915      AC007952.4                     313653           rs4924935   \n",
       "5308      AC068831.3                     336719          rs16944613   \n",
       "3055  RP11-1144P22.1                     365783          rs12234934   \n",
       "1215   RP11-222K16.2                     427188            rs481519   \n",
       "4043   RP11-121L10.2                     450436          rs34735495   \n",
       "830       AC022201.5                     468760           rs4853036   \n",
       "1234      ACVR2B-AS1                     496042           rs9311171   \n",
       "3944   RP11-867G23.8                     507899         rs191456353   \n",
       "6161    RP11-60A24.3                     536187           rs2257205   \n",
       "6536   LLNLR-260G6.1                     607743           rs6510725   \n",
       "5805      PITPNA-AS1                     619633          rs12603526   \n",
       "1191       LINC00620                     621398            rs361052   \n",
       "1724    RP11-402J6.1                     687030         rs139235514   \n",
       "311    RP11-421L21.3                     690093           rs6668441   \n",
       "7649           DIGIT                     702503          rs11622887   \n",
       "243        FOXD3-AS1                     748849           rs1747924   \n",
       "3658    RP11-359E3.4                     768759          rs10788473   \n",
       "4338        HOXC-AS1                     798369          rs11574532   \n",
       "5625  RP11-249C24.11                     966985          rs11859370   \n",
       "2244  RP11-1334A24.6                    1038267           rs4976790   \n",
       "4813   CTD-2058B24.2                    1146081          rs17177725   \n",
       "3775   RP11-326C3.12                    1177390           rs1881502   \n",
       "322    RP5-1065J22.8                    1271089           rs4915076   \n",
       "329      LAMTOR5-AS1                    1429924           rs2788612   \n",
       "5283   RP11-182J1.13                    1549923           rs3743102   \n",
       "2568      AC093627.9                    1795071         rs527510716   \n",
       "7287    KB-1440D3.14                    2237242           rs2238776   \n",
       "1841   RP11-326I11.3                    2359043          rs17305086   \n",
       "7242       LINC01424                    2443598           rs1547374   \n",
       "3581   RP11-124O11.1                    2713477          rs76934034   \n",
       "197        MKNK1-AS1                    2852458         rs113688544   \n",
       "7600       LINC00623                    6316531          rs17599629   \n",
       "3308           GLIDR                    7902601          rs10122495   \n",
       "\n",
       "                               closest_endo_snp_disease  \n",
       "2211  colorectal cancer, microsatellite instability ...  \n",
       "4055                          small cell lung carcinoma  \n",
       "3246         smoking status measurement, lung carcinoma  \n",
       "6859                                 prostate carcinoma  \n",
       "3789                       squamous cell lung carcinoma  \n",
       "4896                                  colorectal cancer  \n",
       "2037                                  colorectal cancer  \n",
       "2802         smoking status measurement, lung carcinoma  \n",
       "81    response to radiation, prostate carcinoma, ere...  \n",
       "1114          response to radiation, prostate carcinoma  \n",
       "828             colorectal cancer, endometrial neoplasm  \n",
       "5671                                  colorectal cancer  \n",
       "6062            colorectal cancer, endometrial neoplasm  \n",
       "846   colorectal cancer, skin disease, response to c...  \n",
       "1997                          small cell lung carcinoma  \n",
       "6508            colorectal cancer, endometrial neoplasm  \n",
       "2130                                  colorectal cancer  \n",
       "7438                                 prostate carcinoma  \n",
       "7032  lung adenocarcinoma, family history of lung ca...  \n",
       "1636  squamous cell lung carcinoma, family history o...  \n",
       "7374                                  bladder carcinoma  \n",
       "6717                                  bladder carcinoma  \n",
       "3135  squamous cell lung carcinoma, family history o...  \n",
       "3142                colorectal cancer, breast carcinoma  \n",
       "3143                colorectal cancer, breast carcinoma  \n",
       "1978                               esophageal carcinoma  \n",
       "5849  metastasis measurement, metastatic colorectal ...  \n",
       "5915                               pancreatic carcinoma  \n",
       "5308                                  colorectal cancer  \n",
       "3055         smoking status measurement, lung carcinoma  \n",
       "1215  lung carcinoma, estrogen-receptor negative bre...  \n",
       "4043                          small cell lung carcinoma  \n",
       "830             colorectal cancer, endometrial neoplasm  \n",
       "1234                                 prostate carcinoma  \n",
       "3944  squamous cell lung carcinoma, family history o...  \n",
       "6161                               pancreatic carcinoma  \n",
       "6536                      non-small cell lung carcinoma  \n",
       "5805                                  colorectal cancer  \n",
       "1191             overall survival, pancreatic carcinoma  \n",
       "1724  lung adenocarcinoma, family history of lung ca...  \n",
       "311                                   colorectal cancer  \n",
       "7649  response to irinotecan, non-small cell lung ca...  \n",
       "243                                pancreatic carcinoma  \n",
       "3658                               pancreatic carcinoma  \n",
       "4338          response to radiation, prostate carcinoma  \n",
       "5625                                 prostate carcinoma  \n",
       "2244                                 prostate carcinoma  \n",
       "4813                                  colorectal cancer  \n",
       "3775                                 prostate carcinoma  \n",
       "322                    differentiated thyroid carcinoma  \n",
       "329           response to radiation, prostate carcinoma  \n",
       "5283                                 colorectal adenoma  \n",
       "2568                                 prostate carcinoma  \n",
       "7287                                 prostate carcinoma  \n",
       "1841       survival time, non-small cell lung carcinoma  \n",
       "7242                               pancreatic carcinoma  \n",
       "3581                                 prostate carcinoma  \n",
       "197                        squamous cell lung carcinoma  \n",
       "7600                                 prostate carcinoma  \n",
       "3308                                 prostate carcinoma  "
      ]
     },
     "execution_count": 81,
     "metadata": {},
     "output_type": "execute_result"
    }
   ],
   "source": [
    "### look at GWAS hits\n",
    "tmp = supp[supp[\"minimal_biotype\"] == \"lncRNA\"]\n",
    "tmp = tmp[tmp[\"is_hit\"] == \"hit\"]\n",
    "tmp.sort_values(by=\"closest_endo_snp_distance\")[[\"gene_name\", \"closest_endo_snp_distance\",\n",
    "                                                 \"closest_endo_snp_id\", \"closest_endo_snp_disease\"]]"
   ]
  },
  {
   "cell_type": "code",
   "execution_count": 82,
   "metadata": {},
   "outputs": [
    {
     "data": {
      "text/plain": [
       "gene_id                       ENSG00000230798.5_1\n",
       "gene_name                               FOXD3-AS1\n",
       "csf                               lncRNA_good_csf\n",
       "cleaner_gene_biotype           transcript_overlap\n",
       "minimal_biotype                            lncRNA\n",
       "is_hit                                        hit\n",
       "max_eff                                  0.976705\n",
       "max_exp                                   339.448\n",
       "gc                                       0.454614\n",
       "n_tss                                           2\n",
       "n_enh                                          24\n",
       "enh_tss_dist                                 1751\n",
       "enh_tran_dist                                1106\n",
       "prom_cons                                    0.98\n",
       "exon_cons                                0.333333\n",
       "dna_len                                      3557\n",
       "rna_len                                       941\n",
       "n_exons                                         4\n",
       "hESC_mean                                 134.634\n",
       "endo_mean                               0.0651309\n",
       "endo_hESC_abslog2fc                       7.04209\n",
       "closest_endo_snp_distance                  748849\n",
       "closest_endo_snp_id                     rs1747924\n",
       "closest_endo_snp_disease     pancreatic carcinoma\n",
       "DE_enh_tss_dist                             67405\n",
       "DE_enh_tran_dist                            66760\n",
       "Name: 243, dtype: object"
      ]
     },
     "execution_count": 82,
     "metadata": {},
     "output_type": "execute_result"
    }
   ],
   "source": [
    "supp[supp[\"gene_name\"] == \"FOXD3-AS1\"].iloc[0]"
   ]
  },
  {
   "cell_type": "code",
   "execution_count": 84,
   "metadata": {},
   "outputs": [
    {
     "data": {
      "text/plain": [
       "gene_id                                                                  DIGIT\n",
       "gene_name                                                                DIGIT\n",
       "csf                                                            lncRNA_good_csf\n",
       "cleaner_gene_biotype                                          promoter_overlap\n",
       "minimal_biotype                                                         lncRNA\n",
       "is_hit                                                                     hit\n",
       "max_eff                                                               0.224504\n",
       "max_exp                                                               0.639554\n",
       "gc                                                                    0.480683\n",
       "n_tss                                                                        0\n",
       "n_enh                                                                       72\n",
       "enh_tss_dist                                                              2518\n",
       "enh_tran_dist                                                                0\n",
       "prom_cons                                                                  0.1\n",
       "exon_cons                                                                    0\n",
       "dna_len                                                                   2966\n",
       "rna_len                                                                   2226\n",
       "n_exons                                                                      2\n",
       "hESC_mean                                                            0.0127109\n",
       "endo_mean                                                              4.84608\n",
       "endo_hESC_abslog2fc                                                    2.52925\n",
       "closest_endo_snp_distance                                               702503\n",
       "closest_endo_snp_id                                                 rs11622887\n",
       "closest_endo_snp_disease     response to irinotecan, non-small cell lung ca...\n",
       "DE_enh_tss_dist                                                           1638\n",
       "DE_enh_tran_dist                                                           398\n",
       "Name: 7649, dtype: object"
      ]
     },
     "execution_count": 84,
     "metadata": {},
     "output_type": "execute_result"
    }
   ],
   "source": [
    "supp[supp[\"gene_name\"] == \"DIGIT\"].iloc[0]"
   ]
  },
  {
   "cell_type": "code",
   "execution_count": null,
   "metadata": {},
   "outputs": [],
   "source": []
  }
 ],
 "metadata": {
  "kernelspec": {
   "display_name": "Python (py36)",
   "language": "python",
   "name": "py36"
  },
  "language_info": {
   "codemirror_mode": {
    "name": "ipython",
    "version": 3
   },
   "file_extension": ".py",
   "mimetype": "text/x-python",
   "name": "python",
   "nbconvert_exporter": "python",
   "pygments_lexer": "ipython3",
   "version": "3.6.10"
  }
 },
 "nbformat": 4,
 "nbformat_minor": 2
}
